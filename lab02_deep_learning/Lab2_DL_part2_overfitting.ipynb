{
 "cells": [
  {
   "cell_type": "markdown",
   "metadata": {
    "colab_type": "text",
    "id": "NFmOh482SyEF"
   },
   "source": [
    "## Lab 2\n",
    "### Part 2: Dealing with overfitting"
   ]
  },
  {
   "cell_type": "markdown",
   "metadata": {
    "colab_type": "text",
    "id": "AjzAuO3oSvsI"
   },
   "source": [
    "Today we work with [Fashion-MNIST dataset](https://github.com/zalandoresearch/fashion-mnist) (*hint: it is available in `torchvision`*).\n",
    "\n",
    "Your goal for today:\n",
    "1. Train a FC (fully-connected) network that achieves >= 0.885 test accuracy.\n",
    "2. Cause considerable overfitting by modifying the network (e.g. increasing the number of network parameters and/or layers) and demonstrate in in the appropriate way (e.g. plot loss and accurasy on train and validation set w.r.t. network complexity).\n",
    "3. Try to deal with overfitting (at least partially) by using regularization techniques (Dropout/Batchnorm/...) and demonstrate the results.\n",
    "\n",
    "__Please, write a small report describing your ideas, tries and achieved results in the end of this file.__\n",
    "\n",
    "*Note*: Tasks 2 and 3 are interrelated, in task 3 your goal is to make the network from task 2 less prone to overfitting. Task 1 is independent from 2 and 3.\n",
    "\n",
    "*Note 2*: We recomment to use Google Colab or other machine with GPU acceleration."
   ]
  },
  {
   "cell_type": "code",
   "execution_count": 13,
   "metadata": {
    "colab": {},
    "colab_type": "code",
    "id": "_KBld6VOSwhW"
   },
   "outputs": [
    {
     "data": {
      "text/plain": [
       "'cuda:0'"
      ]
     },
     "execution_count": 13,
     "metadata": {},
     "output_type": "execute_result"
    }
   ],
   "source": [
    "import torch\n",
    "import torch.nn as nn\n",
    "import torchvision\n",
    "import torchvision.transforms as transforms\n",
    "import torchsummary\n",
    "from IPython.display import clear_output\n",
    "from matplotlib import pyplot as plt\n",
    "from matplotlib.pyplot import figure\n",
    "import numpy as np\n",
    "import os\n",
    "\n",
    "\n",
    "device = 'cuda:0' if torch.cuda.is_available() else 'cpu'\n",
    "device"
   ]
  },
  {
   "cell_type": "code",
   "execution_count": 14,
   "metadata": {
    "colab": {
     "base_uri": "https://localhost:8080/",
     "height": 35
    },
    "colab_type": "code",
    "id": "EdLOG0XqS_g5",
    "outputId": "1a58887c-24fc-4315-bb85-bdc88f4f485e"
   },
   "outputs": [
    {
     "name": "stdout",
     "output_type": "stream",
     "text": [
      "Directory fmnist already exists!\n"
     ]
    }
   ],
   "source": [
    "# Technical function\n",
    "def mkdir(path):\n",
    "    if not os.path.exists(root_path):\n",
    "        os.mkdir(root_path)\n",
    "        print('Directory', path, 'is created!')\n",
    "    else:\n",
    "        print('Directory', path, 'already exists!')\n",
    "        \n",
    "root_path = 'fmnist'\n",
    "mkdir(root_path)"
   ]
  },
  {
   "cell_type": "code",
   "execution_count": 15,
   "metadata": {
    "colab": {
     "base_uri": "https://localhost:8080/",
     "height": 397,
     "referenced_widgets": [
      "a00cbbf2385c426bb848399f3c13b70f",
      "4c7a7ac1286649c4804fefd359a1be74",
      "9faad8d0c45746ab8e06e120bb3ec0b6",
      "590134f878a74adb98fd129816fde03c",
      "92685fe1840a4555a6962c006ea90c23",
      "aa0dc032d1644bad8e741cf1696d9a70",
      "4296a7e9ab704f019451001dd12c4f46",
      "29b0a8c468e6410fb390b903559d6ef5",
      "fb66cde27d0849bba4947c024e198f7f",
      "bebcff464bfc44ffa82e311a39cae7d7",
      "b9d32ac7b88c4f4e900b160f05c016a3",
      "b2f66cc8930240a5b74d5480377496ed",
      "c1d770aa9eb34e4d942967c507f94009",
      "f280e146d6c54fb59f8ce36f2d1cc6a3",
      "9761d073bcef4c15ad64b01d7bef3561",
      "56418812bda04e7293dd8839018ae839",
      "e6efdf93b1444984810dd32d506227d5",
      "583e6f0878e04a0bbebf5d80d9d712dc",
      "0078023356f142bdbe4e13a42df460fb",
      "01658e0aebd84db9912ea456bd1ad030",
      "54a1be4ee00c44a0b72192135f62fa16",
      "df2e6c22b8af4a2e95bdd85fb48290a6",
      "835f930bb1504982aa56c835dc7b7df7",
      "30540b2b63064d828fd8502fd6d08877",
      "e734818e32a54c71b6397ef84b35bf07",
      "029f1768c5734beab39a592b44f75a9d",
      "bf33fa62bd4546bdbe142239f472fbb3",
      "ca04c2ebb96f48109ef440c260aa125a",
      "26a1b39d42ee490b8732f0e3856c9114",
      "545f1e0393b64b1b94710674213f4af8",
      "181b94c37c72459ca284267bc7675469",
      "748c2a2536394a50aab12eef92442fcb"
     ]
    },
    "colab_type": "code",
    "id": "qt6LE7XaTDT9",
    "outputId": "ab967f1e-8bf2-4199-cbd7-75806359ee1b"
   },
   "outputs": [],
   "source": [
    "download = True\n",
    "train_transform = transforms.ToTensor()\n",
    "test_transform = transforms.ToTensor()\n",
    "transforms.Compose((transforms.ToTensor()))\n",
    "\n",
    "\n",
    "fmnist_dataset_train = torchvision.datasets.FashionMNIST(root_path, \n",
    "                                                        train=True, \n",
    "                                                        transform=train_transform,\n",
    "                                                        target_transform=None,\n",
    "                                                        download=download)\n",
    "fmnist_dataset_test = torchvision.datasets.FashionMNIST(root_path, \n",
    "                                                       train=False, \n",
    "                                                       transform=test_transform,\n",
    "                                                       target_transform=None,\n",
    "                                                       download=download)"
   ]
  },
  {
   "cell_type": "code",
   "execution_count": 16,
   "metadata": {
    "colab": {},
    "colab_type": "code",
    "id": "71YP0SPwTIxD"
   },
   "outputs": [],
   "source": [
    "train_loader = torch.utils.data.DataLoader(fmnist_dataset_train, \n",
    "                                           batch_size=128,\n",
    "                                           shuffle=True,\n",
    "                                           num_workers=2)\n",
    "test_loader = torch.utils.data.DataLoader(fmnist_dataset_test,\n",
    "                                          batch_size=256,\n",
    "                                          shuffle=False,\n",
    "                                          num_workers=2)"
   ]
  },
  {
   "cell_type": "code",
   "execution_count": 17,
   "metadata": {
    "colab": {
     "base_uri": "https://localhost:8080/",
     "height": 35
    },
    "colab_type": "code",
    "id": "v_YFmF7NTWrQ",
    "outputId": "6b517f52-5fc5-482e-cc8e-cd6b3f1b72f1"
   },
   "outputs": [
    {
     "data": {
      "text/plain": [
       "10000"
      ]
     },
     "execution_count": 17,
     "metadata": {},
     "output_type": "execute_result"
    }
   ],
   "source": [
    "len(fmnist_dataset_test)"
   ]
  },
  {
   "cell_type": "code",
   "execution_count": 18,
   "metadata": {
    "colab": {
     "base_uri": "https://localhost:8080/",
     "height": 71
    },
    "colab_type": "code",
    "id": "aHca15bOTY4B",
    "outputId": "7eb477ef-816d-418c-f5c3-ade63d4cf915"
   },
   "outputs": [
    {
     "name": "stdout",
     "output_type": "stream",
     "text": [
      "torch.Size([128, 1, 28, 28])\n",
      "torch.Size([128])\n",
      "128\n"
     ]
    }
   ],
   "source": [
    "for img, label in train_loader:\n",
    "    print(img.shape)\n",
    "    print(label.shape)\n",
    "    print(label.size(0))\n",
    "    break"
   ]
  },
  {
   "cell_type": "code",
   "execution_count": 19,
   "metadata": {},
   "outputs": [],
   "source": [
    "import matplotlib.pyplot as plt"
   ]
  },
  {
   "cell_type": "code",
   "execution_count": 20,
   "metadata": {},
   "outputs": [
    {
     "data": {
      "text/plain": [
       "torch.Size([28, 28])"
      ]
     },
     "execution_count": 20,
     "metadata": {},
     "output_type": "execute_result"
    }
   ],
   "source": [
    "img = img.reshape(128, 28, 28)\n",
    "img.sum(axis=0).shape"
   ]
  },
  {
   "cell_type": "code",
   "execution_count": 21,
   "metadata": {},
   "outputs": [
    {
     "data": {
      "text/plain": [
       "<matplotlib.image.AxesImage at 0x1e0d9876ed0>"
      ]
     },
     "execution_count": 21,
     "metadata": {},
     "output_type": "execute_result"
    },
    {
     "data": {
      "image/png": "[encoded data removed]",
      "text/plain": [
       "<Figure size 640x480 with 1 Axes>"
      ]
     },
     "metadata": {},
     "output_type": "display_data"
    }
   ],
   "source": [
    "plt.imshow(X=img[3].reshape(28, 28),)"
   ]
  },
  {
   "cell_type": "markdown",
   "metadata": {
    "colab_type": "text",
    "id": "b6OOOffHTfX5"
   },
   "source": [
    "### Task 1\n",
    "Train a network that achieves $\\geq 0.885$ test accuracy. It's fine to use only Linear (`nn.Linear`) layers and activations/dropout/batchnorm. Convolutional layers might be a great use, but we will meet them a bit later."
   ]
  },
  {
   "cell_type": "code",
   "execution_count": 44,
   "metadata": {
    "colab": {},
    "colab_type": "code",
    "id": "ftpkTjxlTcFx"
   },
   "outputs": [],
   "source": [
    "class TinyNeuralNetwork(nn.Module):\n",
    "    def __init__(self, input_shape=28*28, num_classes=10, input_channels=1):\n",
    "        super(self.__class__, self).__init__()\n",
    "        self.model = nn.Sequential(\n",
    "            nn.Flatten(), # This layer converts image into a vector to use Linear layers afterwards\n",
    "            # Your network structure comes here\n",
    "            #nn.Linear(input_shape, num_classes)\n",
    "            nn.Linear(input_shape, 16*16),\n",
    "            nn.BatchNorm1d(num_features=16*16),\n",
    "            nn.LeakyReLU(),\n",
    "            nn.Linear(16*16, num_classes),\n",
    "            nn.BatchNorm1d(num_features=num_classes),\n",
    "            nn.LeakyReLU(),\n",
    "        )\n",
    "        \n",
    "    def forward(self, inp):       \n",
    "        return self.model(inp)\n",
    "        out =  self.model(inp)"
   ]
  },
  {
   "cell_type": "code",
   "execution_count": 45,
   "metadata": {},
   "outputs": [
    {
     "name": "stdout",
     "output_type": "stream",
     "text": [
      "----------------------------------------------------------------\n",
      "        Layer (type)               Output Shape         Param #\n",
      "================================================================\n",
      "           Flatten-1                  [-1, 784]               0\n",
      "            Linear-2                  [-1, 256]         200,960\n",
      "       BatchNorm1d-3                  [-1, 256]             512\n",
      "         LeakyReLU-4                  [-1, 256]               0\n",
      "            Linear-5                   [-1, 10]           2,570\n",
      "       BatchNorm1d-6                   [-1, 10]              20\n",
      "         LeakyReLU-7                   [-1, 10]               0\n",
      "================================================================\n",
      "Total params: 204,062\n",
      "Trainable params: 204,062\n",
      "Non-trainable params: 0\n",
      "----------------------------------------------------------------\n",
      "Input size (MB): 0.00\n",
      "Forward/backward pass size (MB): 0.01\n",
      "Params size (MB): 0.78\n",
      "Estimated Total Size (MB): 0.79\n",
      "----------------------------------------------------------------\n"
     ]
    }
   ],
   "source": [
    "torchsummary.summary(TinyNeuralNetwork().to(device), (28*28,))"
   ]
  },
  {
   "cell_type": "markdown",
   "metadata": {
    "colab_type": "text",
    "id": "544PGKEnjPr5"
   },
   "source": [
    "Your experiments come here:"
   ]
  },
  {
   "cell_type": "markdown",
   "metadata": {},
   "source": [
    "**I'll code some functions for convenience**"
   ]
  },
  {
   "cell_type": "code",
   "execution_count": 46,
   "metadata": {},
   "outputs": [],
   "source": [
    "from torch.optim import Adam"
   ]
  },
  {
   "cell_type": "code",
   "execution_count": 47,
   "metadata": {
    "colab": {
     "base_uri": "https://localhost:8080/",
     "height": 607
    },
    "colab_type": "code",
    "id": "i3POFj90Ti-6",
    "outputId": "82e7e921-541b-4657-f78d-563de48b07c7"
   },
   "outputs": [],
   "source": [
    "model = TinyNeuralNetwork().to(device)\n",
    "opt = Adam(params=model.parameters(), lr=1e-4,) #eps=1e-8, betas=(0.9, 0.999), weight_decay=0.99) # YOUR CODE HERE\n",
    "loss_func = nn.CrossEntropyLoss()\n",
    "\n",
    "# Your experiments, training and validation loops here"
   ]
  },
  {
   "cell_type": "markdown",
   "metadata": {},
   "source": [
    "Test set will be use as validation just because it's an educational task, but ofc there has to be train/val split and test must be done after **pipeline of validation**"
   ]
  },
  {
   "cell_type": "code",
   "execution_count": 57,
   "metadata": {},
   "outputs": [],
   "source": [
    "import time"
   ]
  },
  {
   "cell_type": "code",
   "execution_count": 61,
   "metadata": {},
   "outputs": [],
   "source": [
    "def train_model(model, train_loader, val_loader, loss_fn, opt, n_epochs: int):\n",
    "    train_loss = []\n",
    "    val_loss = []\n",
    "    val_accuracy = []\n",
    "    \n",
    "    for epoch in range(n_epochs):\n",
    "        ep_train_loss = []\n",
    "        ep_val_loss = []\n",
    "        ep_val_accuracy = []\n",
    "        start_time = time.time()\n",
    "\n",
    "        model.train(True) # enable dropout / batch_norm training behavior\n",
    "        for X_batch, y_batch in train_loader:\n",
    "            # move data to target device\n",
    "            ### YOUR CODE HERE\n",
    "            X_batch = X_batch.to(device, torch.float32)\n",
    "            y_batch = y_batch.to(device, torch.long)\n",
    "            X_batch.requires_grad = True\n",
    "            #y_batch.requires_grad = True\n",
    "\n",
    "            # train on batch: compute loss, calc grads, perform optimizer step and zero the grads\n",
    "            ### YOUR CODE HERE\n",
    "            model.zero_grad()\n",
    "\n",
    "            predictions = model(X_batch)\n",
    "            loss = loss_fn.forward(input=predictions, target=y_batch)\n",
    "            loss.backward()\n",
    "            opt.step()\n",
    "\n",
    "            ep_train_loss.append(loss.item())\n",
    "\n",
    "        model.train(False) # disable dropout / use averages for batch_norm\n",
    "        with torch.no_grad():\n",
    "            for X_batch, y_batch in val_loader:\n",
    "                # move data to target device\n",
    "                ### YOUR CODE HERE\n",
    "                X_batch = X_batch.to(device, torch.float32)\n",
    "                y_batch = y_batch.to(device, torch.long)\n",
    "                # compute predictions\n",
    "                ### YOUR CODE HERE\n",
    "                predictions_val = model(X_batch)\n",
    "                ep_val_loss.append(loss_fn(input=predictions_val, target=y_batch).item())\n",
    "                y_pred = predictions_val.max(axis=-1).indices ### YOUR CODE HERE\n",
    "                accuracy = (y_pred == y_batch).detach().cpu().numpy().mean()\n",
    "                ep_val_accuracy.append(accuracy)\n",
    "\n",
    "        # print the results for this epoch:\n",
    "        print(f'Epoch {epoch + 1} of {n_epochs} took {time.time() - start_time:.3f}s')\n",
    "\n",
    "        train_loss.append(np.mean(ep_train_loss))\n",
    "        val_loss.append(np.mean(ep_val_loss))\n",
    "        val_accuracy.append(np.mean(ep_val_accuracy))\n",
    "        \n",
    "        print(f\"\\t  training loss: {train_loss[-1]:.6f}\")\n",
    "        print(f\"\\tvalidation loss: {val_loss[-1]:.6f}\")\n",
    "        print(f\"\\tvalidation accuracy: {val_accuracy[-1]:.3f}\")\n",
    "\n",
    "    return train_loss, val_loss, val_accuracy"
   ]
  },
  {
   "cell_type": "code",
   "execution_count": 50,
   "metadata": {},
   "outputs": [
    {
     "name": "stdout",
     "output_type": "stream",
     "text": [
      "Epoch 1 of 30 took 9.744s\n",
      "\t  training loss: 0.937365\n",
      "\tvalidation loss: 0.787800\n",
      "\tvalidation accuracy: 0.845\n",
      "Epoch 2 of 30 took 9.153s\n",
      "\t  training loss: 0.726933\n",
      "\tvalidation loss: 0.704029\n",
      "\tvalidation accuracy: 0.851\n",
      "Epoch 3 of 30 took 8.538s\n",
      "\t  training loss: 0.658782\n",
      "\tvalidation loss: 0.655239\n",
      "\tvalidation accuracy: 0.871\n",
      "Epoch 4 of 30 took 9.210s\n",
      "\t  training loss: 0.608779\n",
      "\tvalidation loss: 0.594170\n",
      "\tvalidation accuracy: 0.872\n",
      "Epoch 5 of 30 took 9.112s\n",
      "\t  training loss: 0.565021\n",
      "\tvalidation loss: 0.567628\n",
      "\tvalidation accuracy: 0.875\n",
      "Epoch 6 of 30 took 8.281s\n",
      "\t  training loss: 0.526271\n",
      "\tvalidation loss: 0.544622\n",
      "\tvalidation accuracy: 0.877\n",
      "Epoch 7 of 30 took 8.304s\n",
      "\t  training loss: 0.496678\n",
      "\tvalidation loss: 0.522930\n",
      "\tvalidation accuracy: 0.878\n",
      "Epoch 8 of 30 took 8.154s\n",
      "\t  training loss: 0.465512\n",
      "\tvalidation loss: 0.527269\n",
      "\tvalidation accuracy: 0.875\n",
      "Epoch 9 of 30 took 8.303s\n",
      "\t  training loss: 0.439775\n",
      "\tvalidation loss: 0.500020\n",
      "\tvalidation accuracy: 0.879\n",
      "Epoch 10 of 30 took 8.151s\n",
      "\t  training loss: 0.418633\n",
      "\tvalidation loss: 0.473725\n",
      "\tvalidation accuracy: 0.882\n",
      "Epoch 11 of 30 took 9.398s\n",
      "\t  training loss: 0.394888\n",
      "\tvalidation loss: 0.458801\n",
      "\tvalidation accuracy: 0.884\n",
      "Epoch 12 of 30 took 8.613s\n",
      "\t  training loss: 0.377458\n",
      "\tvalidation loss: 0.444972\n",
      "\tvalidation accuracy: 0.885\n",
      "Epoch 13 of 30 took 8.179s\n",
      "\t  training loss: 0.359344\n",
      "\tvalidation loss: 0.429593\n",
      "\tvalidation accuracy: 0.891\n",
      "Epoch 14 of 30 took 8.164s\n",
      "\t  training loss: 0.341446\n",
      "\tvalidation loss: 0.458392\n",
      "\tvalidation accuracy: 0.882\n",
      "Epoch 15 of 30 took 8.675s\n",
      "\t  training loss: 0.324807\n",
      "\tvalidation loss: 0.409436\n",
      "\tvalidation accuracy: 0.890\n",
      "Epoch 16 of 30 took 8.719s\n",
      "\t  training loss: 0.310268\n",
      "\tvalidation loss: 0.394481\n",
      "\tvalidation accuracy: 0.891\n",
      "Epoch 17 of 30 took 8.219s\n",
      "\t  training loss: 0.298968\n",
      "\tvalidation loss: 0.429739\n",
      "\tvalidation accuracy: 0.879\n",
      "Epoch 18 of 30 took 9.146s\n",
      "\t  training loss: 0.286404\n",
      "\tvalidation loss: 0.387692\n",
      "\tvalidation accuracy: 0.890\n",
      "Epoch 19 of 30 took 8.314s\n",
      "\t  training loss: 0.272507\n",
      "\tvalidation loss: 0.392117\n",
      "\tvalidation accuracy: 0.892\n",
      "Epoch 20 of 30 took 8.335s\n",
      "\t  training loss: 0.260761\n",
      "\tvalidation loss: 0.377914\n",
      "\tvalidation accuracy: 0.892\n",
      "Epoch 21 of 30 took 9.168s\n",
      "\t  training loss: 0.251796\n",
      "\tvalidation loss: 0.373993\n",
      "\tvalidation accuracy: 0.890\n",
      "Epoch 22 of 30 took 9.355s\n",
      "\t  training loss: 0.239784\n",
      "\tvalidation loss: 0.372448\n",
      "\tvalidation accuracy: 0.893\n",
      "Epoch 23 of 30 took 9.021s\n",
      "\t  training loss: 0.234117\n",
      "\tvalidation loss: 0.361824\n",
      "\tvalidation accuracy: 0.894\n",
      "Epoch 24 of 30 took 8.413s\n",
      "\t  training loss: 0.222295\n",
      "\tvalidation loss: 0.371012\n",
      "\tvalidation accuracy: 0.890\n",
      "Epoch 25 of 30 took 8.371s\n",
      "\t  training loss: 0.213484\n",
      "\tvalidation loss: 0.387905\n",
      "\tvalidation accuracy: 0.884\n",
      "Epoch 26 of 30 took 8.606s\n",
      "\t  training loss: 0.207360\n",
      "\tvalidation loss: 0.359196\n",
      "\tvalidation accuracy: 0.898\n",
      "Epoch 27 of 30 took 9.951s\n",
      "\t  training loss: 0.199000\n",
      "\tvalidation loss: 0.400526\n",
      "\tvalidation accuracy: 0.883\n",
      "Epoch 28 of 30 took 7.911s\n",
      "\t  training loss: 0.192774\n",
      "\tvalidation loss: 0.354452\n",
      "\tvalidation accuracy: 0.896\n",
      "Epoch 29 of 30 took 8.394s\n",
      "\t  training loss: 0.184130\n",
      "\tvalidation loss: 0.355920\n",
      "\tvalidation accuracy: 0.894\n",
      "Epoch 30 of 30 took 8.950s\n",
      "\t  training loss: 0.179057\n",
      "\tvalidation loss: 0.392437\n",
      "\tvalidation accuracy: 0.887\n"
     ]
    }
   ],
   "source": [
    "n_epochs = 30\n",
    "\n",
    "train_loss, val_loss, val_accuracy = train_model(model, train_loader, test_loader, loss_func, opt, n_epochs)"
   ]
  },
  {
   "cell_type": "code",
   "execution_count": 53,
   "metadata": {},
   "outputs": [],
   "source": [
    "def plot_train_process(train_loss, val_loss, val_accuracy):\n",
    "    fig, axes = plt.subplots(1, 2, figsize=(15, 5))\n",
    "\n",
    "    axes[0].set_title('Loss')\n",
    "    axes[0].plot(train_loss, label='train')\n",
    "    axes[0].plot(val_loss, label='validation')\n",
    "    axes[0].legend()\n",
    "\n",
    "    axes[1].set_title('Validation accuracy')\n",
    "    axes[1].plot(val_accuracy)"
   ]
  },
  {
   "cell_type": "code",
   "execution_count": 54,
   "metadata": {},
   "outputs": [
    {
     "data": {
      "image/png": "[encoded data removed]",
      "text/plain": [
       "<Figure size 1500x500 with 2 Axes>"
      ]
     },
     "metadata": {},
     "output_type": "display_data"
    }
   ],
   "source": [
    "plot_train_process(train_loss, val_loss, val_accuracy)"
   ]
  },
  {
   "cell_type": "markdown",
   "metadata": {},
   "source": [
    "Simple model without overfitting (check graph) and decent accuracy"
   ]
  },
  {
   "cell_type": "markdown",
   "metadata": {
    "colab_type": "text",
    "id": "L7ISqkjmCPB1"
   },
   "source": [
    "### Task 2: Overfit it.\n",
    "Build a network that will overfit to this dataset. Demonstrate the overfitting in the appropriate way (e.g. plot loss and accurasy on train and test set w.r.t. network complexity).\n",
    "\n",
    "*Note:* you also might decrease the size of `train` dataset to enforce the overfitting and speed up the computations."
   ]
  },
  {
   "cell_type": "code",
   "execution_count": 67,
   "metadata": {
    "colab": {},
    "colab_type": "code",
    "id": "H12uAWiGBwJx"
   },
   "outputs": [],
   "source": [
    "class OverfittingNeuralNetwork(nn.Module):\n",
    "    def __init__(self, input_shape=28*28, num_classes=10, input_channels=1):\n",
    "        super(self.__class__, self).__init__()\n",
    "        self.model = nn.Sequential(\n",
    "            nn.Flatten(), # This layer converts image into a vector to use Linear layers afterwards\n",
    "            # Your network structure comes here\n",
    "            nn.Linear(input_shape, 64*64),\n",
    "            nn.LeakyReLU(),\n",
    "            nn.Linear(64*64, 64*64),\n",
    "            nn.LeakyReLU(),\n",
    "            nn.Linear(64*64, 32*32),\n",
    "            nn.LeakyReLU(),\n",
    "            nn.Linear(32*32, 16*16),\n",
    "            nn.LeakyReLU(),\n",
    "            nn.Linear(16*16, num_classes),\n",
    "            nn.LeakyReLU(),\n",
    "        )\n",
    "        \n",
    "    def forward(self, inp):  \n",
    "        return self.model(inp)     \n",
    "        out = self.model(inp)"
   ]
  },
  {
   "cell_type": "markdown",
   "metadata": {},
   "source": [
    "**I'll just add some many \"tall\" layers for no reason -> overfitting**"
   ]
  },
  {
   "cell_type": "code",
   "execution_count": 68,
   "metadata": {
    "colab": {
     "base_uri": "https://localhost:8080/",
     "height": 449
    },
    "colab_type": "code",
    "id": "JgXAKCpvCwqH",
    "outputId": "8d29ad18-3f0c-4161-8bcd-004d24ba771c"
   },
   "outputs": [
    {
     "name": "stdout",
     "output_type": "stream",
     "text": [
      "----------------------------------------------------------------\n",
      "        Layer (type)               Output Shape         Param #\n",
      "================================================================\n",
      "           Flatten-1                  [-1, 784]               0\n",
      "            Linear-2                 [-1, 4096]       3,215,360\n",
      "         LeakyReLU-3                 [-1, 4096]               0\n",
      "            Linear-4                 [-1, 4096]      16,781,312\n",
      "         LeakyReLU-5                 [-1, 4096]               0\n",
      "            Linear-6                 [-1, 1024]       4,195,328\n",
      "         LeakyReLU-7                 [-1, 1024]               0\n",
      "            Linear-8                  [-1, 256]         262,400\n",
      "         LeakyReLU-9                  [-1, 256]               0\n",
      "           Linear-10                   [-1, 10]           2,570\n",
      "        LeakyReLU-11                   [-1, 10]               0\n",
      "================================================================\n",
      "Total params: 24,456,970\n",
      "Trainable params: 24,456,970\n",
      "Non-trainable params: 0\n",
      "----------------------------------------------------------------\n",
      "Input size (MB): 0.00\n",
      "Forward/backward pass size (MB): 0.15\n",
      "Params size (MB): 93.30\n",
      "Estimated Total Size (MB): 93.45\n",
      "----------------------------------------------------------------\n"
     ]
    }
   ],
   "source": [
    "torchsummary.summary(OverfittingNeuralNetwork().to(device), (28*28,))"
   ]
  },
  {
   "cell_type": "code",
   "execution_count": 69,
   "metadata": {},
   "outputs": [],
   "source": [
    "model = OverfittingNeuralNetwork().to(device)\n",
    "opt = Adam(params=model.parameters(), lr=1e-4,) #eps=1e-8, betas=(0.9, 0.999), weight_decay=0.99) # YOUR CODE HERE\n",
    "loss_func = nn.CrossEntropyLoss()\n",
    "\n",
    "# Your experiments, come here"
   ]
  },
  {
   "cell_type": "code",
   "execution_count": 70,
   "metadata": {},
   "outputs": [
    {
     "name": "stdout",
     "output_type": "stream",
     "text": [
      "Epoch 1 of 30 took 15.251s\n",
      "\t  training loss: 0.625727\n",
      "\tvalidation loss: 0.430495\n",
      "\tvalidation accuracy: 0.847\n",
      "Epoch 2 of 30 took 14.841s\n",
      "\t  training loss: 0.374415\n",
      "\tvalidation loss: 0.401499\n",
      "\tvalidation accuracy: 0.860\n",
      "Epoch 3 of 30 took 14.715s\n",
      "\t  training loss: 0.324540\n",
      "\tvalidation loss: 0.359214\n",
      "\tvalidation accuracy: 0.868\n",
      "Epoch 4 of 30 took 14.772s\n",
      "\t  training loss: 0.293693\n",
      "\tvalidation loss: 0.370495\n",
      "\tvalidation accuracy: 0.865\n",
      "Epoch 5 of 30 took 14.226s\n",
      "\t  training loss: 0.271214\n",
      "\tvalidation loss: 0.322662\n",
      "\tvalidation accuracy: 0.882\n",
      "Epoch 6 of 30 took 14.238s\n",
      "\t  training loss: 0.248991\n",
      "\tvalidation loss: 0.314826\n",
      "\tvalidation accuracy: 0.887\n",
      "Epoch 7 of 30 took 14.906s\n",
      "\t  training loss: 0.233439\n",
      "\tvalidation loss: 0.304403\n",
      "\tvalidation accuracy: 0.892\n",
      "Epoch 8 of 30 took 15.614s\n",
      "\t  training loss: 0.215645\n",
      "\tvalidation loss: 0.311943\n",
      "\tvalidation accuracy: 0.890\n",
      "Epoch 9 of 30 took 14.950s\n",
      "\t  training loss: 0.199688\n",
      "\tvalidation loss: 0.305715\n",
      "\tvalidation accuracy: 0.890\n",
      "Epoch 10 of 30 took 14.184s\n",
      "\t  training loss: 0.187235\n",
      "\tvalidation loss: 0.327654\n",
      "\tvalidation accuracy: 0.888\n",
      "Epoch 11 of 30 took 14.970s\n",
      "\t  training loss: 0.174207\n",
      "\tvalidation loss: 0.328407\n",
      "\tvalidation accuracy: 0.890\n",
      "Epoch 12 of 30 took 13.273s\n",
      "\t  training loss: 0.162974\n",
      "\tvalidation loss: 0.333718\n",
      "\tvalidation accuracy: 0.896\n",
      "Epoch 13 of 30 took 12.743s\n",
      "\t  training loss: 0.152097\n",
      "\tvalidation loss: 0.329788\n",
      "\tvalidation accuracy: 0.895\n",
      "Epoch 14 of 30 took 12.665s\n",
      "\t  training loss: 0.142773\n",
      "\tvalidation loss: 0.329725\n",
      "\tvalidation accuracy: 0.899\n",
      "Epoch 15 of 30 took 12.209s\n",
      "\t  training loss: 0.129411\n",
      "\tvalidation loss: 0.348096\n",
      "\tvalidation accuracy: 0.900\n",
      "Epoch 16 of 30 took 12.193s\n",
      "\t  training loss: 0.123161\n",
      "\tvalidation loss: 0.360799\n",
      "\tvalidation accuracy: 0.897\n",
      "Epoch 17 of 30 took 12.593s\n",
      "\t  training loss: 0.116252\n",
      "\tvalidation loss: 0.373685\n",
      "\tvalidation accuracy: 0.896\n",
      "Epoch 18 of 30 took 13.990s\n",
      "\t  training loss: 0.107103\n",
      "\tvalidation loss: 0.382827\n",
      "\tvalidation accuracy: 0.897\n",
      "Epoch 19 of 30 took 14.037s\n",
      "\t  training loss: 0.102813\n",
      "\tvalidation loss: 0.369097\n",
      "\tvalidation accuracy: 0.903\n",
      "Epoch 20 of 30 took 13.552s\n",
      "\t  training loss: 0.094982\n",
      "\tvalidation loss: 0.395194\n",
      "\tvalidation accuracy: 0.898\n",
      "Epoch 21 of 30 took 15.308s\n",
      "\t  training loss: 0.091226\n",
      "\tvalidation loss: 0.386451\n",
      "\tvalidation accuracy: 0.902\n",
      "Epoch 22 of 30 took 13.233s\n",
      "\t  training loss: 0.085371\n",
      "\tvalidation loss: 0.405972\n",
      "\tvalidation accuracy: 0.907\n",
      "Epoch 23 of 30 took 13.346s\n",
      "\t  training loss: 0.080356\n",
      "\tvalidation loss: 0.416345\n",
      "\tvalidation accuracy: 0.900\n",
      "Epoch 24 of 30 took 13.302s\n",
      "\t  training loss: 0.074351\n",
      "\tvalidation loss: 0.420137\n",
      "\tvalidation accuracy: 0.898\n",
      "Epoch 25 of 30 took 14.244s\n",
      "\t  training loss: 0.075134\n",
      "\tvalidation loss: 0.427294\n",
      "\tvalidation accuracy: 0.900\n",
      "Epoch 26 of 30 took 14.614s\n",
      "\t  training loss: 0.069393\n",
      "\tvalidation loss: 0.447416\n",
      "\tvalidation accuracy: 0.904\n",
      "Epoch 27 of 30 took 14.329s\n",
      "\t  training loss: 0.067322\n",
      "\tvalidation loss: 0.418378\n",
      "\tvalidation accuracy: 0.906\n",
      "Epoch 28 of 30 took 14.772s\n",
      "\t  training loss: 0.063834\n",
      "\tvalidation loss: 0.464059\n",
      "\tvalidation accuracy: 0.902\n",
      "Epoch 29 of 30 took 16.145s\n",
      "\t  training loss: 0.060371\n",
      "\tvalidation loss: 0.458795\n",
      "\tvalidation accuracy: 0.905\n",
      "Epoch 30 of 30 took 15.113s\n",
      "\t  training loss: 0.057548\n",
      "\tvalidation loss: 0.505608\n",
      "\tvalidation accuracy: 0.901\n"
     ]
    }
   ],
   "source": [
    "n_epochs = 30\n",
    "\n",
    "train_loss, val_loss, val_accuracy = train_model(model, train_loader, test_loader, loss_func, opt, n_epochs)"
   ]
  },
  {
   "cell_type": "code",
   "execution_count": 72,
   "metadata": {},
   "outputs": [
    {
     "data": {
      "image/png": "[encoded data removed]",
      "text/plain": [
       "<Figure size 1500x500 with 2 Axes>"
      ]
     },
     "metadata": {},
     "output_type": "display_data"
    }
   ],
   "source": [
    "plot_train_process(train_loss, val_loss, val_accuracy)"
   ]
  },
  {
   "cell_type": "markdown",
   "metadata": {},
   "source": [
    "Yeah, I overfitted it **CHAD**. Model is not sure in its predictions on validation set, so validation loss is high. Accuracy is ok because it still guesses right despite of the overfitting. Thus, the overfitting is not catastrophic, but still shitty"
   ]
  },
  {
   "cell_type": "markdown",
   "metadata": {},
   "source": [
    "### Task 3: Fix it.\n",
    "Fix the overfitted network from the previous step (at least partially) by using regularization techniques (Dropout/Batchnorm/...) and demonstrate the results. "
   ]
  },
  {
   "cell_type": "code",
   "execution_count": 73,
   "metadata": {},
   "outputs": [],
   "source": [
    "class FixedNeuralNetwork(nn.Module):\n",
    "    def __init__(self, input_shape=28*28, num_classes=10, input_channels=1):\n",
    "        super(self.__class__, self).__init__()\n",
    "        self.model = nn.Sequential(\n",
    "            nn.Flatten(), # This layer converts image into a vector to use Linear layers afterwards\n",
    "            # Your network structure comes here\n",
    "            nn.Linear(input_shape, 64*64),\n",
    "            nn.LeakyReLU(),\n",
    "            nn.Dropout(0.5),\n",
    "            nn.Linear(64*64, 64*64),\n",
    "            nn.LeakyReLU(),\n",
    "            nn.Dropout(0.5),\n",
    "            nn.Linear(64*64, 32*32),\n",
    "            nn.Dropout(0.5),\n",
    "            nn.LeakyReLU(),\n",
    "            nn.Linear(32*32, 16*16),\n",
    "            nn.Dropout(0.5),\n",
    "            nn.LeakyReLU(),\n",
    "            nn.Linear(16*16, num_classes),\n",
    "            nn.LeakyReLU(),\n",
    "        )\n",
    "        \n",
    "    def forward(self, inp):\n",
    "        return self.model(inp)       \n",
    "        out = self.model(inp)"
   ]
  },
  {
   "cell_type": "markdown",
   "metadata": {},
   "source": [
    "**For that I just added droupouts, since there are a lot of tall layers**"
   ]
  },
  {
   "cell_type": "code",
   "execution_count": null,
   "metadata": {},
   "outputs": [],
   "source": [
    "torchsummary.summary(FixedNeuralNetwork().to(device), (28*28,))"
   ]
  },
  {
   "cell_type": "code",
   "execution_count": 74,
   "metadata": {},
   "outputs": [],
   "source": [
    "model = FixedNeuralNetwork().to(device)\n",
    "opt = Adam(params=model.parameters(), lr=1e-4,) #eps=1e-8, betas=(0.9, 0.999), weight_decay=0.99) # YOUR CODE HERE\n",
    "loss_func = nn.CrossEntropyLoss()\n",
    "# Your experiments, come here"
   ]
  },
  {
   "cell_type": "code",
   "execution_count": 75,
   "metadata": {},
   "outputs": [
    {
     "name": "stdout",
     "output_type": "stream",
     "text": [
      "Epoch 1 of 30 took 15.903s\n",
      "\t  training loss: 0.827816\n",
      "\tvalidation loss: 0.484179\n",
      "\tvalidation accuracy: 0.828\n",
      "Epoch 2 of 30 took 13.873s\n",
      "\t  training loss: 0.461233\n",
      "\tvalidation loss: 0.422722\n",
      "\tvalidation accuracy: 0.850\n",
      "Epoch 3 of 30 took 16.392s\n",
      "\t  training loss: 0.406857\n",
      "\tvalidation loss: 0.384000\n",
      "\tvalidation accuracy: 0.861\n",
      "Epoch 4 of 30 took 16.519s\n",
      "\t  training loss: 0.375490\n",
      "\tvalidation loss: 0.364310\n",
      "\tvalidation accuracy: 0.870\n",
      "Epoch 5 of 30 took 15.288s\n",
      "\t  training loss: 0.353587\n",
      "\tvalidation loss: 0.356470\n",
      "\tvalidation accuracy: 0.873\n",
      "Epoch 6 of 30 took 14.597s\n",
      "\t  training loss: 0.338242\n",
      "\tvalidation loss: 0.346516\n",
      "\tvalidation accuracy: 0.878\n",
      "Epoch 7 of 30 took 14.617s\n",
      "\t  training loss: 0.321876\n",
      "\tvalidation loss: 0.341237\n",
      "\tvalidation accuracy: 0.878\n",
      "Epoch 8 of 30 took 14.537s\n",
      "\t  training loss: 0.312680\n",
      "\tvalidation loss: 0.330690\n",
      "\tvalidation accuracy: 0.883\n",
      "Epoch 9 of 30 took 14.436s\n",
      "\t  training loss: 0.303417\n",
      "\tvalidation loss: 0.324091\n",
      "\tvalidation accuracy: 0.881\n",
      "Epoch 10 of 30 took 15.543s\n",
      "\t  training loss: 0.292648\n",
      "\tvalidation loss: 0.336732\n",
      "\tvalidation accuracy: 0.882\n",
      "Epoch 11 of 30 took 14.621s\n",
      "\t  training loss: 0.282218\n",
      "\tvalidation loss: 0.333274\n",
      "\tvalidation accuracy: 0.886\n",
      "Epoch 12 of 30 took 13.543s\n",
      "\t  training loss: 0.274549\n",
      "\tvalidation loss: 0.318074\n",
      "\tvalidation accuracy: 0.884\n",
      "Epoch 13 of 30 took 13.581s\n",
      "\t  training loss: 0.269148\n",
      "\tvalidation loss: 0.320554\n",
      "\tvalidation accuracy: 0.888\n",
      "Epoch 14 of 30 took 13.647s\n",
      "\t  training loss: 0.264052\n",
      "\tvalidation loss: 0.312104\n",
      "\tvalidation accuracy: 0.888\n",
      "Epoch 15 of 30 took 13.677s\n",
      "\t  training loss: 0.257647\n",
      "\tvalidation loss: 0.305507\n",
      "\tvalidation accuracy: 0.895\n",
      "Epoch 16 of 30 took 13.587s\n",
      "\t  training loss: 0.250142\n",
      "\tvalidation loss: 0.305262\n",
      "\tvalidation accuracy: 0.890\n",
      "Epoch 17 of 30 took 13.501s\n",
      "\t  training loss: 0.243277\n",
      "\tvalidation loss: 0.317614\n",
      "\tvalidation accuracy: 0.889\n",
      "Epoch 18 of 30 took 13.600s\n",
      "\t  training loss: 0.239083\n",
      "\tvalidation loss: 0.304880\n",
      "\tvalidation accuracy: 0.896\n",
      "Epoch 19 of 30 took 13.588s\n",
      "\t  training loss: 0.232849\n",
      "\tvalidation loss: 0.309760\n",
      "\tvalidation accuracy: 0.894\n",
      "Epoch 20 of 30 took 13.610s\n",
      "\t  training loss: 0.231072\n",
      "\tvalidation loss: 0.317402\n",
      "\tvalidation accuracy: 0.892\n",
      "Epoch 21 of 30 took 13.603s\n",
      "\t  training loss: 0.225946\n",
      "\tvalidation loss: 0.313471\n",
      "\tvalidation accuracy: 0.893\n",
      "Epoch 22 of 30 took 14.270s\n",
      "\t  training loss: 0.220100\n",
      "\tvalidation loss: 0.315848\n",
      "\tvalidation accuracy: 0.896\n",
      "Epoch 23 of 30 took 14.101s\n",
      "\t  training loss: 0.216555\n",
      "\tvalidation loss: 0.305754\n",
      "\tvalidation accuracy: 0.899\n",
      "Epoch 24 of 30 took 13.616s\n",
      "\t  training loss: 0.213208\n",
      "\tvalidation loss: 0.301937\n",
      "\tvalidation accuracy: 0.900\n",
      "Epoch 25 of 30 took 13.562s\n",
      "\t  training loss: 0.210557\n",
      "\tvalidation loss: 0.297064\n",
      "\tvalidation accuracy: 0.899\n",
      "Epoch 26 of 30 took 13.606s\n",
      "\t  training loss: 0.206852\n",
      "\tvalidation loss: 0.314897\n",
      "\tvalidation accuracy: 0.895\n",
      "Epoch 27 of 30 took 13.581s\n",
      "\t  training loss: 0.203392\n",
      "\tvalidation loss: 0.309485\n",
      "\tvalidation accuracy: 0.903\n",
      "Epoch 28 of 30 took 13.520s\n",
      "\t  training loss: 0.196160\n",
      "\tvalidation loss: 0.321704\n",
      "\tvalidation accuracy: 0.897\n",
      "Epoch 29 of 30 took 13.849s\n",
      "\t  training loss: 0.196294\n",
      "\tvalidation loss: 0.295288\n",
      "\tvalidation accuracy: 0.901\n",
      "Epoch 30 of 30 took 14.714s\n",
      "\t  training loss: 0.193287\n",
      "\tvalidation loss: 0.304219\n",
      "\tvalidation accuracy: 0.905\n"
     ]
    }
   ],
   "source": [
    "n_epochs = 30\n",
    "\n",
    "train_loss, val_loss, val_accuracy = train_model(model, train_loader, test_loader, loss_func, opt, n_epochs)"
   ]
  },
  {
   "cell_type": "code",
   "execution_count": 76,
   "metadata": {},
   "outputs": [
    {
     "data": {
      "image/png": "[encoded data removed]",
      "text/plain": [
       "<Figure size 1500x500 with 2 Axes>"
      ]
     },
     "metadata": {},
     "output_type": "display_data"
    }
   ],
   "source": [
    "plot_train_process(train_loss, val_loss, val_accuracy)"
   ]
  },
  {
   "cell_type": "markdown",
   "metadata": {},
   "source": [
    "**Now way better**"
   ]
  },
  {
   "cell_type": "markdown",
   "metadata": {
    "colab_type": "text",
    "id": "dMui_uLJ7G0d"
   },
   "source": [
    "### Conclusions:\n",
    "_Write down small report with your conclusions and your ideas._\n",
    "\n",
    "**Me:** In practice, it seems like if u don't know the approximate number of parameters u need to train a decent model without running into overfitting, you should probably either look at some papers with similar datasets/tasks/etc. or try out different architectures and then use some regularizations"
   ]
  },
  {
   "cell_type": "markdown",
   "metadata": {},
   "source": []
  }
 ],
 "metadata": {
  "accelerator": "GPU",
  "colab": {
   "collapsed_sections": [],
   "name": "Overfit it.ipynb",
   "provenance": []
  },
  "kernelspec": {
   "display_name": "Python 3",
   "language": "python",
   "name": "python3"
  },
  "language_info": {
   "codemirror_mode": {
    "name": "ipython",
    "version": 3
   },
   "file_extension": ".py",
   "mimetype": "text/x-python",
   "name": "python",
   "nbconvert_exporter": "python",
   "pygments_lexer": "ipython3",
   "version": "3.11.4"
  },
  "widgets": {
   "application/vnd.jupyter.widget-state+json": {
    "0078023356f142bdbe4e13a42df460fb": {
     "model_module": "@jupyter-widgets/controls",
     "model_name": "IntProgressModel",
     "state": {
      "_dom_classes": [],
      "_model_module": "@jupyter-widgets/controls",
      "_model_module_version": "1.5.0",
      "_model_name": "IntProgressModel",
      "_view_count": null,
      "_view_module": "@jupyter-widgets/controls",
      "_view_module_version": "1.5.0",
      "_view_name": "ProgressView",
      "bar_style": "success",
      "description": "",
      "description_tooltip": null,
      "layout": "IPY_MODEL_df2e6c22b8af4a2e95bdd85fb48290a6",
      "max": 1,
      "min": 0,
      "orientation": "horizontal",
      "style": "IPY_MODEL_54a1be4ee00c44a0b72192135f62fa16",
      "value": 1
     }
    },
    "01658e0aebd84db9912ea456bd1ad030": {
     "model_module": "@jupyter-widgets/controls",
     "model_name": "HTMLModel",
     "state": {
      "_dom_classes": [],
      "_model_module": "@jupyter-widgets/controls",
      "_model_module_version": "1.5.0",
      "_model_name": "HTMLModel",
      "_view_count": null,
      "_view_module": "@jupyter-widgets/controls",
      "_view_module_version": "1.5.0",
      "_view_name": "HTMLView",
      "description": "",
      "description_tooltip": null,
      "layout": "IPY_MODEL_30540b2b63064d828fd8502fd6d08877",
      "placeholder": "​",
      "style": "IPY_MODEL_835f930bb1504982aa56c835dc7b7df7",
      "value": "4423680it [00:01, 3086127.05it/s]"
     }
    },
    "029f1768c5734beab39a592b44f75a9d": {
     "model_module": "@jupyter-widgets/base",
     "model_name": "LayoutModel",
     "state": {
      "_model_module": "@jupyter-widgets/base",
      "_model_module_version": "1.2.0",
      "_model_name": "LayoutModel",
      "_view_count": null,
      "_view_module": "@jupyter-widgets/base",
      "_view_module_version": "1.2.0",
      "_view_name": "LayoutView",
      "align_content": null,
      "align_items": null,
      "align_self": null,
      "border": null,
      "bottom": null,
      "display": null,
      "flex": null,
      "flex_flow": null,
      "grid_area": null,
      "grid_auto_columns": null,
      "grid_auto_flow": null,
      "grid_auto_rows": null,
      "grid_column": null,
      "grid_gap": null,
      "grid_row": null,
      "grid_template_areas": null,
      "grid_template_columns": null,
      "grid_template_rows": null,
      "height": null,
      "justify_content": null,
      "justify_items": null,
      "left": null,
      "margin": null,
      "max_height": null,
      "max_width": null,
      "min_height": null,
      "min_width": null,
      "object_fit": null,
      "object_position": null,
      "order": null,
      "overflow": null,
      "overflow_x": null,
      "overflow_y": null,
      "padding": null,
      "right": null,
      "top": null,
      "visibility": null,
      "width": null
     }
    },
    "181b94c37c72459ca284267bc7675469": {
     "model_module": "@jupyter-widgets/controls",
     "model_name": "DescriptionStyleModel",
     "state": {
      "_model_module": "@jupyter-widgets/controls",
      "_model_module_version": "1.5.0",
      "_model_name": "DescriptionStyleModel",
      "_view_count": null,
      "_view_module": "@jupyter-widgets/base",
      "_view_module_version": "1.2.0",
      "_view_name": "StyleView",
      "description_width": ""
     }
    },
    "26a1b39d42ee490b8732f0e3856c9114": {
     "model_module": "@jupyter-widgets/controls",
     "model_name": "ProgressStyleModel",
     "state": {
      "_model_module": "@jupyter-widgets/controls",
      "_model_module_version": "1.5.0",
      "_model_name": "ProgressStyleModel",
      "_view_count": null,
      "_view_module": "@jupyter-widgets/base",
      "_view_module_version": "1.2.0",
      "_view_name": "StyleView",
      "bar_color": null,
      "description_width": ""
     }
    },
    "29b0a8c468e6410fb390b903559d6ef5": {
     "model_module": "@jupyter-widgets/base",
     "model_name": "LayoutModel",
     "state": {
      "_model_module": "@jupyter-widgets/base",
      "_model_module_version": "1.2.0",
      "_model_name": "LayoutModel",
      "_view_count": null,
      "_view_module": "@jupyter-widgets/base",
      "_view_module_version": "1.2.0",
      "_view_name": "LayoutView",
      "align_content": null,
      "align_items": null,
      "align_self": null,
      "border": null,
      "bottom": null,
      "display": null,
      "flex": null,
      "flex_flow": null,
      "grid_area": null,
      "grid_auto_columns": null,
      "grid_auto_flow": null,
      "grid_auto_rows": null,
      "grid_column": null,
      "grid_gap": null,
      "grid_row": null,
      "grid_template_areas": null,
      "grid_template_columns": null,
      "grid_template_rows": null,
      "height": null,
      "justify_content": null,
      "justify_items": null,
      "left": null,
      "margin": null,
      "max_height": null,
      "max_width": null,
      "min_height": null,
      "min_width": null,
      "object_fit": null,
      "object_position": null,
      "order": null,
      "overflow": null,
      "overflow_x": null,
      "overflow_y": null,
      "padding": null,
      "right": null,
      "top": null,
      "visibility": null,
      "width": null
     }
    },
    "30540b2b63064d828fd8502fd6d08877": {
     "model_module": "@jupyter-widgets/base",
     "model_name": "LayoutModel",
     "state": {
      "_model_module": "@jupyter-widgets/base",
      "_model_module_version": "1.2.0",
      "_model_name": "LayoutModel",
      "_view_count": null,
      "_view_module": "@jupyter-widgets/base",
      "_view_module_version": "1.2.0",
      "_view_name": "LayoutView",
      "align_content": null,
      "align_items": null,
      "align_self": null,
      "border": null,
      "bottom": null,
      "display": null,
      "flex": null,
      "flex_flow": null,
      "grid_area": null,
      "grid_auto_columns": null,
      "grid_auto_flow": null,
      "grid_auto_rows": null,
      "grid_column": null,
      "grid_gap": null,
      "grid_row": null,
      "grid_template_areas": null,
      "grid_template_columns": null,
      "grid_template_rows": null,
      "height": null,
      "justify_content": null,
      "justify_items": null,
      "left": null,
      "margin": null,
      "max_height": null,
      "max_width": null,
      "min_height": null,
      "min_width": null,
      "object_fit": null,
      "object_position": null,
      "order": null,
      "overflow": null,
      "overflow_x": null,
      "overflow_y": null,
      "padding": null,
      "right": null,
      "top": null,
      "visibility": null,
      "width": null
     }
    },
    "4296a7e9ab704f019451001dd12c4f46": {
     "model_module": "@jupyter-widgets/controls",
     "model_name": "DescriptionStyleModel",
     "state": {
      "_model_module": "@jupyter-widgets/controls",
      "_model_module_version": "1.5.0",
      "_model_name": "DescriptionStyleModel",
      "_view_count": null,
      "_view_module": "@jupyter-widgets/base",
      "_view_module_version": "1.2.0",
      "_view_name": "StyleView",
      "description_width": ""
     }
    },
    "4c7a7ac1286649c4804fefd359a1be74": {
     "model_module": "@jupyter-widgets/base",
     "model_name": "LayoutModel",
     "state": {
      "_model_module": "@jupyter-widgets/base",
      "_model_module_version": "1.2.0",
      "_model_name": "LayoutModel",
      "_view_count": null,
      "_view_module": "@jupyter-widgets/base",
      "_view_module_version": "1.2.0",
      "_view_name": "LayoutView",
      "align_content": null,
      "align_items": null,
      "align_self": null,
      "border": null,
      "bottom": null,
      "display": null,
      "flex": null,
      "flex_flow": null,
      "grid_area": null,
      "grid_auto_columns": null,
      "grid_auto_flow": null,
      "grid_auto_rows": null,
      "grid_column": null,
      "grid_gap": null,
      "grid_row": null,
      "grid_template_areas": null,
      "grid_template_columns": null,
      "grid_template_rows": null,
      "height": null,
      "justify_content": null,
      "justify_items": null,
      "left": null,
      "margin": null,
      "max_height": null,
      "max_width": null,
      "min_height": null,
      "min_width": null,
      "object_fit": null,
      "object_position": null,
      "order": null,
      "overflow": null,
      "overflow_x": null,
      "overflow_y": null,
      "padding": null,
      "right": null,
      "top": null,
      "visibility": null,
      "width": null
     }
    },
    "545f1e0393b64b1b94710674213f4af8": {
     "model_module": "@jupyter-widgets/base",
     "model_name": "LayoutModel",
     "state": {
      "_model_module": "@jupyter-widgets/base",
      "_model_module_version": "1.2.0",
      "_model_name": "LayoutModel",
      "_view_count": null,
      "_view_module": "@jupyter-widgets/base",
      "_view_module_version": "1.2.0",
      "_view_name": "LayoutView",
      "align_content": null,
      "align_items": null,
      "align_self": null,
      "border": null,
      "bottom": null,
      "display": null,
      "flex": null,
      "flex_flow": null,
      "grid_area": null,
      "grid_auto_columns": null,
      "grid_auto_flow": null,
      "grid_auto_rows": null,
      "grid_column": null,
      "grid_gap": null,
      "grid_row": null,
      "grid_template_areas": null,
      "grid_template_columns": null,
      "grid_template_rows": null,
      "height": null,
      "justify_content": null,
      "justify_items": null,
      "left": null,
      "margin": null,
      "max_height": null,
      "max_width": null,
      "min_height": null,
      "min_width": null,
      "object_fit": null,
      "object_position": null,
      "order": null,
      "overflow": null,
      "overflow_x": null,
      "overflow_y": null,
      "padding": null,
      "right": null,
      "top": null,
      "visibility": null,
      "width": null
     }
    },
    "54a1be4ee00c44a0b72192135f62fa16": {
     "model_module": "@jupyter-widgets/controls",
     "model_name": "ProgressStyleModel",
     "state": {
      "_model_module": "@jupyter-widgets/controls",
      "_model_module_version": "1.5.0",
      "_model_name": "ProgressStyleModel",
      "_view_count": null,
      "_view_module": "@jupyter-widgets/base",
      "_view_module_version": "1.2.0",
      "_view_name": "StyleView",
      "bar_color": null,
      "description_width": ""
     }
    },
    "56418812bda04e7293dd8839018ae839": {
     "model_module": "@jupyter-widgets/base",
     "model_name": "LayoutModel",
     "state": {
      "_model_module": "@jupyter-widgets/base",
      "_model_module_version": "1.2.0",
      "_model_name": "LayoutModel",
      "_view_count": null,
      "_view_module": "@jupyter-widgets/base",
      "_view_module_version": "1.2.0",
      "_view_name": "LayoutView",
      "align_content": null,
      "align_items": null,
      "align_self": null,
      "border": null,
      "bottom": null,
      "display": null,
      "flex": null,
      "flex_flow": null,
      "grid_area": null,
      "grid_auto_columns": null,
      "grid_auto_flow": null,
      "grid_auto_rows": null,
      "grid_column": null,
      "grid_gap": null,
      "grid_row": null,
      "grid_template_areas": null,
      "grid_template_columns": null,
      "grid_template_rows": null,
      "height": null,
      "justify_content": null,
      "justify_items": null,
      "left": null,
      "margin": null,
      "max_height": null,
      "max_width": null,
      "min_height": null,
      "min_width": null,
      "object_fit": null,
      "object_position": null,
      "order": null,
      "overflow": null,
      "overflow_x": null,
      "overflow_y": null,
      "padding": null,
      "right": null,
      "top": null,
      "visibility": null,
      "width": null
     }
    },
    "583e6f0878e04a0bbebf5d80d9d712dc": {
     "model_module": "@jupyter-widgets/base",
     "model_name": "LayoutModel",
     "state": {
      "_model_module": "@jupyter-widgets/base",
      "_model_module_version": "1.2.0",
      "_model_name": "LayoutModel",
      "_view_count": null,
      "_view_module": "@jupyter-widgets/base",
      "_view_module_version": "1.2.0",
      "_view_name": "LayoutView",
      "align_content": null,
      "align_items": null,
      "align_self": null,
      "border": null,
      "bottom": null,
      "display": null,
      "flex": null,
      "flex_flow": null,
      "grid_area": null,
      "grid_auto_columns": null,
      "grid_auto_flow": null,
      "grid_auto_rows": null,
      "grid_column": null,
      "grid_gap": null,
      "grid_row": null,
      "grid_template_areas": null,
      "grid_template_columns": null,
      "grid_template_rows": null,
      "height": null,
      "justify_content": null,
      "justify_items": null,
      "left": null,
      "margin": null,
      "max_height": null,
      "max_width": null,
      "min_height": null,
      "min_width": null,
      "object_fit": null,
      "object_position": null,
      "order": null,
      "overflow": null,
      "overflow_x": null,
      "overflow_y": null,
      "padding": null,
      "right": null,
      "top": null,
      "visibility": null,
      "width": null
     }
    },
    "590134f878a74adb98fd129816fde03c": {
     "model_module": "@jupyter-widgets/controls",
     "model_name": "HTMLModel",
     "state": {
      "_dom_classes": [],
      "_model_module": "@jupyter-widgets/controls",
      "_model_module_version": "1.5.0",
      "_model_name": "HTMLModel",
      "_view_count": null,
      "_view_module": "@jupyter-widgets/controls",
      "_view_module_version": "1.5.0",
      "_view_name": "HTMLView",
      "description": "",
      "description_tooltip": null,
      "layout": "IPY_MODEL_29b0a8c468e6410fb390b903559d6ef5",
      "placeholder": "​",
      "style": "IPY_MODEL_4296a7e9ab704f019451001dd12c4f46",
      "value": "26427392it [00:02, 10150318.78it/s]"
     }
    },
    "748c2a2536394a50aab12eef92442fcb": {
     "model_module": "@jupyter-widgets/base",
     "model_name": "LayoutModel",
     "state": {
      "_model_module": "@jupyter-widgets/base",
      "_model_module_version": "1.2.0",
      "_model_name": "LayoutModel",
      "_view_count": null,
      "_view_module": "@jupyter-widgets/base",
      "_view_module_version": "1.2.0",
      "_view_name": "LayoutView",
      "align_content": null,
      "align_items": null,
      "align_self": null,
      "border": null,
      "bottom": null,
      "display": null,
      "flex": null,
      "flex_flow": null,
      "grid_area": null,
      "grid_auto_columns": null,
      "grid_auto_flow": null,
      "grid_auto_rows": null,
      "grid_column": null,
      "grid_gap": null,
      "grid_row": null,
      "grid_template_areas": null,
      "grid_template_columns": null,
      "grid_template_rows": null,
      "height": null,
      "justify_content": null,
      "justify_items": null,
      "left": null,
      "margin": null,
      "max_height": null,
      "max_width": null,
      "min_height": null,
      "min_width": null,
      "object_fit": null,
      "object_position": null,
      "order": null,
      "overflow": null,
      "overflow_x": null,
      "overflow_y": null,
      "padding": null,
      "right": null,
      "top": null,
      "visibility": null,
      "width": null
     }
    },
    "835f930bb1504982aa56c835dc7b7df7": {
     "model_module": "@jupyter-widgets/controls",
     "model_name": "DescriptionStyleModel",
     "state": {
      "_model_module": "@jupyter-widgets/controls",
      "_model_module_version": "1.5.0",
      "_model_name": "DescriptionStyleModel",
      "_view_count": null,
      "_view_module": "@jupyter-widgets/base",
      "_view_module_version": "1.2.0",
      "_view_name": "StyleView",
      "description_width": ""
     }
    },
    "92685fe1840a4555a6962c006ea90c23": {
     "model_module": "@jupyter-widgets/controls",
     "model_name": "ProgressStyleModel",
     "state": {
      "_model_module": "@jupyter-widgets/controls",
      "_model_module_version": "1.5.0",
      "_model_name": "ProgressStyleModel",
      "_view_count": null,
      "_view_module": "@jupyter-widgets/base",
      "_view_module_version": "1.2.0",
      "_view_name": "StyleView",
      "bar_color": null,
      "description_width": ""
     }
    },
    "9761d073bcef4c15ad64b01d7bef3561": {
     "model_module": "@jupyter-widgets/controls",
     "model_name": "DescriptionStyleModel",
     "state": {
      "_model_module": "@jupyter-widgets/controls",
      "_model_module_version": "1.5.0",
      "_model_name": "DescriptionStyleModel",
      "_view_count": null,
      "_view_module": "@jupyter-widgets/base",
      "_view_module_version": "1.2.0",
      "_view_name": "StyleView",
      "description_width": ""
     }
    },
    "9faad8d0c45746ab8e06e120bb3ec0b6": {
     "model_module": "@jupyter-widgets/controls",
     "model_name": "IntProgressModel",
     "state": {
      "_dom_classes": [],
      "_model_module": "@jupyter-widgets/controls",
      "_model_module_version": "1.5.0",
      "_model_name": "IntProgressModel",
      "_view_count": null,
      "_view_module": "@jupyter-widgets/controls",
      "_view_module_version": "1.5.0",
      "_view_name": "ProgressView",
      "bar_style": "success",
      "description": "",
      "description_tooltip": null,
      "layout": "IPY_MODEL_aa0dc032d1644bad8e741cf1696d9a70",
      "max": 1,
      "min": 0,
      "orientation": "horizontal",
      "style": "IPY_MODEL_92685fe1840a4555a6962c006ea90c23",
      "value": 1
     }
    },
    "a00cbbf2385c426bb848399f3c13b70f": {
     "model_module": "@jupyter-widgets/controls",
     "model_name": "HBoxModel",
     "state": {
      "_dom_classes": [],
      "_model_module": "@jupyter-widgets/controls",
      "_model_module_version": "1.5.0",
      "_model_name": "HBoxModel",
      "_view_count": null,
      "_view_module": "@jupyter-widgets/controls",
      "_view_module_version": "1.5.0",
      "_view_name": "HBoxView",
      "box_style": "",
      "children": [
       "IPY_MODEL_9faad8d0c45746ab8e06e120bb3ec0b6",
       "IPY_MODEL_590134f878a74adb98fd129816fde03c"
      ],
      "layout": "IPY_MODEL_4c7a7ac1286649c4804fefd359a1be74"
     }
    },
    "aa0dc032d1644bad8e741cf1696d9a70": {
     "model_module": "@jupyter-widgets/base",
     "model_name": "LayoutModel",
     "state": {
      "_model_module": "@jupyter-widgets/base",
      "_model_module_version": "1.2.0",
      "_model_name": "LayoutModel",
      "_view_count": null,
      "_view_module": "@jupyter-widgets/base",
      "_view_module_version": "1.2.0",
      "_view_name": "LayoutView",
      "align_content": null,
      "align_items": null,
      "align_self": null,
      "border": null,
      "bottom": null,
      "display": null,
      "flex": null,
      "flex_flow": null,
      "grid_area": null,
      "grid_auto_columns": null,
      "grid_auto_flow": null,
      "grid_auto_rows": null,
      "grid_column": null,
      "grid_gap": null,
      "grid_row": null,
      "grid_template_areas": null,
      "grid_template_columns": null,
      "grid_template_rows": null,
      "height": null,
      "justify_content": null,
      "justify_items": null,
      "left": null,
      "margin": null,
      "max_height": null,
      "max_width": null,
      "min_height": null,
      "min_width": null,
      "object_fit": null,
      "object_position": null,
      "order": null,
      "overflow": null,
      "overflow_x": null,
      "overflow_y": null,
      "padding": null,
      "right": null,
      "top": null,
      "visibility": null,
      "width": null
     }
    },
    "b2f66cc8930240a5b74d5480377496ed": {
     "model_module": "@jupyter-widgets/controls",
     "model_name": "HTMLModel",
     "state": {
      "_dom_classes": [],
      "_model_module": "@jupyter-widgets/controls",
      "_model_module_version": "1.5.0",
      "_model_name": "HTMLModel",
      "_view_count": null,
      "_view_module": "@jupyter-widgets/controls",
      "_view_module_version": "1.5.0",
      "_view_name": "HTMLView",
      "description": "",
      "description_tooltip": null,
      "layout": "IPY_MODEL_56418812bda04e7293dd8839018ae839",
      "placeholder": "​",
      "style": "IPY_MODEL_9761d073bcef4c15ad64b01d7bef3561",
      "value": "32768it [00:00, 71991.19it/s]"
     }
    },
    "b9d32ac7b88c4f4e900b160f05c016a3": {
     "model_module": "@jupyter-widgets/controls",
     "model_name": "IntProgressModel",
     "state": {
      "_dom_classes": [],
      "_model_module": "@jupyter-widgets/controls",
      "_model_module_version": "1.5.0",
      "_model_name": "IntProgressModel",
      "_view_count": null,
      "_view_module": "@jupyter-widgets/controls",
      "_view_module_version": "1.5.0",
      "_view_name": "ProgressView",
      "bar_style": "success",
      "description": "",
      "description_tooltip": null,
      "layout": "IPY_MODEL_f280e146d6c54fb59f8ce36f2d1cc6a3",
      "max": 1,
      "min": 0,
      "orientation": "horizontal",
      "style": "IPY_MODEL_c1d770aa9eb34e4d942967c507f94009",
      "value": 1
     }
    },
    "bebcff464bfc44ffa82e311a39cae7d7": {
     "model_module": "@jupyter-widgets/base",
     "model_name": "LayoutModel",
     "state": {
      "_model_module": "@jupyter-widgets/base",
      "_model_module_version": "1.2.0",
      "_model_name": "LayoutModel",
      "_view_count": null,
      "_view_module": "@jupyter-widgets/base",
      "_view_module_version": "1.2.0",
      "_view_name": "LayoutView",
      "align_content": null,
      "align_items": null,
      "align_self": null,
      "border": null,
      "bottom": null,
      "display": null,
      "flex": null,
      "flex_flow": null,
      "grid_area": null,
      "grid_auto_columns": null,
      "grid_auto_flow": null,
      "grid_auto_rows": null,
      "grid_column": null,
      "grid_gap": null,
      "grid_row": null,
      "grid_template_areas": null,
      "grid_template_columns": null,
      "grid_template_rows": null,
      "height": null,
      "justify_content": null,
      "justify_items": null,
      "left": null,
      "margin": null,
      "max_height": null,
      "max_width": null,
      "min_height": null,
      "min_width": null,
      "object_fit": null,
      "object_position": null,
      "order": null,
      "overflow": null,
      "overflow_x": null,
      "overflow_y": null,
      "padding": null,
      "right": null,
      "top": null,
      "visibility": null,
      "width": null
     }
    },
    "bf33fa62bd4546bdbe142239f472fbb3": {
     "model_module": "@jupyter-widgets/controls",
     "model_name": "IntProgressModel",
     "state": {
      "_dom_classes": [],
      "_model_module": "@jupyter-widgets/controls",
      "_model_module_version": "1.5.0",
      "_model_name": "IntProgressModel",
      "_view_count": null,
      "_view_module": "@jupyter-widgets/controls",
      "_view_module_version": "1.5.0",
      "_view_name": "ProgressView",
      "bar_style": "success",
      "description": "",
      "description_tooltip": null,
      "layout": "IPY_MODEL_545f1e0393b64b1b94710674213f4af8",
      "max": 1,
      "min": 0,
      "orientation": "horizontal",
      "style": "IPY_MODEL_26a1b39d42ee490b8732f0e3856c9114",
      "value": 1
     }
    },
    "c1d770aa9eb34e4d942967c507f94009": {
     "model_module": "@jupyter-widgets/controls",
     "model_name": "ProgressStyleModel",
     "state": {
      "_model_module": "@jupyter-widgets/controls",
      "_model_module_version": "1.5.0",
      "_model_name": "ProgressStyleModel",
      "_view_count": null,
      "_view_module": "@jupyter-widgets/base",
      "_view_module_version": "1.2.0",
      "_view_name": "StyleView",
      "bar_color": null,
      "description_width": ""
     }
    },
    "ca04c2ebb96f48109ef440c260aa125a": {
     "model_module": "@jupyter-widgets/controls",
     "model_name": "HTMLModel",
     "state": {
      "_dom_classes": [],
      "_model_module": "@jupyter-widgets/controls",
      "_model_module_version": "1.5.0",
      "_model_name": "HTMLModel",
      "_view_count": null,
      "_view_module": "@jupyter-widgets/controls",
      "_view_module_version": "1.5.0",
      "_view_name": "HTMLView",
      "description": "",
      "description_tooltip": null,
      "layout": "IPY_MODEL_748c2a2536394a50aab12eef92442fcb",
      "placeholder": "​",
      "style": "IPY_MODEL_181b94c37c72459ca284267bc7675469",
      "value": "8192it [00:00, 25429.90it/s]"
     }
    },
    "df2e6c22b8af4a2e95bdd85fb48290a6": {
     "model_module": "@jupyter-widgets/base",
     "model_name": "LayoutModel",
     "state": {
      "_model_module": "@jupyter-widgets/base",
      "_model_module_version": "1.2.0",
      "_model_name": "LayoutModel",
      "_view_count": null,
      "_view_module": "@jupyter-widgets/base",
      "_view_module_version": "1.2.0",
      "_view_name": "LayoutView",
      "align_content": null,
      "align_items": null,
      "align_self": null,
      "border": null,
      "bottom": null,
      "display": null,
      "flex": null,
      "flex_flow": null,
      "grid_area": null,
      "grid_auto_columns": null,
      "grid_auto_flow": null,
      "grid_auto_rows": null,
      "grid_column": null,
      "grid_gap": null,
      "grid_row": null,
      "grid_template_areas": null,
      "grid_template_columns": null,
      "grid_template_rows": null,
      "height": null,
      "justify_content": null,
      "justify_items": null,
      "left": null,
      "margin": null,
      "max_height": null,
      "max_width": null,
      "min_height": null,
      "min_width": null,
      "object_fit": null,
      "object_position": null,
      "order": null,
      "overflow": null,
      "overflow_x": null,
      "overflow_y": null,
      "padding": null,
      "right": null,
      "top": null,
      "visibility": null,
      "width": null
     }
    },
    "e6efdf93b1444984810dd32d506227d5": {
     "model_module": "@jupyter-widgets/controls",
     "model_name": "HBoxModel",
     "state": {
      "_dom_classes": [],
      "_model_module": "@jupyter-widgets/controls",
      "_model_module_version": "1.5.0",
      "_model_name": "HBoxModel",
      "_view_count": null,
      "_view_module": "@jupyter-widgets/controls",
      "_view_module_version": "1.5.0",
      "_view_name": "HBoxView",
      "box_style": "",
      "children": [
       "IPY_MODEL_0078023356f142bdbe4e13a42df460fb",
       "IPY_MODEL_01658e0aebd84db9912ea456bd1ad030"
      ],
      "layout": "IPY_MODEL_583e6f0878e04a0bbebf5d80d9d712dc"
     }
    },
    "e734818e32a54c71b6397ef84b35bf07": {
     "model_module": "@jupyter-widgets/controls",
     "model_name": "HBoxModel",
     "state": {
      "_dom_classes": [],
      "_model_module": "@jupyter-widgets/controls",
      "_model_module_version": "1.5.0",
      "_model_name": "HBoxModel",
      "_view_count": null,
      "_view_module": "@jupyter-widgets/controls",
      "_view_module_version": "1.5.0",
      "_view_name": "HBoxView",
      "box_style": "",
      "children": [
       "IPY_MODEL_bf33fa62bd4546bdbe142239f472fbb3",
       "IPY_MODEL_ca04c2ebb96f48109ef440c260aa125a"
      ],
      "layout": "IPY_MODEL_029f1768c5734beab39a592b44f75a9d"
     }
    },
    "f280e146d6c54fb59f8ce36f2d1cc6a3": {
     "model_module": "@jupyter-widgets/base",
     "model_name": "LayoutModel",
     "state": {
      "_model_module": "@jupyter-widgets/base",
      "_model_module_version": "1.2.0",
      "_model_name": "LayoutModel",
      "_view_count": null,
      "_view_module": "@jupyter-widgets/base",
      "_view_module_version": "1.2.0",
      "_view_name": "LayoutView",
      "align_content": null,
      "align_items": null,
      "align_self": null,
      "border": null,
      "bottom": null,
      "display": null,
      "flex": null,
      "flex_flow": null,
      "grid_area": null,
      "grid_auto_columns": null,
      "grid_auto_flow": null,
      "grid_auto_rows": null,
      "grid_column": null,
      "grid_gap": null,
      "grid_row": null,
      "grid_template_areas": null,
      "grid_template_columns": null,
      "grid_template_rows": null,
      "height": null,
      "justify_content": null,
      "justify_items": null,
      "left": null,
      "margin": null,
      "max_height": null,
      "max_width": null,
      "min_height": null,
      "min_width": null,
      "object_fit": null,
      "object_position": null,
      "order": null,
      "overflow": null,
      "overflow_x": null,
      "overflow_y": null,
      "padding": null,
      "right": null,
      "top": null,
      "visibility": null,
      "width": null
     }
    },
    "fb66cde27d0849bba4947c024e198f7f": {
     "model_module": "@jupyter-widgets/controls",
     "model_name": "HBoxModel",
     "state": {
      "_dom_classes": [],
      "_model_module": "@jupyter-widgets/controls",
      "_model_module_version": "1.5.0",
      "_model_name": "HBoxModel",
      "_view_count": null,
      "_view_module": "@jupyter-widgets/controls",
      "_view_module_version": "1.5.0",
      "_view_name": "HBoxView",
      "box_style": "",
      "children": [
       "IPY_MODEL_b9d32ac7b88c4f4e900b160f05c016a3",
       "IPY_MODEL_b2f66cc8930240a5b74d5480377496ed"
      ],
      "layout": "IPY_MODEL_bebcff464bfc44ffa82e311a39cae7d7"
     }
    }
   }
  }
 },
 "nbformat": 4,
 "nbformat_minor": 1
}
