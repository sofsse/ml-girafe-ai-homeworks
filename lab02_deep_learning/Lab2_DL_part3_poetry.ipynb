{
 "cells": [
  {
   "cell_type": "markdown",
   "metadata": {},
   "source": [
    "## Lab 2"
   ]
  },
  {
   "cell_type": "markdown",
   "metadata": {},
   "source": [
    "### Part 3. Poetry generation\n",
    "\n",
    "Let's try to generate some poetry using RNNs. \n",
    "\n",
    "You have several choices here: \n",
    "\n",
    "* The Shakespeare sonnets, file `sonnets.txt` available in the notebook directory.\n",
    "\n",
    "* Роман в стихах \"Евгений Онегин\" Александра Сергеевича Пушкина. В предобработанном виде доступен по [ссылке](https://github.com/attatrol/data_sources/blob/master/onegin.txt).\n",
    "\n",
    "* Some other text source, if it will be approved by the course staff.\n",
    "\n",
    "Text generation can be designed in several steps:\n",
    "    \n",
    "1. Data loading.\n",
    "2. Dictionary generation.\n",
    "3. Data preprocessing.\n",
    "4. Model (neural network) training.\n",
    "5. Text generation (model evaluation).\n"
   ]
  },
  {
   "cell_type": "code",
   "execution_count": 1,
   "metadata": {},
   "outputs": [],
   "source": [
    "import string\n",
    "import os"
   ]
  },
  {
   "cell_type": "markdown",
   "metadata": {},
   "source": [
    "### Data loading: Shakespeare"
   ]
  },
  {
   "cell_type": "markdown",
   "metadata": {},
   "source": [
    "Shakespeare sonnets are awailable at this [link](http://www.gutenberg.org/ebooks/1041?msg=welcome_stranger). In addition, they are stored in the same directory as this notebook (`sonnetes.txt`). Simple preprocessing is already done for you in the next cell: all technical info is dropped."
   ]
  },
  {
   "cell_type": "code",
   "execution_count": 2,
   "metadata": {
    "collapsed": true
   },
   "outputs": [],
   "source": [
    "if not os.path.exists('sonnets.txt'):\n",
    "    !wget https://raw.githubusercontent.com/girafe-ai/ml-course/22f_basic/homeworks_basic/lab02_deep_learning/sonnets.txt\n",
    "\n",
    "with open('sonnets.txt', 'r') as iofile:\n",
    "    text = iofile.readlines()\n",
    "    \n",
    "TEXT_START = 45\n",
    "TEXT_END = -368\n",
    "text = text[TEXT_START : TEXT_END]\n",
    "assert len(text) == 2616"
   ]
  },
  {
   "cell_type": "markdown",
   "metadata": {},
   "source": [
    "In opposite to the in-class practice, this time we want to predict complex text. Let's reduce the complexity of the task and lowercase all the symbols.\n",
    "\n",
    "Now variable `text` is a list of strings. Join all the strings into one and lowercase it."
   ]
  },
  {
   "cell_type": "code",
   "execution_count": 3,
   "metadata": {},
   "outputs": [
    {
     "name": "stdout",
     "output_type": "stream",
     "text": [
      "OK!\n"
     ]
    }
   ],
   "source": [
    "# Join all the strings into one and lowercase it\n",
    "# Put result into variable text.\n",
    "\n",
    "# Your great code here\n",
    "\n",
    "text = ''.join([s.lower() for s in text])\n",
    "\n",
    "assert len(text) == 100225, 'Are you sure you have concatenated all the strings?'\n",
    "assert not any([x in set(text) for x in string.ascii_uppercase]), 'Uppercase letters are present'\n",
    "print('OK!')"
   ]
  },
  {
   "cell_type": "markdown",
   "metadata": {},
   "source": [
    "### Preprocess data"
   ]
  },
  {
   "cell_type": "markdown",
   "metadata": {},
   "source": [
    "Create dictionary `token_to_idx = {<char>: <index>}` and dictionary `idx_to_token = {<index>: <char>}`"
   ]
  },
  {
   "cell_type": "code",
   "execution_count": 4,
   "metadata": {
    "collapsed": true
   },
   "outputs": [],
   "source": [
    "# dict <index>:<char>\n",
    "# Your great code here\n",
    "\n",
    "# dict <char>:<index>\n",
    "# Your great code here"
   ]
  },
  {
   "cell_type": "code",
   "execution_count": 5,
   "metadata": {},
   "outputs": [
    {
     "data": {
      "text/plain": [
       "'cuda'"
      ]
     },
     "execution_count": 5,
     "metadata": {},
     "output_type": "execute_result"
    }
   ],
   "source": [
    "import numpy as np\n",
    "import matplotlib.pyplot as plt\n",
    "import torch\n",
    "\n",
    "device = 'cuda' if torch.cuda.is_available() else 'cpu'\n",
    "device"
   ]
  },
  {
   "cell_type": "code",
   "execution_count": 6,
   "metadata": {},
   "outputs": [
    {
     "data": {
      "text/plain": [
       "39"
      ]
     },
     "execution_count": 6,
     "metadata": {},
     "output_type": "execute_result"
    }
   ],
   "source": [
    "tokens = sorted(set(text))\n",
    "tokens.append('_')\n",
    "num_tokens = len(tokens)\n",
    "num_tokens"
   ]
  },
  {
   "cell_type": "code",
   "execution_count": 7,
   "metadata": {},
   "outputs": [],
   "source": [
    "token_to_idx = {tokens[i]: i for i in range(len(tokens))}\n",
    "idx_to_token = {b: a for a,b in token_to_idx.items()}"
   ]
  },
  {
   "cell_type": "code",
   "execution_count": 8,
   "metadata": {},
   "outputs": [
    {
     "data": {
      "image/png": "[encoded data removed]",
      "text/plain": [
       "<Figure size 640x480 with 1 Axes>"
      ]
     },
     "metadata": {},
     "output_type": "display_data"
    }
   ],
   "source": [
    "sonnets = text.split('\\n\\n')[::2]\n",
    "sonnets.sort(key=lambda x: len(x), reverse=True)\n",
    "lenghts = [len(s) for s in sonnets]\n",
    "\n",
    "sonnets = [s.ljust(max(lenghts), '_') for s in sonnets]\n",
    "\n",
    "_, _, _ = plt.hist(lenghts, bins=30)"
   ]
  },
  {
   "cell_type": "code",
   "execution_count": 9,
   "metadata": {},
   "outputs": [],
   "source": [
    "def one_hot_encode(data_idx, num_tokens):\n",
    "    encoded = np.zeros((len(data_idx), num_tokens))\n",
    "    encoded[np.arange(len(data_idx)), data_idx] = 1.\n",
    "    return encoded"
   ]
  },
  {
   "cell_type": "code",
   "execution_count": 10,
   "metadata": {},
   "outputs": [
    {
     "data": {
      "text/plain": [
       "torch.Size([154, 708, 39])"
      ]
     },
     "execution_count": 10,
     "metadata": {},
     "output_type": "execute_result"
    }
   ],
   "source": [
    "sonnets_idx = [one_hot_encode(np.array([token_to_idx[s] for s in sonnet]), num_tokens)[None, :] for sonnet in sonnets]\n",
    "dataset = np.vstack(sonnets_idx)\n",
    "dataset = torch.from_numpy(dataset).to(dtype=torch.float32, device=device)\n",
    "dataset.shape"
   ]
  },
  {
   "cell_type": "markdown",
   "metadata": {},
   "source": [
    "*Comment: in this task we have only 38 different tokens, so let's use one-hot encoding.*"
   ]
  },
  {
   "cell_type": "markdown",
   "metadata": {},
   "source": [
    "### Building the model"
   ]
  },
  {
   "cell_type": "markdown",
   "metadata": {},
   "source": [
    "Now we want to build and train recurrent neural net which would be able to something similar to Shakespeare's poetry.\n",
    "\n",
    "Let's use vanilla RNN, similar to the one created during the lesson."
   ]
  },
  {
   "cell_type": "code",
   "execution_count": 32,
   "metadata": {
    "collapsed": true
   },
   "outputs": [],
   "source": [
    "# Your code here\n",
    "from torch import nn\n",
    "from torch.nn import functional as F\n",
    "from torch.optim import Adam"
   ]
  },
  {
   "cell_type": "code",
   "execution_count": 50,
   "metadata": {},
   "outputs": [],
   "source": [
    "class dumbRNN(nn.Module):\n",
    "    def __init__(self, num_tokens, hidden_size) -> None:\n",
    "        super(self.__class__,self).__init__()\n",
    "        #self.emb = I won't use nn.Embedding since there are only 38 unique tokens here (-> stick to one hot encode as suggested)\n",
    "        self.hidden_size = hidden_size\n",
    "        self.rnn = nn.RNN(num_tokens, hidden_size, batch_first=True)\n",
    "        self.hid_to_logits = nn.Linear(in_features=hidden_size, out_features=num_tokens)\n",
    "\n",
    "    def forward(self, x):\n",
    "        h_t, h_next = self.rnn(x)\n",
    "        logits_all = self.hid_to_logits(h_t)\n",
    "        return logits_all"
   ]
  },
  {
   "cell_type": "code",
   "execution_count": 51,
   "metadata": {},
   "outputs": [
    {
     "data": {
      "text/plain": [
       "dumbRNN(\n",
       "  (rnn): RNN(39, 64, batch_first=True)\n",
       "  (hid_to_logits): Linear(in_features=64, out_features=39, bias=True)\n",
       ")"
      ]
     },
     "execution_count": 51,
     "metadata": {},
     "output_type": "execute_result"
    }
   ],
   "source": [
    "model = dumbRNN(num_tokens=num_tokens, hidden_size=64).to(device=device)\n",
    "opt = Adam(params=model.parameters(), lr=1e-3)\n",
    "loss_func = nn.CrossEntropyLoss(ignore_index=token_to_idx['_'])\n",
    "history = []\n",
    "\n",
    "model"
   ]
  },
  {
   "cell_type": "code",
   "execution_count": 52,
   "metadata": {},
   "outputs": [],
   "source": [
    "import matplotlib.pyplot as plt\n",
    "from IPython.display import clear_output"
   ]
  },
  {
   "cell_type": "code",
   "execution_count": 53,
   "metadata": {},
   "outputs": [
    {
     "data": {
      "image/png": "[encoded data removed]",
      "text/plain": [
       "<Figure size 640x480 with 1 Axes>"
      ]
     },
     "metadata": {},
     "output_type": "display_data"
    }
   ],
   "source": [
    "num_epochs = 5000\n",
    "\n",
    "ep = []\n",
    "for i in range(num_epochs):\n",
    "    logits_pred = model(dataset)\n",
    "\n",
    "    logits_next = logits_pred[:, :-1]\n",
    "    actual_next_tokens = dataset[:, 1:].cpu().numpy()\n",
    "    actual_next_tokens = torch.from_numpy((actual_next_tokens * np.arange(num_tokens)).sum(axis=-1)).to(dtype=torch.int64, device=device)\n",
    "                                    \n",
    "    loss = loss_func(logits_next.reshape(-1, num_tokens), actual_next_tokens.reshape(-1))\n",
    "    loss.backward()\n",
    "    \n",
    "    opt.step()\n",
    "    opt.zero_grad()\n",
    "\n",
    "    if (i+1)%10==0:\n",
    "        ep.append(i)\n",
    "        history.append(loss.cpu().data.numpy())\n",
    "        clear_output(True)\n",
    "        plt.plot(ep, history, color='blue')\n",
    "        plt.xlabel('epoch')\n",
    "        plt.ylabel('loss')\n",
    "        plt.show()"
   ]
  },
  {
   "cell_type": "markdown",
   "metadata": {},
   "source": [
    "Plot the loss function (axis X: number of epochs, axis Y: loss function)."
   ]
  },
  {
   "cell_type": "code",
   "execution_count": 54,
   "metadata": {
    "collapsed": true
   },
   "outputs": [],
   "source": [
    "# Your plot code here\n",
    "\n",
    "# It is above"
   ]
  },
  {
   "cell_type": "code",
   "execution_count": 192,
   "metadata": {},
   "outputs": [],
   "source": [
    "def generate_sample(rnn, seed_phrase='hello ', max_length=10, temperature=1.0, mode='rnn'):\n",
    "\n",
    "    model = rnn.to(device='cpu')\n",
    "    \n",
    "    seed_phrase_idx = [token_to_idx[s] for s in seed_phrase]\n",
    "    x_sequence = one_hot_encode(seed_phrase_idx, num_tokens)\n",
    "    x_sequence = torch.from_numpy(x_sequence).to(dtype=torch.float32)\n",
    "    \n",
    "    h_t, h_next = model.rnn(x_sequence)\n",
    "\n",
    "    for _ in range(max_length - len(seed_phrase_idx)):\n",
    "        h_t, h_next = model.rnn(x_sequence, h_next) # DONT USE h_next ?!\n",
    "        if mode=='rnn':\n",
    "            logits = model.hid_to_logits(h_next)\n",
    "        elif mode=='lstm':\n",
    "            logits = model.hid_to_logits(h_next[0])\n",
    "        p_next = F.softmax(logits / temperature, dim=-1).data.numpy()[0]\n",
    "        \n",
    "        next_ix = [np.random.choice(num_tokens, p=p_next)]\n",
    "        next_ix = torch.from_numpy(one_hot_encode(next_ix, num_tokens=num_tokens)).to(dtype=torch.float32)\n",
    "\n",
    "        x_sequence = torch.cat([x_sequence, next_ix], dim=0)\n",
    "\n",
    "    generated = (x_sequence*torch.arange(x_sequence.shape[-1])).sum(dim=1).numpy()\n",
    "    generated = [idx_to_token[i] for i in generated]\n",
    "\n",
    "    return ''.join(generated)"
   ]
  },
  {
   "cell_type": "code",
   "execution_count": 56,
   "metadata": {},
   "outputs": [
    {
     "name": "stdout",
     "output_type": "stream",
     "text": [
      "hello trow,\n",
      "  then thee he cair's soobs blace will dy measure\n",
      "  you my berove all muin unkelts'd,\n",
      "  where the like in to gooknes tine;\n",
      "  hanggncaning in and then bagting even thee of tire,\n",
      "    ant thou war becances to jey trow dear'd thee:\n",
      "  for a soply, hoth to that make in titht shall-will:\n",
      "  you seem forthing, i so deedis fixtomnd divis reace.\n",
      "  not should passe the allsed, who drest, do fied fell toms ware,\n",
      "  and not mo them from thy in thee,\n",
      "  and ither so thee as ven. look it thing,\n",
      "  by o\n"
     ]
    }
   ],
   "source": [
    "print(generate_sample(rnn=model, seed_phrase='hello ', temperature=1., max_length=500, mode='rnn'))"
   ]
  },
  {
   "cell_type": "markdown",
   "metadata": {},
   "source": [
    "**Looks very sussy with trashy model, but it's OK**"
   ]
  },
  {
   "cell_type": "markdown",
   "metadata": {},
   "source": [
    "### More poetic model\n",
    "\n",
    "Let's use LSTM instead of vanilla RNN and compare the results."
   ]
  },
  {
   "cell_type": "markdown",
   "metadata": {},
   "source": [
    "Plot the loss function of the number of epochs. Does the final loss become better?"
   ]
  },
  {
   "cell_type": "code",
   "execution_count": 59,
   "metadata": {
    "collapsed": true
   },
   "outputs": [],
   "source": [
    "# Your beautiful code here\n",
    "\n",
    "class basicLSTM(nn.Module):\n",
    "    def __init__(self, num_tokens, hidden_size) -> None:\n",
    "        super(self.__class__,self).__init__()\n",
    "        #self.emb = I won't use nn.Embedding since there are only 38 unique tokens here (-> stick to one hot encode as suggested)\n",
    "        self.hidden_size = hidden_size\n",
    "        self.rnn = nn.LSTM(num_tokens, hidden_size, batch_first=True)\n",
    "        self.hid_to_logits = nn.Linear(in_features=hidden_size, out_features=num_tokens)\n",
    "\n",
    "    def forward(self, x):\n",
    "        h_t, h_next = self.rnn(x)\n",
    "        logits_all = self.hid_to_logits(h_t)\n",
    "        return logits_all"
   ]
  },
  {
   "cell_type": "code",
   "execution_count": 60,
   "metadata": {},
   "outputs": [
    {
     "data": {
      "text/plain": [
       "basicLSTM(\n",
       "  (rnn): LSTM(39, 64, batch_first=True)\n",
       "  (hid_to_logits): Linear(in_features=64, out_features=39, bias=True)\n",
       ")"
      ]
     },
     "execution_count": 60,
     "metadata": {},
     "output_type": "execute_result"
    }
   ],
   "source": [
    "model = basicLSTM(num_tokens=num_tokens, hidden_size=64).to(device=device)\n",
    "opt = Adam(params=model.parameters(), lr=1e-3)\n",
    "loss_func = nn.CrossEntropyLoss(ignore_index=token_to_idx['_'])\n",
    "history = []\n",
    "\n",
    "model"
   ]
  },
  {
   "cell_type": "code",
   "execution_count": 61,
   "metadata": {},
   "outputs": [
    {
     "data": {
      "image/png": "[encoded data removed]",
      "text/plain": [
       "<Figure size 640x480 with 1 Axes>"
      ]
     },
     "metadata": {},
     "output_type": "display_data"
    }
   ],
   "source": [
    "num_epochs = 5000\n",
    "\n",
    "ep = []\n",
    "for i in range(num_epochs):\n",
    "    logits_pred = model(dataset)\n",
    "\n",
    "    logits_next = logits_pred[:, :-1]\n",
    "    actual_next_tokens = dataset[:, 1:].cpu().numpy()\n",
    "    actual_next_tokens = torch.from_numpy((actual_next_tokens * np.arange(num_tokens)).sum(axis=-1)).to(dtype=torch.int64, device=device)\n",
    "                                    \n",
    "    loss = loss_func(logits_next.reshape(-1, num_tokens), actual_next_tokens.reshape(-1))\n",
    "    loss.backward()\n",
    "    \n",
    "    opt.step()\n",
    "    opt.zero_grad()\n",
    "\n",
    "    if (i+1)%10==0:\n",
    "        ep.append(i)\n",
    "        history.append(loss.cpu().data.numpy())\n",
    "        clear_output(True)\n",
    "        plt.plot(ep, history, color='blue')\n",
    "        plt.xlabel('epoch')\n",
    "        plt.ylabel('loss')\n",
    "        plt.show()"
   ]
  },
  {
   "cell_type": "markdown",
   "metadata": {},
   "source": [
    "Generate text using the trained net with different `temperature` parameter: `[0.1, 0.2, 0.5, 1.0, 2.0]`.\n",
    "\n",
    "Evaluate the results visually, try to interpret them."
   ]
  },
  {
   "cell_type": "code",
   "execution_count": 47,
   "metadata": {
    "collapsed": true
   },
   "outputs": [],
   "source": [
    "# Text generation with different temperature values here"
   ]
  },
  {
   "cell_type": "markdown",
   "metadata": {},
   "source": [
    "**T=0.1**"
   ]
  },
  {
   "cell_type": "code",
   "execution_count": 62,
   "metadata": {},
   "outputs": [
    {
     "name": "stdout",
     "output_type": "stream",
     "text": [
      "hello kness of heart,\n",
      "  and the self all the world of the worth thee,\n",
      "    and the self the worth the stends of the me,\n",
      "  the world of the theer shall the strange,\n",
      "  the world the stare with the worth the strangly spends,\n",
      "  they change the stends of the worth the strange,\n",
      "  the self i am the world of the strange,\n",
      "  the self i am all the world do not so,\n",
      "    and the world with the world of the worth thee,\n",
      "    and the beauty with the world of thee,\n",
      "  and the self the their shall the stain,\n",
      "    and \n"
     ]
    }
   ],
   "source": [
    "print(generate_sample(rnn=model, seed_phrase='hello ', temperature=0.1, max_length=500, mode='lstm'))"
   ]
  },
  {
   "cell_type": "markdown",
   "metadata": {},
   "source": [
    "**T=0.2**"
   ]
  },
  {
   "cell_type": "code",
   "execution_count": 63,
   "metadata": {},
   "outputs": [
    {
     "name": "stdout",
     "output_type": "stream",
     "text": [
      "hello kness of theerir,\n",
      "  or and the strange the self more to me me,\n",
      "    and the world that the true love to thee,\n",
      "  and the more that i love the stenk to shen,\n",
      "    the self i as the see doth distross,\n",
      "  and the self in the summer's love thee,\n",
      "    the surment the worth the worth the store,\n",
      "  and thee the sweet so love the worth thee,\n",
      "    the self the self the more to my strange,\n",
      "  and the truth in the world with the stare so due,\n",
      "  and that the world of the some shall be thee,\n",
      "    the self i am \n"
     ]
    }
   ],
   "source": [
    "print(generate_sample(rnn=model, seed_phrase='hello ', temperature=0.2, max_length=500, mode='lstm'))"
   ]
  },
  {
   "cell_type": "markdown",
   "metadata": {},
   "source": [
    "**T=0.5**"
   ]
  },
  {
   "cell_type": "code",
   "execution_count": 64,
   "metadata": {},
   "outputs": [
    {
     "name": "stdout",
     "output_type": "stream",
     "text": [
      "hello st steet,\n",
      "  and some is thy same then the me that with thee,\n",
      "  when i and his with then whose subsing care,\n",
      "  and piel' all the the have shall be is fair,\n",
      "    to fair have sweet i world of the stend\n",
      "  which in the worth beauty all the me,\n",
      "  so loss hath worths more there as thy me's,\n",
      "  that the see the see one substieve thee,\n",
      "    and see the theer my love the warth to thee.\n",
      "    yet thee to purpain thee world so read you not,\n",
      "  on thines make the sun thee will of thee so;\n",
      "  when the seem an\n"
     ]
    }
   ],
   "source": [
    "print(generate_sample(rnn=model, seed_phrase='hello ', temperature=0.5, max_length=500, mode='lstm'))"
   ]
  },
  {
   "cell_type": "markdown",
   "metadata": {},
   "source": [
    "**T=1**"
   ]
  },
  {
   "cell_type": "code",
   "execution_count": 65,
   "metadata": {},
   "outputs": [
    {
     "name": "stdout",
     "output_type": "stream",
     "text": [
      "hello doin attaint the cay poor, sqofecter not brign suncels foul severy,\n",
      "  as for this beauty tose wounk all tho neave:\n",
      "  anting thou breast me, thou wared ploss?\n",
      "  and trust all take a, hote i lote in tiew\n",
      "  for thnsharing sharthing mathon have in right,\n",
      "  ot to the kink, ald heate that clacks ot,\n",
      "  wherefore wretting returing cocroad,\n",
      "  the givet withies make fill amoking me:\n",
      "  those live therers worling itair have them.\n",
      "    as the that for shame him a saym'd not place:\n",
      "    sore, nor iffut co\n"
     ]
    }
   ],
   "source": [
    "print(generate_sample(rnn=model, seed_phrase='hello ', temperature=1., max_length=500, mode='lstm'))"
   ]
  },
  {
   "cell_type": "markdown",
   "metadata": {},
   "source": [
    "**T=2**"
   ]
  },
  {
   "cell_type": "code",
   "execution_count": 66,
   "metadata": {},
   "outputs": [
    {
     "name": "stdout",
     "output_type": "stream",
     "text": [
      "hello engise!\n",
      "  no,,\n",
      "  aflsharing eshopct'r's of'th rwinc\n",
      " , disuary oncfiler's weil knay'st:_h\n",
      "  my, jmes (tchugh: \n",
      " earist; offnive he lot.\n",
      "  iver-roo werelvhnoice's frook;\n",
      "  dy raautuak wamght, jout(trife,\n",
      "  sum mykanklest sce mokisb pryenso, nudg',\n",
      "  to eves timbix at evid my fliem\n",
      "  ;u butted, pumpst noth' cast no progiln,\n",
      "  witct gived,' gy shettr'sr cuble porrow'd faves do;\n",
      "  khn lostle hopom'r, xic de'st impret;\n",
      "  floul onn sowons; beaids's dic'eces fer trias:\n",
      "  ujekinc otheal sweet acir\n"
     ]
    }
   ],
   "source": [
    "print(generate_sample(rnn=model, seed_phrase='hello ', temperature=2., max_length=500, mode='lstm'))"
   ]
  },
  {
   "cell_type": "markdown",
   "metadata": {},
   "source": [
    "**My answer: the higher the temperature the closer probability ditribution over the DICT to uniform. Basically there is not point in generation with high temperatue since 1) u generate garbage; 2) it make no sense to train some model for it**"
   ]
  },
  {
   "cell_type": "markdown",
   "metadata": {},
   "source": [
    "### I will also try out dictionary of words and punctuation marks (not letters)"
   ]
  },
  {
   "cell_type": "markdown",
   "metadata": {},
   "source": [
    "Here DICT will consist of punctuation marks and words. I'll also use `nn.Embedding` instead of just `one_hot` representation"
   ]
  },
  {
   "cell_type": "code",
   "execution_count": 309,
   "metadata": {},
   "outputs": [],
   "source": [
    "import re"
   ]
  },
  {
   "cell_type": "code",
   "execution_count": 310,
   "metadata": {},
   "outputs": [],
   "source": [
    "sonnets = text.split('\\n\\n')[::2]"
   ]
  },
  {
   "cell_type": "code",
   "execution_count": 285,
   "metadata": {},
   "outputs": [],
   "source": [
    "sonnets_splitted = [re.sub(r'[?!@#%\\^&\\*\\(\\):;\"\\',\\./\\\\\\-\\+|\\n]', r' \\g<0> ', sonnet).strip() for sonnet in sonnets]\n",
    "sonnets_splitted = [re.split(pattern=' ', string=sonnet) for sonnet in sonnets_splitted]\n",
    "sonnets_splitted = [[s for s in sonnet if s!=''] for sonnet in sonnets_splitted]"
   ]
  },
  {
   "cell_type": "code",
   "execution_count": 287,
   "metadata": {},
   "outputs": [
    {
     "data": {
      "text/plain": [
       "13"
      ]
     },
     "execution_count": 287,
     "metadata": {},
     "output_type": "execute_result"
    }
   ],
   "source": [
    "sonnets_splitted[0].count('\\n')"
   ]
  },
  {
   "cell_type": "code",
   "execution_count": null,
   "metadata": {},
   "outputs": [],
   "source": []
  },
  {
   "cell_type": "code",
   "execution_count": 288,
   "metadata": {},
   "outputs": [
    {
     "name": "stdout",
     "output_type": "stream",
     "text": [
      "from fairest creatures we desire increase , \n",
      " that thereby beauty ' s rose might never die , \n",
      " but as the riper should by time decease , \n",
      " his tender heir might bear his memory : \n",
      " but thou , contracted to thine own bright eyes , \n",
      " feed ' st thy light ' s flame with self - substantial fuel , \n",
      " making a famine where abundance lies , \n",
      " thy self thy foe , to thy sweet self too cruel : \n",
      " thou that art now the world ' s fresh ornament , \n",
      " and only herald to the gaudy spring , \n",
      " within thine own bud buriest thy content , \n",
      " and tender churl mak ' st waste in niggarding : \n",
      " pity the world , or else this glutton be , \n",
      " to eat the world ' s due , by the grave and thee .\n"
     ]
    }
   ],
   "source": [
    "print(' '.join(sonnets_splitted[0]))"
   ]
  },
  {
   "cell_type": "code",
   "execution_count": 289,
   "metadata": {},
   "outputs": [
    {
     "name": "stdout",
     "output_type": "stream",
     "text": [
      "  from fairest creatures we desire increase,\n",
      "  that thereby beauty's rose might never die,\n",
      "  but as the riper should by time decease,\n",
      "  his tender heir might bear his memory:\n",
      "  but thou, contracted to thine own bright eyes,\n",
      "  feed'st thy light's flame with self-substantial fuel,\n",
      "  making a famine where abundance lies,\n",
      "  thy self thy foe, to thy sweet self too cruel:\n",
      "  thou that art now the world's fresh ornament,\n",
      "  and only herald to the gaudy spring,\n",
      "  within thine own bud buriest thy content,\n",
      "  and tender churl mak'st waste in niggarding:\n",
      "    pity the world, or else this glutton be,\n",
      "    to eat the world's due, by the grave and thee.\n"
     ]
    }
   ],
   "source": [
    "print(sonnets[0])"
   ]
  },
  {
   "cell_type": "code",
   "execution_count": null,
   "metadata": {},
   "outputs": [],
   "source": []
  },
  {
   "cell_type": "code",
   "execution_count": 311,
   "metadata": {},
   "outputs": [
    {
     "data": {
      "text/plain": [
       "(3063,\n",
       " ['\\n',\n",
       "  '!',\n",
       "  \"'\",\n",
       "  '(',\n",
       "  ')',\n",
       "  ',',\n",
       "  '-',\n",
       "  '.',\n",
       "  ':',\n",
       "  ';',\n",
       "  '?',\n",
       "  '_',\n",
       "  'a',\n",
       "  'abhor',\n",
       "  'abide',\n",
       "  'able',\n",
       "  'about',\n",
       "  'above',\n",
       "  'absence',\n",
       "  'absent',\n",
       "  'abundance',\n",
       "  'abundant',\n",
       "  'abus',\n",
       "  'abuse',\n",
       "  'abuses',\n",
       "  'abysm',\n",
       "  'accents',\n",
       "  'acceptable',\n",
       "  'acceptance',\n",
       "  'accessary',\n",
       "  'accident',\n",
       "  'accidents',\n",
       "  'account',\n",
       "  'accumulate',\n",
       "  'accuse',\n",
       "  'accusing',\n",
       "  'achieve',\n",
       "  'acknowledge',\n",
       "  'acquaintance',\n",
       "  'acquainted',\n",
       "  'act',\n",
       "  'action',\n",
       "  'active',\n",
       "  'actor',\n",
       "  'add',\n",
       "  'added',\n",
       "  'adder',\n",
       "  'addeth',\n",
       "  'adding',\n",
       "  'addition',\n",
       "  'adieu',\n",
       "  'adjunct',\n",
       "  'admire',\n",
       "  'admired',\n",
       "  'admiring',\n",
       "  'admit',\n",
       "  'admitted',\n",
       "  'adonis',\n",
       "  'adore',\n",
       "  'adulterate',\n",
       "  'advance',\n",
       "  'advantage',\n",
       "  'adverse',\n",
       "  'advis',\n",
       "  'advocate',\n",
       "  'afar',\n",
       "  'affable',\n",
       "  'affairs',\n",
       "  'affections',\n",
       "  'afford',\n",
       "  'affords',\n",
       "  'afloat',\n",
       "  'afresh',\n",
       "  'after',\n",
       "  'afterwards',\n",
       "  'again',\n",
       "  'against',\n",
       "  'age',\n",
       "  'ages',\n",
       "  'aggravate',\n",
       "  'ah',\n",
       "  'aid',\n",
       "  'air',\n",
       "  'alack',\n",
       "  'alas',\n",
       "  'alchemy',\n",
       "  'alien',\n",
       "  'alike',\n",
       "  'alive',\n",
       "  'all',\n",
       "  'allay',\n",
       "  'allege',\n",
       "  'allow',\n",
       "  'almost',\n",
       "  'aloft',\n",
       "  'alone',\n",
       "  'already',\n",
       "  'alter',\n",
       "  'alteration',\n",
       "  'altering',\n",
       "  'alters',\n",
       "  'although',\n",
       "  'always',\n",
       "  'am',\n",
       "  'amazeth',\n",
       "  'ambush',\n",
       "  'amen',\n",
       "  'amends',\n",
       "  'amiss',\n",
       "  'among',\n",
       "  'an',\n",
       "  'anchor',\n",
       "  'and',\n",
       "  'anew',\n",
       "  'angel',\n",
       "  'anger',\n",
       "  'angry',\n",
       "  'annex',\n",
       "  'annoy',\n",
       "  'anon',\n",
       "  'another',\n",
       "  'answer',\n",
       "  'answered',\n",
       "  'answers',\n",
       "  'anticipate',\n",
       "  'antique',\n",
       "  'antiquity',\n",
       "  'any',\n",
       "  'anything',\n",
       "  'apparel',\n",
       "  'appeal',\n",
       "  'appear',\n",
       "  'appearance',\n",
       "  'appearing',\n",
       "  'appears',\n",
       "  'appetite',\n",
       "  'apple',\n",
       "  'applying',\n",
       "  'approve',\n",
       "  'april',\n",
       "  'are',\n",
       "  'argument',\n",
       "  'aright',\n",
       "  'arise',\n",
       "  'arising',\n",
       "  'array',\n",
       "  'arrest',\n",
       "  'art',\n",
       "  'arts',\n",
       "  'as',\n",
       "  'ashes',\n",
       "  'aside',\n",
       "  'askance',\n",
       "  'asked',\n",
       "  'asleep',\n",
       "  'aspect',\n",
       "  'assail',\n",
       "  'assemble',\n",
       "  'assistance',\n",
       "  'assur',\n",
       "  'assure',\n",
       "  'assured',\n",
       "  'astonished',\n",
       "  'astronomy',\n",
       "  'at',\n",
       "  'attaint',\n",
       "  'attainted',\n",
       "  'attend',\n",
       "  'attending',\n",
       "  'audit',\n",
       "  'aught',\n",
       "  'augurs',\n",
       "  'authority',\n",
       "  'authorizing',\n",
       "  'autumn',\n",
       "  'awake',\n",
       "  'awakes',\n",
       "  'awards',\n",
       "  'away',\n",
       "  'ay',\n",
       "  'aye',\n",
       "  'babe',\n",
       "  'back',\n",
       "  'backward',\n",
       "  'bad',\n",
       "  'badges',\n",
       "  'badness',\n",
       "  'bail',\n",
       "  'bait',\n",
       "  'balmy',\n",
       "  'bankrupt',\n",
       "  'banks',\n",
       "  'banquet',\n",
       "  'bar',\n",
       "  'bare',\n",
       "  'bareness',\n",
       "  'bark',\n",
       "  'barren',\n",
       "  'barrenly',\n",
       "  'bars',\n",
       "  'base',\n",
       "  'bases',\n",
       "  'basest',\n",
       "  'bastard',\n",
       "  'bath',\n",
       "  'battering',\n",
       "  'bay',\n",
       "  'be',\n",
       "  'beams',\n",
       "  'bear',\n",
       "  'beard',\n",
       "  'bearer',\n",
       "  'bearing',\n",
       "  'bears',\n",
       "  'beast',\n",
       "  'beated',\n",
       "  'beaten',\n",
       "  'beauteous',\n",
       "  'beauties',\n",
       "  'beautiful',\n",
       "  'beauty',\n",
       "  'because',\n",
       "  'beck',\n",
       "  'become',\n",
       "  'becomes',\n",
       "  'becoming',\n",
       "  'bed',\n",
       "  'beds',\n",
       "  'been',\n",
       "  'befits',\n",
       "  'before',\n",
       "  'befriends',\n",
       "  'beggar',\n",
       "  'begin',\n",
       "  'begins',\n",
       "  'beguil',\n",
       "  'beguile',\n",
       "  'behaviour',\n",
       "  'behind',\n",
       "  'behold',\n",
       "  'being',\n",
       "  'belied',\n",
       "  'believe',\n",
       "  'believed',\n",
       "  'bell',\n",
       "  'belong',\n",
       "  'belongs',\n",
       "  'belov',\n",
       "  'beloved',\n",
       "  'bemoaned',\n",
       "  'bending',\n",
       "  'bends',\n",
       "  'benefit',\n",
       "  'bent',\n",
       "  'bequest',\n",
       "  'bereft',\n",
       "  'beseechers',\n",
       "  'beseem',\n",
       "  'beshrew',\n",
       "  'beside',\n",
       "  'besides',\n",
       "  'besiege',\n",
       "  'besmear',\n",
       "  'best',\n",
       "  'bestow',\n",
       "  'betray',\n",
       "  'betraying',\n",
       "  'bett',\n",
       "  'better',\n",
       "  'bettering',\n",
       "  'betwixt',\n",
       "  'bevel',\n",
       "  'bewailed',\n",
       "  'beweep',\n",
       "  'beyond',\n",
       "  'bid',\n",
       "  'bide',\n",
       "  'bids',\n",
       "  'bier',\n",
       "  'big',\n",
       "  'bind',\n",
       "  'bird',\n",
       "  'birds',\n",
       "  'birth',\n",
       "  'bitter',\n",
       "  'bitterness',\n",
       "  'black',\n",
       "  'blam',\n",
       "  'blame',\n",
       "  'blanks',\n",
       "  'blazon',\n",
       "  'blenches',\n",
       "  'bless',\n",
       "  'blessed',\n",
       "  'blesses',\n",
       "  'blessing',\n",
       "  'blessings',\n",
       "  'blest',\n",
       "  'blind',\n",
       "  'blindness',\n",
       "  'bliss',\n",
       "  'blood',\n",
       "  'bloody',\n",
       "  'blooms',\n",
       "  'blot',\n",
       "  'blots',\n",
       "  'blow',\n",
       "  'blunt',\n",
       "  'blunter',\n",
       "  'blunting',\n",
       "  'blush',\n",
       "  'blushing',\n",
       "  'boast',\n",
       "  'boat',\n",
       "  'body',\n",
       "  'bold',\n",
       "  'boldness',\n",
       "  'bond',\n",
       "  'bonds',\n",
       "  'bones',\n",
       "  'book',\n",
       "  'boot',\n",
       "  'bootless',\n",
       "  'bore',\n",
       "  'born',\n",
       "  'borne',\n",
       "  'borrow',\n",
       "  'borrowed',\n",
       "  'bosom',\n",
       "  'bosoms',\n",
       "  'both',\n",
       "  'bough',\n",
       "  'boughs',\n",
       "  'bound',\n",
       "  'boundless',\n",
       "  'bounteous',\n",
       "  'bounty',\n",
       "  'bow',\n",
       "  'bower',\n",
       "  'boy',\n",
       "  'brag',\n",
       "  'brain',\n",
       "  'brains',\n",
       "  'brand',\n",
       "  'brass',\n",
       "  'brave',\n",
       "  'bravery',\n",
       "  'breach',\n",
       "  'break',\n",
       "  'breast',\n",
       "  'breasts',\n",
       "  'breath',\n",
       "  'breathe',\n",
       "  'breathed',\n",
       "  'breathers',\n",
       "  'breathes',\n",
       "  'bred',\n",
       "  'breed',\n",
       "  'breeds',\n",
       "  'brief',\n",
       "  'bright',\n",
       "  'brightness',\n",
       "  'bring',\n",
       "  'brings',\n",
       "  'bristly',\n",
       "  'broad',\n",
       "  'broils',\n",
       "  'broke',\n",
       "  'broken',\n",
       "  'brood',\n",
       "  'brought',\n",
       "  'brow',\n",
       "  'bud',\n",
       "  'budding',\n",
       "  'buds',\n",
       "  'builded',\n",
       "  'building',\n",
       "  'built',\n",
       "  'burden',\n",
       "  'buried',\n",
       "  'buriest',\n",
       "  'burn',\n",
       "  'burning',\n",
       "  'burthen',\n",
       "  'burthens',\n",
       "  'busy',\n",
       "  'but',\n",
       "  'buy',\n",
       "  'by',\n",
       "  'call',\n",
       "  'calls',\n",
       "  'came',\n",
       "  'can',\n",
       "  'cancell',\n",
       "  'candles',\n",
       "  'canker',\n",
       "  'cannot',\n",
       "  'canopy',\n",
       "  'canst',\n",
       "  'captain',\n",
       "  'captive',\n",
       "  'car',\n",
       "  'carcanet',\n",
       "  'care',\n",
       "  'careful',\n",
       "  'carry',\n",
       "  'carv',\n",
       "  'carve',\n",
       "  'case',\n",
       "  'cast',\n",
       "  'catch',\n",
       "  'cause',\n",
       "  'cease',\n",
       "  'celestial',\n",
       "  'censures',\n",
       "  'centre',\n",
       "  'ceremony',\n",
       "  'certain',\n",
       "  'chance',\n",
       "  'change',\n",
       "  'changes',\n",
       "  'changing',\n",
       "  'character',\n",
       "  'charg',\n",
       "  'charge',\n",
       "  'charter',\n",
       "  'chary',\n",
       "  'chase',\n",
       "  'chaste',\n",
       "  'cheap',\n",
       "  'cheater',\n",
       "  'check',\n",
       "  'checked',\n",
       "  'cheek',\n",
       "  'cheeks',\n",
       "  'cheer',\n",
       "  'cheered',\n",
       "  'cherish',\n",
       "  'cherubins',\n",
       "  'chest',\n",
       "  'chide',\n",
       "  'chiding',\n",
       "  'chief',\n",
       "  'child',\n",
       "  'children',\n",
       "  'chips',\n",
       "  'choirs',\n",
       "  'choose',\n",
       "  'chopp',\n",
       "  'chose',\n",
       "  'chronicle',\n",
       "  'churl',\n",
       "  'churls',\n",
       "  'civil',\n",
       "  'clay',\n",
       "  'clean',\n",
       "  'clear',\n",
       "  'clearer',\n",
       "  'clears',\n",
       "  'clerk',\n",
       "  'climb',\n",
       "  'cloak',\n",
       "  'clock',\n",
       "  'closet',\n",
       "  'closure',\n",
       "  'cloud',\n",
       "  'clouds',\n",
       "  'cloying',\n",
       "  'cold',\n",
       "  'colour',\n",
       "  'come',\n",
       "  'comes',\n",
       "  'comfort',\n",
       "  'coming',\n",
       "  'commanded',\n",
       "  'commence',\n",
       "  'commend',\n",
       "  'comment',\n",
       "  'comments',\n",
       "  'commit',\n",
       "  'commits',\n",
       "  'committed',\n",
       "  'common',\n",
       "  'compar',\n",
       "  'compare',\n",
       "  'compass',\n",
       "  'compeers',\n",
       "  'compil',\n",
       "  'compile',\n",
       "  'complain',\n",
       "  'complexion',\n",
       "  'composed',\n",
       "  'composition',\n",
       "  'compound',\n",
       "  'compounded',\n",
       "  'compounds',\n",
       "  'conceal',\n",
       "  'conceit',\n",
       "  'concord',\n",
       "  'condemned',\n",
       "  'confess',\n",
       "  'confin',\n",
       "  'confine',\n",
       "  'confound',\n",
       "  'confounded',\n",
       "  'confounding',\n",
       "  'confounds',\n",
       "  'conquer',\n",
       "  'conquest',\n",
       "  'conscience',\n",
       "  'consecrate',\n",
       "  'consent',\n",
       "  'consider',\n",
       "  'conspire',\n",
       "  'constancy',\n",
       "  'constant',\n",
       "  'consum',\n",
       "  'contain',\n",
       "  'contains',\n",
       "  'contend',\n",
       "  'content',\n",
       "  'contented',\n",
       "  'contents',\n",
       "  'continual',\n",
       "  'contracted',\n",
       "  'contrary',\n",
       "  'control',\n",
       "  'controlling',\n",
       "  'convert',\n",
       "  'converted',\n",
       "  'convertest',\n",
       "  'cool',\n",
       "  'cools',\n",
       "  'copy',\n",
       "  'coral',\n",
       "  'correct',\n",
       "  'correction',\n",
       "  'correspondence',\n",
       "  'corrupt',\n",
       "  'corrupting',\n",
       "  'cost',\n",
       "  'costly',\n",
       "  'costs',\n",
       "  'could',\n",
       "  'couldst',\n",
       "  'count',\n",
       "  'counted',\n",
       "  'countenance',\n",
       "  'counterfeit',\n",
       "  'counterpart',\n",
       "  'counting',\n",
       "  'couplement',\n",
       "  'course',\n",
       "  'courses',\n",
       "  'cover',\n",
       "  'covetous',\n",
       "  'coward',\n",
       "  'crave',\n",
       "  'crawls',\n",
       "  'created',\n",
       "  'creating',\n",
       "  'creation',\n",
       "  'creature',\n",
       "  'creatures',\n",
       "  'credit',\n",
       "  'creep',\n",
       "  'crests',\n",
       "  'cries',\n",
       "  'crime',\n",
       "  'critic',\n",
       "  'crooked',\n",
       "  'cross',\n",
       "  'crow',\n",
       "  'crown',\n",
       "  'crowned',\n",
       "  'crowning',\n",
       "  'cruel',\n",
       "  'crush',\n",
       "  'cry',\n",
       "  'crying',\n",
       "  'crystal',\n",
       "  'cunning',\n",
       "  'cup',\n",
       "  'cupid',\n",
       "  'cur',\n",
       "  'cure',\n",
       "  'cures',\n",
       "  'curious',\n",
       "  'curls',\n",
       "  'curse',\n",
       "  'cut',\n",
       "  'd',\n",
       "  'daily',\n",
       "  'damask',\n",
       "  'dancing',\n",
       "  'dare',\n",
       "  'dark',\n",
       "  'darkening',\n",
       "  'darkly',\n",
       "  'darkness',\n",
       "  'darling',\n",
       "  'dart',\n",
       "  'date',\n",
       "  'dateless',\n",
       "  'dates',\n",
       "  'day',\n",
       "  'days',\n",
       "  'dead',\n",
       "  'deaf',\n",
       "  'dear',\n",
       "  'dearer',\n",
       "  'dearest',\n",
       "  'dearly',\n",
       "  'dearth',\n",
       "  'dearths',\n",
       "  'death',\n",
       "  'deaths',\n",
       "  'debarre',\n",
       "  'debate',\n",
       "  'debateth',\n",
       "  'debt',\n",
       "  'debtor',\n",
       "  'decay',\n",
       "  'decays',\n",
       "  'decease',\n",
       "  'deceased',\n",
       "  'deceiv',\n",
       "  'deceive',\n",
       "  'deceived',\n",
       "  'deceivest',\n",
       "  'december',\n",
       "  'declines',\n",
       "  'decrease',\n",
       "  'decree',\n",
       "  'decrees',\n",
       "  'decrepit',\n",
       "  'dedicated',\n",
       "  'deeds',\n",
       "  'deem',\n",
       "  'deep',\n",
       "  'deepest',\n",
       "  'defac',\n",
       "  'deface',\n",
       "  'defeat',\n",
       "  'defeated',\n",
       "  'defect',\n",
       "  'defects',\n",
       "  'defence',\n",
       "  'defendant',\n",
       "  'define',\n",
       "  'deformed',\n",
       "  'defy',\n",
       "  'delayed',\n",
       "  'delight',\n",
       "  'delighted',\n",
       "  'delights',\n",
       "  'deliver',\n",
       "  'delivers',\n",
       "  'delves',\n",
       "  'denied',\n",
       "  'denote',\n",
       "  'deny',\n",
       "  'depart',\n",
       "  'departest',\n",
       "  'depend',\n",
       "  'depends',\n",
       "  'derive',\n",
       "  'describe',\n",
       "  'descriptions',\n",
       "  'desert',\n",
       "  'deserts',\n",
       "  'deserv',\n",
       "  'deserve',\n",
       "  'deserves',\n",
       "  'deserving',\n",
       "  'desire',\n",
       "  'desired',\n",
       "  'desiring',\n",
       "  'despair',\n",
       "  'desperate',\n",
       "  'despis',\n",
       "  'despise',\n",
       "  'despised',\n",
       "  'despising',\n",
       "  'despite',\n",
       "  'destroys',\n",
       "  'detain',\n",
       "  'determinate',\n",
       "  'determination',\n",
       "  'determined',\n",
       "  'devil',\n",
       "  'devis',\n",
       "  'devise',\n",
       "  'devour',\n",
       "  'devouring',\n",
       "  'dial',\n",
       "  'dian',\n",
       "  'did',\n",
       "  'didst',\n",
       "  'die',\n",
       "  'died',\n",
       "  'dies',\n",
       "  'diest',\n",
       "  'difference',\n",
       "  'different',\n",
       "  'dig',\n",
       "  'dignified',\n",
       "  'dignifies',\n",
       "  'dignity',\n",
       "  'dimm',\n",
       "  'directed',\n",
       "  'directly',\n",
       "  'disabled',\n",
       "  'disarm',\n",
       "  'discloses',\n",
       "  'discontent',\n",
       "  'discourse',\n",
       "  'disdain',\n",
       "  'disdaineth',\n",
       "  'disdains',\n",
       "  'diseas',\n",
       "  'disease',\n",
       "  'disgrac',\n",
       "  'disgrace',\n",
       "  'dispatch',\n",
       "  'dispense',\n",
       "  'disperse',\n",
       "  'dispos',\n",
       "  'dispraise',\n",
       "  'dissuade',\n",
       "  'distance',\n",
       "  'distemper',\n",
       "  'distill',\n",
       "  'distillation',\n",
       "  'distills',\n",
       "  'distraction',\n",
       "  'divert',\n",
       "  'divide',\n",
       "  'divided',\n",
       "  'divine',\n",
       "  'divining',\n",
       "  'do',\n",
       "  'doctor',\n",
       "  'doing',\n",
       "  'done',\n",
       "  'doom',\n",
       "  'dost',\n",
       "  'dote',\n",
       "  'doth',\n",
       "  'doting',\n",
       "  'double',\n",
       "  'doubt',\n",
       "  'doubting',\n",
       "  'dove',\n",
       "  'down',\n",
       "  'drain',\n",
       "  'draw',\n",
       "  'drawn',\n",
       "  'dreading',\n",
       "  'dream',\n",
       "  'dreaming',\n",
       "  'dreams',\n",
       "  'dregs',\n",
       "  'dress',\n",
       "  'dressing',\n",
       "  'dressings',\n",
       "  'drink',\n",
       "  'drinks',\n",
       "  'drooping',\n",
       "  'drop',\n",
       "  'drops',\n",
       "  'dross',\n",
       "  'drown',\n",
       "  'drowns',\n",
       "  'drudge',\n",
       "  'drugs',\n",
       "  'drunk',\n",
       "  'dry',\n",
       "  'due',\n",
       "  'dull',\n",
       "  'dulling',\n",
       "  'dully',\n",
       "  'dulness',\n",
       "  'dumb',\n",
       "  'dun',\n",
       "  'durst',\n",
       "  'dust',\n",
       "  'duteous',\n",
       "  'duty',\n",
       "  'dwell',\n",
       "  'dwellers',\n",
       "  'dwells',\n",
       "  'dy',\n",
       "  'dye',\n",
       "  'dyer',\n",
       "  'dying',\n",
       "  'each',\n",
       "  'eager',\n",
       "  'ear',\n",
       "  'early',\n",
       "  'ears',\n",
       "  'earth',\n",
       "  'earthly',\n",
       "  'eas',\n",
       "  'ease',\n",
       "  'east',\n",
       "  'easy',\n",
       "  'eat',\n",
       "  'eating',\n",
       "  'eclipse',\n",
       "  'eclipses',\n",
       "  'edge',\n",
       "  'effect',\n",
       "  'effectually',\n",
       "  'eisel',\n",
       "  'either',\n",
       "  'elder',\n",
       "  'elements',\n",
       "  'eloquence',\n",
       "  'else',\n",
       "  'elsewhere',\n",
       "  'embassage',\n",
       "  'embassy',\n",
       "  'enclose',\n",
       "  'end',\n",
       "  'endeared',\n",
       "  'ending',\n",
       "  'endless',\n",
       "  'endow',\n",
       "  'endur',\n",
       "  'endure',\n",
       "  'enemies',\n",
       "  'enfeebled',\n",
       "  'enforced',\n",
       "  'engraft',\n",
       "  'engrafted',\n",
       "  'engross',\n",
       "  'enjoy',\n",
       "  'enjoyer',\n",
       "  'enjoys',\n",
       "  'enlarg',\n",
       "  'enlighten',\n",
       "  'enmity',\n",
       "  'enough',\n",
       "  'enrich',\n",
       "  'ensconce',\n",
       "  'entertain',\n",
       "  'entitled',\n",
       "  'entombed',\n",
       "  'envy',\n",
       "  'epitaph',\n",
       "  'equal',\n",
       "  'equipage',\n",
       "  'er',\n",
       "  'ercharg',\n",
       "  'ere',\n",
       "  'erlook',\n",
       "  'erpress',\n",
       "  'err',\n",
       "  'error',\n",
       "  'errors',\n",
       "  'erst',\n",
       "  'ersways',\n",
       "  'ertake',\n",
       "  'erworn',\n",
       "  'essays',\n",
       "  'esteem',\n",
       "  'esteeming',\n",
       "  'estimate',\n",
       "  'eternal',\n",
       "  'eternity',\n",
       "  'eve',\n",
       "  'even',\n",
       "  'ever',\n",
       "  'evermore',\n",
       "  'every',\n",
       "  'everywhere',\n",
       "  'evident',\n",
       "  'evil',\n",
       "  'example',\n",
       "  'exceed',\n",
       "  'exceeded',\n",
       "  'exceeds',\n",
       "  'excel',\n",
       "  'excellence',\n",
       "  'excellent',\n",
       "  'except',\n",
       "  'excess',\n",
       "  'exchang',\n",
       "  'exchequer',\n",
       "  'excuse',\n",
       "  'excusing',\n",
       "  'executor',\n",
       "  'expense',\n",
       "  'expiate',\n",
       "  'expire',\n",
       "  'expired',\n",
       "  'express',\n",
       "  'expressing',\n",
       "  'extant',\n",
       "  'extern',\n",
       "  'external',\n",
       "  'extreme',\n",
       "  'extremity',\n",
       "  'ey',\n",
       "  'eye',\n",
       "  'eyelids',\n",
       "  'eyes',\n",
       "  'face',\n",
       "  'faces',\n",
       "  'faculty',\n",
       "  'fade',\n",
       "  'fadeth',\n",
       "  'fading',\n",
       "  'faint',\n",
       "  'fair',\n",
       "  'fairer',\n",
       "  'fairest',\n",
       "  'fairing',\n",
       "  'fairly',\n",
       "  'faith',\n",
       "  'fall',\n",
       "  'falls',\n",
       "  'false',\n",
       "  'falsehood',\n",
       "  'falsely',\n",
       "  'fame',\n",
       "  'familiar',\n",
       "  'famine',\n",
       "  'famish',\n",
       "  'famoused',\n",
       "  'fangled',\n",
       "  'far',\n",
       "  'farewell',\n",
       "  'faring',\n",
       "  'farther',\n",
       "  'farthest',\n",
       "  'fashion',\n",
       "  'fast',\n",
       "  'faster',\n",
       "  'fate',\n",
       "  'father',\n",
       "  'fault',\n",
       "  'faults',\n",
       "  'favour',\n",
       "  'favourites',\n",
       "  'fawn',\n",
       "  'fear',\n",
       "  'fearful',\n",
       "  'fearfully',\n",
       "  'fearing',\n",
       "  'fears',\n",
       "  'feast',\n",
       "  'feasting',\n",
       "  'feasts',\n",
       "  'feather',\n",
       "  'feathers',\n",
       "  'featur',\n",
       "  'feature',\n",
       "  'featureless',\n",
       "  'fed',\n",
       "  'fee',\n",
       "  'feeble',\n",
       "  'feed',\n",
       "  'feeding',\n",
       "  'feeds',\n",
       "  'feel',\n",
       "  'feeling',\n",
       "  'fell',\n",
       "  'felt',\n",
       "  'female',\n",
       "  'fester',\n",
       "  'fever',\n",
       "  'few',\n",
       "  'fickle',\n",
       "  'field',\n",
       "  'fiend',\n",
       "  'fierce',\n",
       "  'fiery',\n",
       "  'fight',\n",
       "  'figur',\n",
       "  'figure',\n",
       "  'figures',\n",
       "  'fil',\n",
       "  'filching',\n",
       "  'fill',\n",
       "  'find',\n",
       "  'finding',\n",
       "  'finds',\n",
       "  'fine',\n",
       "  'finger',\n",
       "  'fingers',\n",
       "  'fire',\n",
       "  'fired',\n",
       "  'firm',\n",
       "  'first',\n",
       "  'fits',\n",
       "  'fitted',\n",
       "  'five',\n",
       "  'fix',\n",
       "  ...])"
      ]
     },
     "execution_count": 311,
     "metadata": {},
     "output_type": "execute_result"
    }
   ],
   "source": [
    "dictionary = set()\n",
    "\n",
    "sonnets_splitted = [re.sub(r'[?!@#%\\^&\\*\\(\\):;\"\\',\\./\\\\\\-\\+|\\n]', r' \\g<0> ', sonnet).strip() for sonnet in sonnets]\n",
    "sonnets_splitted = [re.split(pattern=' ', string=sonnet) for sonnet in sonnets_splitted]\n",
    "sonnets_splitted = [[s for s in sonnet if s!=''] for sonnet in sonnets_splitted]\n",
    "sonnets_splitted.sort(key=lambda x: len(x), reverse=True)\n",
    "for s in sonnets_splitted:\n",
    "    dictionary = dictionary.union(set(s))\n",
    "\n",
    "dictionary.add('_') # fake token\n",
    "dictionary = sorted(dictionary)\n",
    "\n",
    "len(dictionary), dictionary"
   ]
  },
  {
   "cell_type": "code",
   "execution_count": 312,
   "metadata": {},
   "outputs": [
    {
     "ename": "TypeError",
     "evalue": "list indices must be integers or slices, not str",
     "output_type": "error",
     "traceback": [
      "\u001b[1;31m---------------------------------------------------------------------------\u001b[0m",
      "\u001b[1;31mTypeError\u001b[0m                                 Traceback (most recent call last)",
      "Cell \u001b[1;32mIn[312], line 1\u001b[0m\n\u001b[1;32m----> 1\u001b[0m \u001b[43mdictionary\u001b[49m\u001b[43m[\u001b[49m\u001b[38;5;124;43m'\u001b[39;49m\u001b[38;5;124;43m \u001b[39;49m\u001b[38;5;124;43m'\u001b[39;49m\u001b[43m]\u001b[49m\n",
      "\u001b[1;31mTypeError\u001b[0m: list indices must be integers or slices, not str"
     ]
    }
   ],
   "source": [
    "dictionary[' ']"
   ]
  },
  {
   "cell_type": "code",
   "execution_count": 313,
   "metadata": {},
   "outputs": [
    {
     "name": "stdout",
     "output_type": "stream",
     "text": [
      "Total number of advanced tokens in all sonnets is 23798\n",
      "Average frequency of a single token is 7\n",
      "Max length of a sonnet is 174\n"
     ]
    },
    {
     "data": {
      "image/png": "[encoded data removed]",
      "text/plain": [
       "<Figure size 640x480 with 1 Axes>"
      ]
     },
     "metadata": {},
     "output_type": "display_data"
    }
   ],
   "source": [
    "lengths_splitted = [len(s) for s in sonnets_splitted]\n",
    "\n",
    "_,_,_ = plt.hist(lengths_splitted, bins=30)\n",
    "print(f'Total number of advanced tokens in all sonnets is {sum(lengths_splitted)}')\n",
    "print(f'Average frequency of a single token is {int(sum(lengths_splitted)/len(dictionary))}')\n",
    "print(f'Max length of a sonnet is {max(lengths_splitted)}')"
   ]
  },
  {
   "cell_type": "code",
   "execution_count": 314,
   "metadata": {},
   "outputs": [
    {
     "name": "stdout",
     "output_type": "stream",
     "text": [
      "Word of maximal lenght consists of 14 letters\n",
      "Word of minimal lenght consists of 1 letter\n",
      "Average lenght of a word is 6 letters\n"
     ]
    },
    {
     "data": {
      "image/png": "[encoded data removed]",
      "text/plain": [
       "<Figure size 640x480 with 1 Axes>"
      ]
     },
     "metadata": {},
     "output_type": "display_data"
    }
   ],
   "source": [
    "length_words = [len(word) for word in dictionary[12:]]\n",
    "\n",
    "_,_,_ = plt.hist(length_words, bins=30)\n",
    "\n",
    "print(f'Word of maximal lenght consists of {max(length_words)} letters')\n",
    "print(f'Word of minimal lenght consists of {min(length_words)} letter')\n",
    "print(f'Average lenght of a word is {round(np.mean(length_words))} letters')"
   ]
  },
  {
   "cell_type": "markdown",
   "metadata": {},
   "source": [
    "Pad all sonnets:"
   ]
  },
  {
   "cell_type": "code",
   "execution_count": 315,
   "metadata": {},
   "outputs": [],
   "source": [
    "def pad_list(some_list, target_len):\n",
    "    return some_list[:target_len] + ['_']*(target_len - len(some_list))"
   ]
  },
  {
   "cell_type": "code",
   "execution_count": 316,
   "metadata": {},
   "outputs": [
    {
     "data": {
      "text/plain": [
       "(168, 174)"
      ]
     },
     "execution_count": 316,
     "metadata": {},
     "output_type": "execute_result"
    }
   ],
   "source": [
    "len(sonnets_splitted[10]), max(lengths_splitted)"
   ]
  },
  {
   "cell_type": "code",
   "execution_count": 317,
   "metadata": {},
   "outputs": [],
   "source": [
    "sonnets_splitted = [pad_list(sonnet, max(lengths_splitted)) for sonnet in sonnets_splitted]"
   ]
  },
  {
   "cell_type": "markdown",
   "metadata": {},
   "source": [
    "Token to id and vice versa again:"
   ]
  },
  {
   "cell_type": "code",
   "execution_count": 318,
   "metadata": {},
   "outputs": [
    {
     "data": {
      "text/plain": [
       "(11, '_')"
      ]
     },
     "execution_count": 318,
     "metadata": {},
     "output_type": "execute_result"
    }
   ],
   "source": [
    "token_to_id = {token: i for i, token in enumerate(dictionary)}\n",
    "id_to_token = {i: token for i, token in enumerate(dictionary)}\n",
    "token_to_id['_'], idx_to_token[11]"
   ]
  },
  {
   "cell_type": "code",
   "execution_count": 319,
   "metadata": {},
   "outputs": [
    {
     "data": {
      "text/plain": [
       "(154, 174)"
      ]
     },
     "execution_count": 319,
     "metadata": {},
     "output_type": "execute_result"
    }
   ],
   "source": [
    "sonnets_encoded = np.array([[token_to_id[token] for token in sonnet] for sonnet in sonnets_splitted])\n",
    "sonnets_encoded.shape"
   ]
  },
  {
   "cell_type": "code",
   "execution_count": 320,
   "metadata": {},
   "outputs": [
    {
     "data": {
      "text/plain": [
       "1021"
      ]
     },
     "execution_count": 320,
     "metadata": {},
     "output_type": "execute_result"
    }
   ],
   "source": [
    "int(len(dictionary)/(int(sum(lengths_splitted)/len(dictionary))-4))"
   ]
  },
  {
   "cell_type": "markdown",
   "metadata": {},
   "source": [
    "Let's try `embedding_size` of `int(len(dictionary)/(int(sum(lengths_splitted)/len(dictionary))-const))`. I'll take smth like `~1024`"
   ]
  },
  {
   "cell_type": "code",
   "execution_count": 325,
   "metadata": {},
   "outputs": [],
   "source": [
    "class betterLSTM(nn.Module):\n",
    "    def __init__(self, num_tokens=len(dictionary), embedding_size=2**10, hidden_size=2**7) -> None:\n",
    "        super(self.__class__,self).__init__()\n",
    "        self.hidden_size = hidden_size\n",
    "        self.emb = nn.Embedding(num_embeddings=num_tokens, embedding_dim=embedding_size)\n",
    "        self.rnn = nn.LSTM(embedding_size, hidden_size, batch_first=True, num_layers=1)\n",
    "        self.hid_to_logits = nn.Linear(in_features=hidden_size, out_features=num_tokens)\n",
    "\n",
    "    def forward(self, x):\n",
    "        x_emb = self.emb(x)\n",
    "        h_t, h_next = self.rnn(x_emb)\n",
    "        logits_all = self.hid_to_logits(h_t)\n",
    "        return logits_all"
   ]
  },
  {
   "cell_type": "code",
   "execution_count": 326,
   "metadata": {},
   "outputs": [
    {
     "data": {
      "text/plain": [
       "betterLSTM(\n",
       "  (emb): Embedding(3063, 1024)\n",
       "  (rnn): LSTM(1024, 128, batch_first=True)\n",
       "  (hid_to_logits): Linear(in_features=128, out_features=3063, bias=True)\n",
       ")"
      ]
     },
     "execution_count": 326,
     "metadata": {},
     "output_type": "execute_result"
    }
   ],
   "source": [
    "model = betterLSTM().to(device=device)\n",
    "opt = Adam(params=model.parameters(), lr=1e-3)\n",
    "loss_func = nn.CrossEntropyLoss(ignore_index=token_to_id['_'])\n",
    "history = []\n",
    "\n",
    "model"
   ]
  },
  {
   "cell_type": "code",
   "execution_count": 327,
   "metadata": {},
   "outputs": [
    {
     "ename": "TypeError",
     "evalue": "expected np.ndarray (got Tensor)",
     "output_type": "error",
     "traceback": [
      "\u001b[1;31m---------------------------------------------------------------------------\u001b[0m",
      "\u001b[1;31mTypeError\u001b[0m                                 Traceback (most recent call last)",
      "Cell \u001b[1;32mIn[327], line 1\u001b[0m\n\u001b[1;32m----> 1\u001b[0m sonnets_encoded \u001b[38;5;241m=\u001b[39m \u001b[43mtorch\u001b[49m\u001b[38;5;241;43m.\u001b[39;49m\u001b[43mfrom_numpy\u001b[49m\u001b[43m(\u001b[49m\u001b[43msonnets_encoded\u001b[49m\u001b[43m)\u001b[49m\u001b[38;5;241m.\u001b[39mto(dtype\u001b[38;5;241m=\u001b[39mtorch\u001b[38;5;241m.\u001b[39mint64, device\u001b[38;5;241m=\u001b[39mdevice)\n\u001b[0;32m      2\u001b[0m sonnets_encoded\u001b[38;5;241m.\u001b[39mshape\n",
      "\u001b[1;31mTypeError\u001b[0m: expected np.ndarray (got Tensor)"
     ]
    }
   ],
   "source": [
    "sonnets_encoded = torch.from_numpy(sonnets_encoded).to(dtype=torch.int64, device=device)\n",
    "sonnets_encoded.shape"
   ]
  },
  {
   "cell_type": "code",
   "execution_count": 328,
   "metadata": {},
   "outputs": [
    {
     "data": {
      "image/png": "[encoded data removed]",
      "text/plain": [
       "<Figure size 640x480 with 1 Axes>"
      ]
     },
     "metadata": {},
     "output_type": "display_data"
    }
   ],
   "source": [
    "num_epochs = 2000\n",
    "\n",
    "ep = []\n",
    "for i in range(num_epochs):\n",
    "    logits_pred = model(sonnets_encoded)\n",
    "\n",
    "    logits_next = logits_pred[:, :-1]\n",
    "    actual_next_tokens = sonnets_encoded[:, 1:]\n",
    "                                    \n",
    "    loss = loss_func(logits_next.reshape(-1, len(dictionary)), actual_next_tokens.reshape(-1))\n",
    "    loss.backward()\n",
    "    \n",
    "    opt.step()\n",
    "    opt.zero_grad()\n",
    "\n",
    "    if (i+1)%10==0:\n",
    "        ep.append(i)\n",
    "        history.append(loss.cpu().data.numpy())\n",
    "        clear_output(True)\n",
    "        plt.plot(ep, history, color='blue')\n",
    "        plt.xlabel('epoch')\n",
    "        plt.ylabel('loss')\n",
    "        plt.show()"
   ]
  },
  {
   "cell_type": "code",
   "execution_count": 329,
   "metadata": {},
   "outputs": [],
   "source": [
    "def generate_cool_poem(rnn, seed_phrase=['i', 'was', 'able'], max_length=10, temperature=1.0):\n",
    "\n",
    "    model = rnn.to(device='cpu')\n",
    "    \n",
    "    x_sequence = np.array([token_to_id[s] for s in seed_phrase])\n",
    "    x_sequence = torch.from_numpy(x_sequence).to(dtype=torch.int64)\n",
    "\n",
    "    for _ in range(max_length - len(seed_phrase)):\n",
    "        x_sequence_emb = model.emb(x_sequence)\n",
    "        h_t, h_next = model.rnn(x_sequence_emb)\n",
    "        logits = model.hid_to_logits(h_next[0])\n",
    "        p_next = F.softmax(logits / temperature, dim=-1).data.numpy()[0]\n",
    "        \n",
    "        next_ix = torch.tensor([np.random.choice(len(dictionary), p=p_next)]).to(dtype=torch.int64)\n",
    "\n",
    "        x_sequence = torch.cat([x_sequence, next_ix], dim=0)\n",
    "\n",
    "    generated = [id_to_token[i] for i in x_sequence.numpy()]\n",
    "\n",
    "    return ' '.join(generated)"
   ]
  },
  {
   "cell_type": "code",
   "execution_count": 330,
   "metadata": {},
   "outputs": [
    {
     "data": {
      "text/plain": [
       "(1330, 2891, 15)"
      ]
     },
     "execution_count": 330,
     "metadata": {},
     "output_type": "execute_result"
    }
   ],
   "source": [
    "token_to_id['i'], token_to_id['was'], token_to_id['able']"
   ]
  },
  {
   "cell_type": "code",
   "execution_count": 338,
   "metadata": {},
   "outputs": [
    {
     "name": "stdout",
     "output_type": "stream",
     "text": [
      "i was able spirit in other accents do this dull my muse , and this i not that i am old ? \n",
      " my love , then thou hast the strength of all thy state ! \n",
      " but that , the very same thy \n",
      " and do in thy end ; \n",
      " and in my sake even to be . \n",
      " i love thee to say , as all she with you , you your beauty , \n",
      " and i must be most my heart to sway ? \n",
      " to make me give the lie to thy large let my\n"
     ]
    }
   ],
   "source": [
    "print(generate_cool_poem(model, seed_phrase=['i', 'was', 'able'], max_length=100, temperature=0.5))"
   ]
  },
  {
   "cell_type": "markdown",
   "metadata": {},
   "source": [
    "Smth like dat. I was lazy to fix the thing with commas and other punctuation marks. It also better to use some package to work with text rather than do everyting from scratch.\n",
    "\n",
    "Obviously to get meaningfull results you have to use more data or even pretrained LLM and then fine-tune it. In <a href='http://karpathy.github.io/2015/05/21/rnn-effectiveness/'> Andrew Karpathy blog post about RNN. </a> more complex structure of RNN was used and the dataset was about `4.4MB` compared to `120Kb` in this educational task. "
   ]
  },
  {
   "cell_type": "markdown",
   "metadata": {},
   "source": [
    "### Saving and loading models"
   ]
  },
  {
   "cell_type": "markdown",
   "metadata": {},
   "source": [
    "Save the model to the disk, then load it and generate text. Examples are available [here](https://pytorch.org/tutorials/beginner/saving_loading_models.html])."
   ]
  },
  {
   "cell_type": "code",
   "execution_count": 342,
   "metadata": {},
   "outputs": [
    {
     "data": {
      "text/plain": [
       "dict_keys(['state', 'param_groups'])"
      ]
     },
     "execution_count": 342,
     "metadata": {},
     "output_type": "execute_result"
    }
   ],
   "source": [
    "opt.state_dict().keys()"
   ]
  },
  {
   "cell_type": "code",
   "execution_count": 343,
   "metadata": {
    "collapsed": true
   },
   "outputs": [],
   "source": [
    "# Saving and loading code here\n",
    "\n",
    "def save_checkpoint(model, optimizer, epoch, loss, filename='./checkpoint.pt'):\n",
    "    torch.save(\n",
    "        {\n",
    "            'epoch': epoch,\n",
    "            'loss': loss,\n",
    "            'model_state_dict': model.state_dict(),\n",
    "            'optimizer_state_dict': optimizer.state_dict(),\n",
    "        },\n",
    "        filename,\n",
    "    )\n",
    "\n",
    "def load_checkpoint(model, optimizer, path_to_checkpoint='./checkpoint.pt', le=True):\n",
    "    checkpoint = torch.load(path_to_checkpoint)\n",
    "    model.load_state_dict(checkpoint['model_state_dict'])\n",
    "    if optimizer!=None:\n",
    "        optimizer.load_state_dict(checkpoint['optimizer_state_dict'])\n",
    "    if le:\n",
    "        epoch = checkpoint['epoch']\n",
    "        loss = checkpoint['loss']\n",
    "        return epoch, loss"
   ]
  },
  {
   "cell_type": "code",
   "execution_count": 345,
   "metadata": {},
   "outputs": [],
   "source": [
    "save_checkpoint(model, opt, i, history[-1])"
   ]
  },
  {
   "cell_type": "code",
   "execution_count": 346,
   "metadata": {},
   "outputs": [
    {
     "data": {
      "text/plain": [
       "(1999, array(0.02124331, dtype=float32))"
      ]
     },
     "execution_count": 346,
     "metadata": {},
     "output_type": "execute_result"
    }
   ],
   "source": [
    "model_from_checkpoint = betterLSTM().to(device=device)\n",
    "load_checkpoint(model_from_checkpoint, optimizer=None)"
   ]
  },
  {
   "cell_type": "code",
   "execution_count": 348,
   "metadata": {},
   "outputs": [
    {
     "data": {
      "text/plain": [
       "betterLSTM(\n",
       "  (emb): Embedding(3063, 1024)\n",
       "  (rnn): LSTM(1024, 128, batch_first=True)\n",
       "  (hid_to_logits): Linear(in_features=128, out_features=3063, bias=True)\n",
       ")"
      ]
     },
     "execution_count": 348,
     "metadata": {},
     "output_type": "execute_result"
    }
   ],
   "source": [
    "model_from_checkpoint"
   ]
  },
  {
   "cell_type": "code",
   "execution_count": 349,
   "metadata": {},
   "outputs": [
    {
     "name": "stdout",
     "output_type": "stream",
     "text": [
      "i was able spirit in other my mistress ' eyes , \n",
      " when in thy beauty ' s form form of heart to dead ; \n",
      " but from his love , and i to be new ' d ; \n",
      " for all were , if it bore not beauty ' s name ; \n",
      " but now is black beauty ' s successive heir , \n",
      " and beauty slander ' d with a bastard shame : \n",
      " for since each hand hath put on nature ' s power , \n",
      " fairing the foul with art ' s false borrowed face ,\n"
     ]
    }
   ],
   "source": [
    "print(generate_cool_poem(model_from_checkpoint, seed_phrase=['i', 'was', 'able'], max_length=100, temperature=0.5))"
   ]
  },
  {
   "cell_type": "markdown",
   "metadata": {},
   "source": [
    "### References\n",
    "1. <a href='http://karpathy.github.io/2015/05/21/rnn-effectiveness/'> Andrew Karpathy blog post about RNN. </a> \n",
    "There are several examples of genration: Shakespeare texts, Latex formulas, Linux Sourse Code and children names.\n",
    "2. <a href='https://github.com/karpathy/char-rnn'> Repo with char-rnn code </a>\n",
    "3. Cool repo with PyTorch examples: [link](https://github.com/spro/practical-pytorch`)"
   ]
  }
 ],
 "metadata": {
  "anaconda-cloud": {},
  "kernelspec": {
   "display_name": "Python 3",
   "language": "python",
   "name": "python3"
  },
  "language_info": {
   "codemirror_mode": {
    "name": "ipython",
    "version": 3
   },
   "file_extension": ".py",
   "mimetype": "text/x-python",
   "name": "python",
   "nbconvert_exporter": "python",
   "pygments_lexer": "ipython3",
   "version": "3.11.4"
  }
 },
 "nbformat": 4,
 "nbformat_minor": 2
}
