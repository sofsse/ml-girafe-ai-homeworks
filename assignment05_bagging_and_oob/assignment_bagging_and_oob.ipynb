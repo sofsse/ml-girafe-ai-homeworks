{
 "cells": [
  {
   "cell_type": "markdown",
   "id": "119c9460",
   "metadata": {},
   "source": [
    "## Home assignment 05: Bagging and OOB score\n",
    "\n",
    "Please, fill the lines in the code below.\n",
    "This is a simplified version of `BaggingRegressor` from `sklearn`. Please, notice, that `sklearn` API is **not preserved**.\n",
    "\n",
    "Your algorithm should be able to train different instances of the same model class on bootstrapped datasets and to provide [OOB score](https://en.wikipedia.org/wiki/Out-of-bag_error) for the training set.\n",
    "\n",
    "The model should be passed as model class with no explicit parameters and no parentheses.\n",
    "\n",
    "Example:\n",
    "```\n",
    "import numpy as np\n",
    "from sklearn.linear_model import LinearRegression\n",
    "\n",
    "bagging_regressor = SimplifiedBaggingRegressor(num_bags=10, oob=True)\n",
    "bagging_regressor.fit(LinearRegression, X, y)\n",
    "\n",
    "```"
   ]
  },
  {
   "cell_type": "code",
   "execution_count": 1,
   "id": "31ecde34",
   "metadata": {},
   "outputs": [],
   "source": [
    "import numpy as np\n",
    "from sklearn.linear_model import LinearRegression\n",
    "from tqdm.auto import tqdm"
   ]
  },
  {
   "cell_type": "code",
   "execution_count": 2,
   "id": "06110580",
   "metadata": {},
   "outputs": [],
   "source": [
    "class SimplifiedBaggingRegressor:\n",
    "    def __init__(self, num_bags, oob=False):\n",
    "        self.num_bags = num_bags\n",
    "        self.oob = oob\n",
    "        \n",
    "    def _generate_splits(self, data: np.ndarray):\n",
    "        '''\n",
    "        Generate indices for every bag and store in self.indices_list list\n",
    "        '''\n",
    "        self.indices_list = []\n",
    "        data_length = len(data)\n",
    "        for bag in range(self.num_bags):\n",
    "            indices_bag_i = np.random.choice(np.arange(data_length), size=(data_length,), replace=True)\n",
    "            self.indices_list.append(indices_bag_i)\n",
    "            # Your Code Here\n",
    "        \n",
    "    def fit(self, model_constructor, data, target):\n",
    "        '''\n",
    "        Fit model on every bag.\n",
    "        Model constructor with no parameters (and with no ()) is passed to this function.\n",
    "        \n",
    "        example:\n",
    "        \n",
    "        bagging_regressor = SimplifiedBaggingRegressor(num_bags=10, oob=True)\n",
    "        bagging_regressor.fit(LinearRegression, X, y)\n",
    "        '''\n",
    "        self.data = None\n",
    "        self.target = None\n",
    "        self._generate_splits(data)\n",
    "        assert len(set(list(map(len, self.indices_list)))) == 1, 'All bags should be of the same length!'\n",
    "        assert list(map(len, self.indices_list))[0] == len(data), 'All bags should contain `len(data)` number of elements!'\n",
    "        self.models_list = []\n",
    "        for bag in range(self.num_bags):\n",
    "            model = model_constructor()\n",
    "            indices_bag_i = self.indices_list[bag]\n",
    "            data_bag, target_bag = data[indices_bag_i], target[indices_bag_i] # Your Code Here\n",
    "            self.models_list.append(model.fit(data_bag, target_bag)) # store fitted models here\n",
    "        if self.oob:\n",
    "            self.data = data\n",
    "            self.target = target\n",
    "        \n",
    "    def predict(self, data):\n",
    "        '''\n",
    "        Get average prediction for every object from passed dataset\n",
    "        '''\n",
    "        # Your code here\n",
    "        y_preds = []\n",
    "        for model in self.models_list:\n",
    "            y_p = model.predict(data)\n",
    "        y_preds.append(y_p)\n",
    "        y_preds = np.array(y_preds) # (n_models, n_data)\n",
    "\n",
    "        y_pred = np.mean(y_preds, axis=0)\n",
    "        return y_pred\n",
    "    \n",
    "    def _get_oob_predictions_from_every_model(self):\n",
    "        '''\n",
    "        Generates list of lists, where list i contains predictions for self.data[i] object\n",
    "        from all models, which have not seen this object during training phase\n",
    "        '''\n",
    "        list_of_predictions_lists = [[] for _ in range(len(self.data))]\n",
    "        # Your Code Here\n",
    "        for i, data_i in enumerate(self.data):\n",
    "            for idxs, model in zip(self.indices_list, self.models_list):\n",
    "                if i not in idxs:\n",
    "                    list_of_predictions_lists[i].append(float(model.predict(data_i.reshape(1, -1))))\n",
    "\n",
    "        self.list_of_predictions_lists = np.array(list_of_predictions_lists, dtype=object)\n",
    "    \n",
    "    def _get_averaged_oob_predictions(self):\n",
    "        '''\n",
    "        Compute average prediction for every object from training set.\n",
    "        If object has been used in all bags on training phase, return None instead of prediction\n",
    "        '''\n",
    "        self._get_oob_predictions_from_every_model()\n",
    "        self.oob_predictions = np.array([np.mean(di) if len(di)!=0 else np.nan for di in self.list_of_predictions_lists]) # Your Code Here\n",
    "        \n",
    "        \n",
    "    def OOB_score(self):\n",
    "        '''\n",
    "        Compute mean square error for all objects, which have at least one prediction\n",
    "        '''\n",
    "        self._get_averaged_oob_predictions()\n",
    "        return np.nanmean((self.target - self.oob_predictions)**2) # Your Code Here"
   ]
  },
  {
   "cell_type": "code",
   "execution_count": 5,
   "id": "7675f90c",
   "metadata": {},
   "outputs": [
    {
     "data": {
      "text/plain": [
       "array([ 3., nan])"
      ]
     },
     "execution_count": 5,
     "metadata": {},
     "output_type": "execute_result"
    }
   ],
   "source": [
    "x = np.array([3., np.nan])\n",
    "x"
   ]
  },
  {
   "cell_type": "code",
   "execution_count": 21,
   "id": "b432ae5d",
   "metadata": {},
   "outputs": [
    {
     "data": {
      "text/plain": [
       "array([3.])"
      ]
     },
     "execution_count": 21,
     "metadata": {},
     "output_type": "execute_result"
    }
   ],
   "source": [
    "x[~np.isnan(x)]"
   ]
  },
  {
   "cell_type": "code",
   "execution_count": null,
   "id": "6291bbcb",
   "metadata": {},
   "outputs": [],
   "source": []
  },
  {
   "cell_type": "markdown",
   "id": "5cfa174f",
   "metadata": {},
   "source": [
    "### Local tests:"
   ]
  },
  {
   "cell_type": "markdown",
   "id": "b54221c2",
   "metadata": {},
   "source": [
    "#### Simple tests:"
   ]
  },
  {
   "cell_type": "code",
   "execution_count": 3,
   "id": "5a691e77",
   "metadata": {},
   "outputs": [],
   "source": [
    "def count_nans(br):\n",
    "    return np.isnan(br.oob_predictions).sum()"
   ]
  },
  {
   "cell_type": "code",
   "execution_count": 4,
   "id": "84c94a8b",
   "metadata": {},
   "outputs": [
    {
     "data": {
      "application/vnd.jupyter.widget-view+json": {
       "model_id": "c7276d64f59f406cb15aa9f4f980708f",
       "version_major": 2,
       "version_minor": 0
      },
      "text/plain": [
       "  0%|          | 0/100 [00:00<?, ?it/s]"
      ]
     },
     "metadata": {},
     "output_type": "display_data"
    },
    {
     "name": "stdout",
     "output_type": "stream",
     "text": [
      "24\n",
      "17\n",
      "13\n",
      "17\n",
      "20\n",
      "22\n",
      "24\n",
      "19\n",
      "21\n",
      "26\n",
      "25\n",
      "16\n",
      "22\n",
      "18\n",
      "24\n",
      "22\n",
      "15\n",
      "16\n",
      "15\n",
      "18\n",
      "28\n",
      "20\n",
      "18\n",
      "23\n",
      "24\n",
      "21\n",
      "23\n",
      "18\n",
      "17\n",
      "20\n",
      "18\n",
      "24\n",
      "22\n",
      "20\n",
      "24\n",
      "18\n",
      "18\n",
      "18\n",
      "24\n",
      "24\n",
      "21\n",
      "20\n",
      "30\n",
      "24\n",
      "28\n",
      "21\n",
      "22\n",
      "21\n",
      "18\n",
      "17\n",
      "20\n",
      "20\n",
      "25\n",
      "25\n",
      "28\n",
      "17\n",
      "17\n",
      "23\n",
      "19\n",
      "24\n",
      "22\n",
      "23\n",
      "24\n",
      "21\n",
      "22\n",
      "16\n",
      "18\n",
      "29\n",
      "19\n",
      "25\n",
      "19\n",
      "19\n",
      "23\n",
      "23\n",
      "19\n",
      "19\n",
      "26\n",
      "26\n",
      "20\n",
      "16\n",
      "21\n",
      "18\n",
      "22\n",
      "21\n",
      "27\n",
      "27\n",
      "19\n",
      "28\n",
      "19\n",
      "16\n",
      "21\n",
      "20\n",
      "15\n",
      "24\n",
      "21\n",
      "20\n",
      "31\n",
      "22\n",
      "21\n",
      "20\n",
      "Simple tests done!\n"
     ]
    }
   ],
   "source": [
    "for _ in tqdm(range(100)):\n",
    "    X = np.random.randn(2000, 10)\n",
    "    y = np.mean(X, axis=1)\n",
    "    bagging_regressor = SimplifiedBaggingRegressor(num_bags=10, oob=True)\n",
    "    bagging_regressor.fit(LinearRegression, X, y)\n",
    "    predictions = bagging_regressor.predict(X)\n",
    "    assert (\n",
    "        np.mean((predictions - y) ** 2) < 1e-6\n",
    "    ), \"Linear dependency should be fitted with almost zero error!\"\n",
    "    assert bagging_regressor.oob, \"OOB feature must be turned on\"\n",
    "    oob_score = bagging_regressor.OOB_score()\n",
    "    print(count_nans(bagging_regressor))\n",
    "    assert oob_score < 1e-6, \"OOB error for linear dependency should be also close to zero!\"\n",
    "    assert (\n",
    "        abs(\n",
    "            np.mean(list(map(len, bagging_regressor.list_of_predictions_lists)))\n",
    "            / bagging_regressor.num_bags\n",
    "            - 1 / np.exp(1)\n",
    "        )\n",
    "        < 0.1\n",
    "    ), \"Probability of missing a bag should be close to theoretical value!\"\n",
    "\n",
    "print(\"Simple tests done!\")"
   ]
  },
  {
   "cell_type": "markdown",
   "id": "4be4d037",
   "metadata": {},
   "source": [
    "#### Medium tests"
   ]
  },
  {
   "cell_type": "code",
   "execution_count": 22,
   "id": "0cfd3a21",
   "metadata": {},
   "outputs": [
    {
     "data": {
      "application/vnd.jupyter.widget-view+json": {
       "model_id": "19eff229782f403495649c44db289ebc",
       "version_major": 2,
       "version_minor": 0
      },
      "text/plain": [
       "  0%|          | 0/10 [00:00<?, ?it/s]"
      ]
     },
     "metadata": {},
     "output_type": "display_data"
    },
    {
     "name": "stdout",
     "output_type": "stream",
     "text": [
      "0\n",
      "0\n",
      "0\n",
      "0\n",
      "0\n",
      "0\n",
      "0\n",
      "0\n",
      "0\n",
      "0\n",
      "Medium tests done!\n"
     ]
    }
   ],
   "source": [
    "for _ in tqdm(range(10)):\n",
    "    X = np.random.randn(200, 150)\n",
    "    y = np.random.randn(len(X))\n",
    "    bagging_regressor = SimplifiedBaggingRegressor(num_bags=20, oob=True)\n",
    "    bagging_regressor.fit(LinearRegression, X, y)\n",
    "    predictions = bagging_regressor.predict(X)\n",
    "    average_train_error = np.mean((predictions - y) ** 2)\n",
    "    assert bagging_regressor.oob, \"OOB feature must be turned on\"\n",
    "    oob_score = bagging_regressor.OOB_score()\n",
    "    print(count_nans(bagging_regressor))\n",
    "    assert (\n",
    "        oob_score > average_train_error\n",
    "    ), \"OOB error must be higher than train error due to overfitting!\"\n",
    "    assert (\n",
    "        abs(\n",
    "            np.mean(list(map(len, bagging_regressor.list_of_predictions_lists)))\n",
    "            / bagging_regressor.num_bags\n",
    "            - 1 / np.exp(1)\n",
    "        )\n",
    "        < 0.1\n",
    "    ), \"Probability of missing a bag should be close to theoretical value!\"\n",
    "\n",
    "print(\"Medium tests done!\")"
   ]
  },
  {
   "cell_type": "markdown",
   "id": "725818ff",
   "metadata": {},
   "source": [
    "#### Complex tests:"
   ]
  },
  {
   "cell_type": "code",
   "execution_count": 23,
   "id": "8f929d6b",
   "metadata": {},
   "outputs": [
    {
     "data": {
      "application/vnd.jupyter.widget-view+json": {
       "model_id": "f4e2e7eff0c143a8841845da8fcd8958",
       "version_major": 2,
       "version_minor": 0
      },
      "text/plain": [
       "  0%|          | 0/10 [00:00<?, ?it/s]"
      ]
     },
     "metadata": {},
     "output_type": "display_data"
    },
    {
     "name": "stdout",
     "output_type": "stream",
     "text": [
      "Complex tests done!\n"
     ]
    }
   ],
   "source": [
    "for _ in tqdm(range(10)):\n",
    "    X = np.random.randn(2000, 15)\n",
    "    y = np.random.randn(len(X))\n",
    "    bagging_regressor = SimplifiedBaggingRegressor(num_bags=100, oob=True)\n",
    "    bagging_regressor.fit(LinearRegression, X, y)\n",
    "    predictions = bagging_regressor.predict(X)\n",
    "    oob_score = bagging_regressor.OOB_score()\n",
    "    assert (\n",
    "        abs(\n",
    "            np.mean(list(map(len, bagging_regressor.list_of_predictions_lists)))\n",
    "            / bagging_regressor.num_bags\n",
    "            - 1 / np.exp(1)\n",
    "        )\n",
    "        < 1e-2\n",
    "    ), \"Probability of missing a bag should be close to theoretical value!\"\n",
    "\n",
    "print(\"Complex tests done!\")"
   ]
  },
  {
   "cell_type": "code",
   "execution_count": 24,
   "id": "af170ef8",
   "metadata": {},
   "outputs": [
    {
     "data": {
      "text/plain": [
       "0.0008955588285576299"
      ]
     },
     "execution_count": 24,
     "metadata": {},
     "output_type": "execute_result"
    }
   ],
   "source": [
    "np.mean(\n",
    "    list(map(len, bagging_regressor.list_of_predictions_lists))\n",
    ") / bagging_regressor.num_bags - 1 / np.exp(1)"
   ]
  },
  {
   "cell_type": "markdown",
   "id": "9535cb6d",
   "metadata": {},
   "source": [
    "Great job! Please, save `SimplifiedBaggingRegressor` to  `bagging.py` and submit your solution to the grading system!"
   ]
  }
 ],
 "metadata": {
  "kernelspec": {
   "display_name": "base",
   "language": "python",
   "name": "python3"
  },
  "language_info": {
   "codemirror_mode": {
    "name": "ipython",
    "version": 3
   },
   "file_extension": ".py",
   "mimetype": "text/x-python",
   "name": "python",
   "nbconvert_exporter": "python",
   "pygments_lexer": "ipython3",
   "version": "3.11.4"
  }
 },
 "nbformat": 4,
 "nbformat_minor": 5
}
