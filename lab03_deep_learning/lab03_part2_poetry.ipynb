{
 "cells": [
  {
   "cell_type": "markdown",
   "metadata": {},
   "source": [
    "### Part 2: Poetry generation (for real)\n",
    "\n",
    "Let's try to generate some poetry using RNNs. \n",
    "\n",
    "You have several choices here: \n",
    "\n",
    "* The Shakespeare sonnets, file `sonnets.txt` available in the notebook directory.\n",
    "\n",
    "* Роман в стихах \"Евгений Онегин\" Александра Сергеевича Пушкина. В предобработанном виде доступен по [ссылке](https://github.com/attatrol/data_sources/blob/master/onegin.txt).\n",
    "\n",
    "* Some other text source, if it will be approved by the course staff.\n",
    "\n",
    "Text generation can be designed in several steps:\n",
    "    \n",
    "1. Data loading.\n",
    "2. Dictionary generation.\n",
    "3. Data preprocessing.\n",
    "4. Model (neural network) training.\n",
    "5. Text generation (model evaluation).\n"
   ]
  },
  {
   "cell_type": "code",
   "execution_count": 1,
   "metadata": {},
   "outputs": [],
   "source": [
    "import string\n",
    "import os"
   ]
  },
  {
   "cell_type": "markdown",
   "metadata": {},
   "source": [
    "### Data loading: Shakespeare"
   ]
  },
  {
   "cell_type": "markdown",
   "metadata": {},
   "source": [
    "Shakespeare sonnets are awailable at this [link](http://www.gutenberg.org/ebooks/1041?msg=welcome_stranger). In addition, they are stored in the same directory as this notebook (`sonnetes.txt`). Simple preprocessing is already done for you in the next cell: all technical info is dropped."
   ]
  },
  {
   "cell_type": "code",
   "execution_count": 2,
   "metadata": {
    "collapsed": true
   },
   "outputs": [],
   "source": [
    "if not os.path.exists('sonnets.txt'):\n",
    "    !wget https://raw.githubusercontent.com/girafe-ai/ml-course/22f_basic/homeworks_basic/lab02_deep_learning/sonnets.txt\n",
    "\n",
    "with open('sonnets.txt', 'r') as iofile:\n",
    "    text = iofile.readlines()\n",
    "    \n",
    "TEXT_START = 45\n",
    "TEXT_END = -368\n",
    "text = text[TEXT_START : TEXT_END]\n",
    "assert len(text) == 2616"
   ]
  },
  {
   "cell_type": "markdown",
   "metadata": {},
   "source": [
    "In opposite to the in-class practice, this time we want to predict complex text. Let's reduce the complexity of the task and lowercase all the symbols.\n",
    "\n",
    "Now variable `text` is a list of strings. Join all the strings into one and lowercase it."
   ]
  },
  {
   "cell_type": "code",
   "execution_count": 3,
   "metadata": {},
   "outputs": [
    {
     "name": "stdout",
     "output_type": "stream",
     "text": [
      "OK!\n"
     ]
    }
   ],
   "source": [
    "# Join all the strings into one and lowercase it\n",
    "# Put result into variable text.\n",
    "\n",
    "# Your great code here\n",
    "\n",
    "text = ''.join([s.lower() for s in text])\n",
    "\n",
    "assert len(text) == 100225, 'Are you sure you have concatenated all the strings?'\n",
    "assert not any([x in set(text) for x in string.ascii_uppercase]), 'Uppercase letters are present'\n",
    "print('OK!')"
   ]
  },
  {
   "cell_type": "markdown",
   "metadata": {},
   "source": [
    "### Preprocess data"
   ]
  },
  {
   "cell_type": "markdown",
   "metadata": {},
   "source": [
    "Create dictionary `token_to_idx = {<char>: <index>}` and dictionary `idx_to_token = {<index>: <char>}`"
   ]
  },
  {
   "cell_type": "code",
   "execution_count": 4,
   "metadata": {
    "collapsed": true
   },
   "outputs": [],
   "source": [
    "# dict <index>:<char>\n",
    "# Your great code here\n",
    "\n",
    "# dict <char>:<index>\n",
    "# Your great code here"
   ]
  },
  {
   "cell_type": "code",
   "execution_count": 5,
   "metadata": {},
   "outputs": [
    {
     "data": {
      "text/plain": [
       "'cuda'"
      ]
     },
     "execution_count": 5,
     "metadata": {},
     "output_type": "execute_result"
    }
   ],
   "source": [
    "import numpy as np\n",
    "import matplotlib.pyplot as plt\n",
    "import torch\n",
    "\n",
    "device = 'cuda' if torch.cuda.is_available() else 'cpu'\n",
    "device"
   ]
  },
  {
   "cell_type": "code",
   "execution_count": 6,
   "metadata": {},
   "outputs": [
    {
     "data": {
      "text/plain": [
       "39"
      ]
     },
     "execution_count": 6,
     "metadata": {},
     "output_type": "execute_result"
    }
   ],
   "source": [
    "tokens = sorted(set(text))\n",
    "tokens.append('_')\n",
    "num_tokens = len(tokens)\n",
    "num_tokens"
   ]
  },
  {
   "cell_type": "code",
   "execution_count": 7,
   "metadata": {},
   "outputs": [],
   "source": [
    "token_to_idx = {tokens[i]: i for i in range(len(tokens))}\n",
    "idx_to_token = {b: a for a,b in token_to_idx.items()}"
   ]
  },
  {
   "cell_type": "code",
   "execution_count": 8,
   "metadata": {},
   "outputs": [
    {
     "data": {
      "image/png": "[encoded data removed]",
      "text/plain": [
       "<Figure size 640x480 with 1 Axes>"
      ]
     },
     "metadata": {},
     "output_type": "display_data"
    }
   ],
   "source": [
    "sonnets = text.split('\\n\\n')[::2]\n",
    "sonnets.sort(key=lambda x: len(x), reverse=True)\n",
    "lenghts = [len(s) for s in sonnets]\n",
    "\n",
    "sonnets = [s.ljust(max(lenghts), '_') for s in sonnets]\n",
    "\n",
    "_, _, _ = plt.hist(lenghts, bins=30)"
   ]
  },
  {
   "cell_type": "code",
   "execution_count": 10,
   "metadata": {},
   "outputs": [],
   "source": [
    "def one_hot_encode(data_idx, num_tokens):\n",
    "    encoded = np.zeros((len(data_idx), num_tokens))\n",
    "    encoded[np.arange(len(data_idx)), data_idx] = 1.\n",
    "    return encoded"
   ]
  },
  {
   "cell_type": "code",
   "execution_count": 13,
   "metadata": {},
   "outputs": [
    {
     "data": {
      "text/plain": [
       "(torch.Size([154, 708, 39]), torch.float32, device(type='cuda', index=0))"
      ]
     },
     "execution_count": 13,
     "metadata": {},
     "output_type": "execute_result"
    }
   ],
   "source": [
    "sonnets_idx = [one_hot_encode(np.array([token_to_idx[s] for s in sonnet]), num_tokens)[None, :] for sonnet in sonnets]\n",
    "dataset = np.vstack(sonnets_idx)\n",
    "dataset = torch.from_numpy(dataset).to(dtype=torch.float32, device=device)\n",
    "dataset.shape, dataset.dtype, dataset.device"
   ]
  },
  {
   "cell_type": "markdown",
   "metadata": {},
   "source": [
    "*Comment: in this task we have only 38 different tokens, so let's use one-hot encoding.*"
   ]
  },
  {
   "cell_type": "markdown",
   "metadata": {},
   "source": [
    "### Building the model"
   ]
  },
  {
   "cell_type": "markdown",
   "metadata": {},
   "source": [
    "Now we want to build and train recurrent neural net which would be able to something similar to Shakespeare's poetry.\n",
    "\n",
    "Let's use vanilla RNN, similar to the one created during the lesson."
   ]
  },
  {
   "cell_type": "code",
   "execution_count": 32,
   "metadata": {
    "collapsed": true
   },
   "outputs": [],
   "source": [
    "# Your code here\n",
    "from torch import nn\n",
    "from torch.nn import functional as F\n",
    "from torch.optim import Adam"
   ]
  },
  {
   "cell_type": "code",
   "execution_count": 50,
   "metadata": {},
   "outputs": [],
   "source": [
    "class dumbRNN(nn.Module):\n",
    "    def __init__(self, num_tokens, hidden_size) -> None:\n",
    "        super(self.__class__,self).__init__()\n",
    "        #self.emb = I won't use nn.Embedding since there are only 38 unique tokens here (-> stick to one hot encode as suggested)\n",
    "        self.hidden_size = hidden_size\n",
    "        self.rnn = nn.RNN(num_tokens, hidden_size, batch_first=True)\n",
    "        self.hid_to_logits = nn.Linear(in_features=hidden_size, out_features=num_tokens)\n",
    "\n",
    "    def forward(self, x):\n",
    "        h_t, h_next = self.rnn(x)\n",
    "        logits_all = self.hid_to_logits(h_t)\n",
    "        return logits_all"
   ]
  },
  {
   "cell_type": "code",
   "execution_count": 51,
   "metadata": {},
   "outputs": [
    {
     "data": {
      "text/plain": [
       "dumbRNN(\n",
       "  (rnn): RNN(39, 64, batch_first=True)\n",
       "  (hid_to_logits): Linear(in_features=64, out_features=39, bias=True)\n",
       ")"
      ]
     },
     "execution_count": 51,
     "metadata": {},
     "output_type": "execute_result"
    }
   ],
   "source": [
    "model = dumbRNN(num_tokens=num_tokens, hidden_size=64).to(device=device)\n",
    "opt = Adam(params=model.parameters(), lr=1e-3)\n",
    "loss_func = nn.CrossEntropyLoss(ignore_index=token_to_idx['_'])\n",
    "history = []\n",
    "\n",
    "model"
   ]
  },
  {
   "cell_type": "code",
   "execution_count": 52,
   "metadata": {},
   "outputs": [],
   "source": [
    "import matplotlib.pyplot as plt\n",
    "from IPython.display import clear_output"
   ]
  },
  {
   "cell_type": "code",
   "execution_count": 53,
   "metadata": {},
   "outputs": [
    {
     "data": {
      "image/png": "[encoded data removed]",
      "text/plain": [
       "<Figure size 640x480 with 1 Axes>"
      ]
     },
     "metadata": {},
     "output_type": "display_data"
    }
   ],
   "source": [
    "num_epochs = 5000\n",
    "\n",
    "ep = []\n",
    "for i in range(num_epochs):\n",
    "    logits_pred = model(dataset)\n",
    "\n",
    "    logits_next = logits_pred[:, :-1]\n",
    "    actual_next_tokens = dataset[:, 1:].cpu().numpy()\n",
    "    actual_next_tokens = torch.from_numpy((actual_next_tokens * np.arange(num_tokens)).sum(axis=-1)).to(dtype=torch.int64, device=device)\n",
    "                                    \n",
    "    loss = loss_func(logits_next.reshape(-1, num_tokens), actual_next_tokens.reshape(-1))\n",
    "    loss.backward()\n",
    "    \n",
    "    opt.step()\n",
    "    opt.zero_grad()\n",
    "\n",
    "    if (i+1)%10==0:\n",
    "        ep.append(i)\n",
    "        history.append(loss.cpu().data.numpy())\n",
    "        clear_output(True)\n",
    "        plt.plot(ep, history, color='blue')\n",
    "        plt.xlabel('epoch')\n",
    "        plt.ylabel('loss')\n",
    "        plt.show()"
   ]
  },
  {
   "cell_type": "markdown",
   "metadata": {},
   "source": [
    "Plot the loss function (axis X: number of epochs, axis Y: loss function)."
   ]
  },
  {
   "cell_type": "code",
   "execution_count": 54,
   "metadata": {
    "collapsed": true
   },
   "outputs": [],
   "source": [
    "# Your plot code here\n",
    "\n",
    "# It is above"
   ]
  },
  {
   "cell_type": "code",
   "execution_count": 192,
   "metadata": {},
   "outputs": [],
   "source": [
    "def generate_sample(rnn, seed_phrase='hello ', max_length=10, temperature=1.0, mode='rnn'):\n",
    "\n",
    "    model = rnn.to(device='cpu')\n",
    "    \n",
    "    seed_phrase_idx = [token_to_idx[s] for s in seed_phrase]\n",
    "    x_sequence = one_hot_encode(seed_phrase_idx, num_tokens)\n",
    "    x_sequence = torch.from_numpy(x_sequence).to(dtype=torch.float32)\n",
    "    \n",
    "    h_t, h_next = model.rnn(x_sequence)\n",
    "\n",
    "    for _ in range(max_length - len(seed_phrase_idx)):\n",
    "        h_t, h_next = model.rnn(x_sequence, h_next) # DONT USE h_next ?!\n",
    "        if mode=='rnn':\n",
    "            logits = model.hid_to_logits(h_next)\n",
    "        elif mode=='lstm':\n",
    "            logits = model.hid_to_logits(h_next[0])\n",
    "        p_next = F.softmax(logits / temperature, dim=-1).data.numpy()[0]\n",
    "        \n",
    "        next_ix = [np.random.choice(num_tokens, p=p_next)]\n",
    "        next_ix = torch.from_numpy(one_hot_encode(next_ix, num_tokens=num_tokens)).to(dtype=torch.float32)\n",
    "\n",
    "        x_sequence = torch.cat([x_sequence, next_ix], dim=0)\n",
    "\n",
    "    generated = (x_sequence*torch.arange(x_sequence.shape[-1])).sum(dim=1).numpy()\n",
    "    generated = [idx_to_token[i] for i in generated]\n",
    "\n",
    "    return ''.join(generated)"
   ]
  },
  {
   "cell_type": "code",
   "execution_count": 56,
   "metadata": {},
   "outputs": [
    {
     "name": "stdout",
     "output_type": "stream",
     "text": [
      "hello trow,\n",
      "  then thee he cair's soobs blace will dy measure\n",
      "  you my berove all muin unkelts'd,\n",
      "  where the like in to gooknes tine;\n",
      "  hanggncaning in and then bagting even thee of tire,\n",
      "    ant thou war becances to jey trow dear'd thee:\n",
      "  for a soply, hoth to that make in titht shall-will:\n",
      "  you seem forthing, i so deedis fixtomnd divis reace.\n",
      "  not should passe the allsed, who drest, do fied fell toms ware,\n",
      "  and not mo them from thy in thee,\n",
      "  and ither so thee as ven. look it thing,\n",
      "  by o\n"
     ]
    }
   ],
   "source": [
    "print(generate_sample(rnn=model, seed_phrase='hello ', temperature=1., max_length=500, mode='rnn'))"
   ]
  },
  {
   "cell_type": "markdown",
   "metadata": {},
   "source": [
    "**Looks very weird with a dumb model**"
   ]
  },
  {
   "cell_type": "markdown",
   "metadata": {},
   "source": [
    "### More poetic model\n",
    "\n",
    "Let's use LSTM instead of vanilla RNN and compare the results."
   ]
  },
  {
   "cell_type": "markdown",
   "metadata": {},
   "source": [
    "Plot the loss function of the number of epochs. Does the final loss become better?\n",
    "\n",
    "**A bit better, yeah. Was > 1.5, now < 1.5**"
   ]
  },
  {
   "cell_type": "code",
   "execution_count": 18,
   "metadata": {},
   "outputs": [],
   "source": [
    "from torch import nn\n",
    "from torch.optim import Adam"
   ]
  },
  {
   "cell_type": "code",
   "execution_count": 16,
   "metadata": {
    "collapsed": true
   },
   "outputs": [],
   "source": [
    "# Your beautiful code here\n",
    "\n",
    "class basicLSTM(nn.Module):\n",
    "    def __init__(self, num_tokens, hidden_size) -> None:\n",
    "        super(self.__class__,self).__init__()\n",
    "        #self.emb = I won't use nn.Embedding since there are only 38 unique tokens here (-> stick to one hot encode as suggested)\n",
    "        self.hidden_size = hidden_size\n",
    "        self.rnn = nn.LSTM(num_tokens, hidden_size, batch_first=True)\n",
    "        self.hid_to_logits = nn.Linear(in_features=hidden_size, out_features=num_tokens)\n",
    "\n",
    "    def forward(self, x):\n",
    "        h_t, h_next = self.rnn(x)\n",
    "        logits_all = self.hid_to_logits(h_t)\n",
    "        return logits_all"
   ]
  },
  {
   "cell_type": "code",
   "execution_count": 24,
   "metadata": {},
   "outputs": [
    {
     "data": {
      "text/plain": [
       "basicLSTM(\n",
       "  (rnn): LSTM(39, 64, batch_first=True)\n",
       "  (hid_to_logits): Linear(in_features=64, out_features=39, bias=True)\n",
       ")"
      ]
     },
     "execution_count": 24,
     "metadata": {},
     "output_type": "execute_result"
    }
   ],
   "source": [
    "model = basicLSTM(num_tokens=num_tokens, hidden_size=64).to(device=device)\n",
    "opt = Adam(params=model.parameters(), lr=1e-3)\n",
    "loss_func = nn.CrossEntropyLoss(ignore_index=token_to_idx['_'])\n",
    "history = []\n",
    "\n",
    "model"
   ]
  },
  {
   "cell_type": "code",
   "execution_count": 26,
   "metadata": {},
   "outputs": [
    {
     "data": {
      "text/plain": [
       "(torch.Size([154, 708, 39]), torch.float32, device(type='cuda', index=0))"
      ]
     },
     "execution_count": 26,
     "metadata": {},
     "output_type": "execute_result"
    }
   ],
   "source": [
    "dataset.shape, dataset.dtype, dataset.device"
   ]
  },
  {
   "cell_type": "code",
   "execution_count": 27,
   "metadata": {},
   "outputs": [
    {
     "data": {
      "text/plain": [
       "torch.Size([154, 708, 39])"
      ]
     },
     "execution_count": 27,
     "metadata": {},
     "output_type": "execute_result"
    }
   ],
   "source": [
    "model(dataset).shape"
   ]
  },
  {
   "cell_type": "code",
   "execution_count": 61,
   "metadata": {},
   "outputs": [
    {
     "data": {
      "image/png": "[encoded data removed]",
      "text/plain": [
       "<Figure size 640x480 with 1 Axes>"
      ]
     },
     "metadata": {},
     "output_type": "display_data"
    }
   ],
   "source": [
    "num_epochs = 5000\n",
    "\n",
    "ep = []\n",
    "for i in range(num_epochs):\n",
    "    logits_pred = model(dataset)\n",
    "\n",
    "    logits_next = logits_pred[:, :-1]\n",
    "    actual_next_tokens = dataset[:, 1:].cpu().numpy()\n",
    "    actual_next_tokens = torch.from_numpy((actual_next_tokens * np.arange(num_tokens)).sum(axis=-1)).to(dtype=torch.int64, device=device)\n",
    "                                    \n",
    "    loss = loss_func(logits_next.reshape(-1, num_tokens), actual_next_tokens.reshape(-1))\n",
    "    loss.backward()\n",
    "    \n",
    "    opt.step()\n",
    "    opt.zero_grad()\n",
    "\n",
    "    if (i+1)%10==0:\n",
    "        ep.append(i)\n",
    "        history.append(loss.cpu().data.numpy())\n",
    "        clear_output(True)\n",
    "        plt.plot(ep, history, color='blue')\n",
    "        plt.xlabel('epoch')\n",
    "        plt.ylabel('loss')\n",
    "        plt.show()"
   ]
  },
  {
   "cell_type": "markdown",
   "metadata": {},
   "source": [
    "Generate text using the trained net with different `temperature` parameter: `[0.1, 0.2, 0.5, 1.0, 2.0]`.\n",
    "\n",
    "Evaluate the results visually, try to interpret them."
   ]
  },
  {
   "cell_type": "code",
   "execution_count": 47,
   "metadata": {
    "collapsed": true
   },
   "outputs": [],
   "source": [
    "# Text generation with different temperature values here"
   ]
  },
  {
   "cell_type": "markdown",
   "metadata": {},
   "source": [
    "**T=0.1**"
   ]
  },
  {
   "cell_type": "code",
   "execution_count": 62,
   "metadata": {},
   "outputs": [
    {
     "name": "stdout",
     "output_type": "stream",
     "text": [
      "hello kness of heart,\n",
      "  and the self all the world of the worth thee,\n",
      "    and the self the worth the stends of the me,\n",
      "  the world of the theer shall the strange,\n",
      "  the world the stare with the worth the strangly spends,\n",
      "  they change the stends of the worth the strange,\n",
      "  the self i am the world of the strange,\n",
      "  the self i am all the world do not so,\n",
      "    and the world with the world of the worth thee,\n",
      "    and the beauty with the world of thee,\n",
      "  and the self the their shall the stain,\n",
      "    and \n"
     ]
    }
   ],
   "source": [
    "print(generate_sample(rnn=model, seed_phrase='hello ', temperature=0.1, max_length=500, mode='lstm'))"
   ]
  },
  {
   "cell_type": "markdown",
   "metadata": {},
   "source": [
    "**T=0.2**"
   ]
  },
  {
   "cell_type": "code",
   "execution_count": 63,
   "metadata": {},
   "outputs": [
    {
     "name": "stdout",
     "output_type": "stream",
     "text": [
      "hello kness of theerir,\n",
      "  or and the strange the self more to me me,\n",
      "    and the world that the true love to thee,\n",
      "  and the more that i love the stenk to shen,\n",
      "    the self i as the see doth distross,\n",
      "  and the self in the summer's love thee,\n",
      "    the surment the worth the worth the store,\n",
      "  and thee the sweet so love the worth thee,\n",
      "    the self the self the more to my strange,\n",
      "  and the truth in the world with the stare so due,\n",
      "  and that the world of the some shall be thee,\n",
      "    the self i am \n"
     ]
    }
   ],
   "source": [
    "print(generate_sample(rnn=model, seed_phrase='hello ', temperature=0.2, max_length=500, mode='lstm'))"
   ]
  },
  {
   "cell_type": "markdown",
   "metadata": {},
   "source": [
    "**T=0.5**"
   ]
  },
  {
   "cell_type": "code",
   "execution_count": 64,
   "metadata": {},
   "outputs": [
    {
     "name": "stdout",
     "output_type": "stream",
     "text": [
      "hello st steet,\n",
      "  and some is thy same then the me that with thee,\n",
      "  when i and his with then whose subsing care,\n",
      "  and piel' all the the have shall be is fair,\n",
      "    to fair have sweet i world of the stend\n",
      "  which in the worth beauty all the me,\n",
      "  so loss hath worths more there as thy me's,\n",
      "  that the see the see one substieve thee,\n",
      "    and see the theer my love the warth to thee.\n",
      "    yet thee to purpain thee world so read you not,\n",
      "  on thines make the sun thee will of thee so;\n",
      "  when the seem an\n"
     ]
    }
   ],
   "source": [
    "print(generate_sample(rnn=model, seed_phrase='hello ', temperature=0.5, max_length=500, mode='lstm'))"
   ]
  },
  {
   "cell_type": "markdown",
   "metadata": {},
   "source": [
    "**T=1**"
   ]
  },
  {
   "cell_type": "code",
   "execution_count": 65,
   "metadata": {},
   "outputs": [
    {
     "name": "stdout",
     "output_type": "stream",
     "text": [
      "hello doin attaint the cay poor, sqofecter not brign suncels foul severy,\n",
      "  as for this beauty tose wounk all tho neave:\n",
      "  anting thou breast me, thou wared ploss?\n",
      "  and trust all take a, hote i lote in tiew\n",
      "  for thnsharing sharthing mathon have in right,\n",
      "  ot to the kink, ald heate that clacks ot,\n",
      "  wherefore wretting returing cocroad,\n",
      "  the givet withies make fill amoking me:\n",
      "  those live therers worling itair have them.\n",
      "    as the that for shame him a saym'd not place:\n",
      "    sore, nor iffut co\n"
     ]
    }
   ],
   "source": [
    "print(generate_sample(rnn=model, seed_phrase='hello ', temperature=1., max_length=500, mode='lstm'))"
   ]
  },
  {
   "cell_type": "markdown",
   "metadata": {},
   "source": [
    "**T=2**"
   ]
  },
  {
   "cell_type": "code",
   "execution_count": 66,
   "metadata": {},
   "outputs": [
    {
     "name": "stdout",
     "output_type": "stream",
     "text": [
      "hello engise!\n",
      "  no,,\n",
      "  aflsharing eshopct'r's of'th rwinc\n",
      " , disuary oncfiler's weil knay'st:_h\n",
      "  my, jmes (tchugh: \n",
      " earist; offnive he lot.\n",
      "  iver-roo werelvhnoice's frook;\n",
      "  dy raautuak wamght, jout(trife,\n",
      "  sum mykanklest sce mokisb pryenso, nudg',\n",
      "  to eves timbix at evid my fliem\n",
      "  ;u butted, pumpst noth' cast no progiln,\n",
      "  witct gived,' gy shettr'sr cuble porrow'd faves do;\n",
      "  khn lostle hopom'r, xic de'st impret;\n",
      "  floul onn sowons; beaids's dic'eces fer trias:\n",
      "  ujekinc otheal sweet acir\n"
     ]
    }
   ],
   "source": [
    "print(generate_sample(rnn=model, seed_phrase='hello ', temperature=2., max_length=500, mode='lstm'))"
   ]
  },
  {
   "cell_type": "markdown",
   "metadata": {},
   "source": [
    "**My answer: the higher the temperature the closer probability ditribution over the DICT to uniform. Basically there is not point in generation with very high temperature since 1) you generate garbage; 2) its makes no sense to train some model to generate tokens from a uniform distribution (we have to learn the real distribution)**"
   ]
  },
  {
   "cell_type": "markdown",
   "metadata": {},
   "source": [
    "### Saving and loading models"
   ]
  },
  {
   "cell_type": "markdown",
   "metadata": {},
   "source": [
    "Save the model to the disk, then load it and generate text. Examples are available [here](https://pytorch.org/tutorials/beginner/saving_loading_models.html])."
   ]
  },
  {
   "cell_type": "code",
   "execution_count": 342,
   "metadata": {},
   "outputs": [
    {
     "data": {
      "text/plain": [
       "dict_keys(['state', 'param_groups'])"
      ]
     },
     "execution_count": 342,
     "metadata": {},
     "output_type": "execute_result"
    }
   ],
   "source": [
    "opt.state_dict().keys()"
   ]
  },
  {
   "cell_type": "code",
   "execution_count": 343,
   "metadata": {
    "collapsed": true
   },
   "outputs": [],
   "source": [
    "# Saving and loading code here\n",
    "\n",
    "def save_checkpoint(model, optimizer, epoch, loss, filename='./checkpoint.pt'):\n",
    "    torch.save(\n",
    "        {\n",
    "            'epoch': epoch,\n",
    "            'loss': loss,\n",
    "            'model_state_dict': model.state_dict(),\n",
    "            'optimizer_state_dict': optimizer.state_dict(),\n",
    "        },\n",
    "        filename,\n",
    "    )\n",
    "\n",
    "def load_checkpoint(model, optimizer, path_to_checkpoint='./checkpoint.pt', le=True):\n",
    "    checkpoint = torch.load(path_to_checkpoint)\n",
    "    model.load_state_dict(checkpoint['model_state_dict'])\n",
    "    if optimizer!=None:\n",
    "        optimizer.load_state_dict(checkpoint['optimizer_state_dict'])\n",
    "    if le:\n",
    "        epoch = checkpoint['epoch']\n",
    "        loss = checkpoint['loss']\n",
    "        return epoch, loss"
   ]
  },
  {
   "cell_type": "code",
   "execution_count": 345,
   "metadata": {},
   "outputs": [],
   "source": [
    "save_checkpoint(model, opt, i, history[-1])"
   ]
  },
  {
   "cell_type": "code",
   "execution_count": 346,
   "metadata": {},
   "outputs": [
    {
     "data": {
      "text/plain": [
       "(1999, array(0.02124331, dtype=float32))"
      ]
     },
     "execution_count": 346,
     "metadata": {},
     "output_type": "execute_result"
    }
   ],
   "source": [
    "model_from_checkpoint = basicLSTM().to(device=device)\n",
    "load_checkpoint(model_from_checkpoint, optimizer=None)"
   ]
  },
  {
   "cell_type": "code",
   "execution_count": 348,
   "metadata": {},
   "outputs": [
    {
     "data": {
      "text/plain": [
       "betterLSTM(\n",
       "  (emb): Embedding(3063, 1024)\n",
       "  (rnn): LSTM(1024, 128, batch_first=True)\n",
       "  (hid_to_logits): Linear(in_features=128, out_features=3063, bias=True)\n",
       ")"
      ]
     },
     "execution_count": 348,
     "metadata": {},
     "output_type": "execute_result"
    }
   ],
   "source": [
    "model_from_checkpoint"
   ]
  },
  {
   "cell_type": "markdown",
   "metadata": {},
   "source": [
    "**Comment:** Ofc I should've use `<sos>` and `<eos>` tokens, but here I generated poems of constant length, so I think it is ok"
   ]
  },
  {
   "cell_type": "markdown",
   "metadata": {},
   "source": [
    "### References\n",
    "1. <a href='http://karpathy.github.io/2015/05/21/rnn-effectiveness/'> Andrew Karpathy blog post about RNN. </a> \n",
    "There are several examples of genration: Shakespeare texts, Latex formulas, Linux Sourse Code and children names.\n",
    "2. <a href='https://github.com/karpathy/char-rnn'> Repo with char-rnn code </a>\n",
    "3. Cool repo with PyTorch examples: [link](https://github.com/spro/practical-pytorch`)"
   ]
  }
 ],
 "metadata": {
  "anaconda-cloud": {},
  "kernelspec": {
   "display_name": "Python 3",
   "language": "python",
   "name": "python3"
  },
  "language_info": {
   "codemirror_mode": {
    "name": "ipython",
    "version": 3
   },
   "file_extension": ".py",
   "mimetype": "text/x-python",
   "name": "python",
   "nbconvert_exporter": "python",
   "pygments_lexer": "ipython3",
   "version": "3.11.4"
  }
 },
 "nbformat": 4,
 "nbformat_minor": 2
}
