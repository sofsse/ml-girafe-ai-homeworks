{
 "cells": [
  {
   "cell_type": "markdown",
   "metadata": {
    "colab_type": "text",
    "id": "NFmOh482SyEF"
   },
   "source": [
    "## Lab 3\n",
    "### Part 1: Dealing with overfitting"
   ]
  },
  {
   "cell_type": "markdown",
   "metadata": {
    "colab_type": "text",
    "id": "AjzAuO3oSvsI"
   },
   "source": [
    "Today we work with [Fashion-MNIST dataset](https://github.com/zalandoresearch/fashion-mnist) (*hint: it is available in `torchvision`*).\n",
    "\n",
    "Your goal for today:\n",
    "1. Train a FC (fully-connected) network that achieves >= 0.885 test accuracy.\n",
    "2. Cause considerable overfitting by modifying the network (e.g. increasing the number of network parameters and/or layers) and demonstrate in in the appropriate way (e.g. plot loss and accurasy on train and validation set w.r.t. network complexity).\n",
    "3. Try to deal with overfitting (at least partially) by using regularization techniques (Dropout/Batchnorm/...) and demonstrate the results.\n",
    "\n",
    "__Please, write a small report describing your ideas, tries and achieved results in the end of this file.__\n",
    "\n",
    "*Note*: Tasks 2 and 3 are interrelated, in task 3 your goal is to make the network from task 2 less prone to overfitting. Task 1 is independent from 2 and 3.\n",
    "\n",
    "*Note 2*: We recomment to use Google Colab or other machine with GPU acceleration."
   ]
  },
  {
   "cell_type": "code",
   "execution_count": 1,
   "metadata": {
    "colab": {},
    "colab_type": "code",
    "id": "_KBld6VOSwhW"
   },
   "outputs": [],
   "source": [
    "import torch\n",
    "import torch.nn as nn\n",
    "import torchvision\n",
    "import torchvision.transforms as transforms\n",
    "import torchsummary\n",
    "from IPython.display import clear_output\n",
    "from matplotlib import pyplot as plt\n",
    "from matplotlib.pyplot import figure\n",
    "import numpy as np\n",
    "import os\n",
    "\n",
    "\n",
    "device = \"cuda:0\" if torch.cuda.is_available() else \"cpu\""
   ]
  },
  {
   "cell_type": "code",
   "execution_count": 2,
   "metadata": {
    "colab": {
     "base_uri": "https://localhost:8080/",
     "height": 35
    },
    "colab_type": "code",
    "id": "EdLOG0XqS_g5",
    "outputId": "1a58887c-24fc-4315-bb85-bdc88f4f485e"
   },
   "outputs": [
    {
     "name": "stdout",
     "output_type": "stream",
     "text": [
      "Directory fmnist already exists!\n"
     ]
    }
   ],
   "source": [
    "# Technical function\n",
    "def mkdir(path):\n",
    "    if not os.path.exists(root_path):\n",
    "        os.mkdir(root_path)\n",
    "        print(\"Directory\", path, \"is created!\")\n",
    "    else:\n",
    "        print(\"Directory\", path, \"already exists!\")\n",
    "\n",
    "\n",
    "root_path = \"fmnist\"\n",
    "mkdir(root_path)"
   ]
  },
  {
   "cell_type": "code",
   "execution_count": 110,
   "metadata": {
    "colab": {
     "base_uri": "https://localhost:8080/",
     "height": 397,
     "referenced_widgets": [
      "a00cbbf2385c426bb848399f3c13b70f",
      "4c7a7ac1286649c4804fefd359a1be74",
      "9faad8d0c45746ab8e06e120bb3ec0b6",
      "590134f878a74adb98fd129816fde03c",
      "92685fe1840a4555a6962c006ea90c23",
      "aa0dc032d1644bad8e741cf1696d9a70",
      "4296a7e9ab704f019451001dd12c4f46",
      "29b0a8c468e6410fb390b903559d6ef5",
      "fb66cde27d0849bba4947c024e198f7f",
      "bebcff464bfc44ffa82e311a39cae7d7",
      "b9d32ac7b88c4f4e900b160f05c016a3",
      "b2f66cc8930240a5b74d5480377496ed",
      "c1d770aa9eb34e4d942967c507f94009",
      "f280e146d6c54fb59f8ce36f2d1cc6a3",
      "9761d073bcef4c15ad64b01d7bef3561",
      "56418812bda04e7293dd8839018ae839",
      "e6efdf93b1444984810dd32d506227d5",
      "583e6f0878e04a0bbebf5d80d9d712dc",
      "0078023356f142bdbe4e13a42df460fb",
      "01658e0aebd84db9912ea456bd1ad030",
      "54a1be4ee00c44a0b72192135f62fa16",
      "df2e6c22b8af4a2e95bdd85fb48290a6",
      "835f930bb1504982aa56c835dc7b7df7",
      "30540b2b63064d828fd8502fd6d08877",
      "e734818e32a54c71b6397ef84b35bf07",
      "029f1768c5734beab39a592b44f75a9d",
      "bf33fa62bd4546bdbe142239f472fbb3",
      "ca04c2ebb96f48109ef440c260aa125a",
      "26a1b39d42ee490b8732f0e3856c9114",
      "545f1e0393b64b1b94710674213f4af8",
      "181b94c37c72459ca284267bc7675469",
      "748c2a2536394a50aab12eef92442fcb"
     ]
    },
    "colab_type": "code",
    "id": "qt6LE7XaTDT9",
    "outputId": "ab967f1e-8bf2-4199-cbd7-75806359ee1b"
   },
   "outputs": [],
   "source": [
    "download = True\n",
    "train_transform = transforms.ToTensor()\n",
    "test_transform = transforms.ToTensor()\n",
    "transforms.Compose((transforms.ToTensor()))\n",
    "\n",
    "\n",
    "fmnist_dataset_train = torchvision.datasets.FashionMNIST(\n",
    "    root_path, train=True, transform=train_transform, target_transform=None, download=download\n",
    ")\n",
    "fmnist_dataset_test = torchvision.datasets.FashionMNIST(\n",
    "    root_path, train=False, transform=test_transform, target_transform=None, download=download\n",
    ")"
   ]
  },
  {
   "cell_type": "code",
   "execution_count": 111,
   "metadata": {
    "colab": {},
    "colab_type": "code",
    "id": "71YP0SPwTIxD"
   },
   "outputs": [],
   "source": [
    "train_loader = torch.utils.data.DataLoader(\n",
    "    fmnist_dataset_train, batch_size=128, shuffle=True, num_workers=2\n",
    ")\n",
    "test_loader = torch.utils.data.DataLoader(\n",
    "    fmnist_dataset_test, batch_size=256, shuffle=False, num_workers=2\n",
    ")"
   ]
  },
  {
   "cell_type": "code",
   "execution_count": 112,
   "metadata": {
    "colab": {
     "base_uri": "https://localhost:8080/",
     "height": 35
    },
    "colab_type": "code",
    "id": "v_YFmF7NTWrQ",
    "outputId": "6b517f52-5fc5-482e-cc8e-cd6b3f1b72f1"
   },
   "outputs": [
    {
     "data": {
      "text/plain": [
       "(60000, 10000)"
      ]
     },
     "execution_count": 112,
     "metadata": {},
     "output_type": "execute_result"
    }
   ],
   "source": [
    "len(fmnist_dataset_train), len(fmnist_dataset_test)"
   ]
  },
  {
   "cell_type": "code",
   "execution_count": 6,
   "metadata": {
    "colab": {
     "base_uri": "https://localhost:8080/",
     "height": 71
    },
    "colab_type": "code",
    "id": "aHca15bOTY4B",
    "outputId": "7eb477ef-816d-418c-f5c3-ade63d4cf915"
   },
   "outputs": [
    {
     "name": "stdout",
     "output_type": "stream",
     "text": [
      "torch.Size([128, 1, 28, 28])\n",
      "torch.Size([128])\n",
      "128\n"
     ]
    }
   ],
   "source": [
    "for img, label in train_loader:\n",
    "    print(img.shape)\n",
    "    #     print(img)\n",
    "    print(label.shape)\n",
    "    print(label.size(0))\n",
    "    break"
   ]
  },
  {
   "cell_type": "code",
   "execution_count": 7,
   "metadata": {},
   "outputs": [],
   "source": [
    "import matplotlib.pyplot as plt"
   ]
  },
  {
   "cell_type": "code",
   "execution_count": 8,
   "metadata": {},
   "outputs": [
    {
     "data": {
      "text/plain": [
       "torch.Size([28, 28])"
      ]
     },
     "execution_count": 8,
     "metadata": {},
     "output_type": "execute_result"
    }
   ],
   "source": [
    "img = img.reshape(128, 28, 28)\n",
    "img.sum(axis=0).shape"
   ]
  },
  {
   "cell_type": "code",
   "execution_count": 9,
   "metadata": {},
   "outputs": [
    {
     "data": {
      "text/plain": [
       "<matplotlib.image.AxesImage at 0x27738ea2610>"
      ]
     },
     "execution_count": 9,
     "metadata": {},
     "output_type": "execute_result"
    },
    {
     "data": {
      "image/png": "[encoded data removed]",
      "text/plain": [
       "<Figure size 640x480 with 1 Axes>"
      ]
     },
     "metadata": {},
     "output_type": "display_data"
    }
   ],
   "source": [
    "plt.imshow(X=img[3].reshape(28, 28),)"
   ]
  },
  {
   "cell_type": "markdown",
   "metadata": {
    "colab_type": "text",
    "id": "b6OOOffHTfX5"
   },
   "source": [
    "### Task 1\n",
    "Train a network that achieves $\\geq 0.885$ test accuracy. It's fine to use only Linear (`nn.Linear`) layers and activations/dropout/batchnorm. Convolutional layers might be a great use, but we will meet them a bit later."
   ]
  },
  {
   "cell_type": "code",
   "execution_count": 10,
   "metadata": {
    "colab": {},
    "colab_type": "code",
    "id": "ftpkTjxlTcFx"
   },
   "outputs": [],
   "source": [
    "class TinyNeuralNetwork(nn.Module):\n",
    "    def __init__(self, input_shape=28*28, num_classes=10, input_channels=1):\n",
    "        super(self.__class__, self).__init__()\n",
    "        self.model = nn.Sequential(\n",
    "            nn.Flatten(), # This layer converts image into a vector to use Linear layers afterwards\n",
    "            # Your network structure comes here\n",
    "            #nn.Linear(input_shape, num_classes)\n",
    "            nn.Linear(input_shape, 20*20),\n",
    "            nn.BatchNorm1d(num_features=20*20),\n",
    "            nn.LeakyReLU(),\n",
    "            nn.Linear(20*20, num_classes),\n",
    "        )\n",
    "        \n",
    "    def forward(self, inp):       \n",
    "        return self.model(inp)\n",
    "        out =  self.model(inp)"
   ]
  },
  {
   "cell_type": "code",
   "execution_count": 11,
   "metadata": {},
   "outputs": [
    {
     "name": "stdout",
     "output_type": "stream",
     "text": [
      "----------------------------------------------------------------\n",
      "        Layer (type)               Output Shape         Param #\n",
      "================================================================\n",
      "           Flatten-1                  [-1, 784]               0\n",
      "            Linear-2                  [-1, 400]         314,000\n",
      "       BatchNorm1d-3                  [-1, 400]             800\n",
      "         LeakyReLU-4                  [-1, 400]               0\n",
      "            Linear-5                   [-1, 10]           4,010\n",
      "================================================================\n",
      "Total params: 318,810\n",
      "Trainable params: 318,810\n",
      "Non-trainable params: 0\n",
      "----------------------------------------------------------------\n",
      "Input size (MB): 0.00\n",
      "Forward/backward pass size (MB): 0.02\n",
      "Params size (MB): 1.22\n",
      "Estimated Total Size (MB): 1.23\n",
      "----------------------------------------------------------------\n"
     ]
    }
   ],
   "source": [
    "torchsummary.summary(TinyNeuralNetwork().to(device), (28 * 28,))"
   ]
  },
  {
   "cell_type": "markdown",
   "metadata": {
    "colab_type": "text",
    "id": "544PGKEnjPr5"
   },
   "source": [
    "Your experiments come here:"
   ]
  },
  {
   "cell_type": "code",
   "execution_count": 24,
   "metadata": {},
   "outputs": [],
   "source": [
    "from torch.optim import Adam"
   ]
  },
  {
   "cell_type": "code",
   "execution_count": 25,
   "metadata": {
    "colab": {
     "base_uri": "https://localhost:8080/",
     "height": 607
    },
    "colab_type": "code",
    "id": "i3POFj90Ti-6",
    "outputId": "82e7e921-541b-4657-f78d-563de48b07c7"
   },
   "outputs": [],
   "source": [
    "model = TinyNeuralNetwork().to(device)\n",
    "opt = Adam(params=model.parameters(), lr=1e-4,) #eps=1e-8, betas=(0.9, 0.999), weight_decay=0.99) # YOUR CODE HERE\n",
    "loss_func = nn.CrossEntropyLoss()\n",
    "\n",
    "# Your experiments, training and validation loops here"
   ]
  },
  {
   "cell_type": "code",
   "execution_count": 26,
   "metadata": {},
   "outputs": [],
   "source": [
    "import time"
   ]
  },
  {
   "cell_type": "code",
   "execution_count": 28,
   "metadata": {},
   "outputs": [],
   "source": [
    "def train_model(model, train_loader, val_loader, loss_fn, opt, n_epochs: int, chname: str):\n",
    "    train_loss = []\n",
    "    train_accuracy = []\n",
    "    val_loss = []\n",
    "    val_accuracy = []\n",
    "    \n",
    "    best_ep = 0\n",
    "    best_acc = 0\n",
    "    for epoch in range(n_epochs):\n",
    "        ep_train_loss = []\n",
    "        ep_val_loss = []\n",
    "        ep_train_accuracy = []\n",
    "        ep_val_accuracy = []\n",
    "        start_time = time.time()\n",
    "\n",
    "        model.train(True) # enable dropout / batch_norm training behavior\n",
    "        for X_batch, y_batch in train_loader:\n",
    "            # move data to target device\n",
    "            ### YOUR CODE HERE\n",
    "            X_batch = X_batch.to(device, torch.float32)\n",
    "            y_batch = y_batch.to(device, torch.long)\n",
    "            X_batch.requires_grad = True\n",
    "            #y_batch.requires_grad = True\n",
    "\n",
    "            # train on batch: compute loss, calc grads, perform optimizer step and zero the grads\n",
    "            ### YOUR CODE HERE\n",
    "            model.zero_grad()\n",
    "\n",
    "            predictions = model(X_batch)\n",
    "            loss = loss_fn.forward(input=predictions, target=y_batch)\n",
    "            loss.backward()\n",
    "            opt.step()\n",
    "\n",
    "            ep_train_loss.append(loss.item())\n",
    "            y_pred = predictions.max(axis=-1).indices ### YOUR CODE HERE\n",
    "            accuracy = (y_pred == y_batch).detach().cpu().numpy().mean()\n",
    "            ep_train_accuracy.append(accuracy)\n",
    "\n",
    "        model.train(False) # disable dropout / use averages for batch_norm\n",
    "        with torch.no_grad():\n",
    "            # validation set\n",
    "            for X_batch, y_batch in val_loader:\n",
    "                # move data to target device\n",
    "                ### YOUR CODE HERE\n",
    "                X_batch = X_batch.to(device, torch.float32)\n",
    "                y_batch = y_batch.to(device, torch.long)\n",
    "                # compute predictions\n",
    "                ### YOUR CODE HERE\n",
    "                predictions_val = model(X_batch)\n",
    "                ep_val_loss.append(loss_fn(input=predictions_val, target=y_batch).item())\n",
    "                y_pred = predictions_val.max(axis=-1).indices ### YOUR CODE HERE\n",
    "                accuracy = (y_pred == y_batch).detach().cpu().numpy().mean()\n",
    "                ep_val_accuracy.append(accuracy)\n",
    "\n",
    "        # print the results for this epoch:\n",
    "        print(f'Epoch {epoch + 1} of {n_epochs} took {time.time() - start_time:.3f}s')\n",
    "\n",
    "        train_loss.append(np.mean(ep_train_loss))\n",
    "        val_loss.append(np.mean(ep_val_loss))\n",
    "        val_accuracy.append(np.mean(ep_val_accuracy))\n",
    "        train_accuracy.append(np.mean(ep_train_accuracy))\n",
    "\n",
    "        new = val_accuracy[-1]\n",
    "        if new > best_acc:\n",
    "            best_acc = new\n",
    "            best_ep = epoch\n",
    "            torch.save(\n",
    "                obj={\n",
    "                    'epoch': epoch,\n",
    "                    'loss': loss,\n",
    "                    'model_state_dict': model.state_dict(),\n",
    "                    'optimizer_state_dict': opt.state_dict(),\n",
    "                },\n",
    "                f=chname,\n",
    "            )\n",
    "        \n",
    "        print(f\"\\t  training loss: {train_loss[-1]:.6f}\")\n",
    "        print(f\"\\tvalidation loss: {val_loss[-1]:.6f}\")\n",
    "        print(f\"\\t     train accuracy: {train_accuracy[-1]:.3f}\")\n",
    "        print(f\"\\tvalidation accuracy: {val_accuracy[-1]:.3f}\")\n",
    "\n",
    "    return train_loss, train_accuracy, val_loss, val_accuracy, best_ep"
   ]
  },
  {
   "cell_type": "code",
   "execution_count": 29,
   "metadata": {},
   "outputs": [
    {
     "name": "stdout",
     "output_type": "stream",
     "text": [
      "Epoch 1 of 20 took 13.876s\n",
      "\t  training loss: 0.625952\n",
      "\tvalidation loss: 0.474099\n",
      "\t     train accuracy: 0.801\n",
      "\tvalidation accuracy: 0.835\n",
      "Epoch 2 of 20 took 12.044s\n",
      "\t  training loss: 0.410406\n",
      "\tvalidation loss: 0.414338\n",
      "\t     train accuracy: 0.861\n",
      "\tvalidation accuracy: 0.856\n",
      "Epoch 3 of 20 took 13.171s\n",
      "\t  training loss: 0.364530\n",
      "\tvalidation loss: 0.378342\n",
      "\t     train accuracy: 0.874\n",
      "\tvalidation accuracy: 0.866\n",
      "Epoch 4 of 20 took 13.240s\n",
      "\t  training loss: 0.334468\n",
      "\tvalidation loss: 0.365000\n",
      "\t     train accuracy: 0.884\n",
      "\tvalidation accuracy: 0.873\n",
      "Epoch 5 of 20 took 14.274s\n",
      "\t  training loss: 0.312455\n",
      "\tvalidation loss: 0.363450\n",
      "\t     train accuracy: 0.891\n",
      "\tvalidation accuracy: 0.868\n",
      "Epoch 6 of 20 took 14.226s\n",
      "\t  training loss: 0.293778\n",
      "\tvalidation loss: 0.348031\n",
      "\t     train accuracy: 0.897\n",
      "\tvalidation accuracy: 0.873\n",
      "Epoch 7 of 20 took 13.019s\n",
      "\t  training loss: 0.278379\n",
      "\tvalidation loss: 0.386806\n",
      "\t     train accuracy: 0.902\n",
      "\tvalidation accuracy: 0.862\n",
      "Epoch 8 of 20 took 12.324s\n",
      "\t  training loss: 0.264545\n",
      "\tvalidation loss: 0.328601\n",
      "\t     train accuracy: 0.908\n",
      "\tvalidation accuracy: 0.884\n",
      "Epoch 9 of 20 took 12.325s\n",
      "\t  training loss: 0.251409\n",
      "\tvalidation loss: 0.323124\n",
      "\t     train accuracy: 0.913\n",
      "\tvalidation accuracy: 0.884\n",
      "Epoch 10 of 20 took 12.682s\n",
      "\t  training loss: 0.239924\n",
      "\tvalidation loss: 0.331513\n",
      "\t     train accuracy: 0.916\n",
      "\tvalidation accuracy: 0.882\n",
      "Epoch 11 of 20 took 12.398s\n",
      "\t  training loss: 0.228735\n",
      "\tvalidation loss: 0.331936\n",
      "\t     train accuracy: 0.921\n",
      "\tvalidation accuracy: 0.880\n",
      "Epoch 12 of 20 took 12.734s\n",
      "\t  training loss: 0.217578\n",
      "\tvalidation loss: 0.318468\n",
      "\t     train accuracy: 0.925\n",
      "\tvalidation accuracy: 0.887\n",
      "Epoch 13 of 20 took 13.372s\n",
      "\t  training loss: 0.209644\n",
      "\tvalidation loss: 0.330943\n",
      "\t     train accuracy: 0.928\n",
      "\tvalidation accuracy: 0.882\n",
      "Epoch 14 of 20 took 12.344s\n",
      "\t  training loss: 0.201397\n",
      "\tvalidation loss: 0.345752\n",
      "\t     train accuracy: 0.931\n",
      "\tvalidation accuracy: 0.875\n",
      "Epoch 15 of 20 took 12.501s\n",
      "\t  training loss: 0.192250\n",
      "\tvalidation loss: 0.309790\n",
      "\t     train accuracy: 0.934\n",
      "\tvalidation accuracy: 0.890\n",
      "Epoch 16 of 20 took 12.426s\n",
      "\t  training loss: 0.185050\n",
      "\tvalidation loss: 0.322787\n",
      "\t     train accuracy: 0.938\n",
      "\tvalidation accuracy: 0.884\n",
      "Epoch 17 of 20 took 12.280s\n",
      "\t  training loss: 0.177329\n",
      "\tvalidation loss: 0.304744\n",
      "\t     train accuracy: 0.941\n",
      "\tvalidation accuracy: 0.896\n",
      "Epoch 18 of 20 took 12.430s\n",
      "\t  training loss: 0.168942\n",
      "\tvalidation loss: 0.322192\n",
      "\t     train accuracy: 0.943\n",
      "\tvalidation accuracy: 0.887\n",
      "Epoch 19 of 20 took 13.839s\n",
      "\t  training loss: 0.163079\n",
      "\tvalidation loss: 0.307934\n",
      "\t     train accuracy: 0.946\n",
      "\tvalidation accuracy: 0.892\n",
      "Epoch 20 of 20 took 13.855s\n",
      "\t  training loss: 0.156632\n",
      "\tvalidation loss: 0.311371\n",
      "\t     train accuracy: 0.948\n",
      "\tvalidation accuracy: 0.893\n"
     ]
    }
   ],
   "source": [
    "n_epochs = 20\n",
    "\n",
    "train_loss, train_accuracy, val_loss, val_accuracy, best_ep = train_model(model, train_loader, test_loader, loss_func, opt, n_epochs, chname='checkpoint_tiny.pth')"
   ]
  },
  {
   "cell_type": "code",
   "execution_count": 51,
   "metadata": {},
   "outputs": [],
   "source": [
    "def plot_train_process(train_loss, val_loss, train_accuracy, val_accuracy, best_ep):\n",
    "    fig, axes = plt.subplots(1, 2, figsize=(15, 5))\n",
    "\n",
    "    axes[0].set_title('Loss')\n",
    "    axes[0].plot(train_loss, label='train')\n",
    "    axes[0].plot(val_loss, label='validation')\n",
    "    axes[0].legend()\n",
    "\n",
    "    axes[1].set_title('Accuracy')\n",
    "    axes[1].plot(train_accuracy, label='train')\n",
    "    axes[1].plot(val_accuracy, label='validation')\n",
    "    axes[1].axvline(x=best_ep, color='green', label='best model')\n",
    "    axes[1].legend()\n",
    "\n",
    "    print(f'Best model on {best_ep} epoch')\n",
    "    print(f'Validation accuracy {val_accuracy[best_ep]:0.3f}')\n",
    "    print(f'Train accuracy {train_accuracy[best_ep]:0.3f}')"
   ]
  },
  {
   "cell_type": "code",
   "execution_count": 52,
   "metadata": {},
   "outputs": [
    {
     "name": "stdout",
     "output_type": "stream",
     "text": [
      "Best model on 16 epoch\n",
      "Validation accuracy 0.896\n",
      "Train accuracy 0.941\n"
     ]
    },
    {
     "data": {
      "image/png": "[encoded data removed]",
      "text/plain": [
       "<Figure size 1500x500 with 2 Axes>"
      ]
     },
     "metadata": {},
     "output_type": "display_data"
    }
   ],
   "source": [
    "plot_train_process(train_loss, val_loss, train_accuracy, val_accuracy, best_ep)"
   ]
  },
  {
   "cell_type": "markdown",
   "metadata": {},
   "source": [
    "The best model was trained on 16-th epoch and achieved accuracy of $0.896 > 0.885$ on validation set (mnist_test in my case)"
   ]
  },
  {
   "cell_type": "markdown",
   "metadata": {
    "colab_type": "text",
    "id": "L7ISqkjmCPB1"
   },
   "source": [
    "### Task 2: Overfit it.\n",
    "Build a network that will overfit to this dataset. Demonstrate the overfitting in the appropriate way (e.g. plot loss and accurasy on train and test set w.r.t. network complexity).\n",
    "\n",
    "*Note:* you also might decrease the size of `train` dataset to enforce the overfitting and speed up the computations."
   ]
  },
  {
   "cell_type": "code",
   "execution_count": 239,
   "metadata": {
    "colab": {},
    "colab_type": "code",
    "id": "H12uAWiGBwJx"
   },
   "outputs": [],
   "source": [
    "class OverfittingNeuralNetwork(nn.Module):\n",
    "    def __init__(self, input_shape=28*28, num_classes=10, input_channels=1):\n",
    "        super(self.__class__, self).__init__()\n",
    "        self.model = nn.Sequential(\n",
    "            nn.Flatten(), # This layer converts image into a vector to use Linear layers afterwards\n",
    "            # Your network structure comes here\n",
    "            nn.Linear(input_shape, 80*80),\n",
    "            nn.LeakyReLU(),\n",
    "            nn.Linear(80*80, 80*80),\n",
    "            nn.LeakyReLU(),\n",
    "            nn.Linear(80*80, 80*80),\n",
    "            nn.LeakyReLU(),\n",
    "            nn.Linear(80*80, num_classes),\n",
    "        )\n",
    "        \n",
    "    def forward(self, inp):  \n",
    "        return self.model(inp)     "
   ]
  },
  {
   "cell_type": "code",
   "execution_count": 240,
   "metadata": {
    "colab": {
     "base_uri": "https://localhost:8080/",
     "height": 449
    },
    "colab_type": "code",
    "id": "JgXAKCpvCwqH",
    "outputId": "8d29ad18-3f0c-4161-8bcd-004d24ba771c"
   },
   "outputs": [
    {
     "name": "stdout",
     "output_type": "stream",
     "text": [
      "----------------------------------------------------------------\n",
      "        Layer (type)               Output Shape         Param #\n",
      "================================================================\n",
      "           Flatten-1                  [-1, 784]               0\n",
      "            Linear-2                 [-1, 6400]       5,024,000\n",
      "         LeakyReLU-3                 [-1, 6400]               0\n",
      "            Linear-4                 [-1, 6400]      40,966,400\n",
      "         LeakyReLU-5                 [-1, 6400]               0\n",
      "            Linear-6                 [-1, 6400]      40,966,400\n",
      "         LeakyReLU-7                 [-1, 6400]               0\n",
      "            Linear-8                   [-1, 10]          64,010\n",
      "================================================================\n",
      "Total params: 87,020,810\n",
      "Trainable params: 87,020,810\n",
      "Non-trainable params: 0\n",
      "----------------------------------------------------------------\n",
      "Input size (MB): 0.00\n",
      "Forward/backward pass size (MB): 0.30\n",
      "Params size (MB): 331.96\n",
      "Estimated Total Size (MB): 332.26\n",
      "----------------------------------------------------------------\n"
     ]
    }
   ],
   "source": [
    "torchsummary.summary(OverfittingNeuralNetwork().to(device), (28 * 28,))"
   ]
  },
  {
   "cell_type": "markdown",
   "metadata": {},
   "source": [
    "**I just added many \"tall\" layers for to enforce overfitting**"
   ]
  },
  {
   "cell_type": "code",
   "execution_count": 241,
   "metadata": {},
   "outputs": [],
   "source": [
    "try:\n",
    "    del model\n",
    "except:\n",
    "    pass\n",
    "\n",
    "model = OverfittingNeuralNetwork().to(device)\n",
    "opt = Adam(params=model.parameters(), lr=1e-4,) #eps=1e-8, betas=(0.9, 0.999), weight_decay=0.99) # YOUR CODE HERE\n",
    "loss_func = nn.CrossEntropyLoss()\n",
    "\n",
    "# Your experiments, come here"
   ]
  },
  {
   "cell_type": "markdown",
   "metadata": {},
   "source": [
    "I will shrink train set size to 1000 data points and keep validation dataset the same"
   ]
  },
  {
   "cell_type": "code",
   "execution_count": 242,
   "metadata": {},
   "outputs": [
    {
     "data": {
      "text/plain": [
       "(torch.Size([500, 28, 28]), torch.Size([500]))"
      ]
     },
     "execution_count": 242,
     "metadata": {},
     "output_type": "execute_result"
    }
   ],
   "source": [
    "fmnist_dataset_train.data.shape, fmnist_dataset_train.targets.shape"
   ]
  },
  {
   "cell_type": "code",
   "execution_count": 243,
   "metadata": {},
   "outputs": [],
   "source": [
    "N = 500\n",
    "if fmnist_dataset_train.data.shape[0] > N:\n",
    "    fmnist_dataset_train.data = fmnist_dataset_train.data[:N]\n",
    "    fmnist_dataset_train.targets = fmnist_dataset_train.targets[:N]"
   ]
  },
  {
   "cell_type": "code",
   "execution_count": 244,
   "metadata": {},
   "outputs": [],
   "source": [
    "train_loader_small = torch.utils.data.DataLoader(\n",
    "    fmnist_dataset_train, batch_size=128, shuffle=True, num_workers=2\n",
    ")"
   ]
  },
  {
   "cell_type": "code",
   "execution_count": 245,
   "metadata": {},
   "outputs": [
    {
     "data": {
      "text/plain": [
       "Text(0.5, 0, 'class label')"
      ]
     },
     "execution_count": 245,
     "metadata": {},
     "output_type": "execute_result"
    },
    {
     "data": {
      "image/png": "[encoded data removed]",
      "text/plain": [
       "<Figure size 640x480 with 1 Axes>"
      ]
     },
     "metadata": {},
     "output_type": "display_data"
    }
   ],
   "source": [
    "# just checking if our small subset if a representitive training set\n",
    "labels_small = fmnist_dataset_train.targets.clone().detach().numpy()\n",
    "a,b,c=plt.hist(labels_small, bins=range(0, 10))\n",
    "\n",
    "plt.ylabel('num of data points')\n",
    "plt.xlabel('class label')\n",
    "\n",
    "# all classes are in the subset, so it is kinda OK (but look at the last class... there is one thing that can help us to overfit the model)"
   ]
  },
  {
   "cell_type": "code",
   "execution_count": 246,
   "metadata": {},
   "outputs": [
    {
     "name": "stdout",
     "output_type": "stream",
     "text": [
      "Epoch 1 of 35 took 18.730s\n",
      "\t  training loss: 2.137739\n",
      "\tvalidation loss: 1.727414\n",
      "\t     train accuracy: 0.282\n",
      "\tvalidation accuracy: 0.608\n",
      "Epoch 2 of 35 took 17.124s\n",
      "\t  training loss: 1.417020\n",
      "\tvalidation loss: 1.039184\n",
      "\t     train accuracy: 0.687\n",
      "\tvalidation accuracy: 0.660\n",
      "Epoch 3 of 35 took 17.804s\n",
      "\t  training loss: 0.905033\n",
      "\tvalidation loss: 0.918976\n",
      "\t     train accuracy: 0.722\n",
      "\tvalidation accuracy: 0.697\n",
      "Epoch 4 of 35 took 17.653s\n",
      "\t  training loss: 0.778772\n",
      "\tvalidation loss: 0.867820\n",
      "\t     train accuracy: 0.739\n",
      "\tvalidation accuracy: 0.682\n",
      "Epoch 5 of 35 took 18.258s\n",
      "\t  training loss: 0.654593\n",
      "\tvalidation loss: 0.841030\n",
      "\t     train accuracy: 0.772\n",
      "\tvalidation accuracy: 0.700\n",
      "Epoch 6 of 35 took 18.821s\n",
      "\t  training loss: 0.581479\n",
      "\tvalidation loss: 0.757186\n",
      "\t     train accuracy: 0.785\n",
      "\tvalidation accuracy: 0.713\n",
      "Epoch 7 of 35 took 16.798s\n",
      "\t  training loss: 0.493649\n",
      "\tvalidation loss: 0.650646\n",
      "\t     train accuracy: 0.841\n",
      "\tvalidation accuracy: 0.770\n",
      "Epoch 8 of 35 took 16.626s\n",
      "\t  training loss: 0.414899\n",
      "\tvalidation loss: 0.685000\n",
      "\t     train accuracy: 0.864\n",
      "\tvalidation accuracy: 0.766\n",
      "Epoch 9 of 35 took 17.246s\n",
      "\t  training loss: 0.362175\n",
      "\tvalidation loss: 0.675111\n",
      "\t     train accuracy: 0.876\n",
      "\tvalidation accuracy: 0.757\n",
      "Epoch 10 of 35 took 19.363s\n",
      "\t  training loss: 0.310908\n",
      "\tvalidation loss: 0.626818\n",
      "\t     train accuracy: 0.914\n",
      "\tvalidation accuracy: 0.782\n",
      "Epoch 11 of 35 took 17.418s\n",
      "\t  training loss: 0.251982\n",
      "\tvalidation loss: 0.620929\n",
      "\t     train accuracy: 0.924\n",
      "\tvalidation accuracy: 0.792\n",
      "Epoch 12 of 35 took 18.783s\n",
      "\t  training loss: 0.221664\n",
      "\tvalidation loss: 0.665843\n",
      "\t     train accuracy: 0.928\n",
      "\tvalidation accuracy: 0.775\n",
      "Epoch 13 of 35 took 19.145s\n",
      "\t  training loss: 0.201845\n",
      "\tvalidation loss: 0.648052\n",
      "\t     train accuracy: 0.935\n",
      "\tvalidation accuracy: 0.787\n",
      "Epoch 14 of 35 took 18.213s\n",
      "\t  training loss: 0.191816\n",
      "\tvalidation loss: 0.733248\n",
      "\t     train accuracy: 0.936\n",
      "\tvalidation accuracy: 0.773\n",
      "Epoch 15 of 35 took 18.719s\n",
      "\t  training loss: 0.164351\n",
      "\tvalidation loss: 0.652888\n",
      "\t     train accuracy: 0.943\n",
      "\tvalidation accuracy: 0.792\n",
      "Epoch 16 of 35 took 19.564s\n",
      "\t  training loss: 0.121083\n",
      "\tvalidation loss: 0.655180\n",
      "\t     train accuracy: 0.970\n",
      "\tvalidation accuracy: 0.799\n",
      "Epoch 17 of 35 took 17.255s\n",
      "\t  training loss: 0.096640\n",
      "\tvalidation loss: 0.696605\n",
      "\t     train accuracy: 0.980\n",
      "\tvalidation accuracy: 0.797\n",
      "Epoch 18 of 35 took 17.156s\n",
      "\t  training loss: 0.084157\n",
      "\tvalidation loss: 0.750127\n",
      "\t     train accuracy: 0.974\n",
      "\tvalidation accuracy: 0.773\n",
      "Epoch 19 of 35 took 19.259s\n",
      "\t  training loss: 0.072351\n",
      "\tvalidation loss: 0.727938\n",
      "\t     train accuracy: 0.988\n",
      "\tvalidation accuracy: 0.793\n",
      "Epoch 20 of 35 took 18.998s\n",
      "\t  training loss: 0.051624\n",
      "\tvalidation loss: 0.717412\n",
      "\t     train accuracy: 0.994\n",
      "\tvalidation accuracy: 0.799\n",
      "Epoch 21 of 35 took 17.199s\n",
      "\t  training loss: 0.039909\n",
      "\tvalidation loss: 0.765839\n",
      "\t     train accuracy: 1.000\n",
      "\tvalidation accuracy: 0.794\n",
      "Epoch 22 of 35 took 16.347s\n",
      "\t  training loss: 0.033405\n",
      "\tvalidation loss: 0.771730\n",
      "\t     train accuracy: 0.998\n",
      "\tvalidation accuracy: 0.794\n",
      "Epoch 23 of 35 took 17.606s\n",
      "\t  training loss: 0.026459\n",
      "\tvalidation loss: 0.779923\n",
      "\t     train accuracy: 1.000\n",
      "\tvalidation accuracy: 0.795\n",
      "Epoch 24 of 35 took 18.521s\n",
      "\t  training loss: 0.022181\n",
      "\tvalidation loss: 0.813758\n",
      "\t     train accuracy: 1.000\n",
      "\tvalidation accuracy: 0.796\n",
      "Epoch 25 of 35 took 18.715s\n",
      "\t  training loss: 0.017803\n",
      "\tvalidation loss: 0.811368\n",
      "\t     train accuracy: 1.000\n",
      "\tvalidation accuracy: 0.795\n",
      "Epoch 26 of 35 took 16.641s\n",
      "\t  training loss: 0.013241\n",
      "\tvalidation loss: 0.837664\n",
      "\t     train accuracy: 1.000\n",
      "\tvalidation accuracy: 0.800\n",
      "Epoch 27 of 35 took 15.702s\n",
      "\t  training loss: 0.011512\n",
      "\tvalidation loss: 0.847513\n",
      "\t     train accuracy: 1.000\n",
      "\tvalidation accuracy: 0.799\n",
      "Epoch 28 of 35 took 16.915s\n",
      "\t  training loss: 0.009567\n",
      "\tvalidation loss: 0.868284\n",
      "\t     train accuracy: 1.000\n",
      "\tvalidation accuracy: 0.795\n",
      "Epoch 29 of 35 took 19.325s\n",
      "\t  training loss: 0.007793\n",
      "\tvalidation loss: 0.889074\n",
      "\t     train accuracy: 1.000\n",
      "\tvalidation accuracy: 0.800\n",
      "Epoch 30 of 35 took 17.492s\n",
      "\t  training loss: 0.006757\n",
      "\tvalidation loss: 0.887201\n",
      "\t     train accuracy: 1.000\n",
      "\tvalidation accuracy: 0.798\n",
      "Epoch 31 of 35 took 19.035s\n",
      "\t  training loss: 0.005780\n",
      "\tvalidation loss: 0.897148\n",
      "\t     train accuracy: 1.000\n",
      "\tvalidation accuracy: 0.800\n",
      "Epoch 32 of 35 took 17.251s\n",
      "\t  training loss: 0.005096\n",
      "\tvalidation loss: 0.922360\n",
      "\t     train accuracy: 1.000\n",
      "\tvalidation accuracy: 0.799\n",
      "Epoch 33 of 35 took 18.429s\n",
      "\t  training loss: 0.004207\n",
      "\tvalidation loss: 0.935124\n",
      "\t     train accuracy: 1.000\n",
      "\tvalidation accuracy: 0.799\n",
      "Epoch 34 of 35 took 17.746s\n",
      "\t  training loss: 0.003837\n",
      "\tvalidation loss: 0.943535\n",
      "\t     train accuracy: 1.000\n",
      "\tvalidation accuracy: 0.799\n",
      "Epoch 35 of 35 took 16.789s\n",
      "\t  training loss: 0.003446\n",
      "\tvalidation loss: 0.949757\n",
      "\t     train accuracy: 1.000\n",
      "\tvalidation accuracy: 0.800\n"
     ]
    }
   ],
   "source": [
    "n_epochs = 35 # train it a bit longer to overfit\n",
    "\n",
    "train_loss, train_accuracy, val_loss, val_accuracy, best_ep = train_model(model, train_loader_small, test_loader, loss_func, opt, n_epochs, chname='checkpoint_overfitting_1.pth')"
   ]
  },
  {
   "cell_type": "code",
   "execution_count": 248,
   "metadata": {},
   "outputs": [
    {
     "name": "stdout",
     "output_type": "stream",
     "text": [
      "Best model on 25 epoch\n",
      "Validation accuracy 0.800\n",
      "Train accuracy 1.000\n"
     ]
    },
    {
     "data": {
      "image/png": "[encoded data removed]",
      "text/plain": [
       "<Figure size 1500x500 with 2 Axes>"
      ]
     },
     "metadata": {},
     "output_type": "display_data"
    }
   ],
   "source": [
    "plot_train_process(train_loss, val_loss, train_accuracy, val_accuracy, best_ep)"
   ]
  },
  {
   "cell_type": "markdown",
   "metadata": {},
   "source": [
    "As we can see, the validation loss starts growing. That eventually lead to slight overfitting. Since we learn the probabitilties of a class membership, model can have high loss, but nevetheless achieve kinda OK accuracy (not horrendous). That means *model still guesses the right class label, but its decision is really uncertain* (most of the predicted probabilities are close to 50/50). \n",
    "\n",
    "The difference of accuracy on train and test is quite high"
   ]
  },
  {
   "cell_type": "markdown",
   "metadata": {},
   "source": [
    "### Task 3: Fix it.\n",
    "Fix the overfitted network from the previous step (at least partially) by using regularization techniques (Dropout/Batchnorm/...) and demonstrate the results. "
   ]
  },
  {
   "cell_type": "code",
   "execution_count": 252,
   "metadata": {},
   "outputs": [],
   "source": [
    "class FixedNeuralNetwork(nn.Module):\n",
    "    def __init__(self, input_shape=28 * 28, num_classes=10, input_channels=1):\n",
    "        super(self.__class__, self).__init__()\n",
    "        self.model = nn.Sequential(\n",
    "            nn.Flatten(), # This layer converts image into a vector to use Linear layers afterwards\n",
    "            # Your network structure comes here\n",
    "            nn.Linear(input_shape, 80*80),\n",
    "            nn.LeakyReLU(),\n",
    "            nn.Dropout(0.6),\n",
    "            nn.Linear(80*80, 80*80),\n",
    "            nn.LeakyReLU(),\n",
    "            nn.Dropout(0.6),\n",
    "            nn.Linear(80*80, 80*80),\n",
    "            nn.LeakyReLU(),\n",
    "            nn.Dropout(0.6),\n",
    "            nn.Linear(80*80, num_classes),\n",
    "        )\n",
    "\n",
    "    def forward(self, inp):\n",
    "        return self.model(inp)"
   ]
  },
  {
   "cell_type": "markdown",
   "metadata": {},
   "source": [
    "**I just regularized previous model using `nn.Dropout` as it was suggested**"
   ]
  },
  {
   "cell_type": "code",
   "execution_count": 253,
   "metadata": {},
   "outputs": [
    {
     "name": "stdout",
     "output_type": "stream",
     "text": [
      "----------------------------------------------------------------\n",
      "        Layer (type)               Output Shape         Param #\n",
      "================================================================\n",
      "           Flatten-1                  [-1, 784]               0\n",
      "            Linear-2                 [-1, 6400]       5,024,000\n",
      "         LeakyReLU-3                 [-1, 6400]               0\n",
      "           Dropout-4                 [-1, 6400]               0\n",
      "            Linear-5                 [-1, 6400]      40,966,400\n",
      "         LeakyReLU-6                 [-1, 6400]               0\n",
      "           Dropout-7                 [-1, 6400]               0\n",
      "            Linear-8                 [-1, 6400]      40,966,400\n",
      "         LeakyReLU-9                 [-1, 6400]               0\n",
      "          Dropout-10                 [-1, 6400]               0\n",
      "           Linear-11                   [-1, 10]          64,010\n",
      "================================================================\n",
      "Total params: 87,020,810\n",
      "Trainable params: 87,020,810\n",
      "Non-trainable params: 0\n",
      "----------------------------------------------------------------\n",
      "Input size (MB): 0.00\n",
      "Forward/backward pass size (MB): 0.45\n",
      "Params size (MB): 331.96\n",
      "Estimated Total Size (MB): 332.41\n",
      "----------------------------------------------------------------\n"
     ]
    }
   ],
   "source": [
    "torchsummary.summary(FixedNeuralNetwork().to(device), (28 * 28,))"
   ]
  },
  {
   "cell_type": "code",
   "execution_count": 254,
   "metadata": {},
   "outputs": [],
   "source": [
    "model_fixed = FixedNeuralNetwork().to(device)\n",
    "opt_fixed = Adam(params=model_fixed.parameters(), lr=1e-4,) #eps=1e-8, betas=(0.9, 0.999), weight_decay=0.99) # YOUR CODE HERE\n",
    "loss_func = nn.CrossEntropyLoss()\n",
    "\n",
    "# Your experiments, come here"
   ]
  },
  {
   "cell_type": "code",
   "execution_count": 255,
   "metadata": {},
   "outputs": [
    {
     "name": "stdout",
     "output_type": "stream",
     "text": [
      "Epoch 1 of 25 took 19.413s\n",
      "\t  training loss: 2.276704\n",
      "\tvalidation loss: 2.156955\n",
      "\t     train accuracy: 0.126\n",
      "\tvalidation accuracy: 0.320\n",
      "Epoch 2 of 25 took 19.422s\n",
      "\t  training loss: 2.110150\n",
      "\tvalidation loss: 1.923949\n",
      "\t     train accuracy: 0.302\n",
      "\tvalidation accuracy: 0.514\n",
      "Epoch 3 of 25 took 20.333s\n",
      "\t  training loss: 1.849380\n",
      "\tvalidation loss: 1.551901\n",
      "\t     train accuracy: 0.506\n",
      "\tvalidation accuracy: 0.578\n",
      "Epoch 4 of 25 took 18.798s\n",
      "\t  training loss: 1.482668\n",
      "\tvalidation loss: 1.185818\n",
      "\t     train accuracy: 0.576\n",
      "\tvalidation accuracy: 0.642\n",
      "Epoch 5 of 25 took 19.563s\n",
      "\t  training loss: 1.128948\n",
      "\tvalidation loss: 0.976757\n",
      "\t     train accuracy: 0.667\n",
      "\tvalidation accuracy: 0.661\n",
      "Epoch 6 of 25 took 18.771s\n",
      "\t  training loss: 0.977481\n",
      "\tvalidation loss: 0.871134\n",
      "\t     train accuracy: 0.688\n",
      "\tvalidation accuracy: 0.669\n",
      "Epoch 7 of 25 took 18.768s\n",
      "\t  training loss: 0.873128\n",
      "\tvalidation loss: 0.848378\n",
      "\t     train accuracy: 0.698\n",
      "\tvalidation accuracy: 0.684\n",
      "Epoch 8 of 25 took 19.055s\n",
      "\t  training loss: 0.831238\n",
      "\tvalidation loss: 0.819270\n",
      "\t     train accuracy: 0.693\n",
      "\tvalidation accuracy: 0.703\n",
      "Epoch 9 of 25 took 20.027s\n",
      "\t  training loss: 0.822661\n",
      "\tvalidation loss: 0.823323\n",
      "\t     train accuracy: 0.672\n",
      "\tvalidation accuracy: 0.667\n",
      "Epoch 10 of 25 took 19.628s\n",
      "\t  training loss: 0.711023\n",
      "\tvalidation loss: 0.810404\n",
      "\t     train accuracy: 0.741\n",
      "\tvalidation accuracy: 0.691\n",
      "Epoch 11 of 25 took 19.812s\n",
      "\t  training loss: 0.684505\n",
      "\tvalidation loss: 0.756380\n",
      "\t     train accuracy: 0.746\n",
      "\tvalidation accuracy: 0.717\n",
      "Epoch 12 of 25 took 19.149s\n",
      "\t  training loss: 0.656123\n",
      "\tvalidation loss: 0.766464\n",
      "\t     train accuracy: 0.749\n",
      "\tvalidation accuracy: 0.730\n",
      "Epoch 13 of 25 took 18.776s\n",
      "\t  training loss: 0.602550\n",
      "\tvalidation loss: 0.673034\n",
      "\t     train accuracy: 0.803\n",
      "\tvalidation accuracy: 0.755\n",
      "Epoch 14 of 25 took 19.098s\n",
      "\t  training loss: 0.535636\n",
      "\tvalidation loss: 0.670281\n",
      "\t     train accuracy: 0.825\n",
      "\tvalidation accuracy: 0.756\n",
      "Epoch 15 of 25 took 19.876s\n",
      "\t  training loss: 0.504327\n",
      "\tvalidation loss: 0.693358\n",
      "\t     train accuracy: 0.831\n",
      "\tvalidation accuracy: 0.750\n",
      "Epoch 16 of 25 took 19.256s\n",
      "\t  training loss: 0.471242\n",
      "\tvalidation loss: 0.648279\n",
      "\t     train accuracy: 0.839\n",
      "\tvalidation accuracy: 0.768\n",
      "Epoch 17 of 25 took 18.668s\n",
      "\t  training loss: 0.471648\n",
      "\tvalidation loss: 0.638801\n",
      "\t     train accuracy: 0.837\n",
      "\tvalidation accuracy: 0.771\n",
      "Epoch 18 of 25 took 19.323s\n",
      "\t  training loss: 0.374121\n",
      "\tvalidation loss: 0.655785\n",
      "\t     train accuracy: 0.879\n",
      "\tvalidation accuracy: 0.772\n",
      "Epoch 19 of 25 took 20.295s\n",
      "\t  training loss: 0.383720\n",
      "\tvalidation loss: 0.642094\n",
      "\t     train accuracy: 0.872\n",
      "\tvalidation accuracy: 0.772\n",
      "Epoch 20 of 25 took 17.862s\n",
      "\t  training loss: 0.353597\n",
      "\tvalidation loss: 0.628888\n",
      "\t     train accuracy: 0.895\n",
      "\tvalidation accuracy: 0.782\n",
      "Epoch 21 of 25 took 16.787s\n",
      "\t  training loss: 0.355101\n",
      "\tvalidation loss: 0.621049\n",
      "\t     train accuracy: 0.876\n",
      "\tvalidation accuracy: 0.789\n",
      "Epoch 22 of 25 took 16.707s\n",
      "\t  training loss: 0.314925\n",
      "\tvalidation loss: 0.667693\n",
      "\t     train accuracy: 0.903\n",
      "\tvalidation accuracy: 0.776\n",
      "Epoch 23 of 25 took 16.755s\n",
      "\t  training loss: 0.308056\n",
      "\tvalidation loss: 0.627018\n",
      "\t     train accuracy: 0.908\n",
      "\tvalidation accuracy: 0.793\n",
      "Epoch 24 of 25 took 16.624s\n",
      "\t  training loss: 0.265657\n",
      "\tvalidation loss: 0.626055\n",
      "\t     train accuracy: 0.900\n",
      "\tvalidation accuracy: 0.794\n",
      "Epoch 25 of 25 took 17.833s\n",
      "\t  training loss: 0.276867\n",
      "\tvalidation loss: 0.655658\n",
      "\t     train accuracy: 0.900\n",
      "\tvalidation accuracy: 0.790\n"
     ]
    }
   ],
   "source": [
    "n_epochs = 25\n",
    "\n",
    "train_loss, train_accuracy, val_loss, val_accuracy, best_ep = train_model(model_fixed, train_loader_small, test_loader, loss_func, opt_fixed, n_epochs, chname='checkpoint_regularized.pth')"
   ]
  },
  {
   "cell_type": "code",
   "execution_count": 256,
   "metadata": {},
   "outputs": [
    {
     "name": "stdout",
     "output_type": "stream",
     "text": [
      "Best model on 23 epoch\n",
      "Validation accuracy 0.794\n",
      "Train accuracy 0.900\n"
     ]
    },
    {
     "data": {
      "image/png": "[encoded data removed]",
      "text/plain": [
       "<Figure size 1500x500 with 2 Axes>"
      ]
     },
     "metadata": {},
     "output_type": "display_data"
    }
   ],
   "source": [
    "plot_train_process(train_loss, val_loss, train_accuracy, val_accuracy, best_ep)"
   ]
  },
  {
   "cell_type": "markdown",
   "metadata": {},
   "source": [
    "The loss bevahiour is now OK, accuracies are quite close. Model is not overfitted."
   ]
  },
  {
   "cell_type": "markdown",
   "metadata": {
    "colab_type": "text",
    "id": "dMui_uLJ7G0d"
   },
   "source": [
    "### Conclusions:\n",
    "_Write down small report with your conclusions and your ideas._"
   ]
  },
  {
   "cell_type": "markdown",
   "metadata": {},
   "source": [
    "In practice, it seems if u don't know the approximate number of parameters u need to train a decent model without running into overfitting, you should probably either look at some papers with similar datasets/tasks/etc. or try out some certain (presumably better architecture) and then use some regularizations.\n",
    "\n",
    "I would've also tried this idea: compare two models in terms of variance of accuracies on many small subsets. Overfitted model have to have a higher variance. But it is impractical and should be done only for educational reasons. I actually tried it, but I got unnoticeable difference in variance. So, I deleted those cells in this)"
   ]
  }
 ],
 "metadata": {
  "accelerator": "GPU",
  "colab": {
   "collapsed_sections": [],
   "name": "Overfit it.ipynb",
   "provenance": []
  },
  "kernelspec": {
   "display_name": "Python 3",
   "language": "python",
   "name": "python3"
  },
  "language_info": {
   "codemirror_mode": {
    "name": "ipython",
    "version": 3
   },
   "file_extension": ".py",
   "mimetype": "text/x-python",
   "name": "python",
   "nbconvert_exporter": "python",
   "pygments_lexer": "ipython3",
   "version": "3.11.4"
  },
  "widgets": {
   "application/vnd.jupyter.widget-state+json": {
    "0078023356f142bdbe4e13a42df460fb": {
     "model_module": "@jupyter-widgets/controls",
     "model_name": "IntProgressModel",
     "state": {
      "_dom_classes": [],
      "_model_module": "@jupyter-widgets/controls",
      "_model_module_version": "1.5.0",
      "_model_name": "IntProgressModel",
      "_view_count": null,
      "_view_module": "@jupyter-widgets/controls",
      "_view_module_version": "1.5.0",
      "_view_name": "ProgressView",
      "bar_style": "success",
      "description": "",
      "description_tooltip": null,
      "layout": "IPY_MODEL_df2e6c22b8af4a2e95bdd85fb48290a6",
      "max": 1,
      "min": 0,
      "orientation": "horizontal",
      "style": "IPY_MODEL_54a1be4ee00c44a0b72192135f62fa16",
      "value": 1
     }
    },
    "01658e0aebd84db9912ea456bd1ad030": {
     "model_module": "@jupyter-widgets/controls",
     "model_name": "HTMLModel",
     "state": {
      "_dom_classes": [],
      "_model_module": "@jupyter-widgets/controls",
      "_model_module_version": "1.5.0",
      "_model_name": "HTMLModel",
      "_view_count": null,
      "_view_module": "@jupyter-widgets/controls",
      "_view_module_version": "1.5.0",
      "_view_name": "HTMLView",
      "description": "",
      "description_tooltip": null,
      "layout": "IPY_MODEL_30540b2b63064d828fd8502fd6d08877",
      "placeholder": "​",
      "style": "IPY_MODEL_835f930bb1504982aa56c835dc7b7df7",
      "value": "4423680it [00:01, 3086127.05it/s]"
     }
    },
    "029f1768c5734beab39a592b44f75a9d": {
     "model_module": "@jupyter-widgets/base",
     "model_name": "LayoutModel",
     "state": {
      "_model_module": "@jupyter-widgets/base",
      "_model_module_version": "1.2.0",
      "_model_name": "LayoutModel",
      "_view_count": null,
      "_view_module": "@jupyter-widgets/base",
      "_view_module_version": "1.2.0",
      "_view_name": "LayoutView",
      "align_content": null,
      "align_items": null,
      "align_self": null,
      "border": null,
      "bottom": null,
      "display": null,
      "flex": null,
      "flex_flow": null,
      "grid_area": null,
      "grid_auto_columns": null,
      "grid_auto_flow": null,
      "grid_auto_rows": null,
      "grid_column": null,
      "grid_gap": null,
      "grid_row": null,
      "grid_template_areas": null,
      "grid_template_columns": null,
      "grid_template_rows": null,
      "height": null,
      "justify_content": null,
      "justify_items": null,
      "left": null,
      "margin": null,
      "max_height": null,
      "max_width": null,
      "min_height": null,
      "min_width": null,
      "object_fit": null,
      "object_position": null,
      "order": null,
      "overflow": null,
      "overflow_x": null,
      "overflow_y": null,
      "padding": null,
      "right": null,
      "top": null,
      "visibility": null,
      "width": null
     }
    },
    "181b94c37c72459ca284267bc7675469": {
     "model_module": "@jupyter-widgets/controls",
     "model_name": "DescriptionStyleModel",
     "state": {
      "_model_module": "@jupyter-widgets/controls",
      "_model_module_version": "1.5.0",
      "_model_name": "DescriptionStyleModel",
      "_view_count": null,
      "_view_module": "@jupyter-widgets/base",
      "_view_module_version": "1.2.0",
      "_view_name": "StyleView",
      "description_width": ""
     }
    },
    "26a1b39d42ee490b8732f0e3856c9114": {
     "model_module": "@jupyter-widgets/controls",
     "model_name": "ProgressStyleModel",
     "state": {
      "_model_module": "@jupyter-widgets/controls",
      "_model_module_version": "1.5.0",
      "_model_name": "ProgressStyleModel",
      "_view_count": null,
      "_view_module": "@jupyter-widgets/base",
      "_view_module_version": "1.2.0",
      "_view_name": "StyleView",
      "bar_color": null,
      "description_width": ""
     }
    },
    "29b0a8c468e6410fb390b903559d6ef5": {
     "model_module": "@jupyter-widgets/base",
     "model_name": "LayoutModel",
     "state": {
      "_model_module": "@jupyter-widgets/base",
      "_model_module_version": "1.2.0",
      "_model_name": "LayoutModel",
      "_view_count": null,
      "_view_module": "@jupyter-widgets/base",
      "_view_module_version": "1.2.0",
      "_view_name": "LayoutView",
      "align_content": null,
      "align_items": null,
      "align_self": null,
      "border": null,
      "bottom": null,
      "display": null,
      "flex": null,
      "flex_flow": null,
      "grid_area": null,
      "grid_auto_columns": null,
      "grid_auto_flow": null,
      "grid_auto_rows": null,
      "grid_column": null,
      "grid_gap": null,
      "grid_row": null,
      "grid_template_areas": null,
      "grid_template_columns": null,
      "grid_template_rows": null,
      "height": null,
      "justify_content": null,
      "justify_items": null,
      "left": null,
      "margin": null,
      "max_height": null,
      "max_width": null,
      "min_height": null,
      "min_width": null,
      "object_fit": null,
      "object_position": null,
      "order": null,
      "overflow": null,
      "overflow_x": null,
      "overflow_y": null,
      "padding": null,
      "right": null,
      "top": null,
      "visibility": null,
      "width": null
     }
    },
    "30540b2b63064d828fd8502fd6d08877": {
     "model_module": "@jupyter-widgets/base",
     "model_name": "LayoutModel",
     "state": {
      "_model_module": "@jupyter-widgets/base",
      "_model_module_version": "1.2.0",
      "_model_name": "LayoutModel",
      "_view_count": null,
      "_view_module": "@jupyter-widgets/base",
      "_view_module_version": "1.2.0",
      "_view_name": "LayoutView",
      "align_content": null,
      "align_items": null,
      "align_self": null,
      "border": null,
      "bottom": null,
      "display": null,
      "flex": null,
      "flex_flow": null,
      "grid_area": null,
      "grid_auto_columns": null,
      "grid_auto_flow": null,
      "grid_auto_rows": null,
      "grid_column": null,
      "grid_gap": null,
      "grid_row": null,
      "grid_template_areas": null,
      "grid_template_columns": null,
      "grid_template_rows": null,
      "height": null,
      "justify_content": null,
      "justify_items": null,
      "left": null,
      "margin": null,
      "max_height": null,
      "max_width": null,
      "min_height": null,
      "min_width": null,
      "object_fit": null,
      "object_position": null,
      "order": null,
      "overflow": null,
      "overflow_x": null,
      "overflow_y": null,
      "padding": null,
      "right": null,
      "top": null,
      "visibility": null,
      "width": null
     }
    },
    "4296a7e9ab704f019451001dd12c4f46": {
     "model_module": "@jupyter-widgets/controls",
     "model_name": "DescriptionStyleModel",
     "state": {
      "_model_module": "@jupyter-widgets/controls",
      "_model_module_version": "1.5.0",
      "_model_name": "DescriptionStyleModel",
      "_view_count": null,
      "_view_module": "@jupyter-widgets/base",
      "_view_module_version": "1.2.0",
      "_view_name": "StyleView",
      "description_width": ""
     }
    },
    "4c7a7ac1286649c4804fefd359a1be74": {
     "model_module": "@jupyter-widgets/base",
     "model_name": "LayoutModel",
     "state": {
      "_model_module": "@jupyter-widgets/base",
      "_model_module_version": "1.2.0",
      "_model_name": "LayoutModel",
      "_view_count": null,
      "_view_module": "@jupyter-widgets/base",
      "_view_module_version": "1.2.0",
      "_view_name": "LayoutView",
      "align_content": null,
      "align_items": null,
      "align_self": null,
      "border": null,
      "bottom": null,
      "display": null,
      "flex": null,
      "flex_flow": null,
      "grid_area": null,
      "grid_auto_columns": null,
      "grid_auto_flow": null,
      "grid_auto_rows": null,
      "grid_column": null,
      "grid_gap": null,
      "grid_row": null,
      "grid_template_areas": null,
      "grid_template_columns": null,
      "grid_template_rows": null,
      "height": null,
      "justify_content": null,
      "justify_items": null,
      "left": null,
      "margin": null,
      "max_height": null,
      "max_width": null,
      "min_height": null,
      "min_width": null,
      "object_fit": null,
      "object_position": null,
      "order": null,
      "overflow": null,
      "overflow_x": null,
      "overflow_y": null,
      "padding": null,
      "right": null,
      "top": null,
      "visibility": null,
      "width": null
     }
    },
    "545f1e0393b64b1b94710674213f4af8": {
     "model_module": "@jupyter-widgets/base",
     "model_name": "LayoutModel",
     "state": {
      "_model_module": "@jupyter-widgets/base",
      "_model_module_version": "1.2.0",
      "_model_name": "LayoutModel",
      "_view_count": null,
      "_view_module": "@jupyter-widgets/base",
      "_view_module_version": "1.2.0",
      "_view_name": "LayoutView",
      "align_content": null,
      "align_items": null,
      "align_self": null,
      "border": null,
      "bottom": null,
      "display": null,
      "flex": null,
      "flex_flow": null,
      "grid_area": null,
      "grid_auto_columns": null,
      "grid_auto_flow": null,
      "grid_auto_rows": null,
      "grid_column": null,
      "grid_gap": null,
      "grid_row": null,
      "grid_template_areas": null,
      "grid_template_columns": null,
      "grid_template_rows": null,
      "height": null,
      "justify_content": null,
      "justify_items": null,
      "left": null,
      "margin": null,
      "max_height": null,
      "max_width": null,
      "min_height": null,
      "min_width": null,
      "object_fit": null,
      "object_position": null,
      "order": null,
      "overflow": null,
      "overflow_x": null,
      "overflow_y": null,
      "padding": null,
      "right": null,
      "top": null,
      "visibility": null,
      "width": null
     }
    },
    "54a1be4ee00c44a0b72192135f62fa16": {
     "model_module": "@jupyter-widgets/controls",
     "model_name": "ProgressStyleModel",
     "state": {
      "_model_module": "@jupyter-widgets/controls",
      "_model_module_version": "1.5.0",
      "_model_name": "ProgressStyleModel",
      "_view_count": null,
      "_view_module": "@jupyter-widgets/base",
      "_view_module_version": "1.2.0",
      "_view_name": "StyleView",
      "bar_color": null,
      "description_width": ""
     }
    },
    "56418812bda04e7293dd8839018ae839": {
     "model_module": "@jupyter-widgets/base",
     "model_name": "LayoutModel",
     "state": {
      "_model_module": "@jupyter-widgets/base",
      "_model_module_version": "1.2.0",
      "_model_name": "LayoutModel",
      "_view_count": null,
      "_view_module": "@jupyter-widgets/base",
      "_view_module_version": "1.2.0",
      "_view_name": "LayoutView",
      "align_content": null,
      "align_items": null,
      "align_self": null,
      "border": null,
      "bottom": null,
      "display": null,
      "flex": null,
      "flex_flow": null,
      "grid_area": null,
      "grid_auto_columns": null,
      "grid_auto_flow": null,
      "grid_auto_rows": null,
      "grid_column": null,
      "grid_gap": null,
      "grid_row": null,
      "grid_template_areas": null,
      "grid_template_columns": null,
      "grid_template_rows": null,
      "height": null,
      "justify_content": null,
      "justify_items": null,
      "left": null,
      "margin": null,
      "max_height": null,
      "max_width": null,
      "min_height": null,
      "min_width": null,
      "object_fit": null,
      "object_position": null,
      "order": null,
      "overflow": null,
      "overflow_x": null,
      "overflow_y": null,
      "padding": null,
      "right": null,
      "top": null,
      "visibility": null,
      "width": null
     }
    },
    "583e6f0878e04a0bbebf5d80d9d712dc": {
     "model_module": "@jupyter-widgets/base",
     "model_name": "LayoutModel",
     "state": {
      "_model_module": "@jupyter-widgets/base",
      "_model_module_version": "1.2.0",
      "_model_name": "LayoutModel",
      "_view_count": null,
      "_view_module": "@jupyter-widgets/base",
      "_view_module_version": "1.2.0",
      "_view_name": "LayoutView",
      "align_content": null,
      "align_items": null,
      "align_self": null,
      "border": null,
      "bottom": null,
      "display": null,
      "flex": null,
      "flex_flow": null,
      "grid_area": null,
      "grid_auto_columns": null,
      "grid_auto_flow": null,
      "grid_auto_rows": null,
      "grid_column": null,
      "grid_gap": null,
      "grid_row": null,
      "grid_template_areas": null,
      "grid_template_columns": null,
      "grid_template_rows": null,
      "height": null,
      "justify_content": null,
      "justify_items": null,
      "left": null,
      "margin": null,
      "max_height": null,
      "max_width": null,
      "min_height": null,
      "min_width": null,
      "object_fit": null,
      "object_position": null,
      "order": null,
      "overflow": null,
      "overflow_x": null,
      "overflow_y": null,
      "padding": null,
      "right": null,
      "top": null,
      "visibility": null,
      "width": null
     }
    },
    "590134f878a74adb98fd129816fde03c": {
     "model_module": "@jupyter-widgets/controls",
     "model_name": "HTMLModel",
     "state": {
      "_dom_classes": [],
      "_model_module": "@jupyter-widgets/controls",
      "_model_module_version": "1.5.0",
      "_model_name": "HTMLModel",
      "_view_count": null,
      "_view_module": "@jupyter-widgets/controls",
      "_view_module_version": "1.5.0",
      "_view_name": "HTMLView",
      "description": "",
      "description_tooltip": null,
      "layout": "IPY_MODEL_29b0a8c468e6410fb390b903559d6ef5",
      "placeholder": "​",
      "style": "IPY_MODEL_4296a7e9ab704f019451001dd12c4f46",
      "value": "26427392it [00:02, 10150318.78it/s]"
     }
    },
    "748c2a2536394a50aab12eef92442fcb": {
     "model_module": "@jupyter-widgets/base",
     "model_name": "LayoutModel",
     "state": {
      "_model_module": "@jupyter-widgets/base",
      "_model_module_version": "1.2.0",
      "_model_name": "LayoutModel",
      "_view_count": null,
      "_view_module": "@jupyter-widgets/base",
      "_view_module_version": "1.2.0",
      "_view_name": "LayoutView",
      "align_content": null,
      "align_items": null,
      "align_self": null,
      "border": null,
      "bottom": null,
      "display": null,
      "flex": null,
      "flex_flow": null,
      "grid_area": null,
      "grid_auto_columns": null,
      "grid_auto_flow": null,
      "grid_auto_rows": null,
      "grid_column": null,
      "grid_gap": null,
      "grid_row": null,
      "grid_template_areas": null,
      "grid_template_columns": null,
      "grid_template_rows": null,
      "height": null,
      "justify_content": null,
      "justify_items": null,
      "left": null,
      "margin": null,
      "max_height": null,
      "max_width": null,
      "min_height": null,
      "min_width": null,
      "object_fit": null,
      "object_position": null,
      "order": null,
      "overflow": null,
      "overflow_x": null,
      "overflow_y": null,
      "padding": null,
      "right": null,
      "top": null,
      "visibility": null,
      "width": null
     }
    },
    "835f930bb1504982aa56c835dc7b7df7": {
     "model_module": "@jupyter-widgets/controls",
     "model_name": "DescriptionStyleModel",
     "state": {
      "_model_module": "@jupyter-widgets/controls",
      "_model_module_version": "1.5.0",
      "_model_name": "DescriptionStyleModel",
      "_view_count": null,
      "_view_module": "@jupyter-widgets/base",
      "_view_module_version": "1.2.0",
      "_view_name": "StyleView",
      "description_width": ""
     }
    },
    "92685fe1840a4555a6962c006ea90c23": {
     "model_module": "@jupyter-widgets/controls",
     "model_name": "ProgressStyleModel",
     "state": {
      "_model_module": "@jupyter-widgets/controls",
      "_model_module_version": "1.5.0",
      "_model_name": "ProgressStyleModel",
      "_view_count": null,
      "_view_module": "@jupyter-widgets/base",
      "_view_module_version": "1.2.0",
      "_view_name": "StyleView",
      "bar_color": null,
      "description_width": ""
     }
    },
    "9761d073bcef4c15ad64b01d7bef3561": {
     "model_module": "@jupyter-widgets/controls",
     "model_name": "DescriptionStyleModel",
     "state": {
      "_model_module": "@jupyter-widgets/controls",
      "_model_module_version": "1.5.0",
      "_model_name": "DescriptionStyleModel",
      "_view_count": null,
      "_view_module": "@jupyter-widgets/base",
      "_view_module_version": "1.2.0",
      "_view_name": "StyleView",
      "description_width": ""
     }
    },
    "9faad8d0c45746ab8e06e120bb3ec0b6": {
     "model_module": "@jupyter-widgets/controls",
     "model_name": "IntProgressModel",
     "state": {
      "_dom_classes": [],
      "_model_module": "@jupyter-widgets/controls",
      "_model_module_version": "1.5.0",
      "_model_name": "IntProgressModel",
      "_view_count": null,
      "_view_module": "@jupyter-widgets/controls",
      "_view_module_version": "1.5.0",
      "_view_name": "ProgressView",
      "bar_style": "success",
      "description": "",
      "description_tooltip": null,
      "layout": "IPY_MODEL_aa0dc032d1644bad8e741cf1696d9a70",
      "max": 1,
      "min": 0,
      "orientation": "horizontal",
      "style": "IPY_MODEL_92685fe1840a4555a6962c006ea90c23",
      "value": 1
     }
    },
    "a00cbbf2385c426bb848399f3c13b70f": {
     "model_module": "@jupyter-widgets/controls",
     "model_name": "HBoxModel",
     "state": {
      "_dom_classes": [],
      "_model_module": "@jupyter-widgets/controls",
      "_model_module_version": "1.5.0",
      "_model_name": "HBoxModel",
      "_view_count": null,
      "_view_module": "@jupyter-widgets/controls",
      "_view_module_version": "1.5.0",
      "_view_name": "HBoxView",
      "box_style": "",
      "children": [
       "IPY_MODEL_9faad8d0c45746ab8e06e120bb3ec0b6",
       "IPY_MODEL_590134f878a74adb98fd129816fde03c"
      ],
      "layout": "IPY_MODEL_4c7a7ac1286649c4804fefd359a1be74"
     }
    },
    "aa0dc032d1644bad8e741cf1696d9a70": {
     "model_module": "@jupyter-widgets/base",
     "model_name": "LayoutModel",
     "state": {
      "_model_module": "@jupyter-widgets/base",
      "_model_module_version": "1.2.0",
      "_model_name": "LayoutModel",
      "_view_count": null,
      "_view_module": "@jupyter-widgets/base",
      "_view_module_version": "1.2.0",
      "_view_name": "LayoutView",
      "align_content": null,
      "align_items": null,
      "align_self": null,
      "border": null,
      "bottom": null,
      "display": null,
      "flex": null,
      "flex_flow": null,
      "grid_area": null,
      "grid_auto_columns": null,
      "grid_auto_flow": null,
      "grid_auto_rows": null,
      "grid_column": null,
      "grid_gap": null,
      "grid_row": null,
      "grid_template_areas": null,
      "grid_template_columns": null,
      "grid_template_rows": null,
      "height": null,
      "justify_content": null,
      "justify_items": null,
      "left": null,
      "margin": null,
      "max_height": null,
      "max_width": null,
      "min_height": null,
      "min_width": null,
      "object_fit": null,
      "object_position": null,
      "order": null,
      "overflow": null,
      "overflow_x": null,
      "overflow_y": null,
      "padding": null,
      "right": null,
      "top": null,
      "visibility": null,
      "width": null
     }
    },
    "b2f66cc8930240a5b74d5480377496ed": {
     "model_module": "@jupyter-widgets/controls",
     "model_name": "HTMLModel",
     "state": {
      "_dom_classes": [],
      "_model_module": "@jupyter-widgets/controls",
      "_model_module_version": "1.5.0",
      "_model_name": "HTMLModel",
      "_view_count": null,
      "_view_module": "@jupyter-widgets/controls",
      "_view_module_version": "1.5.0",
      "_view_name": "HTMLView",
      "description": "",
      "description_tooltip": null,
      "layout": "IPY_MODEL_56418812bda04e7293dd8839018ae839",
      "placeholder": "​",
      "style": "IPY_MODEL_9761d073bcef4c15ad64b01d7bef3561",
      "value": "32768it [00:00, 71991.19it/s]"
     }
    },
    "b9d32ac7b88c4f4e900b160f05c016a3": {
     "model_module": "@jupyter-widgets/controls",
     "model_name": "IntProgressModel",
     "state": {
      "_dom_classes": [],
      "_model_module": "@jupyter-widgets/controls",
      "_model_module_version": "1.5.0",
      "_model_name": "IntProgressModel",
      "_view_count": null,
      "_view_module": "@jupyter-widgets/controls",
      "_view_module_version": "1.5.0",
      "_view_name": "ProgressView",
      "bar_style": "success",
      "description": "",
      "description_tooltip": null,
      "layout": "IPY_MODEL_f280e146d6c54fb59f8ce36f2d1cc6a3",
      "max": 1,
      "min": 0,
      "orientation": "horizontal",
      "style": "IPY_MODEL_c1d770aa9eb34e4d942967c507f94009",
      "value": 1
     }
    },
    "bebcff464bfc44ffa82e311a39cae7d7": {
     "model_module": "@jupyter-widgets/base",
     "model_name": "LayoutModel",
     "state": {
      "_model_module": "@jupyter-widgets/base",
      "_model_module_version": "1.2.0",
      "_model_name": "LayoutModel",
      "_view_count": null,
      "_view_module": "@jupyter-widgets/base",
      "_view_module_version": "1.2.0",
      "_view_name": "LayoutView",
      "align_content": null,
      "align_items": null,
      "align_self": null,
      "border": null,
      "bottom": null,
      "display": null,
      "flex": null,
      "flex_flow": null,
      "grid_area": null,
      "grid_auto_columns": null,
      "grid_auto_flow": null,
      "grid_auto_rows": null,
      "grid_column": null,
      "grid_gap": null,
      "grid_row": null,
      "grid_template_areas": null,
      "grid_template_columns": null,
      "grid_template_rows": null,
      "height": null,
      "justify_content": null,
      "justify_items": null,
      "left": null,
      "margin": null,
      "max_height": null,
      "max_width": null,
      "min_height": null,
      "min_width": null,
      "object_fit": null,
      "object_position": null,
      "order": null,
      "overflow": null,
      "overflow_x": null,
      "overflow_y": null,
      "padding": null,
      "right": null,
      "top": null,
      "visibility": null,
      "width": null
     }
    },
    "bf33fa62bd4546bdbe142239f472fbb3": {
     "model_module": "@jupyter-widgets/controls",
     "model_name": "IntProgressModel",
     "state": {
      "_dom_classes": [],
      "_model_module": "@jupyter-widgets/controls",
      "_model_module_version": "1.5.0",
      "_model_name": "IntProgressModel",
      "_view_count": null,
      "_view_module": "@jupyter-widgets/controls",
      "_view_module_version": "1.5.0",
      "_view_name": "ProgressView",
      "bar_style": "success",
      "description": "",
      "description_tooltip": null,
      "layout": "IPY_MODEL_545f1e0393b64b1b94710674213f4af8",
      "max": 1,
      "min": 0,
      "orientation": "horizontal",
      "style": "IPY_MODEL_26a1b39d42ee490b8732f0e3856c9114",
      "value": 1
     }
    },
    "c1d770aa9eb34e4d942967c507f94009": {
     "model_module": "@jupyter-widgets/controls",
     "model_name": "ProgressStyleModel",
     "state": {
      "_model_module": "@jupyter-widgets/controls",
      "_model_module_version": "1.5.0",
      "_model_name": "ProgressStyleModel",
      "_view_count": null,
      "_view_module": "@jupyter-widgets/base",
      "_view_module_version": "1.2.0",
      "_view_name": "StyleView",
      "bar_color": null,
      "description_width": ""
     }
    },
    "ca04c2ebb96f48109ef440c260aa125a": {
     "model_module": "@jupyter-widgets/controls",
     "model_name": "HTMLModel",
     "state": {
      "_dom_classes": [],
      "_model_module": "@jupyter-widgets/controls",
      "_model_module_version": "1.5.0",
      "_model_name": "HTMLModel",
      "_view_count": null,
      "_view_module": "@jupyter-widgets/controls",
      "_view_module_version": "1.5.0",
      "_view_name": "HTMLView",
      "description": "",
      "description_tooltip": null,
      "layout": "IPY_MODEL_748c2a2536394a50aab12eef92442fcb",
      "placeholder": "​",
      "style": "IPY_MODEL_181b94c37c72459ca284267bc7675469",
      "value": "8192it [00:00, 25429.90it/s]"
     }
    },
    "df2e6c22b8af4a2e95bdd85fb48290a6": {
     "model_module": "@jupyter-widgets/base",
     "model_name": "LayoutModel",
     "state": {
      "_model_module": "@jupyter-widgets/base",
      "_model_module_version": "1.2.0",
      "_model_name": "LayoutModel",
      "_view_count": null,
      "_view_module": "@jupyter-widgets/base",
      "_view_module_version": "1.2.0",
      "_view_name": "LayoutView",
      "align_content": null,
      "align_items": null,
      "align_self": null,
      "border": null,
      "bottom": null,
      "display": null,
      "flex": null,
      "flex_flow": null,
      "grid_area": null,
      "grid_auto_columns": null,
      "grid_auto_flow": null,
      "grid_auto_rows": null,
      "grid_column": null,
      "grid_gap": null,
      "grid_row": null,
      "grid_template_areas": null,
      "grid_template_columns": null,
      "grid_template_rows": null,
      "height": null,
      "justify_content": null,
      "justify_items": null,
      "left": null,
      "margin": null,
      "max_height": null,
      "max_width": null,
      "min_height": null,
      "min_width": null,
      "object_fit": null,
      "object_position": null,
      "order": null,
      "overflow": null,
      "overflow_x": null,
      "overflow_y": null,
      "padding": null,
      "right": null,
      "top": null,
      "visibility": null,
      "width": null
     }
    },
    "e6efdf93b1444984810dd32d506227d5": {
     "model_module": "@jupyter-widgets/controls",
     "model_name": "HBoxModel",
     "state": {
      "_dom_classes": [],
      "_model_module": "@jupyter-widgets/controls",
      "_model_module_version": "1.5.0",
      "_model_name": "HBoxModel",
      "_view_count": null,
      "_view_module": "@jupyter-widgets/controls",
      "_view_module_version": "1.5.0",
      "_view_name": "HBoxView",
      "box_style": "",
      "children": [
       "IPY_MODEL_0078023356f142bdbe4e13a42df460fb",
       "IPY_MODEL_01658e0aebd84db9912ea456bd1ad030"
      ],
      "layout": "IPY_MODEL_583e6f0878e04a0bbebf5d80d9d712dc"
     }
    },
    "e734818e32a54c71b6397ef84b35bf07": {
     "model_module": "@jupyter-widgets/controls",
     "model_name": "HBoxModel",
     "state": {
      "_dom_classes": [],
      "_model_module": "@jupyter-widgets/controls",
      "_model_module_version": "1.5.0",
      "_model_name": "HBoxModel",
      "_view_count": null,
      "_view_module": "@jupyter-widgets/controls",
      "_view_module_version": "1.5.0",
      "_view_name": "HBoxView",
      "box_style": "",
      "children": [
       "IPY_MODEL_bf33fa62bd4546bdbe142239f472fbb3",
       "IPY_MODEL_ca04c2ebb96f48109ef440c260aa125a"
      ],
      "layout": "IPY_MODEL_029f1768c5734beab39a592b44f75a9d"
     }
    },
    "f280e146d6c54fb59f8ce36f2d1cc6a3": {
     "model_module": "@jupyter-widgets/base",
     "model_name": "LayoutModel",
     "state": {
      "_model_module": "@jupyter-widgets/base",
      "_model_module_version": "1.2.0",
      "_model_name": "LayoutModel",
      "_view_count": null,
      "_view_module": "@jupyter-widgets/base",
      "_view_module_version": "1.2.0",
      "_view_name": "LayoutView",
      "align_content": null,
      "align_items": null,
      "align_self": null,
      "border": null,
      "bottom": null,
      "display": null,
      "flex": null,
      "flex_flow": null,
      "grid_area": null,
      "grid_auto_columns": null,
      "grid_auto_flow": null,
      "grid_auto_rows": null,
      "grid_column": null,
      "grid_gap": null,
      "grid_row": null,
      "grid_template_areas": null,
      "grid_template_columns": null,
      "grid_template_rows": null,
      "height": null,
      "justify_content": null,
      "justify_items": null,
      "left": null,
      "margin": null,
      "max_height": null,
      "max_width": null,
      "min_height": null,
      "min_width": null,
      "object_fit": null,
      "object_position": null,
      "order": null,
      "overflow": null,
      "overflow_x": null,
      "overflow_y": null,
      "padding": null,
      "right": null,
      "top": null,
      "visibility": null,
      "width": null
     }
    },
    "fb66cde27d0849bba4947c024e198f7f": {
     "model_module": "@jupyter-widgets/controls",
     "model_name": "HBoxModel",
     "state": {
      "_dom_classes": [],
      "_model_module": "@jupyter-widgets/controls",
      "_model_module_version": "1.5.0",
      "_model_name": "HBoxModel",
      "_view_count": null,
      "_view_module": "@jupyter-widgets/controls",
      "_view_module_version": "1.5.0",
      "_view_name": "HBoxView",
      "box_style": "",
      "children": [
       "IPY_MODEL_b9d32ac7b88c4f4e900b160f05c016a3",
       "IPY_MODEL_b2f66cc8930240a5b74d5480377496ed"
      ],
      "layout": "IPY_MODEL_bebcff464bfc44ffa82e311a39cae7d7"
     }
    }
   }
  }
 },
 "nbformat": 4,
 "nbformat_minor": 1
}
