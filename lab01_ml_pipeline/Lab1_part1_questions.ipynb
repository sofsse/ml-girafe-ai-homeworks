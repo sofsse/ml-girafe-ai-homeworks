{
 "cells": [
  {
   "cell_type": "markdown",
   "metadata": {},
   "source": [
    "*Credits: materials from this notebook belong to YSDA [Practical DL](https://github.com/yandexdataschool/Practical_DL) course. Special thanks for making them available online.*"
   ]
  },
  {
   "cell_type": "markdown",
   "metadata": {},
   "source": [
    "# Lab assignment №1, part 1\n",
    "\n",
    "This lab assignment consists of several parts. You are supposed to make some transformations, train some models, estimate the quality of the models and explain your results.\n",
    "\n",
    "Several comments:\n",
    "* Don't hesitate to ask questions, it's a good practice.\n",
    "* No private/public sharing, please. The copied assignments will be graded with 0 points.\n",
    "* Blocks of this lab will be graded separately."
   ]
  },
  {
   "cell_type": "markdown",
   "metadata": {},
   "source": [
    "## 1. Matrix differentiation"
   ]
  },
  {
   "cell_type": "markdown",
   "metadata": {},
   "source": [
    "Since it easy to google every task please please please try to undestand what's going on. The \"just answer\" thing will be not counted, make sure to present derivation of your solution. It is absolutely OK if you found an answer on web then just exercise in $\\LaTeX$ copying it into here."
   ]
  },
  {
   "cell_type": "markdown",
   "metadata": {},
   "source": [
    "Useful links: \n",
    "[1](http://www.machinelearning.ru/wiki/images/2/2a/Matrix-Gauss.pdf)\n",
    "[2](http://www.atmos.washington.edu/~dennis/MatrixCalculus.pdf)"
   ]
  },
  {
   "cell_type": "markdown",
   "metadata": {},
   "source": [
    "## ex. 1"
   ]
  },
  {
   "cell_type": "markdown",
   "metadata": {},
   "source": [
    "$$  \n",
    "y = x^Tx,  \\quad x \\in \\mathbb{R}^N \n",
    "$$"
   ]
  },
  {
   "cell_type": "markdown",
   "metadata": {},
   "source": [
    "$$\n",
    "\\frac{dy}{dx} = \n",
    "$$ "
   ]
  },
  {
   "cell_type": "code",
   "execution_count": null,
   "metadata": {
    "collapsed": true,
    "jupyter": {
     "outputs_hidden": true
    }
   },
   "outputs": [],
   "source": []
  },
  {
   "cell_type": "markdown",
   "metadata": {},
   "source": [
    "## ex. 2"
   ]
  },
  {
   "cell_type": "markdown",
   "metadata": {},
   "source": [
    "$$ y = tr(AB) \\quad A,B \\in \\mathbb{R}^{N \\times N} $$ "
   ]
  },
  {
   "cell_type": "markdown",
   "metadata": {},
   "source": [
    "$$\n",
    "\\frac{dy}{dA} =\n",
    "$$"
   ]
  },
  {
   "cell_type": "code",
   "execution_count": null,
   "metadata": {
    "collapsed": true,
    "jupyter": {
     "outputs_hidden": true
    }
   },
   "outputs": [],
   "source": []
  },
  {
   "cell_type": "markdown",
   "metadata": {},
   "source": [
    "## ex. 3"
   ]
  },
  {
   "cell_type": "markdown",
   "metadata": {},
   "source": [
    "$$  \n",
    "y = x^TAc , \\quad A\\in \\mathbb{R}^{N \\times N}, x\\in \\mathbb{R}^{N}, c\\in \\mathbb{R}^{N} \n",
    "$$"
   ]
  },
  {
   "cell_type": "markdown",
   "metadata": {},
   "source": [
    "$$\n",
    "\\frac{dy}{dx} =\n",
    "$$"
   ]
  },
  {
   "cell_type": "markdown",
   "metadata": {},
   "source": [
    "$$\n",
    "\\frac{dy}{dA} =\n",
    "$$ "
   ]
  },
  {
   "cell_type": "markdown",
   "metadata": {},
   "source": [
    "Hint for the latter (one of the ways): use *ex. 2* result and the fact \n",
    "$$\n",
    "tr(ABC) = tr (CAB)\n",
    "$$"
   ]
  },
  {
   "cell_type": "code",
   "execution_count": null,
   "metadata": {
    "collapsed": true,
    "jupyter": {
     "outputs_hidden": true
    }
   },
   "outputs": [],
   "source": []
  },
  {
   "cell_type": "markdown",
   "metadata": {},
   "source": [
    "## ex. 4"
   ]
  },
  {
   "cell_type": "markdown",
   "metadata": {},
   "source": [
    "Classic matrix factorization example. Given matrix $X$ you need to find $A$, $S$ to approximate $X$. This can be done by simple gradient descent iteratively alternating $A$ and $S$ updates.\n",
    "$$\n",
    "J = || X - AS ||_F^2  , \\quad A\\in \\mathbb{R}^{N \\times R} , \\quad S\\in \\mathbb{R}^{R \\times M}\n",
    "$$\n",
    "$$\n",
    "\\frac{dJ}{dS} = ? \n",
    "$$\n",
    "\n",
    "You may use one of the following approaches:"
   ]
  },
  {
   "cell_type": "markdown",
   "metadata": {},
   "source": [
    "#### First approach\n",
    "Using ex.2 and the fact:\n",
    "$$\n",
    "|| X ||_F^2 = tr(XX^T) \n",
    "$$ \n",
    "it is easy to derive gradients (you can find it in one of the refs). "
   ]
  },
  {
   "cell_type": "markdown",
   "metadata": {},
   "source": [
    "#### Second approach\n",
    "You can use *slightly different techniques* if they suits you. Take a look at this derivation:\n",
    "<img src=\"grad.png\">\n",
    "(excerpt from [Handbook of blind source separation, Jutten, page 517](https://books.google.ru/books?id=PTbj03bYH6kC&printsec=frontcover&dq=Handbook+of+Blind+Source+Separation&hl=en&sa=X&ved=0ahUKEwi-q_apiJDLAhULvXIKHVXJDWcQ6AEIHDAA#v=onepage&q=Handbook%20of%20Blind%20Source%20Separation&f=false), open for better picture)."
   ]
  },
  {
   "cell_type": "markdown",
   "metadata": {},
   "source": [
    "#### Third approach\n",
    "And finally we can use chain rule! \n",
    "let $ F = AS $ \n",
    "\n",
    "**Find**\n",
    "$$\n",
    "\\frac{dJ}{dF} =  \n",
    "$$ \n",
    "and \n",
    "$$\n",
    "\\frac{dF}{dS} =  \n",
    "$$ \n",
    "(the shape should be $ NM \\times RM )$.\n",
    "\n",
    "Now it is easy do get desired gradients:\n",
    "$$\n",
    "\\frac{dJ}{dS} =  \n",
    "$$ "
   ]
  },
  {
   "cell_type": "markdown",
   "metadata": {
    "collapsed": true,
    "jupyter": {
     "outputs_hidden": true
    }
   },
   "source": [
    "## 2. kNN questions\n",
    "Here come the questions from the assignment0_01. Please, refer to the assignment0_01 to get the context of the questions."
   ]
  },
  {
   "cell_type": "markdown",
   "metadata": {},
   "source": [
    "### Question 1\n",
    "\n",
    "Notice the structured patterns in the distance matrix, where some rows or columns are visible brighter. (Note that with the default color scheme black indicates low distances while white indicates high distances.)\n",
    "\n",
    "- What in the data is the cause behind the distinctly bright rows?\n",
    "- What causes the columns?\n",
    "\n",
    "*Your Answer:*\n",
    "\n",
    "\n"
   ]
  },
  {
   "cell_type": "markdown",
   "metadata": {},
   "source": [
    "### Question 2\n",
    "\n",
    "We can also use other distance metrics such as L1 distance.\n",
    "For pixel values $p_{ij}^{(k)}$ at location $(i,j)$ of some image $I_k$, \n",
    "\n",
    "the mean $\\mu$ across all pixels over all images is $$\\mu=\\frac{1}{nhw}\\sum_{k=1}^n\\sum_{i=1}^{h}\\sum_{j=1}^{w}p_{ij}^{(k)}$$\n",
    "And the pixel-wise mean $\\mu_{ij}$ across all images is \n",
    "$$\\mu_{ij}=\\frac{1}{n}\\sum_{k=1}^np_{ij}^{(k)}.$$\n",
    "The general standard deviation $\\sigma$ and pixel-wise standard deviation $\\sigma_{ij}$ is defined similarly.\n",
    "\n",
    "Which of the following preprocessing steps will not change the performance of a Nearest Neighbor classifier that uses L1 distance? Select all that apply.\n",
    "1. Subtracting the mean $\\mu$ ($\\tilde{p}_{ij}^{(k)}=p_{ij}^{(k)}-\\mu$.)\n",
    "2. Subtracting the per pixel mean $\\mu_{ij}$  ($\\tilde{p}_{ij}^{(k)}=p_{ij}^{(k)}-\\mu_{ij}$.)\n",
    "3. Subtracting the mean $\\mu$ and dividing by the standard deviation $\\sigma$.\n",
    "4. Subtracting the pixel-wise mean $\\mu_{ij}$ and dividing by the pixel-wise standard deviation $\\sigma_{ij}$.\n",
    "5. Rotating the coordinate axes of the data.\n",
    "\n",
    "*Your Answer:*\n",
    "\n",
    "\n",
    "*Your Explanation:*\n",
    "\n"
   ]
  },
  {
   "cell_type": "markdown",
   "metadata": {},
   "source": [
    "## Question 3\n",
    "\n",
    "Which of the following statements about $k$-Nearest Neighbor ($k$-NN) are true in a classification setting, and for all $k$? Select all that apply.\n",
    "1. The decision boundary (hyperplane between classes in feature space) of the k-NN classifier is linear.\n",
    "2. The training error of a 1-NN will always be lower than that of 5-NN.\n",
    "3. The test error of a 1-NN will always be lower than that of a 5-NN.\n",
    "4. The time needed to classify a test example with the k-NN classifier grows with the size of the training set.\n",
    "5. None of the above.\n",
    "\n",
    "*Your Answer:*\n",
    "\n",
    "\n",
    "*Your Explanation:*\n",
    "\n",
    "\n"
   ]
  },
  {
   "cell_type": "code",
   "execution_count": 24,
   "metadata": {},
   "outputs": [],
   "source": [
    "import numpy as np"
   ]
  },
  {
   "cell_type": "code",
   "execution_count": 43,
   "metadata": {},
   "outputs": [
    {
     "data": {
      "text/plain": [
       "2.293228071974163"
      ]
     },
     "execution_count": 43,
     "metadata": {},
     "output_type": "execute_result"
    }
   ],
   "source": [
    "np.random.seed(42)\n",
    "\n",
    "B = np.random.randint(-10, 11, size=(5,5))\n",
    "vec = np.random.randint(-10, 11, size=(5,))\n",
    "B_new = B.copy()\n",
    "B_new[0] = vec\n",
    "np.abs(np.linalg.det(B_new)/np.linalg.det(B))"
   ]
  },
  {
   "cell_type": "code",
   "execution_count": 44,
   "metadata": {},
   "outputs": [],
   "source": [
    "def lReLU(x):\n",
    "    return np.where(x > 0, x, x * 0.01)"
   ]
  },
  {
   "cell_type": "code",
   "execution_count": 170,
   "metadata": {},
   "outputs": [
    {
     "ename": "NameError",
     "evalue": "name 'np' is not defined",
     "output_type": "error",
     "traceback": [
      "\u001b[1;31m---------------------------------------------------------------------------\u001b[0m",
      "\u001b[1;31mNameError\u001b[0m                                 Traceback (most recent call last)",
      "Cell \u001b[1;32mIn[170], line 1\u001b[0m\n\u001b[1;32m----> 1\u001b[0m \u001b[43mnp\u001b[49m\u001b[38;5;241m.\u001b[39mabs(np\u001b[38;5;241m.\u001b[39mlinalg\u001b[38;5;241m.\u001b[39mdet(lReLU(B_new))\u001b[38;5;241m/\u001b[39mnp\u001b[38;5;241m.\u001b[39mlinalg\u001b[38;5;241m.\u001b[39mdet(lReLU(B)))\n",
      "\u001b[1;31mNameError\u001b[0m: name 'np' is not defined"
     ]
    }
   ],
   "source": [
    "np.abs(np.linalg.det(lReLU(B_new))/np.linalg.det(lReLU(B)))"
   ]
  },
  {
   "cell_type": "code",
   "execution_count": 178,
   "metadata": {},
   "outputs": [],
   "source": [
    "s = '([])'"
   ]
  },
  {
   "cell_type": "code",
   "execution_count": 173,
   "metadata": {},
   "outputs": [
    {
     "data": {
      "text/plain": [
       "\"check1 = all([o==c for o,c in zip(opens,closes)])\\n\\ncheck2 = [sum([key+1 for key, val in info.items() if val[1]==i]) for i in range(3)]\\ncheck2 = [a for a in check2 if a>0]\\ncheck2 = all([a%2==1 for a in check2])\\n\\nsum_op = [key for key, val in info.items() if val[0]=='o']\\nsum_cl = [key for key, val in info.items() if val[0]=='c']\\nprint(sum_op, sum_cl)\\n\\ncheck1, check2\""
      ]
     },
     "execution_count": 173,
     "metadata": {},
     "output_type": "execute_result"
    }
   ],
   "source": [
    "left = ['(', '{', '[']\n",
    "right = [')', '}', ']']\n",
    "\n",
    "info = {}\n",
    "for i in range(len(s)):\n",
    "    if s[i] in left:\n",
    "        info[i] = ('o', left.index(s[i]))\n",
    "    else:\n",
    "        info[i] = ('c', right.index(s[i]))\n",
    "opens = [val[1] for key, val in info.items() if val[0]=='o']\n",
    "#opens = [opens.count(i) for i in range(3)]\n",
    "closes = [val[1] for key, val in info.items() if val[0]=='c']\n",
    "#closes = [closes.count(i) for i in range(3)]\n",
    "'''check1 = all([o==c for o,c in zip(opens,closes)])\n",
    "\n",
    "check2 = [sum([key+1 for key, val in info.items() if val[1]==i]) for i in range(3)]\n",
    "check2 = [a for a in check2 if a>0]\n",
    "check2 = all([a%2==1 for a in check2])\n",
    "\n",
    "sum_op = [key for key, val in info.items() if val[0]=='o']\n",
    "sum_cl = [key for key, val in info.items() if val[0]=='c']\n",
    "print(sum_op, sum_cl)\n",
    "\n",
    "check1, check2'''"
   ]
  },
  {
   "cell_type": "code",
   "execution_count": 214,
   "metadata": {},
   "outputs": [],
   "source": [
    "s = '([])'"
   ]
  },
  {
   "cell_type": "code",
   "execution_count": 211,
   "metadata": {},
   "outputs": [
    {
     "name": "stdout",
     "output_type": "stream",
     "text": [
      "s ([])\n",
      "s ()\n"
     ]
    }
   ],
   "source": [
    "while len(s)>=2 and any(['()' in s, '{}' in s, '[]' in s]):\n",
    "    print('s', s)\n",
    "    if '()' in s:\n",
    "        s = s.replace('()', '')\n",
    "    if '{}' in s:\n",
    "        s = s.replace('{}', '')\n",
    "    if '[]' in s:\n",
    "        s = s.replace('[]', '')"
   ]
  },
  {
   "cell_type": "code",
   "execution_count": 232,
   "metadata": {},
   "outputs": [],
   "source": [
    "s = '(][)'"
   ]
  },
  {
   "cell_type": "code",
   "execution_count": 233,
   "metadata": {},
   "outputs": [
    {
     "name": "stdout",
     "output_type": "stream",
     "text": [
      "[] True\n",
      "['('] False\n",
      "[ (\n",
      "hueta\n",
      "[] True\n",
      "['['] False\n",
      "( [\n",
      "hueta\n"
     ]
    },
    {
     "data": {
      "text/plain": [
       "(True, [])"
      ]
     },
     "execution_count": 233,
     "metadata": {},
     "output_type": "execute_result"
    }
   ],
   "source": [
    "stack = []\n",
    "mapping = {\")\":\"(\", \"}\":\"{\", \"]\":\"[\"}\n",
    "\n",
    "for char in s:\n",
    "    print(stack, (not stack))\n",
    "    if char in mapping.values():\n",
    "        stack.append(char)\n",
    "    elif char in mapping.keys():\n",
    "        print(mapping[char], stack.pop())\n",
    "        if not stack or mapping[char]!=stack.pop():\n",
    "            print('hueta')\n",
    "(not stack), stack"
   ]
  },
  {
   "cell_type": "code",
   "execution_count": 321,
   "metadata": {},
   "outputs": [
    {
     "data": {
      "text/plain": [
       "[1, 3]"
      ]
     },
     "execution_count": 321,
     "metadata": {},
     "output_type": "execute_result"
    }
   ],
   "source": [
    "nums = [1,3]\n",
    "target = 1\n",
    "nums"
   ]
  },
  {
   "cell_type": "code",
   "execution_count": 322,
   "metadata": {},
   "outputs": [
    {
     "data": {
      "text/plain": [
       "(0, [1, 3])"
      ]
     },
     "execution_count": 322,
     "metadata": {},
     "output_type": "execute_result"
    }
   ],
   "source": [
    "idxs = [0, len(nums)-1]\n",
    "while len(nums)>=1:\n",
    "    if nums[len(nums)//2:][0] <= target < nums[-1]:\n",
    "        nums = nums[len(nums)//2:]\n",
    "        idxs[0] += len(nums)//2\n",
    "    elif nums[0] < target < nums[len(nums)//2:][0]:\n",
    "        nums = nums[:len(nums)//2]\n",
    "        idxs[1] -= len(nums)//2\n",
    "    else:\n",
    "        break\n",
    "sum(idxs)//2, nums"
   ]
  },
  {
   "cell_type": "code",
   "execution_count": 301,
   "metadata": {},
   "outputs": [
    {
     "data": {
      "text/plain": [
       "True"
      ]
     },
     "execution_count": 301,
     "metadata": {},
     "output_type": "execute_result"
    }
   ],
   "source": [
    "target>nums[0]"
   ]
  },
  {
   "cell_type": "code",
   "execution_count": 1,
   "metadata": {},
   "outputs": [],
   "source": [
    "name = input()"
   ]
  },
  {
   "cell_type": "code",
   "execution_count": 3,
   "metadata": {},
   "outputs": [
    {
     "data": {
      "text/plain": [
       "['100', '10', '12', '15']"
      ]
     },
     "execution_count": 3,
     "metadata": {},
     "output_type": "execute_result"
    }
   ],
   "source": [
    "[name.split()]"
   ]
  },
  {
   "cell_type": "code",
   "execution_count": null,
   "metadata": {},
   "outputs": [],
   "source": []
  },
  {
   "cell_type": "markdown",
   "metadata": {},
   "source": [
    "# Huikoff"
   ]
  },
  {
   "cell_type": "code",
   "execution_count": 157,
   "metadata": {},
   "outputs": [],
   "source": [
    "N = 15\n",
    "A, B, C = 4, 7, 9"
   ]
  },
  {
   "cell_type": "code",
   "execution_count": 279,
   "metadata": {},
   "outputs": [
    {
     "data": {
      "text/plain": [
       "(10, 4, 7, 9)"
      ]
     },
     "execution_count": 279,
     "metadata": {},
     "output_type": "execute_result"
    }
   ],
   "source": [
    "N = int(input())\n",
    "A, B, C = [int(i) for i in input().split()]\n",
    "N, A, B, C"
   ]
  },
  {
   "cell_type": "code",
   "execution_count": 297,
   "metadata": {},
   "outputs": [],
   "source": [
    "class Node():\n",
    "    def __init__(self, num, level=0, a_child=None, b_child=None, c_child=None) -> None:\n",
    "        self.num = num\n",
    "        self.level = level\n",
    "        self.a_child = a_child\n",
    "        self.b_child = b_child\n",
    "        self.c_child = c_child\n",
    "\n",
    "    def __str__(self):\n",
    "        ret = '-' * self.level+repr(self.num)+\"\\n\"\n",
    "        for child in [self.a_child, self.b_child, self.c_child]:\n",
    "            if child:\n",
    "                ret += child.__str__()\n",
    "        return ret\n",
    "\n",
    "    def __repr__(self):\n",
    "        return '<tree node representation>'"
   ]
  },
  {
   "cell_type": "code",
   "execution_count": 298,
   "metadata": {},
   "outputs": [],
   "source": [
    "def build_tree(num, level=0):\n",
    "    if num+A<=N and num+B<=N and num+C<=N:\n",
    "        return Node(num=num,\n",
    "                    level=level,\n",
    "                    a_child=build_tree(num+A, level=level+1),\n",
    "                    b_child=build_tree(num+B, level=level+1),\n",
    "                    c_child=build_tree(num+C, level=level+1))\n",
    "    \n",
    "    elif num+A>N and num+B<=N and num+C<=N:\n",
    "        return Node(num=num,\n",
    "                    level=level,\n",
    "                    a_child=None,\n",
    "                    b_child=build_tree(num+B, level=level+1),\n",
    "                    c_child=build_tree(num+C, level=level+1))\n",
    "    \n",
    "    elif num+A<=N and num+B>N and num+C<=N:\n",
    "        return Node(num=num,\n",
    "                    level=level,\n",
    "                    a_child=build_tree(num+A, level=level+1),\n",
    "                    b_child=None,\n",
    "                    c_child=build_tree(num+C, level=level+1))\n",
    "    \n",
    "    elif num+A<=N and num+B<=N and num+C>N:\n",
    "        return Node(num=num,\n",
    "                    level=level,\n",
    "                    a_child=build_tree(num+A, level=level+1),\n",
    "                    b_child=build_tree(num+B, level=level+1),\n",
    "                    c_child=None)\n",
    "    \n",
    "    elif num+A>N and num+B>N and num+C<=N:\n",
    "        return Node(num=num,\n",
    "                    level=level,\n",
    "                    a_child=None,\n",
    "                    b_child=None,\n",
    "                    c_child=build_tree(num+C, level=level+1))\n",
    "\n",
    "    elif num+A>N and num+B<=N and num+C>N:\n",
    "        return Node(num=num,\n",
    "                    level=level,\n",
    "                    a_child=None,\n",
    "                    b_child=build_tree(num+B, level=level+1),\n",
    "                    c_child=None)\n",
    "    \n",
    "    elif num+A<=N and num+B>N and num+C>N:\n",
    "        return Node(num=num,\n",
    "                    level=level,\n",
    "                    a_child=build_tree(num+A, level=level+1),\n",
    "                    b_child=None,\n",
    "                    c_child=None)\n",
    "\n",
    "    else:\n",
    "        return Node(num=num,\n",
    "                    level=level,\n",
    "                    a_child=None,\n",
    "                    b_child=None,\n",
    "                    c_child=None)"
   ]
  },
  {
   "cell_type": "code",
   "execution_count": 299,
   "metadata": {},
   "outputs": [],
   "source": [
    "def kid_counter(tree: Node, mylist):\n",
    "\n",
    "    kids = [tree.a_child, tree.b_child, tree.c_child]\n",
    "\n",
    "    for kid in kids:\n",
    "        if kid:\n",
    "            if kid.num not in mylist:\n",
    "                mylist.append(kid.num)\n",
    "            kid_counter(kid, mylist)\n",
    "    return mylist"
   ]
  },
  {
   "cell_type": "code",
   "execution_count": 300,
   "metadata": {},
   "outputs": [
    {
     "name": "stdout",
     "output_type": "stream",
     "text": [
      "1\n",
      "-5\n",
      "--9\n",
      "---13\n",
      "--12\n",
      "--14\n",
      "-8\n",
      "--12\n",
      "--15\n",
      "-10\n",
      "--14\n",
      "\n"
     ]
    }
   ],
   "source": [
    "tree = build_tree(1)\n",
    "print(tree)"
   ]
  },
  {
   "cell_type": "code",
   "execution_count": 301,
   "metadata": {},
   "outputs": [
    {
     "data": {
      "text/plain": [
       "9"
      ]
     },
     "execution_count": 301,
     "metadata": {},
     "output_type": "execute_result"
    }
   ],
   "source": [
    "data = []\n",
    "len(kid_counter(tree, data))+1"
   ]
  },
  {
   "cell_type": "code",
   "execution_count": 1,
   "metadata": {},
   "outputs": [
    {
     "ename": "NameError",
     "evalue": "name 'N' is not defined",
     "output_type": "error",
     "traceback": [
      "\u001b[1;31m---------------------------------------------------------------------------\u001b[0m",
      "\u001b[1;31mNameError\u001b[0m                                 Traceback (most recent call last)",
      "Cell \u001b[1;32mIn[1], line 1\u001b[0m\n\u001b[1;32m----> 1\u001b[0m \u001b[43mN\u001b[49m, A, B, C\n",
      "\u001b[1;31mNameError\u001b[0m: name 'N' is not defined"
     ]
    }
   ],
   "source": [
    "N, A, B, C"
   ]
  },
  {
   "cell_type": "code",
   "execution_count": 7,
   "metadata": {},
   "outputs": [
    {
     "ename": "KeyboardInterrupt",
     "evalue": "",
     "output_type": "error",
     "traceback": [
      "\u001b[1;31m---------------------------------------------------------------------------\u001b[0m",
      "\u001b[1;31mKeyboardInterrupt\u001b[0m                         Traceback (most recent call last)",
      "Cell \u001b[1;32mIn[7], line 77\u001b[0m\n\u001b[0;32m     74\u001b[0m     answer \u001b[38;5;241m=\u001b[39m \u001b[38;5;28mlen\u001b[39m(kid_counter(tree, data))\u001b[38;5;241m+\u001b[39m\u001b[38;5;241m1\u001b[39m\n\u001b[0;32m     75\u001b[0m     \u001b[38;5;28mprint\u001b[39m(answer)\n\u001b[1;32m---> 77\u001b[0m \u001b[43mdo_everything\u001b[49m\u001b[43m(\u001b[49m\u001b[43m)\u001b[49m\n",
      "Cell \u001b[1;32mIn[7], line 72\u001b[0m, in \u001b[0;36mdo_everything\u001b[1;34m()\u001b[0m\n\u001b[0;32m     69\u001b[0m N \u001b[38;5;241m=\u001b[39m \u001b[38;5;28mint\u001b[39m(\u001b[38;5;28minput\u001b[39m())  \n\u001b[0;32m     70\u001b[0m A,B,C \u001b[38;5;241m=\u001b[39m [\u001b[38;5;28mint\u001b[39m(i) \u001b[38;5;28;01mfor\u001b[39;00m i \u001b[38;5;129;01min\u001b[39;00m \u001b[38;5;28minput\u001b[39m()\u001b[38;5;241m.\u001b[39msplit()]\n\u001b[1;32m---> 72\u001b[0m tree \u001b[38;5;241m=\u001b[39m \u001b[43mbuild_tree\u001b[49m\u001b[43m(\u001b[49m\u001b[38;5;241;43m1\u001b[39;49m\u001b[43m,\u001b[49m\u001b[43m \u001b[49m\u001b[43mA\u001b[49m\u001b[43m,\u001b[49m\u001b[43m \u001b[49m\u001b[43mB\u001b[49m\u001b[43m,\u001b[49m\u001b[43m \u001b[49m\u001b[43mC\u001b[49m\u001b[43m,\u001b[49m\u001b[43m \u001b[49m\u001b[43mN\u001b[49m\u001b[43m)\u001b[49m\n\u001b[0;32m     73\u001b[0m data \u001b[38;5;241m=\u001b[39m []\n\u001b[0;32m     74\u001b[0m answer \u001b[38;5;241m=\u001b[39m \u001b[38;5;28mlen\u001b[39m(kid_counter(tree, data))\u001b[38;5;241m+\u001b[39m\u001b[38;5;241m1\u001b[39m\n",
      "Cell \u001b[1;32mIn[7], line 11\u001b[0m, in \u001b[0;36mbuild_tree\u001b[1;34m(num, A, B, C, N)\u001b[0m\n\u001b[0;32m      8\u001b[0m \u001b[38;5;28;01mdef\u001b[39;00m \u001b[38;5;21mbuild_tree\u001b[39m(num, A, B, C, N):\n\u001b[0;32m      9\u001b[0m     \u001b[38;5;28;01mif\u001b[39;00m num\u001b[38;5;241m+\u001b[39mA\u001b[38;5;241m<\u001b[39m\u001b[38;5;241m=\u001b[39mN \u001b[38;5;129;01mand\u001b[39;00m num\u001b[38;5;241m+\u001b[39mB\u001b[38;5;241m<\u001b[39m\u001b[38;5;241m=\u001b[39mN \u001b[38;5;129;01mand\u001b[39;00m num\u001b[38;5;241m+\u001b[39mC\u001b[38;5;241m<\u001b[39m\u001b[38;5;241m=\u001b[39mN:\n\u001b[0;32m     10\u001b[0m         \u001b[38;5;28;01mreturn\u001b[39;00m Node(num\u001b[38;5;241m=\u001b[39mnum,\n\u001b[1;32m---> 11\u001b[0m                     a_child\u001b[38;5;241m=\u001b[39m\u001b[43mbuild_tree\u001b[49m\u001b[43m(\u001b[49m\u001b[43mnum\u001b[49m\u001b[38;5;241;43m+\u001b[39;49m\u001b[43mA\u001b[49m\u001b[43m,\u001b[49m\u001b[43m \u001b[49m\u001b[43mA\u001b[49m\u001b[43m,\u001b[49m\u001b[43m \u001b[49m\u001b[43mB\u001b[49m\u001b[43m,\u001b[49m\u001b[43m \u001b[49m\u001b[43mC\u001b[49m\u001b[43m,\u001b[49m\u001b[43m \u001b[49m\u001b[43mN\u001b[49m\u001b[43m)\u001b[49m,\n\u001b[0;32m     12\u001b[0m                     b_child\u001b[38;5;241m=\u001b[39mbuild_tree(num\u001b[38;5;241m+\u001b[39mB, A, B, C, N),\n\u001b[0;32m     13\u001b[0m                     c_child\u001b[38;5;241m=\u001b[39mbuild_tree(num\u001b[38;5;241m+\u001b[39mC, A, B, C, N))\n\u001b[0;32m     15\u001b[0m     \u001b[38;5;28;01melif\u001b[39;00m num\u001b[38;5;241m+\u001b[39mA\u001b[38;5;241m>\u001b[39mN \u001b[38;5;129;01mand\u001b[39;00m num\u001b[38;5;241m+\u001b[39mB\u001b[38;5;241m<\u001b[39m\u001b[38;5;241m=\u001b[39mN \u001b[38;5;129;01mand\u001b[39;00m num\u001b[38;5;241m+\u001b[39mC\u001b[38;5;241m<\u001b[39m\u001b[38;5;241m=\u001b[39mN:\n\u001b[0;32m     16\u001b[0m         \u001b[38;5;28;01mreturn\u001b[39;00m Node(num\u001b[38;5;241m=\u001b[39mnum,\n\u001b[0;32m     17\u001b[0m                     a_child\u001b[38;5;241m=\u001b[39m\u001b[38;5;28;01mNone\u001b[39;00m,\n\u001b[0;32m     18\u001b[0m                     b_child\u001b[38;5;241m=\u001b[39mbuild_tree(num\u001b[38;5;241m+\u001b[39mB, A, B, C, N),\n\u001b[0;32m     19\u001b[0m                     c_child\u001b[38;5;241m=\u001b[39mbuild_tree(num\u001b[38;5;241m+\u001b[39mC, A, B, C, N))\n",
      "Cell \u001b[1;32mIn[7], line 11\u001b[0m, in \u001b[0;36mbuild_tree\u001b[1;34m(num, A, B, C, N)\u001b[0m\n\u001b[0;32m      8\u001b[0m \u001b[38;5;28;01mdef\u001b[39;00m \u001b[38;5;21mbuild_tree\u001b[39m(num, A, B, C, N):\n\u001b[0;32m      9\u001b[0m     \u001b[38;5;28;01mif\u001b[39;00m num\u001b[38;5;241m+\u001b[39mA\u001b[38;5;241m<\u001b[39m\u001b[38;5;241m=\u001b[39mN \u001b[38;5;129;01mand\u001b[39;00m num\u001b[38;5;241m+\u001b[39mB\u001b[38;5;241m<\u001b[39m\u001b[38;5;241m=\u001b[39mN \u001b[38;5;129;01mand\u001b[39;00m num\u001b[38;5;241m+\u001b[39mC\u001b[38;5;241m<\u001b[39m\u001b[38;5;241m=\u001b[39mN:\n\u001b[0;32m     10\u001b[0m         \u001b[38;5;28;01mreturn\u001b[39;00m Node(num\u001b[38;5;241m=\u001b[39mnum,\n\u001b[1;32m---> 11\u001b[0m                     a_child\u001b[38;5;241m=\u001b[39m\u001b[43mbuild_tree\u001b[49m\u001b[43m(\u001b[49m\u001b[43mnum\u001b[49m\u001b[38;5;241;43m+\u001b[39;49m\u001b[43mA\u001b[49m\u001b[43m,\u001b[49m\u001b[43m \u001b[49m\u001b[43mA\u001b[49m\u001b[43m,\u001b[49m\u001b[43m \u001b[49m\u001b[43mB\u001b[49m\u001b[43m,\u001b[49m\u001b[43m \u001b[49m\u001b[43mC\u001b[49m\u001b[43m,\u001b[49m\u001b[43m \u001b[49m\u001b[43mN\u001b[49m\u001b[43m)\u001b[49m,\n\u001b[0;32m     12\u001b[0m                     b_child\u001b[38;5;241m=\u001b[39mbuild_tree(num\u001b[38;5;241m+\u001b[39mB, A, B, C, N),\n\u001b[0;32m     13\u001b[0m                     c_child\u001b[38;5;241m=\u001b[39mbuild_tree(num\u001b[38;5;241m+\u001b[39mC, A, B, C, N))\n\u001b[0;32m     15\u001b[0m     \u001b[38;5;28;01melif\u001b[39;00m num\u001b[38;5;241m+\u001b[39mA\u001b[38;5;241m>\u001b[39mN \u001b[38;5;129;01mand\u001b[39;00m num\u001b[38;5;241m+\u001b[39mB\u001b[38;5;241m<\u001b[39m\u001b[38;5;241m=\u001b[39mN \u001b[38;5;129;01mand\u001b[39;00m num\u001b[38;5;241m+\u001b[39mC\u001b[38;5;241m<\u001b[39m\u001b[38;5;241m=\u001b[39mN:\n\u001b[0;32m     16\u001b[0m         \u001b[38;5;28;01mreturn\u001b[39;00m Node(num\u001b[38;5;241m=\u001b[39mnum,\n\u001b[0;32m     17\u001b[0m                     a_child\u001b[38;5;241m=\u001b[39m\u001b[38;5;28;01mNone\u001b[39;00m,\n\u001b[0;32m     18\u001b[0m                     b_child\u001b[38;5;241m=\u001b[39mbuild_tree(num\u001b[38;5;241m+\u001b[39mB, A, B, C, N),\n\u001b[0;32m     19\u001b[0m                     c_child\u001b[38;5;241m=\u001b[39mbuild_tree(num\u001b[38;5;241m+\u001b[39mC, A, B, C, N))\n",
      "    \u001b[1;31m[... skipping similar frames: build_tree at line 11 (12 times)]\u001b[0m\n",
      "Cell \u001b[1;32mIn[7], line 12\u001b[0m, in \u001b[0;36mbuild_tree\u001b[1;34m(num, A, B, C, N)\u001b[0m\n\u001b[0;32m      8\u001b[0m \u001b[38;5;28;01mdef\u001b[39;00m \u001b[38;5;21mbuild_tree\u001b[39m(num, A, B, C, N):\n\u001b[0;32m      9\u001b[0m     \u001b[38;5;28;01mif\u001b[39;00m num\u001b[38;5;241m+\u001b[39mA\u001b[38;5;241m<\u001b[39m\u001b[38;5;241m=\u001b[39mN \u001b[38;5;129;01mand\u001b[39;00m num\u001b[38;5;241m+\u001b[39mB\u001b[38;5;241m<\u001b[39m\u001b[38;5;241m=\u001b[39mN \u001b[38;5;129;01mand\u001b[39;00m num\u001b[38;5;241m+\u001b[39mC\u001b[38;5;241m<\u001b[39m\u001b[38;5;241m=\u001b[39mN:\n\u001b[0;32m     10\u001b[0m         \u001b[38;5;28;01mreturn\u001b[39;00m Node(num\u001b[38;5;241m=\u001b[39mnum,\n\u001b[0;32m     11\u001b[0m                     a_child\u001b[38;5;241m=\u001b[39mbuild_tree(num\u001b[38;5;241m+\u001b[39mA, A, B, C, N),\n\u001b[1;32m---> 12\u001b[0m                     b_child\u001b[38;5;241m=\u001b[39m\u001b[43mbuild_tree\u001b[49m\u001b[43m(\u001b[49m\u001b[43mnum\u001b[49m\u001b[38;5;241;43m+\u001b[39;49m\u001b[43mB\u001b[49m\u001b[43m,\u001b[49m\u001b[43m \u001b[49m\u001b[43mA\u001b[49m\u001b[43m,\u001b[49m\u001b[43m \u001b[49m\u001b[43mB\u001b[49m\u001b[43m,\u001b[49m\u001b[43m \u001b[49m\u001b[43mC\u001b[49m\u001b[43m,\u001b[49m\u001b[43m \u001b[49m\u001b[43mN\u001b[49m\u001b[43m)\u001b[49m,\n\u001b[0;32m     13\u001b[0m                     c_child\u001b[38;5;241m=\u001b[39mbuild_tree(num\u001b[38;5;241m+\u001b[39mC, A, B, C, N))\n\u001b[0;32m     15\u001b[0m     \u001b[38;5;28;01melif\u001b[39;00m num\u001b[38;5;241m+\u001b[39mA\u001b[38;5;241m>\u001b[39mN \u001b[38;5;129;01mand\u001b[39;00m num\u001b[38;5;241m+\u001b[39mB\u001b[38;5;241m<\u001b[39m\u001b[38;5;241m=\u001b[39mN \u001b[38;5;129;01mand\u001b[39;00m num\u001b[38;5;241m+\u001b[39mC\u001b[38;5;241m<\u001b[39m\u001b[38;5;241m=\u001b[39mN:\n\u001b[0;32m     16\u001b[0m         \u001b[38;5;28;01mreturn\u001b[39;00m Node(num\u001b[38;5;241m=\u001b[39mnum,\n\u001b[0;32m     17\u001b[0m                     a_child\u001b[38;5;241m=\u001b[39m\u001b[38;5;28;01mNone\u001b[39;00m,\n\u001b[0;32m     18\u001b[0m                     b_child\u001b[38;5;241m=\u001b[39mbuild_tree(num\u001b[38;5;241m+\u001b[39mB, A, B, C, N),\n\u001b[0;32m     19\u001b[0m                     c_child\u001b[38;5;241m=\u001b[39mbuild_tree(num\u001b[38;5;241m+\u001b[39mC, A, B, C, N))\n",
      "Cell \u001b[1;32mIn[7], line 12\u001b[0m, in \u001b[0;36mbuild_tree\u001b[1;34m(num, A, B, C, N)\u001b[0m\n\u001b[0;32m      8\u001b[0m \u001b[38;5;28;01mdef\u001b[39;00m \u001b[38;5;21mbuild_tree\u001b[39m(num, A, B, C, N):\n\u001b[0;32m      9\u001b[0m     \u001b[38;5;28;01mif\u001b[39;00m num\u001b[38;5;241m+\u001b[39mA\u001b[38;5;241m<\u001b[39m\u001b[38;5;241m=\u001b[39mN \u001b[38;5;129;01mand\u001b[39;00m num\u001b[38;5;241m+\u001b[39mB\u001b[38;5;241m<\u001b[39m\u001b[38;5;241m=\u001b[39mN \u001b[38;5;129;01mand\u001b[39;00m num\u001b[38;5;241m+\u001b[39mC\u001b[38;5;241m<\u001b[39m\u001b[38;5;241m=\u001b[39mN:\n\u001b[0;32m     10\u001b[0m         \u001b[38;5;28;01mreturn\u001b[39;00m Node(num\u001b[38;5;241m=\u001b[39mnum,\n\u001b[0;32m     11\u001b[0m                     a_child\u001b[38;5;241m=\u001b[39mbuild_tree(num\u001b[38;5;241m+\u001b[39mA, A, B, C, N),\n\u001b[1;32m---> 12\u001b[0m                     b_child\u001b[38;5;241m=\u001b[39m\u001b[43mbuild_tree\u001b[49m\u001b[43m(\u001b[49m\u001b[43mnum\u001b[49m\u001b[38;5;241;43m+\u001b[39;49m\u001b[43mB\u001b[49m\u001b[43m,\u001b[49m\u001b[43m \u001b[49m\u001b[43mA\u001b[49m\u001b[43m,\u001b[49m\u001b[43m \u001b[49m\u001b[43mB\u001b[49m\u001b[43m,\u001b[49m\u001b[43m \u001b[49m\u001b[43mC\u001b[49m\u001b[43m,\u001b[49m\u001b[43m \u001b[49m\u001b[43mN\u001b[49m\u001b[43m)\u001b[49m,\n\u001b[0;32m     13\u001b[0m                     c_child\u001b[38;5;241m=\u001b[39mbuild_tree(num\u001b[38;5;241m+\u001b[39mC, A, B, C, N))\n\u001b[0;32m     15\u001b[0m     \u001b[38;5;28;01melif\u001b[39;00m num\u001b[38;5;241m+\u001b[39mA\u001b[38;5;241m>\u001b[39mN \u001b[38;5;129;01mand\u001b[39;00m num\u001b[38;5;241m+\u001b[39mB\u001b[38;5;241m<\u001b[39m\u001b[38;5;241m=\u001b[39mN \u001b[38;5;129;01mand\u001b[39;00m num\u001b[38;5;241m+\u001b[39mC\u001b[38;5;241m<\u001b[39m\u001b[38;5;241m=\u001b[39mN:\n\u001b[0;32m     16\u001b[0m         \u001b[38;5;28;01mreturn\u001b[39;00m Node(num\u001b[38;5;241m=\u001b[39mnum,\n\u001b[0;32m     17\u001b[0m                     a_child\u001b[38;5;241m=\u001b[39m\u001b[38;5;28;01mNone\u001b[39;00m,\n\u001b[0;32m     18\u001b[0m                     b_child\u001b[38;5;241m=\u001b[39mbuild_tree(num\u001b[38;5;241m+\u001b[39mB, A, B, C, N),\n\u001b[0;32m     19\u001b[0m                     c_child\u001b[38;5;241m=\u001b[39mbuild_tree(num\u001b[38;5;241m+\u001b[39mC, A, B, C, N))\n",
      "    \u001b[1;31m[... skipping similar frames: build_tree at line 11 (7 times), build_tree at line 12 (4 times)]\u001b[0m\n",
      "Cell \u001b[1;32mIn[7], line 11\u001b[0m, in \u001b[0;36mbuild_tree\u001b[1;34m(num, A, B, C, N)\u001b[0m\n\u001b[0;32m      8\u001b[0m \u001b[38;5;28;01mdef\u001b[39;00m \u001b[38;5;21mbuild_tree\u001b[39m(num, A, B, C, N):\n\u001b[0;32m      9\u001b[0m     \u001b[38;5;28;01mif\u001b[39;00m num\u001b[38;5;241m+\u001b[39mA\u001b[38;5;241m<\u001b[39m\u001b[38;5;241m=\u001b[39mN \u001b[38;5;129;01mand\u001b[39;00m num\u001b[38;5;241m+\u001b[39mB\u001b[38;5;241m<\u001b[39m\u001b[38;5;241m=\u001b[39mN \u001b[38;5;129;01mand\u001b[39;00m num\u001b[38;5;241m+\u001b[39mC\u001b[38;5;241m<\u001b[39m\u001b[38;5;241m=\u001b[39mN:\n\u001b[0;32m     10\u001b[0m         \u001b[38;5;28;01mreturn\u001b[39;00m Node(num\u001b[38;5;241m=\u001b[39mnum,\n\u001b[1;32m---> 11\u001b[0m                     a_child\u001b[38;5;241m=\u001b[39m\u001b[43mbuild_tree\u001b[49m\u001b[43m(\u001b[49m\u001b[43mnum\u001b[49m\u001b[38;5;241;43m+\u001b[39;49m\u001b[43mA\u001b[49m\u001b[43m,\u001b[49m\u001b[43m \u001b[49m\u001b[43mA\u001b[49m\u001b[43m,\u001b[49m\u001b[43m \u001b[49m\u001b[43mB\u001b[49m\u001b[43m,\u001b[49m\u001b[43m \u001b[49m\u001b[43mC\u001b[49m\u001b[43m,\u001b[49m\u001b[43m \u001b[49m\u001b[43mN\u001b[49m\u001b[43m)\u001b[49m,\n\u001b[0;32m     12\u001b[0m                     b_child\u001b[38;5;241m=\u001b[39mbuild_tree(num\u001b[38;5;241m+\u001b[39mB, A, B, C, N),\n\u001b[0;32m     13\u001b[0m                     c_child\u001b[38;5;241m=\u001b[39mbuild_tree(num\u001b[38;5;241m+\u001b[39mC, A, B, C, N))\n\u001b[0;32m     15\u001b[0m     \u001b[38;5;28;01melif\u001b[39;00m num\u001b[38;5;241m+\u001b[39mA\u001b[38;5;241m>\u001b[39mN \u001b[38;5;129;01mand\u001b[39;00m num\u001b[38;5;241m+\u001b[39mB\u001b[38;5;241m<\u001b[39m\u001b[38;5;241m=\u001b[39mN \u001b[38;5;129;01mand\u001b[39;00m num\u001b[38;5;241m+\u001b[39mC\u001b[38;5;241m<\u001b[39m\u001b[38;5;241m=\u001b[39mN:\n\u001b[0;32m     16\u001b[0m         \u001b[38;5;28;01mreturn\u001b[39;00m Node(num\u001b[38;5;241m=\u001b[39mnum,\n\u001b[0;32m     17\u001b[0m                     a_child\u001b[38;5;241m=\u001b[39m\u001b[38;5;28;01mNone\u001b[39;00m,\n\u001b[0;32m     18\u001b[0m                     b_child\u001b[38;5;241m=\u001b[39mbuild_tree(num\u001b[38;5;241m+\u001b[39mB, A, B, C, N),\n\u001b[0;32m     19\u001b[0m                     c_child\u001b[38;5;241m=\u001b[39mbuild_tree(num\u001b[38;5;241m+\u001b[39mC, A, B, C, N))\n",
      "Cell \u001b[1;32mIn[7], line 12\u001b[0m, in \u001b[0;36mbuild_tree\u001b[1;34m(num, A, B, C, N)\u001b[0m\n\u001b[0;32m      8\u001b[0m \u001b[38;5;28;01mdef\u001b[39;00m \u001b[38;5;21mbuild_tree\u001b[39m(num, A, B, C, N):\n\u001b[0;32m      9\u001b[0m     \u001b[38;5;28;01mif\u001b[39;00m num\u001b[38;5;241m+\u001b[39mA\u001b[38;5;241m<\u001b[39m\u001b[38;5;241m=\u001b[39mN \u001b[38;5;129;01mand\u001b[39;00m num\u001b[38;5;241m+\u001b[39mB\u001b[38;5;241m<\u001b[39m\u001b[38;5;241m=\u001b[39mN \u001b[38;5;129;01mand\u001b[39;00m num\u001b[38;5;241m+\u001b[39mC\u001b[38;5;241m<\u001b[39m\u001b[38;5;241m=\u001b[39mN:\n\u001b[0;32m     10\u001b[0m         \u001b[38;5;28;01mreturn\u001b[39;00m Node(num\u001b[38;5;241m=\u001b[39mnum,\n\u001b[0;32m     11\u001b[0m                     a_child\u001b[38;5;241m=\u001b[39mbuild_tree(num\u001b[38;5;241m+\u001b[39mA, A, B, C, N),\n\u001b[1;32m---> 12\u001b[0m                     b_child\u001b[38;5;241m=\u001b[39m\u001b[43mbuild_tree\u001b[49m\u001b[43m(\u001b[49m\u001b[43mnum\u001b[49m\u001b[38;5;241;43m+\u001b[39;49m\u001b[43mB\u001b[49m\u001b[43m,\u001b[49m\u001b[43m \u001b[49m\u001b[43mA\u001b[49m\u001b[43m,\u001b[49m\u001b[43m \u001b[49m\u001b[43mB\u001b[49m\u001b[43m,\u001b[49m\u001b[43m \u001b[49m\u001b[43mC\u001b[49m\u001b[43m,\u001b[49m\u001b[43m \u001b[49m\u001b[43mN\u001b[49m\u001b[43m)\u001b[49m,\n\u001b[0;32m     13\u001b[0m                     c_child\u001b[38;5;241m=\u001b[39mbuild_tree(num\u001b[38;5;241m+\u001b[39mC, A, B, C, N))\n\u001b[0;32m     15\u001b[0m     \u001b[38;5;28;01melif\u001b[39;00m num\u001b[38;5;241m+\u001b[39mA\u001b[38;5;241m>\u001b[39mN \u001b[38;5;129;01mand\u001b[39;00m num\u001b[38;5;241m+\u001b[39mB\u001b[38;5;241m<\u001b[39m\u001b[38;5;241m=\u001b[39mN \u001b[38;5;129;01mand\u001b[39;00m num\u001b[38;5;241m+\u001b[39mC\u001b[38;5;241m<\u001b[39m\u001b[38;5;241m=\u001b[39mN:\n\u001b[0;32m     16\u001b[0m         \u001b[38;5;28;01mreturn\u001b[39;00m Node(num\u001b[38;5;241m=\u001b[39mnum,\n\u001b[0;32m     17\u001b[0m                     a_child\u001b[38;5;241m=\u001b[39m\u001b[38;5;28;01mNone\u001b[39;00m,\n\u001b[0;32m     18\u001b[0m                     b_child\u001b[38;5;241m=\u001b[39mbuild_tree(num\u001b[38;5;241m+\u001b[39mB, A, B, C, N),\n\u001b[0;32m     19\u001b[0m                     c_child\u001b[38;5;241m=\u001b[39mbuild_tree(num\u001b[38;5;241m+\u001b[39mC, A, B, C, N))\n",
      "Cell \u001b[1;32mIn[7], line 13\u001b[0m, in \u001b[0;36mbuild_tree\u001b[1;34m(num, A, B, C, N)\u001b[0m\n\u001b[0;32m      8\u001b[0m \u001b[38;5;28;01mdef\u001b[39;00m \u001b[38;5;21mbuild_tree\u001b[39m(num, A, B, C, N):\n\u001b[0;32m      9\u001b[0m     \u001b[38;5;28;01mif\u001b[39;00m num\u001b[38;5;241m+\u001b[39mA\u001b[38;5;241m<\u001b[39m\u001b[38;5;241m=\u001b[39mN \u001b[38;5;129;01mand\u001b[39;00m num\u001b[38;5;241m+\u001b[39mB\u001b[38;5;241m<\u001b[39m\u001b[38;5;241m=\u001b[39mN \u001b[38;5;129;01mand\u001b[39;00m num\u001b[38;5;241m+\u001b[39mC\u001b[38;5;241m<\u001b[39m\u001b[38;5;241m=\u001b[39mN:\n\u001b[0;32m     10\u001b[0m         \u001b[38;5;28;01mreturn\u001b[39;00m Node(num\u001b[38;5;241m=\u001b[39mnum,\n\u001b[0;32m     11\u001b[0m                     a_child\u001b[38;5;241m=\u001b[39mbuild_tree(num\u001b[38;5;241m+\u001b[39mA, A, B, C, N),\n\u001b[0;32m     12\u001b[0m                     b_child\u001b[38;5;241m=\u001b[39mbuild_tree(num\u001b[38;5;241m+\u001b[39mB, A, B, C, N),\n\u001b[1;32m---> 13\u001b[0m                     c_child\u001b[38;5;241m=\u001b[39m\u001b[43mbuild_tree\u001b[49m\u001b[43m(\u001b[49m\u001b[43mnum\u001b[49m\u001b[38;5;241;43m+\u001b[39;49m\u001b[43mC\u001b[49m\u001b[43m,\u001b[49m\u001b[43m \u001b[49m\u001b[43mA\u001b[49m\u001b[43m,\u001b[49m\u001b[43m \u001b[49m\u001b[43mB\u001b[49m\u001b[43m,\u001b[49m\u001b[43m \u001b[49m\u001b[43mC\u001b[49m\u001b[43m,\u001b[49m\u001b[43m \u001b[49m\u001b[43mN\u001b[49m\u001b[43m)\u001b[49m)\n\u001b[0;32m     15\u001b[0m     \u001b[38;5;28;01melif\u001b[39;00m num\u001b[38;5;241m+\u001b[39mA\u001b[38;5;241m>\u001b[39mN \u001b[38;5;129;01mand\u001b[39;00m num\u001b[38;5;241m+\u001b[39mB\u001b[38;5;241m<\u001b[39m\u001b[38;5;241m=\u001b[39mN \u001b[38;5;129;01mand\u001b[39;00m num\u001b[38;5;241m+\u001b[39mC\u001b[38;5;241m<\u001b[39m\u001b[38;5;241m=\u001b[39mN:\n\u001b[0;32m     16\u001b[0m         \u001b[38;5;28;01mreturn\u001b[39;00m Node(num\u001b[38;5;241m=\u001b[39mnum,\n\u001b[0;32m     17\u001b[0m                     a_child\u001b[38;5;241m=\u001b[39m\u001b[38;5;28;01mNone\u001b[39;00m,\n\u001b[0;32m     18\u001b[0m                     b_child\u001b[38;5;241m=\u001b[39mbuild_tree(num\u001b[38;5;241m+\u001b[39mB, A, B, C, N),\n\u001b[0;32m     19\u001b[0m                     c_child\u001b[38;5;241m=\u001b[39mbuild_tree(num\u001b[38;5;241m+\u001b[39mC, A, B, C, N))\n",
      "Cell \u001b[1;32mIn[7], line 12\u001b[0m, in \u001b[0;36mbuild_tree\u001b[1;34m(num, A, B, C, N)\u001b[0m\n\u001b[0;32m      8\u001b[0m \u001b[38;5;28;01mdef\u001b[39;00m \u001b[38;5;21mbuild_tree\u001b[39m(num, A, B, C, N):\n\u001b[0;32m      9\u001b[0m     \u001b[38;5;28;01mif\u001b[39;00m num\u001b[38;5;241m+\u001b[39mA\u001b[38;5;241m<\u001b[39m\u001b[38;5;241m=\u001b[39mN \u001b[38;5;129;01mand\u001b[39;00m num\u001b[38;5;241m+\u001b[39mB\u001b[38;5;241m<\u001b[39m\u001b[38;5;241m=\u001b[39mN \u001b[38;5;129;01mand\u001b[39;00m num\u001b[38;5;241m+\u001b[39mC\u001b[38;5;241m<\u001b[39m\u001b[38;5;241m=\u001b[39mN:\n\u001b[0;32m     10\u001b[0m         \u001b[38;5;28;01mreturn\u001b[39;00m Node(num\u001b[38;5;241m=\u001b[39mnum,\n\u001b[0;32m     11\u001b[0m                     a_child\u001b[38;5;241m=\u001b[39mbuild_tree(num\u001b[38;5;241m+\u001b[39mA, A, B, C, N),\n\u001b[1;32m---> 12\u001b[0m                     b_child\u001b[38;5;241m=\u001b[39m\u001b[43mbuild_tree\u001b[49m\u001b[43m(\u001b[49m\u001b[43mnum\u001b[49m\u001b[38;5;241;43m+\u001b[39;49m\u001b[43mB\u001b[49m\u001b[43m,\u001b[49m\u001b[43m \u001b[49m\u001b[43mA\u001b[49m\u001b[43m,\u001b[49m\u001b[43m \u001b[49m\u001b[43mB\u001b[49m\u001b[43m,\u001b[49m\u001b[43m \u001b[49m\u001b[43mC\u001b[49m\u001b[43m,\u001b[49m\u001b[43m \u001b[49m\u001b[43mN\u001b[49m\u001b[43m)\u001b[49m,\n\u001b[0;32m     13\u001b[0m                     c_child\u001b[38;5;241m=\u001b[39mbuild_tree(num\u001b[38;5;241m+\u001b[39mC, A, B, C, N))\n\u001b[0;32m     15\u001b[0m     \u001b[38;5;28;01melif\u001b[39;00m num\u001b[38;5;241m+\u001b[39mA\u001b[38;5;241m>\u001b[39mN \u001b[38;5;129;01mand\u001b[39;00m num\u001b[38;5;241m+\u001b[39mB\u001b[38;5;241m<\u001b[39m\u001b[38;5;241m=\u001b[39mN \u001b[38;5;129;01mand\u001b[39;00m num\u001b[38;5;241m+\u001b[39mC\u001b[38;5;241m<\u001b[39m\u001b[38;5;241m=\u001b[39mN:\n\u001b[0;32m     16\u001b[0m         \u001b[38;5;28;01mreturn\u001b[39;00m Node(num\u001b[38;5;241m=\u001b[39mnum,\n\u001b[0;32m     17\u001b[0m                     a_child\u001b[38;5;241m=\u001b[39m\u001b[38;5;28;01mNone\u001b[39;00m,\n\u001b[0;32m     18\u001b[0m                     b_child\u001b[38;5;241m=\u001b[39mbuild_tree(num\u001b[38;5;241m+\u001b[39mB, A, B, C, N),\n\u001b[0;32m     19\u001b[0m                     c_child\u001b[38;5;241m=\u001b[39mbuild_tree(num\u001b[38;5;241m+\u001b[39mC, A, B, C, N))\n",
      "Cell \u001b[1;32mIn[7], line 29\u001b[0m, in \u001b[0;36mbuild_tree\u001b[1;34m(num, A, B, C, N)\u001b[0m\n\u001b[0;32m     22\u001b[0m     \u001b[38;5;28;01mreturn\u001b[39;00m Node(num\u001b[38;5;241m=\u001b[39mnum,\n\u001b[0;32m     23\u001b[0m                 a_child\u001b[38;5;241m=\u001b[39mbuild_tree(num\u001b[38;5;241m+\u001b[39mA, A, B, C, N),\n\u001b[0;32m     24\u001b[0m                 b_child\u001b[38;5;241m=\u001b[39m\u001b[38;5;28;01mNone\u001b[39;00m,\n\u001b[0;32m     25\u001b[0m                 c_child\u001b[38;5;241m=\u001b[39mbuild_tree(num\u001b[38;5;241m+\u001b[39mC, A, B, C, N))\n\u001b[0;32m     27\u001b[0m \u001b[38;5;28;01melif\u001b[39;00m num\u001b[38;5;241m+\u001b[39mA\u001b[38;5;241m<\u001b[39m\u001b[38;5;241m=\u001b[39mN \u001b[38;5;129;01mand\u001b[39;00m num\u001b[38;5;241m+\u001b[39mB\u001b[38;5;241m<\u001b[39m\u001b[38;5;241m=\u001b[39mN \u001b[38;5;129;01mand\u001b[39;00m num\u001b[38;5;241m+\u001b[39mC\u001b[38;5;241m>\u001b[39mN:\n\u001b[0;32m     28\u001b[0m     \u001b[38;5;28;01mreturn\u001b[39;00m Node(num\u001b[38;5;241m=\u001b[39mnum,\n\u001b[1;32m---> 29\u001b[0m                 a_child\u001b[38;5;241m=\u001b[39m\u001b[43mbuild_tree\u001b[49m\u001b[43m(\u001b[49m\u001b[43mnum\u001b[49m\u001b[38;5;241;43m+\u001b[39;49m\u001b[43mA\u001b[49m\u001b[43m,\u001b[49m\u001b[43m \u001b[49m\u001b[43mA\u001b[49m\u001b[43m,\u001b[49m\u001b[43m \u001b[49m\u001b[43mB\u001b[49m\u001b[43m,\u001b[49m\u001b[43m \u001b[49m\u001b[43mC\u001b[49m\u001b[43m,\u001b[49m\u001b[43m \u001b[49m\u001b[43mN\u001b[49m\u001b[43m)\u001b[49m,\n\u001b[0;32m     30\u001b[0m                 b_child\u001b[38;5;241m=\u001b[39mbuild_tree(num\u001b[38;5;241m+\u001b[39mB, A, B, C, N),\n\u001b[0;32m     31\u001b[0m                 c_child\u001b[38;5;241m=\u001b[39m\u001b[38;5;28;01mNone\u001b[39;00m)\n\u001b[0;32m     33\u001b[0m \u001b[38;5;28;01melif\u001b[39;00m num\u001b[38;5;241m+\u001b[39mA\u001b[38;5;241m>\u001b[39mN \u001b[38;5;129;01mand\u001b[39;00m num\u001b[38;5;241m+\u001b[39mB\u001b[38;5;241m>\u001b[39mN \u001b[38;5;129;01mand\u001b[39;00m num\u001b[38;5;241m+\u001b[39mC\u001b[38;5;241m<\u001b[39m\u001b[38;5;241m=\u001b[39mN:\n\u001b[0;32m     34\u001b[0m     \u001b[38;5;28;01mreturn\u001b[39;00m Node(num\u001b[38;5;241m=\u001b[39mnum,\n\u001b[0;32m     35\u001b[0m                 a_child\u001b[38;5;241m=\u001b[39m\u001b[38;5;28;01mNone\u001b[39;00m,\n\u001b[0;32m     36\u001b[0m                 b_child\u001b[38;5;241m=\u001b[39m\u001b[38;5;28;01mNone\u001b[39;00m,\n\u001b[0;32m     37\u001b[0m                 c_child\u001b[38;5;241m=\u001b[39mbuild_tree(num\u001b[38;5;241m+\u001b[39mC, A, B, C, N))\n",
      "Cell \u001b[1;32mIn[7], line 28\u001b[0m, in \u001b[0;36mbuild_tree\u001b[1;34m(num, A, B, C, N)\u001b[0m\n\u001b[0;32m     22\u001b[0m     \u001b[38;5;28;01mreturn\u001b[39;00m Node(num\u001b[38;5;241m=\u001b[39mnum,\n\u001b[0;32m     23\u001b[0m                 a_child\u001b[38;5;241m=\u001b[39mbuild_tree(num\u001b[38;5;241m+\u001b[39mA, A, B, C, N),\n\u001b[0;32m     24\u001b[0m                 b_child\u001b[38;5;241m=\u001b[39m\u001b[38;5;28;01mNone\u001b[39;00m,\n\u001b[0;32m     25\u001b[0m                 c_child\u001b[38;5;241m=\u001b[39mbuild_tree(num\u001b[38;5;241m+\u001b[39mC, A, B, C, N))\n\u001b[0;32m     27\u001b[0m \u001b[38;5;28;01melif\u001b[39;00m num\u001b[38;5;241m+\u001b[39mA\u001b[38;5;241m<\u001b[39m\u001b[38;5;241m=\u001b[39mN \u001b[38;5;129;01mand\u001b[39;00m num\u001b[38;5;241m+\u001b[39mB\u001b[38;5;241m<\u001b[39m\u001b[38;5;241m=\u001b[39mN \u001b[38;5;129;01mand\u001b[39;00m num\u001b[38;5;241m+\u001b[39mC\u001b[38;5;241m>\u001b[39mN:\n\u001b[1;32m---> 28\u001b[0m     \u001b[38;5;28;01mreturn\u001b[39;00m \u001b[43mNode\u001b[49m\u001b[43m(\u001b[49m\u001b[43mnum\u001b[49m\u001b[38;5;241;43m=\u001b[39;49m\u001b[43mnum\u001b[49m\u001b[43m,\u001b[49m\n\u001b[0;32m     29\u001b[0m \u001b[43m                \u001b[49m\u001b[43ma_child\u001b[49m\u001b[38;5;241;43m=\u001b[39;49m\u001b[43mbuild_tree\u001b[49m\u001b[43m(\u001b[49m\u001b[43mnum\u001b[49m\u001b[38;5;241;43m+\u001b[39;49m\u001b[43mA\u001b[49m\u001b[43m,\u001b[49m\u001b[43m \u001b[49m\u001b[43mA\u001b[49m\u001b[43m,\u001b[49m\u001b[43m \u001b[49m\u001b[43mB\u001b[49m\u001b[43m,\u001b[49m\u001b[43m \u001b[49m\u001b[43mC\u001b[49m\u001b[43m,\u001b[49m\u001b[43m \u001b[49m\u001b[43mN\u001b[49m\u001b[43m)\u001b[49m\u001b[43m,\u001b[49m\n\u001b[0;32m     30\u001b[0m \u001b[43m                \u001b[49m\u001b[43mb_child\u001b[49m\u001b[38;5;241;43m=\u001b[39;49m\u001b[43mbuild_tree\u001b[49m\u001b[43m(\u001b[49m\u001b[43mnum\u001b[49m\u001b[38;5;241;43m+\u001b[39;49m\u001b[43mB\u001b[49m\u001b[43m,\u001b[49m\u001b[43m \u001b[49m\u001b[43mA\u001b[49m\u001b[43m,\u001b[49m\u001b[43m \u001b[49m\u001b[43mB\u001b[49m\u001b[43m,\u001b[49m\u001b[43m \u001b[49m\u001b[43mC\u001b[49m\u001b[43m,\u001b[49m\u001b[43m \u001b[49m\u001b[43mN\u001b[49m\u001b[43m)\u001b[49m\u001b[43m,\u001b[49m\n\u001b[0;32m     31\u001b[0m \u001b[43m                \u001b[49m\u001b[43mc_child\u001b[49m\u001b[38;5;241;43m=\u001b[39;49m\u001b[38;5;28;43;01mNone\u001b[39;49;00m\u001b[43m)\u001b[49m\n\u001b[0;32m     33\u001b[0m \u001b[38;5;28;01melif\u001b[39;00m num\u001b[38;5;241m+\u001b[39mA\u001b[38;5;241m>\u001b[39mN \u001b[38;5;129;01mand\u001b[39;00m num\u001b[38;5;241m+\u001b[39mB\u001b[38;5;241m>\u001b[39mN \u001b[38;5;129;01mand\u001b[39;00m num\u001b[38;5;241m+\u001b[39mC\u001b[38;5;241m<\u001b[39m\u001b[38;5;241m=\u001b[39mN:\n\u001b[0;32m     34\u001b[0m     \u001b[38;5;28;01mreturn\u001b[39;00m Node(num\u001b[38;5;241m=\u001b[39mnum,\n\u001b[0;32m     35\u001b[0m                 a_child\u001b[38;5;241m=\u001b[39m\u001b[38;5;28;01mNone\u001b[39;00m,\n\u001b[0;32m     36\u001b[0m                 b_child\u001b[38;5;241m=\u001b[39m\u001b[38;5;28;01mNone\u001b[39;00m,\n\u001b[0;32m     37\u001b[0m                 c_child\u001b[38;5;241m=\u001b[39mbuild_tree(num\u001b[38;5;241m+\u001b[39mC, A, B, C, N))\n",
      "\u001b[1;31mKeyboardInterrupt\u001b[0m: "
     ]
    }
   ],
   "source": [
    "class Node():\n",
    "    def __init__(self, num, a_child=None, b_child=None, c_child=None) -> None:\n",
    "        self.num = num\n",
    "        self.a_child = a_child\n",
    "        self.b_child = b_child\n",
    "        self.c_child = c_child\n",
    "        \n",
    "def build_tree(num, A, B, C, N):\n",
    "    if num+A<=N and num+B<=N and num+C<=N:\n",
    "        return Node(num=num,\n",
    "                    a_child=build_tree(num+A, A, B, C, N),\n",
    "                    b_child=build_tree(num+B, A, B, C, N),\n",
    "                    c_child=build_tree(num+C, A, B, C, N))\n",
    "    \n",
    "    elif num+A>N and num+B<=N and num+C<=N:\n",
    "        return Node(num=num,\n",
    "                    a_child=None,\n",
    "                    b_child=build_tree(num+B, A, B, C, N),\n",
    "                    c_child=build_tree(num+C, A, B, C, N))\n",
    "    \n",
    "    elif num+A<=N and num+B>N and num+C<=N:\n",
    "        return Node(num=num,\n",
    "                    a_child=build_tree(num+A, A, B, C, N),\n",
    "                    b_child=None,\n",
    "                    c_child=build_tree(num+C, A, B, C, N))\n",
    "    \n",
    "    elif num+A<=N and num+B<=N and num+C>N:\n",
    "        return Node(num=num,\n",
    "                    a_child=build_tree(num+A, A, B, C, N),\n",
    "                    b_child=build_tree(num+B, A, B, C, N),\n",
    "                    c_child=None)\n",
    "    \n",
    "    elif num+A>N and num+B>N and num+C<=N:\n",
    "        return Node(num=num,\n",
    "                    a_child=None,\n",
    "                    b_child=None,\n",
    "                    c_child=build_tree(num+C, A, B, C, N))\n",
    "\n",
    "    elif num+A>N and num+B<=N and num+C>N:\n",
    "        return Node(num=num,\n",
    "                    a_child=None,\n",
    "                    b_child=build_tree(num+B, A, B, C, N),\n",
    "                    c_child=None)\n",
    "    \n",
    "    elif num+A<=N and num+B>N and num+C>N:\n",
    "        return Node(num=num,\n",
    "                    a_child=build_tree(num+A, A, B, C, N),\n",
    "                    b_child=None,\n",
    "                    c_child=None)\n",
    "\n",
    "    else:\n",
    "        return Node(num=num,\n",
    "                    a_child=None,\n",
    "                    b_child=None,\n",
    "                    c_child=None)\n",
    "                    \n",
    "def kid_counter(tree, mylist):\n",
    "\n",
    "    kids = [tree.a_child, tree.b_child, tree.c_child]\n",
    "\n",
    "    for kid in kids:\n",
    "        if kid:\n",
    "            if kid.num not in mylist:\n",
    "                mylist.append(kid.num)\n",
    "            kid_counter(kid, mylist)\n",
    "    return mylist\n",
    "\n",
    "def do_everything():\n",
    "    N = int(input())  \n",
    "    A,B,C = [int(i) for i in input().split()]\n",
    "        \n",
    "    tree = build_tree(1, A, B, C, N)\n",
    "    data = []\n",
    "    answer = len(kid_counter(tree, data))+1\n",
    "    print(answer)\n",
    "\n",
    "do_everything()"
   ]
  },
  {
   "cell_type": "code",
   "execution_count": 40,
   "metadata": {},
   "outputs": [],
   "source": [
    "import numpy as np"
   ]
  },
  {
   "cell_type": "code",
   "execution_count": 73,
   "metadata": {},
   "outputs": [
    {
     "name": "stdout",
     "output_type": "stream",
     "text": [
      "9\n"
     ]
    }
   ],
   "source": [
    "N = int(input())  \n",
    "A,B,C = [int(i) for i in input().split()]\n",
    "\n",
    "a = N//A+1\n",
    "b = N//B+1\n",
    "c = N//C+1\n",
    "\n",
    "table = np.ones((a,b,c))\n",
    "for i in range(a):\n",
    "    for j in range(b):\n",
    "        for k in range(c):\n",
    "            table[i,j,k] += i*A+j*B+k*C\n",
    "\n",
    "print((table<=N).sum())"
   ]
  },
  {
   "cell_type": "code",
   "execution_count": 3,
   "metadata": {},
   "outputs": [],
   "source": [
    "N = int(input())\n",
    "A, B, C = [int(i) for i in input().split()]"
   ]
  },
  {
   "cell_type": "code",
   "execution_count": 4,
   "metadata": {},
   "outputs": [
    {
     "name": "stdout",
     "output_type": "stream",
     "text": [
      "1\n"
     ]
    }
   ],
   "source": [
    "#N = int(input())\n",
    "#A, B, C = [int(i) for i in input().split()]\n",
    "\n",
    "a = N//A+1\n",
    "b = N//B+1\n",
    "c = N//C+1\n",
    "\n",
    "res = []\n",
    "\n",
    "for i in range(a):\n",
    "    for j in range(b):\n",
    "        for k in range(c):\n",
    "            res.append(1+i*A+j*B+k*C)\n",
    "            \n",
    "out = []\n",
    "for r in res:\n",
    "    if r not in out and r<=N:\n",
    "        out.append(r)\n",
    "\n",
    "print(len(out))"
   ]
  },
  {
   "cell_type": "code",
   "execution_count": 17,
   "metadata": {},
   "outputs": [],
   "source": [
    "N = int(10**18)\n",
    "A, B, C = 1, 1, 1"
   ]
  },
  {
   "cell_type": "code",
   "execution_count": 11,
   "metadata": {},
   "outputs": [
    {
     "data": {
      "text/plain": [
       "17"
      ]
     },
     "execution_count": 11,
     "metadata": {},
     "output_type": "execute_result"
    }
   ],
   "source": [
    "N = int(input())\n",
    "N"
   ]
  },
  {
   "cell_type": "code",
   "execution_count": 12,
   "metadata": {},
   "outputs": [],
   "source": [
    "k = 0\n",
    "while N:\n",
    "    k+=1\n",
    "    N = N//2"
   ]
  },
  {
   "cell_type": "code",
   "execution_count": 13,
   "metadata": {},
   "outputs": [
    {
     "data": {
      "text/plain": [
       "(5, 0)"
      ]
     },
     "execution_count": 13,
     "metadata": {},
     "output_type": "execute_result"
    }
   ],
   "source": [
    "k, N"
   ]
  },
  {
   "cell_type": "code",
   "execution_count": null,
   "metadata": {},
   "outputs": [],
   "source": []
  }
 ],
 "metadata": {
  "kernelspec": {
   "display_name": "Python 3",
   "language": "python",
   "name": "python3"
  },
  "language_info": {
   "codemirror_mode": {
    "name": "ipython",
    "version": 3
   },
   "file_extension": ".py",
   "mimetype": "text/x-python",
   "name": "python",
   "nbconvert_exporter": "python",
   "pygments_lexer": "ipython3",
   "version": "3.11.4"
  }
 },
 "nbformat": 4,
 "nbformat_minor": 4
}
