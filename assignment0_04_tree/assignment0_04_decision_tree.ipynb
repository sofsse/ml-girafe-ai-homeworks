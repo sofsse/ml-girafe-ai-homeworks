{
 "cells": [
  {
   "cell_type": "markdown",
   "metadata": {},
   "source": [
    "## assignment 04: Decision Tree construction"
   ]
  },
  {
   "cell_type": "code",
   "execution_count": null,
   "metadata": {},
   "outputs": [],
   "source": [
    "# If working in colab, uncomment the following line\n",
    "# ! wget https://raw.githubusercontent.com/girafe-ai/ml-course/22f_basic/homeworks/assignment0_04_tree/tree.py -nc"
   ]
  },
  {
   "cell_type": "code",
   "execution_count": 58,
   "metadata": {},
   "outputs": [
    {
     "name": "stdout",
     "output_type": "stream",
     "text": [
      "The autoreload extension is already loaded. To reload it, use:\n",
      "  %reload_ext autoreload\n"
     ]
    }
   ],
   "source": [
    "import numpy as np\n",
    "from matplotlib import pyplot as plt\n",
    "%matplotlib inline\n",
    "from sklearn.base import BaseEstimator\n",
    "from sklearn.datasets import make_classification, make_regression, load_digits #, load_boston\n",
    "from sklearn.model_selection import train_test_split, GridSearchCV\n",
    "from sklearn.metrics import accuracy_score, mean_squared_error\n",
    "import pandas as pd\n",
    "\n",
    "%load_ext autoreload\n",
    "%autoreload 2"
   ]
  },
  {
   "cell_type": "markdown",
   "metadata": {},
   "source": [
    "Let's fix the `random_state` (a.k.a. random seed)."
   ]
  },
  {
   "cell_type": "code",
   "execution_count": 59,
   "metadata": {},
   "outputs": [],
   "source": [
    "RANDOM_STATE = 42"
   ]
  },
  {
   "cell_type": "markdown",
   "metadata": {},
   "source": [
    "__Your ultimate task for today is to impement the `DecisionTree` class and use it to solve classification and regression problems.__\n",
    "\n",
    "__Specifications:__\n",
    "- The class inherits from `sklearn.BaseEstimator`;\n",
    "- Constructor is implemented for you. It has the following parameters:\n",
    "    * `max_depth` - maximum depth of the tree; `np.inf` by default\n",
    "    * `min_samples_split` - minimal number of samples in the leaf to make a split; `2` by default;\n",
    "    * `criterion` - criterion to select the best split; in classification one of `['gini', 'entropy']`, default `gini`; in regression `variance`;\n",
    "\n",
    "- `fit` method takes `X` (`numpy.array` of type `float` shaped `(n_objects, n_features)`) and `y` (`numpy.array` of type float shaped `(n_objects, 1)` in regression; `numpy.array` of type int shaped `(n_objects, 1)` with class labels in classification). It works inplace and fits the `DecisionTree` class instance to the provided data from scratch.\n",
    "\n",
    "- `predict` method takes `X` (`numpy.array` of type `float` shaped `(n_objects, n_features)`) and returns the predicted $\\hat{y}$ values. In classification it is a class label for every object (the most frequent in the leaf; if several classes meet this requirement select the one with the smallest class index). In regression it is the desired constant (e.g. mean value for `variance` criterion)\n",
    "\n",
    "- `predict_proba` method (works only for classification (`gini` or `entropy` criterion). It takes `X` (`numpy.array` of type `float` shaped `(n_objects, n_features)`) and returns the `numpy.array` of type `float` shaped `(n_objects, n_features)` with class probabilities for every object from `X`. Class $i$ probability equals the ratio of $i$ class objects that got in this node in the training set.\n",
    "\n",
    "    \n",
    "__Small recap:__\n",
    "\n",
    "To find the optimal split the following functional is evaluated:\n",
    "    \n",
    "$$G(j, t) = H(Q) - \\dfrac{|L|}{|Q|} H(L) - \\dfrac{|R|}{|Q|} H(R),$$\n",
    "    where $Q$ is the dataset from the current node, $L$ and $R$ are left and right subsets defined by the split $x^{(j)} < t$.\n",
    "\n",
    "\n",
    "\n",
    "1. Classification. Let $p_i$ be the probability of $i$ class in subset $X$ (ratio of the $i$ class objects in the dataset). The criterions are defined as:\n",
    "    \n",
    "    * `gini`: Gini impurity $$H(R) = 1 -\\sum_{i = 1}^K p_i^2$$\n",
    "    \n",
    "    * `entropy`: Entropy $$H(R) = -\\sum_{i = 1}^K p_i \\log(p_i)$$ (One might use the natural logarithm).\n",
    "    \n",
    "2. Regression. Let $y_l$ be the target value for the $R$, $\\mathbf{y} = (y_1, \\dots, y_N)$ – all targets for the selected dataset $X$.\n",
    "    \n",
    "    * `variance`: $$H(R) = \\dfrac{1}{|R|} \\sum_{y_j \\in R}(y_j - \\text{mean}(\\mathbf{y}))^2$$\n",
    "    \n",
    "    * `mad_median`: $$H(R) = \\dfrac{1}{|R|} \\sum_{y_j \\in R}|y_j - \\text{median}(\\mathbf{y})|$$\n",
    "        \n"
   ]
  },
  {
   "cell_type": "markdown",
   "metadata": {},
   "source": [
    "**Hints and comments**:\n",
    "\n",
    "* No need to deal with categorical features, they will not be present.\n",
    "* Siple greedy recursive procedure is enough. However, you can speed it up somehow (e.g. using percentiles).\n",
    "* Please, do not copy implementations available online. You are supposed to build very simple example of the Decision Tree."
   ]
  },
  {
   "cell_type": "markdown",
   "metadata": {},
   "source": [
    "File `tree.py` is waiting for you. Implement all the needed methods in that file."
   ]
  },
  {
   "cell_type": "markdown",
   "metadata": {},
   "source": [
    "### Check yourself"
   ]
  },
  {
   "cell_type": "code",
   "execution_count": 523,
   "metadata": {},
   "outputs": [],
   "source": [
    "from tree import entropy, gini, variance, mad_median, DecisionTree"
   ]
  },
  {
   "cell_type": "markdown",
   "metadata": {},
   "source": [
    "#### Simple check"
   ]
  },
  {
   "cell_type": "code",
   "execution_count": 524,
   "metadata": {},
   "outputs": [],
   "source": [
    "X = np.ones((4, 5), dtype=float) * np.arange(4)[:, None]\n",
    "y = np.arange(4)[:, None] + np.asarray([0.2, -0.3, 0.1, 0.4])[:, None]\n",
    "class_estimator = DecisionTree(max_depth=10, criterion_name='gini')\n",
    "\n",
    "(X_l, y_l), (X_r, y_r) = class_estimator.make_split(1, 1., X, y)\n",
    "\n",
    "assert np.array_equal(X[:1], X_l)\n",
    "assert np.array_equal(X[1:], X_r)\n",
    "assert np.array_equal(y[:1], y_l)\n",
    "assert np.array_equal(y[1:], y_r)"
   ]
  },
  {
   "cell_type": "markdown",
   "metadata": {},
   "source": [
    "#### Classification problem"
   ]
  },
  {
   "cell_type": "code",
   "execution_count": 525,
   "metadata": {},
   "outputs": [],
   "source": [
    "digits_data = load_digits().data\n",
    "digits_target = load_digits().target[:, None] # to make the targets consistent with our model interfaces\n",
    "X_train, X_test, y_train, y_test = train_test_split(digits_data, digits_target, test_size=0.2, random_state=RANDOM_STATE)"
   ]
  },
  {
   "cell_type": "code",
   "execution_count": 526,
   "metadata": {},
   "outputs": [],
   "source": [
    "assert len(y_train.shape) == 2 and y_train.shape[0] == len(X_train)"
   ]
  },
  {
   "cell_type": "code",
   "execution_count": 534,
   "metadata": {},
   "outputs": [
    {
     "data": {
      "text/plain": [
       "(0.9686847599164927, 0.8611111111111112, 11)"
      ]
     },
     "execution_count": 534,
     "metadata": {},
     "output_type": "execute_result"
    }
   ],
   "source": [
    "class_estimator = DecisionTree(max_depth=10, criterion_name='gini')\n",
    "class_estimator.fit(X_train, y_train)\n",
    "ans = class_estimator.predict(X_test)\n",
    "accuracy_gini = accuracy_score(y_test, ans)\n",
    "accuracy_score(y_train, class_estimator.predict(X_train)), accuracy_gini, class_estimator.get_depth(class_estimator.root)"
   ]
  },
  {
   "cell_type": "code",
   "execution_count": 531,
   "metadata": {},
   "outputs": [
    {
     "name": "stdout",
     "output_type": "stream",
     "text": [
      "36 1.0\n",
      "21 1.0\n",
      "60 3.0\n",
      "33 5.0\n",
      "43 3.0\n",
      "26 4.0\n",
      "42 12.0\n",
      "10 1.0\n",
      "21 11.0\n",
      "27 4.0\n",
      "None None\n"
     ]
    },
    {
     "data": {
      "text/plain": [
       "'Path: 11'"
      ]
     },
     "execution_count": 531,
     "metadata": {},
     "output_type": "execute_result"
    }
   ],
   "source": [
    "pathlen = []\n",
    "\n",
    "y_predicted = []\n",
    "for x in X_test[1:2]:\n",
    "    counter = 0\n",
    "    tree = class_estimator.root\n",
    "    while tree:\n",
    "        counter += 1\n",
    "        print(tree.feature_index, tree.value)\n",
    "        try:\n",
    "            if x[tree.feature_index]<tree.value:\n",
    "                tree = tree.left_child\n",
    "            else:\n",
    "                tree = tree.right_child\n",
    "        except:\n",
    "            break\n",
    "    pathlen.append(counter)\n",
    "    y_predicted.append(np.argmax(tree.proba))\n",
    "y_predicted = np.array(y_predicted)\n",
    "\n",
    "f'Path: {pathlen[0]}'"
   ]
  },
  {
   "cell_type": "code",
   "execution_count": 535,
   "metadata": {},
   "outputs": [
    {
     "data": {
      "text/plain": [
       "(0.9686847599164927, 0.85, 10, 10)"
      ]
     },
     "execution_count": 535,
     "metadata": {},
     "output_type": "execute_result"
    }
   ],
   "source": [
    "from sklearn.tree import DecisionTreeClassifier\n",
    "\n",
    "dtree = DecisionTreeClassifier(max_depth=10, splitter='best', criterion='gini', random_state=RANDOM_STATE, max_features=None, max_leaf_nodes=None)\n",
    "dtree.fit(X_train, y_train)\n",
    "\n",
    "y_pred_train = dtree.predict(X_train)\n",
    "y_pred_test = dtree.predict(X_test)\n",
    "accuracy_score(y_train, y_pred_train), accuracy_score(y_test, y_pred_test), dtree.get_depth(), dtree.n_classes_"
   ]
  },
  {
   "cell_type": "code",
   "execution_count": 536,
   "metadata": {},
   "outputs": [
    {
     "name": "stdout",
     "output_type": "stream",
     "text": [
      "The binary tree structure has 221 nodes and has the following tree structure:\n",
      "\n",
      "node=0 is a split node with value=[[145. 154. 144. 149. 135. 135. 146. 145. 144. 140.]]: go to node 1 if X[:, 36] <= 0.5 else to node 36.\n",
      "\tnode=1 is a split node with value=[[143.   0.   3.   1.   6.  17.   4.   0.   3.  46.]]: go to node 2 if X[:, 42] <= 5.0 else to node 13.\n",
      "\t\tnode=2 is a split node with value=[[ 0.  0.  1.  1.  0. 12.  0.  0.  0. 45.]]: go to node 3 if X[:, 21] <= 6.5 else to node 8.\n",
      "\t\t\tnode=3 is a split node with value=[[ 0.  0.  1.  0.  0. 11.  0.  0.  0.  1.]]: go to node 4 if X[:, 61] <= 11.5 else to node 5.\n",
      "\t\t\t\tnode=4 is a leaf node with value=[[ 0.  0.  0.  0.  0. 11.  0.  0.  0.  0.]].\n",
      "\t\t\t\tnode=5 is a split node with value=[[0. 0. 1. 0. 0. 0. 0. 0. 0. 1.]]: go to node 6 if X[:, 35] <= 6.5 else to node 7.\n",
      "\t\t\t\t\tnode=6 is a leaf node with value=[[0. 0. 0. 0. 0. 0. 0. 0. 0. 1.]].\n",
      "\t\t\t\t\tnode=7 is a leaf node with value=[[0. 0. 1. 0. 0. 0. 0. 0. 0. 0.]].\n",
      "\t\t\tnode=8 is a split node with value=[[ 0.  0.  0.  1.  0.  1.  0.  0.  0. 44.]]: go to node 9 if X[:, 9] <= 10.5 else to node 12.\n",
      "\t\t\t\tnode=9 is a split node with value=[[ 0.  0.  0.  0.  0.  1.  0.  0.  0. 44.]]: go to node 10 if X[:, 33] <= 1.5 else to node 11.\n",
      "\t\t\t\t\tnode=10 is a leaf node with value=[[ 0.  0.  0.  0.  0.  0.  0.  0.  0. 44.]].\n",
      "\t\t\t\t\tnode=11 is a leaf node with value=[[0. 0. 0. 0. 0. 1. 0. 0. 0. 0.]].\n",
      "\t\t\t\tnode=12 is a leaf node with value=[[0. 0. 0. 1. 0. 0. 0. 0. 0. 0.]].\n",
      "\t\tnode=13 is a split node with value=[[143.   0.   2.   0.   6.   5.   4.   0.   3.   1.]]: go to node 14 if X[:, 21] <= 0.5 else to node 23.\n",
      "\t\t\tnode=14 is a split node with value=[[1. 0. 1. 0. 5. 4. 3. 0. 0. 0.]]: go to node 15 if X[:, 3] <= 4.5 else to node 16.\n",
      "\t\t\t\tnode=15 is a leaf node with value=[[0. 0. 0. 0. 5. 0. 0. 0. 0. 0.]].\n",
      "\t\t\t\tnode=16 is a split node with value=[[1. 0. 1. 0. 0. 4. 3. 0. 0. 0.]]: go to node 17 if X[:, 3] <= 15.5 else to node 22.\n",
      "\t\t\t\t\tnode=17 is a split node with value=[[1. 0. 1. 0. 0. 0. 3. 0. 0. 0.]]: go to node 18 if X[:, 62] <= 3.5 else to node 21.\n",
      "\t\t\t\t\t\tnode=18 is a split node with value=[[1. 0. 1. 0. 0. 0. 0. 0. 0. 0.]]: go to node 19 if X[:, 26] <= 9.5 else to node 20.\n",
      "\t\t\t\t\t\t\tnode=19 is a leaf node with value=[[0. 0. 1. 0. 0. 0. 0. 0. 0. 0.]].\n",
      "\t\t\t\t\t\t\tnode=20 is a leaf node with value=[[1. 0. 0. 0. 0. 0. 0. 0. 0. 0.]].\n",
      "\t\t\t\t\t\tnode=21 is a leaf node with value=[[0. 0. 0. 0. 0. 0. 3. 0. 0. 0.]].\n",
      "\t\t\t\t\tnode=22 is a leaf node with value=[[0. 0. 0. 0. 0. 4. 0. 0. 0. 0.]].\n",
      "\t\t\tnode=23 is a split node with value=[[142.   0.   1.   0.   1.   1.   1.   0.   3.   1.]]: go to node 24 if X[:, 28] <= 4.5 else to node 29.\n",
      "\t\t\t\tnode=24 is a split node with value=[[142.   0.   1.   0.   1.   0.   0.   0.   0.   0.]]: go to node 25 if X[:, 18] <= 2.5 else to node 28.\n",
      "\t\t\t\t\tnode=25 is a split node with value=[[0. 0. 1. 0. 1. 0. 0. 0. 0. 0.]]: go to node 26 if X[:, 53] <= 12.5 else to node 27.\n",
      "\t\t\t\t\t\tnode=26 is a leaf node with value=[[0. 0. 0. 0. 1. 0. 0. 0. 0. 0.]].\n",
      "\t\t\t\t\t\tnode=27 is a leaf node with value=[[0. 0. 1. 0. 0. 0. 0. 0. 0. 0.]].\n",
      "\t\t\t\t\tnode=28 is a leaf node with value=[[142.   0.   0.   0.   0.   0.   0.   0.   0.   0.]].\n",
      "\t\t\t\tnode=29 is a split node with value=[[0. 0. 0. 0. 0. 1. 1. 0. 3. 1.]]: go to node 30 if X[:, 28] <= 10.5 else to node 31.\n",
      "\t\t\t\t\tnode=30 is a leaf node with value=[[0. 0. 0. 0. 0. 0. 0. 0. 3. 0.]].\n",
      "\t\t\t\t\tnode=31 is a split node with value=[[0. 0. 0. 0. 0. 1. 1. 0. 0. 1.]]: go to node 32 if X[:, 59] <= 14.5 else to node 35.\n",
      "\t\t\t\t\t\tnode=32 is a split node with value=[[0. 0. 0. 0. 0. 0. 1. 0. 0. 1.]]: go to node 33 if X[:, 49] <= 0.5 else to node 34.\n",
      "\t\t\t\t\t\t\tnode=33 is a leaf node with value=[[0. 0. 0. 0. 0. 0. 1. 0. 0. 0.]].\n",
      "\t\t\t\t\t\t\tnode=34 is a leaf node with value=[[0. 0. 0. 0. 0. 0. 0. 0. 0. 1.]].\n",
      "\t\t\t\t\t\tnode=35 is a leaf node with value=[[0. 0. 0. 0. 0. 1. 0. 0. 0. 0.]].\n",
      "\tnode=36 is a split node with value=[[  2. 154. 141. 148. 129. 118. 142. 145. 141.  94.]]: go to node 37 if X[:, 21] <= 0.5 else to node 94.\n",
      "\t\tnode=37 is a split node with value=[[  0.  35.  38.  12.  22. 108. 139.   5.   3.   1.]]: go to node 38 if X[:, 42] <= 8.5 else to node 77.\n",
      "\t\t\tnode=38 is a split node with value=[[  0.  29.  30.  12.   6. 106.   2.   4.   3.   1.]]: go to node 39 if X[:, 5] <= 1.5 else to node 66.\n",
      "\t\t\t\tnode=39 is a split node with value=[[ 0. 29. 30. 11.  4.  2.  2.  3.  2.  1.]]: go to node 40 if X[:, 27] <= 13.5 else to node 53.\n",
      "\t\t\t\t\tnode=40 is a split node with value=[[ 0.  3. 30.  3.  3.  1.  1.  3.  1.  0.]]: go to node 41 if X[:, 37] <= 1.5 else to node 44.\n",
      "\t\t\t\t\t\tnode=41 is a split node with value=[[ 0.  0. 29.  0.  0.  0.  0.  0.  1.  0.]]: go to node 42 if X[:, 5] <= 0.5 else to node 43.\n",
      "\t\t\t\t\t\t\tnode=42 is a leaf node with value=[[ 0.  0. 29.  0.  0.  0.  0.  0.  0.  0.]].\n",
      "\t\t\t\t\t\t\tnode=43 is a leaf node with value=[[0. 0. 0. 0. 0. 0. 0. 0. 1. 0.]].\n",
      "\t\t\t\t\t\tnode=44 is a split node with value=[[0. 3. 1. 3. 3. 1. 1. 3. 0. 0.]]: go to node 45 if X[:, 60] <= 4.0 else to node 46.\n",
      "\t\t\t\t\t\t\tnode=45 is a leaf node with value=[[0. 0. 0. 0. 0. 0. 0. 3. 0. 0.]].\n",
      "\t\t\t\t\t\t\tnode=46 is a split node with value=[[0. 3. 1. 3. 3. 1. 1. 0. 0. 0.]]: go to node 47 if X[:, 33] <= 3.0 else to node 52.\n",
      "\t\t\t\t\t\t\t\tnode=47 is a split node with value=[[0. 3. 1. 3. 0. 1. 1. 0. 0. 0.]]: go to node 48 if X[:, 10] <= 0.5 else to node 49.\n",
      "\t\t\t\t\t\t\t\t\tnode=48 is a leaf node with value=[[0. 3. 0. 0. 0. 0. 0. 0. 0. 0.]].\n",
      "\t\t\t\t\t\t\t\t\tnode=49 is a split node with value=[[0. 0. 1. 3. 0. 1. 1. 0. 0. 0.]]: go to node 50 if X[:, 61] <= 8.0 else to node 51.\n",
      "\t\t\t\t\t\t\t\t\t\tnode=50 is a leaf node with value=[[0. 0. 0. 3. 0. 0. 0. 0. 0. 0.]].\n",
      "\t\t\t\t\t\t\t\t\t\tnode=51 is a leaf node with value=[[0. 0. 1. 0. 0. 1. 1. 0. 0. 0.]].\n",
      "\t\t\t\t\t\t\t\tnode=52 is a leaf node with value=[[0. 0. 0. 0. 3. 0. 0. 0. 0. 0.]].\n",
      "\t\t\t\t\tnode=53 is a split node with value=[[ 0. 26.  0.  8.  1.  1.  1.  0.  1.  1.]]: go to node 54 if X[:, 46] <= 2.5 else to node 55.\n",
      "\t\t\t\t\t\tnode=54 is a leaf node with value=[[ 0. 26.  0.  0.  0.  0.  0.  0.  0.  0.]].\n",
      "\t\t\t\t\t\tnode=55 is a split node with value=[[0. 0. 0. 8. 1. 1. 1. 0. 1. 1.]]: go to node 56 if X[:, 12] <= 14.5 else to node 65.\n",
      "\t\t\t\t\t\t\tnode=56 is a split node with value=[[0. 0. 0. 0. 1. 1. 1. 0. 1. 1.]]: go to node 57 if X[:, 33] <= 0.5 else to node 62.\n",
      "\t\t\t\t\t\t\t\tnode=57 is a split node with value=[[0. 0. 0. 0. 0. 0. 1. 0. 1. 1.]]: go to node 58 if X[:, 50] <= 6.0 else to node 61.\n",
      "\t\t\t\t\t\t\t\t\tnode=58 is a split node with value=[[0. 0. 0. 0. 0. 0. 0. 0. 1. 1.]]: go to node 59 if X[:, 53] <= 11.0 else to node 60.\n",
      "\t\t\t\t\t\t\t\t\t\tnode=59 is a leaf node with value=[[0. 0. 0. 0. 0. 0. 0. 0. 0. 1.]].\n",
      "\t\t\t\t\t\t\t\t\t\tnode=60 is a leaf node with value=[[0. 0. 0. 0. 0. 0. 0. 0. 1. 0.]].\n",
      "\t\t\t\t\t\t\t\t\tnode=61 is a leaf node with value=[[0. 0. 0. 0. 0. 0. 1. 0. 0. 0.]].\n",
      "\t\t\t\t\t\t\t\tnode=62 is a split node with value=[[0. 0. 0. 0. 1. 1. 0. 0. 0. 0.]]: go to node 63 if X[:, 36] <= 8.5 else to node 64.\n",
      "\t\t\t\t\t\t\t\t\tnode=63 is a leaf node with value=[[0. 0. 0. 0. 0. 1. 0. 0. 0. 0.]].\n",
      "\t\t\t\t\t\t\t\t\tnode=64 is a leaf node with value=[[0. 0. 0. 0. 1. 0. 0. 0. 0. 0.]].\n",
      "\t\t\t\t\t\t\tnode=65 is a leaf node with value=[[0. 0. 0. 8. 0. 0. 0. 0. 0. 0.]].\n",
      "\t\t\t\tnode=66 is a split node with value=[[  0.   0.   0.   1.   2. 104.   0.   1.   1.   0.]]: go to node 67 if X[:, 18] <= 4.5 else to node 72.\n",
      "\t\t\t\t\tnode=67 is a split node with value=[[0. 0. 0. 1. 1. 0. 0. 1. 0. 0.]]: go to node 68 if X[:, 11] <= 11.0 else to node 69.\n",
      "\t\t\t\t\t\tnode=68 is a leaf node with value=[[0. 0. 0. 0. 1. 0. 0. 0. 0. 0.]].\n",
      "\t\t\t\t\t\tnode=69 is a split node with value=[[0. 0. 0. 1. 0. 0. 0. 1. 0. 0.]]: go to node 70 if X[:, 2] <= 3.0 else to node 71.\n",
      "\t\t\t\t\t\t\tnode=70 is a leaf node with value=[[0. 0. 0. 0. 0. 0. 0. 1. 0. 0.]].\n",
      "\t\t\t\t\t\t\tnode=71 is a leaf node with value=[[0. 0. 0. 1. 0. 0. 0. 0. 0. 0.]].\n",
      "\t\t\t\t\tnode=72 is a split node with value=[[  0.   0.   0.   0.   1. 104.   0.   0.   1.   0.]]: go to node 73 if X[:, 8] <= 1.5 else to node 76.\n",
      "\t\t\t\t\t\tnode=73 is a split node with value=[[  0.   0.   0.   0.   1. 104.   0.   0.   0.   0.]]: go to node 74 if X[:, 24] <= 0.5 else to node 75.\n",
      "\t\t\t\t\t\t\tnode=74 is a leaf node with value=[[  0.   0.   0.   0.   0. 104.   0.   0.   0.   0.]].\n",
      "\t\t\t\t\t\t\tnode=75 is a leaf node with value=[[0. 0. 0. 0. 1. 0. 0. 0. 0. 0.]].\n",
      "\t\t\t\t\t\tnode=76 is a leaf node with value=[[0. 0. 0. 0. 0. 0. 0. 0. 1. 0.]].\n",
      "\t\t\tnode=77 is a split node with value=[[  0.   6.   8.   0.  16.   2. 137.   1.   0.   0.]]: go to node 78 if X[:, 54] <= 1.5 else to node 91.\n",
      "\t\t\t\tnode=78 is a split node with value=[[ 0.  6.  2.  0. 16.  2.  7.  1.  0.  0.]]: go to node 79 if X[:, 10] <= 5.5 else to node 82.\n",
      "\t\t\t\t\tnode=79 is a split node with value=[[ 0.  0.  0.  0. 16.  0.  1.  0.  0.  0.]]: go to node 80 if X[:, 53] <= 14.5 else to node 81.\n",
      "\t\t\t\t\t\tnode=80 is a leaf node with value=[[ 0.  0.  0.  0. 16.  0.  0.  0.  0.  0.]].\n",
      "\t\t\t\t\t\tnode=81 is a leaf node with value=[[0. 0. 0. 0. 0. 0. 1. 0. 0. 0.]].\n",
      "\t\t\t\t\tnode=82 is a split node with value=[[0. 6. 2. 0. 0. 2. 6. 1. 0. 0.]]: go to node 83 if X[:, 45] <= 2.0 else to node 86.\n",
      "\t\t\t\t\t\tnode=83 is a split node with value=[[0. 6. 2. 0. 0. 0. 0. 0. 0. 0.]]: go to node 84 if X[:, 27] <= 14.0 else to node 85.\n",
      "\t\t\t\t\t\t\tnode=84 is a leaf node with value=[[0. 0. 2. 0. 0. 0. 0. 0. 0. 0.]].\n",
      "\t\t\t\t\t\t\tnode=85 is a leaf node with value=[[0. 6. 0. 0. 0. 0. 0. 0. 0. 0.]].\n",
      "\t\t\t\t\t\tnode=86 is a split node with value=[[0. 0. 0. 0. 0. 2. 6. 1. 0. 0.]]: go to node 87 if X[:, 30] <= 0.5 else to node 88.\n",
      "\t\t\t\t\t\t\tnode=87 is a leaf node with value=[[0. 0. 0. 0. 0. 0. 6. 0. 0. 0.]].\n",
      "\t\t\t\t\t\t\tnode=88 is a split node with value=[[0. 0. 0. 0. 0. 2. 0. 1. 0. 0.]]: go to node 89 if X[:, 59] <= 8.0 else to node 90.\n",
      "\t\t\t\t\t\t\t\tnode=89 is a leaf node with value=[[0. 0. 0. 0. 0. 0. 0. 1. 0. 0.]].\n",
      "\t\t\t\t\t\t\t\tnode=90 is a leaf node with value=[[0. 0. 0. 0. 0. 2. 0. 0. 0. 0.]].\n",
      "\t\t\t\tnode=91 is a split node with value=[[  0.   0.   6.   0.   0.   0. 130.   0.   0.   0.]]: go to node 92 if X[:, 1] <= 0.5 else to node 93.\n",
      "\t\t\t\t\tnode=92 is a leaf node with value=[[  0.   0.   0.   0.   0.   0. 130.   0.   0.   0.]].\n",
      "\t\t\t\t\tnode=93 is a leaf node with value=[[0. 0. 6. 0. 0. 0. 0. 0. 0. 0.]].\n",
      "\t\tnode=94 is a split node with value=[[  2. 119. 103. 136. 107.  10.   3. 140. 138.  93.]]: go to node 95 if X[:, 60] <= 2.5 else to node 112.\n",
      "\t\t\tnode=95 is a split node with value=[[ 0.  0.  1.  2.  5.  0.  0. 97.  0.  4.]]: go to node 96 if X[:, 26] <= 12.5 else to node 105.\n",
      "\t\t\t\tnode=96 is a split node with value=[[ 0.  0.  1.  2.  1.  0.  0. 93.  0.  0.]]: go to node 97 if X[:, 37] <= 0.5 else to node 102.\n",
      "\t\t\t\t\tnode=97 is a split node with value=[[0. 0. 0. 2. 1. 0. 0. 2. 0. 0.]]: go to node 98 if X[:, 50] <= 7.5 else to node 101.\n",
      "\t\t\t\t\t\tnode=98 is a split node with value=[[0. 0. 0. 2. 1. 0. 0. 0. 0. 0.]]: go to node 99 if X[:, 36] <= 13.0 else to node 100.\n",
      "\t\t\t\t\t\t\tnode=99 is a leaf node with value=[[0. 0. 0. 2. 0. 0. 0. 0. 0. 0.]].\n",
      "\t\t\t\t\t\t\tnode=100 is a leaf node with value=[[0. 0. 0. 0. 1. 0. 0. 0. 0. 0.]].\n",
      "\t\t\t\t\t\tnode=101 is a leaf node with value=[[0. 0. 0. 0. 0. 0. 0. 2. 0. 0.]].\n",
      "\t\t\t\t\tnode=102 is a split node with value=[[ 0.  0.  1.  0.  0.  0.  0. 91.  0.  0.]]: go to node 103 if X[:, 62] <= 2.5 else to node 104.\n",
      "\t\t\t\t\t\tnode=103 is a leaf node with value=[[ 0.  0.  0.  0.  0.  0.  0. 91.  0.  0.]].\n",
      "\t\t\t\t\t\tnode=104 is a leaf node with value=[[0. 0. 1. 0. 0. 0. 0. 0. 0. 0.]].\n",
      "\t\t\t\tnode=105 is a split node with value=[[0. 0. 0. 0. 4. 0. 0. 4. 0. 4.]]: go to node 106 if X[:, 18] <= 12.5 else to node 109.\n",
      "\t\t\t\t\tnode=106 is a split node with value=[[0. 0. 0. 0. 0. 0. 0. 4. 0. 1.]]: go to node 107 if X[:, 17] <= 4.0 else to node 108.\n",
      "\t\t\t\t\t\tnode=107 is a leaf node with value=[[0. 0. 0. 0. 0. 0. 0. 4. 0. 0.]].\n",
      "\t\t\t\t\t\tnode=108 is a leaf node with value=[[0. 0. 0. 0. 0. 0. 0. 0. 0. 1.]].\n",
      "\t\t\t\t\tnode=109 is a split node with value=[[0. 0. 0. 0. 4. 0. 0. 0. 0. 3.]]: go to node 110 if X[:, 43] <= 9.5 else to node 111.\n",
      "\t\t\t\t\t\tnode=110 is a leaf node with value=[[0. 0. 0. 0. 0. 0. 0. 0. 0. 3.]].\n",
      "\t\t\t\t\t\tnode=111 is a leaf node with value=[[0. 0. 0. 0. 4. 0. 0. 0. 0. 0.]].\n",
      "\t\t\tnode=112 is a split node with value=[[  2. 119. 102. 134. 102.  10.   3.  43. 138.  89.]]: go to node 113 if X[:, 33] <= 4.5 else to node 198.\n",
      "\t\t\t\tnode=113 is a split node with value=[[  2. 108. 102. 133.  11.   9.   1.  38. 136.  89.]]: go to node 114 if X[:, 43] <= 2.5 else to node 145.\n",
      "\t\t\t\t\tnode=114 is a split node with value=[[  0.  25.   7. 119.   2.   7.   0.   4.  20.  82.]]: go to node 115 if X[:, 26] <= 3.5 else to node 130.\n",
      "\t\t\t\t\t\tnode=115 is a split node with value=[[  0.   2.   6. 104.   0.   0.   0.   0.   3.   4.]]: go to node 116 if X[:, 63] <= 1.5 else to node 127.\n",
      "\t\t\t\t\t\t\tnode=116 is a split node with value=[[  0.   1.   0. 104.   0.   0.   0.   0.   3.   4.]]: go to node 117 if X[:, 19] <= 8.5 else to node 122.\n",
      "\t\t\t\t\t\t\t\tnode=117 is a split node with value=[[  0.   0.   0. 102.   0.   0.   0.   0.   0.   1.]]: go to node 118 if X[:, 4] <= 7.5 else to node 121.\n",
      "\t\t\t\t\t\t\t\t\tnode=118 is a split node with value=[[0. 0. 0. 2. 0. 0. 0. 0. 0. 1.]]: go to node 119 if X[:, 44] <= 8.5 else to node 120.\n",
      "\t\t\t\t\t\t\t\t\t\tnode=119 is a leaf node with value=[[0. 0. 0. 2. 0. 0. 0. 0. 0. 0.]].\n",
      "\t\t\t\t\t\t\t\t\t\tnode=120 is a leaf node with value=[[0. 0. 0. 0. 0. 0. 0. 0. 0. 1.]].\n",
      "\t\t\t\t\t\t\t\t\tnode=121 is a leaf node with value=[[  0.   0.   0. 100.   0.   0.   0.   0.   0.   0.]].\n",
      "\t\t\t\t\t\t\t\tnode=122 is a split node with value=[[0. 1. 0. 2. 0. 0. 0. 0. 3. 3.]]: go to node 123 if X[:, 34] <= 4.0 else to node 126.\n",
      "\t\t\t\t\t\t\t\t\tnode=123 is a split node with value=[[0. 1. 0. 2. 0. 0. 0. 0. 0. 3.]]: go to node 124 if X[:, 30] <= 0.5 else to node 125.\n",
      "\t\t\t\t\t\t\t\t\t\tnode=124 is a leaf node with value=[[0. 1. 0. 2. 0. 0. 0. 0. 0. 0.]].\n",
      "\t\t\t\t\t\t\t\t\t\tnode=125 is a leaf node with value=[[0. 0. 0. 0. 0. 0. 0. 0. 0. 3.]].\n",
      "\t\t\t\t\t\t\t\t\tnode=126 is a leaf node with value=[[0. 0. 0. 0. 0. 0. 0. 0. 3. 0.]].\n",
      "\t\t\t\t\t\t\tnode=127 is a split node with value=[[0. 1. 6. 0. 0. 0. 0. 0. 0. 0.]]: go to node 128 if X[:, 21] <= 5.0 else to node 129.\n",
      "\t\t\t\t\t\t\t\tnode=128 is a leaf node with value=[[0. 1. 0. 0. 0. 0. 0. 0. 0. 0.]].\n",
      "\t\t\t\t\t\t\t\tnode=129 is a leaf node with value=[[0. 0. 6. 0. 0. 0. 0. 0. 0. 0.]].\n",
      "\t\t\t\t\t\tnode=130 is a split node with value=[[ 0. 23.  1. 15.  2.  7.  0.  4. 17. 78.]]: go to node 131 if X[:, 42] <= 11.0 else to node 142.\n",
      "\t\t\t\t\t\t\tnode=131 is a split node with value=[[ 0. 23.  1. 15.  2.  6.  0.  4.  2. 78.]]: go to node 132 if X[:, 10] <= 0.5 else to node 135.\n",
      "\t\t\t\t\t\t\t\tnode=132 is a split node with value=[[ 0. 16.  0.  0.  0.  0.  0.  0.  0.  3.]]: go to node 133 if X[:, 20] <= 12.0 else to node 134.\n",
      "\t\t\t\t\t\t\t\t\tnode=133 is a leaf node with value=[[0. 0. 0. 0. 0. 0. 0. 0. 0. 3.]].\n",
      "\t\t\t\t\t\t\t\t\tnode=134 is a leaf node with value=[[ 0. 16.  0.  0.  0.  0.  0.  0.  0.  0.]].\n",
      "\t\t\t\t\t\t\t\tnode=135 is a split node with value=[[ 0.  7.  1. 15.  2.  6.  0.  4.  2. 75.]]: go to node 136 if X[:, 21] <= 10.5 else to node 139.\n",
      "\t\t\t\t\t\t\t\t\tnode=136 is a split node with value=[[ 0.  0.  0. 12.  1.  6.  0.  3.  2.  4.]]: go to node 137 if X[:, 26] <= 8.5 else to node 138.\n",
      "\t\t\t\t\t\t\t\t\t\tnode=137 is a leaf node with value=[[ 0.  0.  0. 10.  0.  0.  0.  0.  0.  0.]].\n",
      "\t\t\t\t\t\t\t\t\t\tnode=138 is a leaf node with value=[[0. 0. 0. 2. 1. 6. 0. 3. 2. 4.]].\n",
      "\t\t\t\t\t\t\t\t\tnode=139 is a split node with value=[[ 0.  7.  1.  3.  1.  0.  0.  1.  0. 71.]]: go to node 140 if X[:, 27] <= 3.0 else to node 141.\n",
      "\t\t\t\t\t\t\t\t\t\tnode=140 is a leaf node with value=[[0. 6. 1. 3. 0. 0. 0. 0. 0. 3.]].\n",
      "\t\t\t\t\t\t\t\t\t\tnode=141 is a leaf node with value=[[ 0.  1.  0.  0.  1.  0.  0.  1.  0. 68.]].\n",
      "\t\t\t\t\t\t\tnode=142 is a split node with value=[[ 0.  0.  0.  0.  0.  1.  0.  0. 15.  0.]]: go to node 143 if X[:, 27] <= 8.5 else to node 144.\n",
      "\t\t\t\t\t\t\t\tnode=143 is a leaf node with value=[[0. 0. 0. 0. 0. 1. 0. 0. 0. 0.]].\n",
      "\t\t\t\t\t\t\t\tnode=144 is a leaf node with value=[[ 0.  0.  0.  0.  0.  0.  0.  0. 15.  0.]].\n",
      "\t\t\t\t\tnode=145 is a split node with value=[[  2.  83.  95.  14.   9.   2.   1.  34. 116.   7.]]: go to node 146 if X[:, 27] <= 9.5 else to node 169.\n",
      "\t\t\t\t\t\tnode=146 is a split node with value=[[ 2.  0. 85.  2.  3.  0.  0. 31. 12.  3.]]: go to node 147 if X[:, 61] <= 0.5 else to node 156.\n",
      "\t\t\t\t\t\t\tnode=147 is a split node with value=[[ 1.  0.  0.  1.  1.  0.  0. 30.  2.  0.]]: go to node 148 if X[:, 50] <= 7.0 else to node 153.\n",
      "\t\t\t\t\t\t\t\tnode=148 is a split node with value=[[ 0.  0.  0.  1.  1.  0.  0. 30.  0.  0.]]: go to node 149 if X[:, 53] <= 3.5 else to node 152.\n",
      "\t\t\t\t\t\t\t\t\tnode=149 is a split node with value=[[ 0.  0.  0.  0.  1.  0.  0. 30.  0.  0.]]: go to node 150 if X[:, 5] <= 2.0 else to node 151.\n",
      "\t\t\t\t\t\t\t\t\t\tnode=150 is a leaf node with value=[[0. 0. 0. 0. 1. 0. 0. 0. 0. 0.]].\n",
      "\t\t\t\t\t\t\t\t\t\tnode=151 is a leaf node with value=[[ 0.  0.  0.  0.  0.  0.  0. 30.  0.  0.]].\n",
      "\t\t\t\t\t\t\t\t\tnode=152 is a leaf node with value=[[0. 0. 0. 1. 0. 0. 0. 0. 0. 0.]].\n",
      "\t\t\t\t\t\t\t\tnode=153 is a split node with value=[[1. 0. 0. 0. 0. 0. 0. 0. 2. 0.]]: go to node 154 if X[:, 21] <= 12.0 else to node 155.\n",
      "\t\t\t\t\t\t\t\t\tnode=154 is a leaf node with value=[[0. 0. 0. 0. 0. 0. 0. 0. 2. 0.]].\n",
      "\t\t\t\t\t\t\t\t\tnode=155 is a leaf node with value=[[1. 0. 0. 0. 0. 0. 0. 0. 0. 0.]].\n",
      "\t\t\t\t\t\t\tnode=156 is a split node with value=[[ 1.  0. 85.  1.  2.  0.  0.  1. 10.  3.]]: go to node 157 if X[:, 26] <= 7.0 else to node 162.\n",
      "\t\t\t\t\t\t\t\tnode=157 is a split node with value=[[ 0.  0. 83.  1.  0.  0.  0.  1.  0.  0.]]: go to node 158 if X[:, 38] <= 1.5 else to node 159.\n",
      "\t\t\t\t\t\t\t\t\tnode=158 is a leaf node with value=[[ 0.  0. 83.  0.  0.  0.  0.  0.  0.  0.]].\n",
      "\t\t\t\t\t\t\t\t\tnode=159 is a split node with value=[[0. 0. 0. 1. 0. 0. 0. 1. 0. 0.]]: go to node 160 if X[:, 36] <= 12.5 else to node 161.\n",
      "\t\t\t\t\t\t\t\t\t\tnode=160 is a leaf node with value=[[0. 0. 0. 1. 0. 0. 0. 0. 0. 0.]].\n",
      "\t\t\t\t\t\t\t\t\t\tnode=161 is a leaf node with value=[[0. 0. 0. 0. 0. 0. 0. 1. 0. 0.]].\n",
      "\t\t\t\t\t\t\t\tnode=162 is a split node with value=[[ 1.  0.  2.  0.  2.  0.  0.  0. 10.  3.]]: go to node 163 if X[:, 5] <= 2.5 else to node 166.\n",
      "\t\t\t\t\t\t\t\t\tnode=163 is a split node with value=[[0. 0. 2. 0. 2. 0. 0. 0. 1. 3.]]: go to node 164 if X[:, 58] <= 8.5 else to node 165.\n",
      "\t\t\t\t\t\t\t\t\t\tnode=164 is a leaf node with value=[[0. 0. 2. 0. 2. 0. 0. 0. 1. 0.]].\n",
      "\t\t\t\t\t\t\t\t\t\tnode=165 is a leaf node with value=[[0. 0. 0. 0. 0. 0. 0. 0. 0. 3.]].\n",
      "\t\t\t\t\t\t\t\t\tnode=166 is a split node with value=[[1. 0. 0. 0. 0. 0. 0. 0. 9. 0.]]: go to node 167 if X[:, 38] <= 3.0 else to node 168.\n",
      "\t\t\t\t\t\t\t\t\t\tnode=167 is a leaf node with value=[[0. 0. 0. 0. 0. 0. 0. 0. 9. 0.]].\n",
      "\t\t\t\t\t\t\t\t\t\tnode=168 is a leaf node with value=[[1. 0. 0. 0. 0. 0. 0. 0. 0. 0.]].\n",
      "\t\t\t\t\t\tnode=169 is a split node with value=[[  0.  83.  10.  12.   6.   2.   1.   3. 104.   4.]]: go to node 170 if X[:, 20] <= 15.5 else to node 185.\n",
      "\t\t\t\t\t\t\tnode=170 is a split node with value=[[ 0.  5.  2.  7.  4.  2.  1.  3. 95.  4.]]: go to node 171 if X[:, 18] <= 2.5 else to node 178.\n",
      "\t\t\t\t\t\t\t\tnode=171 is a split node with value=[[0. 2. 1. 7. 0. 0. 1. 2. 2. 0.]]: go to node 172 if X[:, 2] <= 4.0 else to node 175.\n",
      "\t\t\t\t\t\t\t\t\tnode=172 is a split node with value=[[0. 2. 0. 0. 0. 0. 1. 2. 2. 0.]]: go to node 173 if X[:, 10] <= 3.5 else to node 174.\n",
      "\t\t\t\t\t\t\t\t\t\tnode=173 is a leaf node with value=[[0. 2. 0. 0. 0. 0. 1. 0. 2. 0.]].\n",
      "\t\t\t\t\t\t\t\t\t\tnode=174 is a leaf node with value=[[0. 0. 0. 0. 0. 0. 0. 2. 0. 0.]].\n",
      "\t\t\t\t\t\t\t\t\tnode=175 is a split node with value=[[0. 0. 1. 7. 0. 0. 0. 0. 0. 0.]]: go to node 176 if X[:, 21] <= 5.0 else to node 177.\n",
      "\t\t\t\t\t\t\t\t\t\tnode=176 is a leaf node with value=[[0. 0. 1. 0. 0. 0. 0. 0. 0. 0.]].\n",
      "\t\t\t\t\t\t\t\t\t\tnode=177 is a leaf node with value=[[0. 0. 0. 7. 0. 0. 0. 0. 0. 0.]].\n",
      "\t\t\t\t\t\t\t\tnode=178 is a split node with value=[[ 0.  3.  1.  0.  4.  2.  0.  1. 93.  4.]]: go to node 179 if X[:, 30] <= 3.5 else to node 182.\n",
      "\t\t\t\t\t\t\t\t\tnode=179 is a split node with value=[[ 0.  3.  1.  0.  0.  2.  0.  0. 91.  2.]]: go to node 180 if X[:, 21] <= 4.5 else to node 181.\n",
      "\t\t\t\t\t\t\t\t\t\tnode=180 is a leaf node with value=[[0. 3. 0. 0. 0. 1. 0. 0. 2. 0.]].\n",
      "\t\t\t\t\t\t\t\t\t\tnode=181 is a leaf node with value=[[ 0.  0.  1.  0.  0.  1.  0.  0. 89.  2.]].\n",
      "\t\t\t\t\t\t\t\t\tnode=182 is a split node with value=[[0. 0. 0. 0. 4. 0. 0. 1. 2. 2.]]: go to node 183 if X[:, 26] <= 8.5 else to node 184.\n",
      "\t\t\t\t\t\t\t\t\t\tnode=183 is a leaf node with value=[[0. 0. 0. 0. 0. 0. 0. 1. 2. 0.]].\n",
      "\t\t\t\t\t\t\t\t\t\tnode=184 is a leaf node with value=[[0. 0. 0. 0. 4. 0. 0. 0. 0. 2.]].\n",
      "\t\t\t\t\t\t\tnode=185 is a split node with value=[[ 0. 78.  8.  5.  2.  0.  0.  0.  9.  0.]]: go to node 186 if X[:, 10] <= 13.5 else to node 193.\n",
      "\t\t\t\t\t\t\t\tnode=186 is a split node with value=[[ 0. 77.  1.  2.  2.  0.  0.  0.  3.  0.]]: go to node 187 if X[:, 46] <= 1.5 else to node 190.\n",
      "\t\t\t\t\t\t\t\t\tnode=187 is a split node with value=[[ 0. 77.  1.  1.  0.  0.  0.  0.  1.  0.]]: go to node 188 if X[:, 58] <= 15.0 else to node 189.\n",
      "\t\t\t\t\t\t\t\t\t\tnode=188 is a leaf node with value=[[ 0. 77.  0.  1.  0.  0.  0.  0.  1.  0.]].\n",
      "\t\t\t\t\t\t\t\t\t\tnode=189 is a leaf node with value=[[0. 0. 1. 0. 0. 0. 0. 0. 0. 0.]].\n",
      "\t\t\t\t\t\t\t\t\tnode=190 is a split node with value=[[0. 0. 0. 1. 2. 0. 0. 0. 2. 0.]]: go to node 191 if X[:, 58] <= 0.5 else to node 192.\n",
      "\t\t\t\t\t\t\t\t\t\tnode=191 is a leaf node with value=[[0. 0. 0. 0. 2. 0. 0. 0. 0. 0.]].\n",
      "\t\t\t\t\t\t\t\t\t\tnode=192 is a leaf node with value=[[0. 0. 0. 1. 0. 0. 0. 0. 2. 0.]].\n",
      "\t\t\t\t\t\t\t\tnode=193 is a split node with value=[[0. 1. 7. 3. 0. 0. 0. 0. 6. 0.]]: go to node 194 if X[:, 21] <= 5.5 else to node 195.\n",
      "\t\t\t\t\t\t\t\t\tnode=194 is a leaf node with value=[[0. 0. 7. 0. 0. 0. 0. 0. 0. 0.]].\n",
      "\t\t\t\t\t\t\t\t\tnode=195 is a split node with value=[[0. 1. 0. 3. 0. 0. 0. 0. 6. 0.]]: go to node 196 if X[:, 50] <= 12.5 else to node 197.\n",
      "\t\t\t\t\t\t\t\t\t\tnode=196 is a leaf node with value=[[0. 1. 0. 3. 0. 0. 0. 0. 0. 0.]].\n",
      "\t\t\t\t\t\t\t\t\t\tnode=197 is a leaf node with value=[[0. 0. 0. 0. 0. 0. 0. 0. 6. 0.]].\n",
      "\t\t\t\tnode=198 is a split node with value=[[ 0. 11.  0.  1. 91.  1.  2.  5.  2.  0.]]: go to node 199 if X[:, 5] <= 9.5 else to node 208.\n",
      "\t\t\t\t\tnode=199 is a split node with value=[[ 0.  4.  0.  0. 89.  0.  1.  1.  0.  0.]]: go to node 200 if X[:, 37] <= 6.5 else to node 203.\n",
      "\t\t\t\t\t\tnode=200 is a split node with value=[[0. 4. 0. 0. 1. 0. 0. 0. 0. 0.]]: go to node 201 if X[:, 46] <= 2.0 else to node 202.\n",
      "\t\t\t\t\t\t\tnode=201 is a leaf node with value=[[0. 4. 0. 0. 0. 0. 0. 0. 0. 0.]].\n",
      "\t\t\t\t\t\t\tnode=202 is a leaf node with value=[[0. 0. 0. 0. 1. 0. 0. 0. 0. 0.]].\n",
      "\t\t\t\t\t\tnode=203 is a split node with value=[[ 0.  0.  0.  0. 88.  0.  1.  1.  0.  0.]]: go to node 204 if X[:, 44] <= 6.0 else to node 205.\n",
      "\t\t\t\t\t\t\tnode=204 is a leaf node with value=[[0. 0. 0. 0. 0. 0. 1. 0. 0. 0.]].\n",
      "\t\t\t\t\t\t\tnode=205 is a split node with value=[[ 0.  0.  0.  0. 88.  0.  0.  1.  0.  0.]]: go to node 206 if X[:, 19] <= 1.5 else to node 207.\n",
      "\t\t\t\t\t\t\t\tnode=206 is a leaf node with value=[[0. 0. 0. 0. 0. 0. 0. 1. 0. 0.]].\n",
      "\t\t\t\t\t\t\t\tnode=207 is a leaf node with value=[[ 0.  0.  0.  0. 88.  0.  0.  0.  0.  0.]].\n",
      "\t\t\t\t\tnode=208 is a split node with value=[[0. 7. 0. 1. 2. 1. 1. 4. 2. 0.]]: go to node 209 if X[:, 12] <= 10.5 else to node 218.\n",
      "\t\t\t\t\t\tnode=209 is a split node with value=[[0. 0. 0. 1. 0. 1. 1. 4. 2. 0.]]: go to node 210 if X[:, 50] <= 7.0 else to node 211.\n",
      "\t\t\t\t\t\t\tnode=210 is a leaf node with value=[[0. 0. 0. 0. 0. 0. 0. 4. 0. 0.]].\n",
      "\t\t\t\t\t\t\tnode=211 is a split node with value=[[0. 0. 0. 1. 0. 1. 1. 0. 2. 0.]]: go to node 212 if X[:, 14] <= 3.5 else to node 213.\n",
      "\t\t\t\t\t\t\t\tnode=212 is a leaf node with value=[[0. 0. 0. 0. 0. 0. 0. 0. 2. 0.]].\n",
      "\t\t\t\t\t\t\t\tnode=213 is a split node with value=[[0. 0. 0. 1. 0. 1. 1. 0. 0. 0.]]: go to node 214 if X[:, 22] <= 0.5 else to node 215.\n",
      "\t\t\t\t\t\t\t\t\tnode=214 is a leaf node with value=[[0. 0. 0. 0. 0. 1. 0. 0. 0. 0.]].\n",
      "\t\t\t\t\t\t\t\t\tnode=215 is a split node with value=[[0. 0. 0. 1. 0. 0. 1. 0. 0. 0.]]: go to node 216 if X[:, 12] <= 8.0 else to node 217.\n",
      "\t\t\t\t\t\t\t\t\t\tnode=216 is a leaf node with value=[[0. 0. 0. 1. 0. 0. 0. 0. 0. 0.]].\n",
      "\t\t\t\t\t\t\t\t\t\tnode=217 is a leaf node with value=[[0. 0. 0. 0. 0. 0. 1. 0. 0. 0.]].\n",
      "\t\t\t\t\t\tnode=218 is a split node with value=[[0. 7. 0. 0. 2. 0. 0. 0. 0. 0.]]: go to node 219 if X[:, 27] <= 9.0 else to node 220.\n",
      "\t\t\t\t\t\t\tnode=219 is a leaf node with value=[[0. 0. 0. 0. 2. 0. 0. 0. 0. 0.]].\n",
      "\t\t\t\t\t\t\tnode=220 is a leaf node with value=[[0. 7. 0. 0. 0. 0. 0. 0. 0. 0.]].\n"
     ]
    }
   ],
   "source": [
    "clf = dtree\n",
    "\n",
    "n_nodes = clf.tree_.node_count\n",
    "children_left = clf.tree_.children_left\n",
    "children_right = clf.tree_.children_right\n",
    "feature = clf.tree_.feature\n",
    "threshold = clf.tree_.threshold\n",
    "values = clf.tree_.value\n",
    "\n",
    "node_depth = np.zeros(shape=n_nodes, dtype=np.int64)\n",
    "is_leaves = np.zeros(shape=n_nodes, dtype=bool)\n",
    "stack = [(0, 0)]  # start with the root node id (0) and its depth (0)\n",
    "while len(stack) > 0:\n",
    "    # `pop` ensures each node is only visited once\n",
    "    node_id, depth = stack.pop()\n",
    "    node_depth[node_id] = depth\n",
    "\n",
    "    # If the left and right child of a node is not the same we have a split\n",
    "    # node\n",
    "    is_split_node = children_left[node_id] != children_right[node_id]\n",
    "    # If a split node, append left and right children and depth to `stack`\n",
    "    # so we can loop through them\n",
    "    if is_split_node:\n",
    "        stack.append((children_left[node_id], depth + 1))\n",
    "        stack.append((children_right[node_id], depth + 1))\n",
    "    else:\n",
    "        is_leaves[node_id] = True\n",
    "\n",
    "print(\n",
    "    \"The binary tree structure has {n} nodes and has \"\n",
    "    \"the following tree structure:\\n\".format(n=n_nodes)\n",
    ")\n",
    "for i in range(n_nodes):\n",
    "    if is_leaves[i]:\n",
    "        print(\n",
    "            \"{space}node={node} is a leaf node with value={value}.\".format(\n",
    "                space=node_depth[i] * \"\\t\", node=i, value=values[i]\n",
    "            )\n",
    "        )\n",
    "    else:\n",
    "        print(\n",
    "            \"{space}node={node} is a split node with value={value}: \"\n",
    "            \"go to node {left} if X[:, {feature}] <= {threshold} \"\n",
    "            \"else to node {right}.\".format(\n",
    "                space=node_depth[i] * \"\\t\",\n",
    "                node=i,\n",
    "                left=children_left[i],\n",
    "                feature=feature[i],\n",
    "                threshold=threshold[i],\n",
    "                right=children_right[i],\n",
    "                value=values[i],\n",
    "            )\n",
    "        )"
   ]
  },
  {
   "cell_type": "code",
   "execution_count": 537,
   "metadata": {},
   "outputs": [],
   "source": [
    "reference = np.array([0.09027778, 0.09236111, 0.08333333, 0.09583333, 0.11944444,\n",
    "       0.13888889, 0.09930556, 0.09444444, 0.08055556, 0.10555556])"
   ]
  },
  {
   "cell_type": "code",
   "execution_count": 538,
   "metadata": {},
   "outputs": [
    {
     "data": {
      "text/plain": [
       "(0.8805555555555555, 11)"
      ]
     },
     "execution_count": 538,
     "metadata": {},
     "output_type": "execute_result"
    }
   ],
   "source": [
    "class_estimator = DecisionTree(max_depth=10, criterion_name='entropy')\n",
    "class_estimator.fit(X_train, y_train)\n",
    "ans = class_estimator.predict(X_test)\n",
    "accuracy_entropy = accuracy_score(y_test, ans)\n",
    "accuracy_entropy, class_estimator.get_depth(class_estimator.root)"
   ]
  },
  {
   "cell_type": "code",
   "execution_count": 539,
   "metadata": {},
   "outputs": [],
   "source": [
    "assert 0.84 < accuracy_gini < 0.9\n",
    "assert 0.86 < accuracy_entropy < 0.9"
   ]
  },
  {
   "cell_type": "code",
   "execution_count": 540,
   "metadata": {},
   "outputs": [
    {
     "ename": "AssertionError",
     "evalue": "val is 0.03333334444444444",
     "output_type": "error",
     "traceback": [
      "\u001b[1;31m---------------------------------------------------------------------------\u001b[0m",
      "\u001b[1;31mAssertionError\u001b[0m                            Traceback (most recent call last)",
      "Cell \u001b[1;32mIn[540], line 2\u001b[0m\n\u001b[0;32m      1\u001b[0m val \u001b[38;5;241m=\u001b[39m np\u001b[38;5;241m.\u001b[39msum(np\u001b[38;5;241m.\u001b[39mabs(class_estimator\u001b[38;5;241m.\u001b[39mpredict_proba(X_test)\u001b[38;5;241m.\u001b[39mmean(axis\u001b[38;5;241m=\u001b[39m\u001b[38;5;241m0\u001b[39m) \u001b[38;5;241m-\u001b[39m reference))\n\u001b[1;32m----> 2\u001b[0m \u001b[38;5;28;01massert\u001b[39;00m val \u001b[38;5;241m<\u001b[39m \u001b[38;5;241m1e-4\u001b[39m, \u001b[38;5;124mf\u001b[39m\u001b[38;5;124m'\u001b[39m\u001b[38;5;124mval is \u001b[39m\u001b[38;5;132;01m{\u001b[39;00mval\u001b[38;5;132;01m}\u001b[39;00m\u001b[38;5;124m'\u001b[39m\n",
      "\u001b[1;31mAssertionError\u001b[0m: val is 0.03333334444444444"
     ]
    }
   ],
   "source": [
    "val = np.sum(np.abs(class_estimator.predict_proba(X_test).mean(axis=0) - reference))\n",
    "assert val < 1e-4, f'val is {val}'"
   ]
  },
  {
   "cell_type": "code",
   "execution_count": 541,
   "metadata": {},
   "outputs": [
    {
     "ename": "AssertionError",
     "evalue": "val is 0.11331121252989626",
     "output_type": "error",
     "traceback": [
      "\u001b[1;31m---------------------------------------------------------------------------\u001b[0m",
      "\u001b[1;31mAssertionError\u001b[0m                            Traceback (most recent call last)",
      "Cell \u001b[1;32mIn[541], line 2\u001b[0m\n\u001b[0;32m      1\u001b[0m val \u001b[38;5;241m=\u001b[39m np\u001b[38;5;241m.\u001b[39msum(np\u001b[38;5;241m.\u001b[39mabs(dtree\u001b[38;5;241m.\u001b[39mpredict_proba(X_test)\u001b[38;5;241m.\u001b[39mmean(axis\u001b[38;5;241m=\u001b[39m\u001b[38;5;241m0\u001b[39m) \u001b[38;5;241m-\u001b[39m reference))\n\u001b[1;32m----> 2\u001b[0m \u001b[38;5;28;01massert\u001b[39;00m val \u001b[38;5;241m<\u001b[39m \u001b[38;5;241m1e-4\u001b[39m, \u001b[38;5;124mf\u001b[39m\u001b[38;5;124m'\u001b[39m\u001b[38;5;124mval is \u001b[39m\u001b[38;5;132;01m{\u001b[39;00mval\u001b[38;5;132;01m}\u001b[39;00m\u001b[38;5;124m'\u001b[39m\n",
      "\u001b[1;31mAssertionError\u001b[0m: val is 0.11331121252989626"
     ]
    }
   ],
   "source": [
    "val = np.sum(np.abs(dtree.predict_proba(X_test).mean(axis=0) - reference))\n",
    "assert val < 1e-4, f'val is {val}'"
   ]
  },
  {
   "cell_type": "markdown",
   "metadata": {},
   "source": [
    "Apparently, $10^{-4}$ is too much to ask for..."
   ]
  },
  {
   "cell_type": "markdown",
   "metadata": {},
   "source": [
    "Let's use 5-fold cross validation (`GridSearchCV`) to find optimal values for `max_depth` and `criterion` hyperparameters."
   ]
  },
  {
   "cell_type": "code",
   "execution_count": 582,
   "metadata": {},
   "outputs": [],
   "source": [
    "param_grid = {'max_depth': range(3,14), 'criterion_name': ['gini', 'entropy']}\n",
    "gs = GridSearchCV(DecisionTree(), param_grid=param_grid, cv=5, scoring='accuracy', n_jobs=-2)"
   ]
  },
  {
   "cell_type": "code",
   "execution_count": 360,
   "metadata": {},
   "outputs": [],
   "source": [
    "# for sklearn implementation\n",
    "param_grid = {'max_depth': range(3,11), 'criterion': ['gini', 'entropy']}\n",
    "gs = GridSearchCV(DecisionTreeClassifier(), param_grid=param_grid, cv=5, scoring='accuracy', n_jobs=-2)"
   ]
  },
  {
   "cell_type": "code",
   "execution_count": 583,
   "metadata": {},
   "outputs": [
    {
     "name": "stdout",
     "output_type": "stream",
     "text": [
      "CPU times: total: 3.67 s\n",
      "Wall time: 45.2 s\n"
     ]
    },
    {
     "data": {
      "text/html": [
       "<style>#sk-container-id-4 {color: black;}#sk-container-id-4 pre{padding: 0;}#sk-container-id-4 div.sk-toggleable {background-color: white;}#sk-container-id-4 label.sk-toggleable__label {cursor: pointer;display: block;width: 100%;margin-bottom: 0;padding: 0.3em;box-sizing: border-box;text-align: center;}#sk-container-id-4 label.sk-toggleable__label-arrow:before {content: \"▸\";float: left;margin-right: 0.25em;color: #696969;}#sk-container-id-4 label.sk-toggleable__label-arrow:hover:before {color: black;}#sk-container-id-4 div.sk-estimator:hover label.sk-toggleable__label-arrow:before {color: black;}#sk-container-id-4 div.sk-toggleable__content {max-height: 0;max-width: 0;overflow: hidden;text-align: left;background-color: #f0f8ff;}#sk-container-id-4 div.sk-toggleable__content pre {margin: 0.2em;color: black;border-radius: 0.25em;background-color: #f0f8ff;}#sk-container-id-4 input.sk-toggleable__control:checked~div.sk-toggleable__content {max-height: 200px;max-width: 100%;overflow: auto;}#sk-container-id-4 input.sk-toggleable__control:checked~label.sk-toggleable__label-arrow:before {content: \"▾\";}#sk-container-id-4 div.sk-estimator input.sk-toggleable__control:checked~label.sk-toggleable__label {background-color: #d4ebff;}#sk-container-id-4 div.sk-label input.sk-toggleable__control:checked~label.sk-toggleable__label {background-color: #d4ebff;}#sk-container-id-4 input.sk-hidden--visually {border: 0;clip: rect(1px 1px 1px 1px);clip: rect(1px, 1px, 1px, 1px);height: 1px;margin: -1px;overflow: hidden;padding: 0;position: absolute;width: 1px;}#sk-container-id-4 div.sk-estimator {font-family: monospace;background-color: #f0f8ff;border: 1px dotted black;border-radius: 0.25em;box-sizing: border-box;margin-bottom: 0.5em;}#sk-container-id-4 div.sk-estimator:hover {background-color: #d4ebff;}#sk-container-id-4 div.sk-parallel-item::after {content: \"\";width: 100%;border-bottom: 1px solid gray;flex-grow: 1;}#sk-container-id-4 div.sk-label:hover label.sk-toggleable__label {background-color: #d4ebff;}#sk-container-id-4 div.sk-serial::before {content: \"\";position: absolute;border-left: 1px solid gray;box-sizing: border-box;top: 0;bottom: 0;left: 50%;z-index: 0;}#sk-container-id-4 div.sk-serial {display: flex;flex-direction: column;align-items: center;background-color: white;padding-right: 0.2em;padding-left: 0.2em;position: relative;}#sk-container-id-4 div.sk-item {position: relative;z-index: 1;}#sk-container-id-4 div.sk-parallel {display: flex;align-items: stretch;justify-content: center;background-color: white;position: relative;}#sk-container-id-4 div.sk-item::before, #sk-container-id-4 div.sk-parallel-item::before {content: \"\";position: absolute;border-left: 1px solid gray;box-sizing: border-box;top: 0;bottom: 0;left: 50%;z-index: -1;}#sk-container-id-4 div.sk-parallel-item {display: flex;flex-direction: column;z-index: 1;position: relative;background-color: white;}#sk-container-id-4 div.sk-parallel-item:first-child::after {align-self: flex-end;width: 50%;}#sk-container-id-4 div.sk-parallel-item:last-child::after {align-self: flex-start;width: 50%;}#sk-container-id-4 div.sk-parallel-item:only-child::after {width: 0;}#sk-container-id-4 div.sk-dashed-wrapped {border: 1px dashed gray;margin: 0 0.4em 0.5em 0.4em;box-sizing: border-box;padding-bottom: 0.4em;background-color: white;}#sk-container-id-4 div.sk-label label {font-family: monospace;font-weight: bold;display: inline-block;line-height: 1.2em;}#sk-container-id-4 div.sk-label-container {text-align: center;}#sk-container-id-4 div.sk-container {/* jupyter's `normalize.less` sets `[hidden] { display: none; }` but bootstrap.min.css set `[hidden] { display: none !important; }` so we also need the `!important` here to be able to override the default hidden behavior on the sphinx rendered scikit-learn.org. See: https://github.com/scikit-learn/scikit-learn/issues/21755 */display: inline-block !important;position: relative;}#sk-container-id-4 div.sk-text-repr-fallback {display: none;}</style><div id=\"sk-container-id-4\" class=\"sk-top-container\"><div class=\"sk-text-repr-fallback\"><pre>GridSearchCV(cv=5, estimator=DecisionTree(), n_jobs=-2,\n",
       "             param_grid={&#x27;criterion_name&#x27;: [&#x27;gini&#x27;, &#x27;entropy&#x27;],\n",
       "                         &#x27;max_depth&#x27;: range(3, 14)},\n",
       "             scoring=&#x27;accuracy&#x27;)</pre><b>In a Jupyter environment, please rerun this cell to show the HTML representation or trust the notebook. <br />On GitHub, the HTML representation is unable to render, please try loading this page with nbviewer.org.</b></div><div class=\"sk-container\" hidden><div class=\"sk-item sk-dashed-wrapped\"><div class=\"sk-label-container\"><div class=\"sk-label sk-toggleable\"><input class=\"sk-toggleable__control sk-hidden--visually\" id=\"sk-estimator-id-10\" type=\"checkbox\" ><label for=\"sk-estimator-id-10\" class=\"sk-toggleable__label sk-toggleable__label-arrow\">GridSearchCV</label><div class=\"sk-toggleable__content\"><pre>GridSearchCV(cv=5, estimator=DecisionTree(), n_jobs=-2,\n",
       "             param_grid={&#x27;criterion_name&#x27;: [&#x27;gini&#x27;, &#x27;entropy&#x27;],\n",
       "                         &#x27;max_depth&#x27;: range(3, 14)},\n",
       "             scoring=&#x27;accuracy&#x27;)</pre></div></div></div><div class=\"sk-parallel\"><div class=\"sk-parallel-item\"><div class=\"sk-item\"><div class=\"sk-label-container\"><div class=\"sk-label sk-toggleable\"><input class=\"sk-toggleable__control sk-hidden--visually\" id=\"sk-estimator-id-11\" type=\"checkbox\" ><label for=\"sk-estimator-id-11\" class=\"sk-toggleable__label sk-toggleable__label-arrow\">estimator: DecisionTree</label><div class=\"sk-toggleable__content\"><pre>DecisionTree()</pre></div></div></div><div class=\"sk-serial\"><div class=\"sk-item\"><div class=\"sk-estimator sk-toggleable\"><input class=\"sk-toggleable__control sk-hidden--visually\" id=\"sk-estimator-id-12\" type=\"checkbox\" ><label for=\"sk-estimator-id-12\" class=\"sk-toggleable__label sk-toggleable__label-arrow\">DecisionTree</label><div class=\"sk-toggleable__content\"><pre>DecisionTree()</pre></div></div></div></div></div></div></div></div></div></div>"
      ],
      "text/plain": [
       "GridSearchCV(cv=5, estimator=DecisionTree(), n_jobs=-2,\n",
       "             param_grid={'criterion_name': ['gini', 'entropy'],\n",
       "                         'max_depth': range(3, 14)},\n",
       "             scoring='accuracy')"
      ]
     },
     "execution_count": 583,
     "metadata": {},
     "output_type": "execute_result"
    }
   ],
   "source": [
    "%%time\n",
    "gs.fit(X_train, y_train)"
   ]
  },
  {
   "cell_type": "code",
   "execution_count": 584,
   "metadata": {},
   "outputs": [
    {
     "data": {
      "text/plain": [
       "{'criterion_name': 'gini', 'max_depth': 11}"
      ]
     },
     "execution_count": 584,
     "metadata": {},
     "output_type": "execute_result"
    }
   ],
   "source": [
    "gs.best_params_"
   ]
  },
  {
   "cell_type": "code",
   "execution_count": 585,
   "metadata": {},
   "outputs": [
    {
     "ename": "AssertionError",
     "evalue": "",
     "output_type": "error",
     "traceback": [
      "\u001b[1;31m---------------------------------------------------------------------------\u001b[0m",
      "\u001b[1;31mAssertionError\u001b[0m                            Traceback (most recent call last)",
      "Cell \u001b[1;32mIn[585], line 1\u001b[0m\n\u001b[1;32m----> 1\u001b[0m \u001b[38;5;28;01massert\u001b[39;00m gs\u001b[38;5;241m.\u001b[39mbest_params_[\u001b[38;5;124m'\u001b[39m\u001b[38;5;124mcriterion_name\u001b[39m\u001b[38;5;124m'\u001b[39m] \u001b[38;5;241m==\u001b[39m \u001b[38;5;124m'\u001b[39m\u001b[38;5;124mentropy\u001b[39m\u001b[38;5;124m'\u001b[39m\n\u001b[0;32m      2\u001b[0m \u001b[38;5;28;01massert\u001b[39;00m \u001b[38;5;241m6\u001b[39m \u001b[38;5;241m<\u001b[39m gs\u001b[38;5;241m.\u001b[39mbest_params_[\u001b[38;5;124m'\u001b[39m\u001b[38;5;124mmax_depth\u001b[39m\u001b[38;5;124m'\u001b[39m] \u001b[38;5;241m<\u001b[39m \u001b[38;5;241m9\u001b[39m\n",
      "\u001b[1;31mAssertionError\u001b[0m: "
     ]
    }
   ],
   "source": [
    "assert gs.best_params_['criterion_name'] == 'entropy'\n",
    "assert 6 < gs.best_params_['max_depth'] < 9"
   ]
  },
  {
   "cell_type": "code",
   "execution_count": null,
   "metadata": {},
   "outputs": [
    {
     "data": {
      "image/png": "[encoded data removed]",
      "text/plain": [
       "<Figure size 1000x800 with 1 Axes>"
      ]
     },
     "metadata": {},
     "output_type": "display_data"
    }
   ],
   "source": [
    "plt.figure(figsize=(10, 8))\n",
    "plt.title(\"The dependence of quality on the depth of the tree\")\n",
    "plt.plot(np.arange(3,11), gs.cv_results_['mean_test_score'][:8], label='Gini')\n",
    "plt.plot(np.arange(3,11), gs.cv_results_['mean_test_score'][8:], label='Entropy')\n",
    "plt.legend(fontsize=11, loc=1)\n",
    "plt.xlabel(\"max_depth\")\n",
    "plt.ylabel('accuracy')\n",
    "plt.show()"
   ]
  },
  {
   "cell_type": "markdown",
   "metadata": {},
   "source": [
    "#### Regression problem"
   ]
  },
  {
   "cell_type": "code",
   "execution_count": 668,
   "metadata": {},
   "outputs": [],
   "source": [
    "from sklearn.datasets import load_diabetes"
   ]
  },
  {
   "cell_type": "code",
   "execution_count": 669,
   "metadata": {},
   "outputs": [
    {
     "name": "stdout",
     "output_type": "stream",
     "text": [
      ".. _diabetes_dataset:\n",
      "\n",
      "Diabetes dataset\n",
      "----------------\n",
      "\n",
      "Ten baseline variables, age, sex, body mass index, average blood\n",
      "pressure, and six blood serum measurements were obtained for each of n =\n",
      "442 diabetes patients, as well as the response of interest, a\n",
      "quantitative measure of disease progression one year after baseline.\n",
      "\n",
      "**Data Set Characteristics:**\n",
      "\n",
      "  :Number of Instances: 442\n",
      "\n",
      "  :Number of Attributes: First 10 columns are numeric predictive values\n",
      "\n",
      "  :Target: Column 11 is a quantitative measure of disease progression one year after baseline\n",
      "\n",
      "  :Attribute Information:\n",
      "      - age     age in years\n",
      "      - sex\n",
      "      - bmi     body mass index\n",
      "      - bp      average blood pressure\n",
      "      - s1      tc, total serum cholesterol\n",
      "      - s2      ldl, low-density lipoproteins\n",
      "      - s3      hdl, high-density lipoproteins\n",
      "      - s4      tch, total cholesterol / HDL\n",
      "      - s5      ltg, possibly log of serum triglycerides level\n",
      "      - s6      glu, blood sugar level\n",
      "\n",
      "Note: Each of these 10 feature variables have been mean centered and scaled by the standard deviation times the square root of `n_samples` (i.e. the sum of squares of each column totals 1).\n",
      "\n",
      "Source URL:\n",
      "https://www4.stat.ncsu.edu/~boos/var.select/diabetes.html\n",
      "\n",
      "For more information see:\n",
      "Bradley Efron, Trevor Hastie, Iain Johnstone and Robert Tibshirani (2004) \"Least Angle Regression,\" Annals of Statistics (with discussion), 407-499.\n",
      "(https://web.stanford.edu/~hastie/Papers/LARS/LeastAngle_2002.pdf)\n",
      "\n"
     ]
    }
   ],
   "source": [
    "print(load_diabetes().DESCR)"
   ]
  },
  {
   "cell_type": "code",
   "execution_count": 736,
   "metadata": {},
   "outputs": [
    {
     "name": "stderr",
     "output_type": "stream",
     "text": [
      "C:\\Users\\msi\\AppData\\Roaming\\Python\\Python311\\site-packages\\sklearn\\datasets\\_openml.py:1002: FutureWarning: The default value of `parser` will change from `'liac-arff'` to `'auto'` in 1.4. You can set `parser='auto'` to silence this warning. Therefore, an `ImportError` will be raised from 1.4 if the dataset is dense and pandas is not installed. Note that the pandas parser may return different data types. See the Notes Section in fetch_openml's API doc for details.\n",
      "  warn(\n"
     ]
    },
    {
     "data": {
      "text/plain": [
       "{'data':         CRIM    ZN  INDUS CHAS    NOX     RM   AGE     DIS RAD    TAX  \\\n",
       " 0    0.00632  18.0   2.31    0  0.538  6.575  65.2  4.0900   1  296.0   \n",
       " 1    0.02731   0.0   7.07    0  0.469  6.421  78.9  4.9671   2  242.0   \n",
       " 2    0.02729   0.0   7.07    0  0.469  7.185  61.1  4.9671   2  242.0   \n",
       " 3    0.03237   0.0   2.18    0  0.458  6.998  45.8  6.0622   3  222.0   \n",
       " 4    0.06905   0.0   2.18    0  0.458  7.147  54.2  6.0622   3  222.0   \n",
       " ..       ...   ...    ...  ...    ...    ...   ...     ...  ..    ...   \n",
       " 501  0.06263   0.0  11.93    0  0.573  6.593  69.1  2.4786   1  273.0   \n",
       " 502  0.04527   0.0  11.93    0  0.573  6.120  76.7  2.2875   1  273.0   \n",
       " 503  0.06076   0.0  11.93    0  0.573  6.976  91.0  2.1675   1  273.0   \n",
       " 504  0.10959   0.0  11.93    0  0.573  6.794  89.3  2.3889   1  273.0   \n",
       " 505  0.04741   0.0  11.93    0  0.573  6.030  80.8  2.5050   1  273.0   \n",
       " \n",
       "      PTRATIO       B  LSTAT  \n",
       " 0       15.3  396.90   4.98  \n",
       " 1       17.8  396.90   9.14  \n",
       " 2       17.8  392.83   4.03  \n",
       " 3       18.7  394.63   2.94  \n",
       " 4       18.7  396.90   5.33  \n",
       " ..       ...     ...    ...  \n",
       " 501     21.0  391.99   9.67  \n",
       " 502     21.0  396.90   9.08  \n",
       " 503     21.0  396.90   5.64  \n",
       " 504     21.0  393.45   6.48  \n",
       " 505     21.0  396.90   7.88  \n",
       " \n",
       " [506 rows x 13 columns],\n",
       " 'target': 0      24.0\n",
       " 1      21.6\n",
       " 2      34.7\n",
       " 3      33.4\n",
       " 4      36.2\n",
       "        ... \n",
       " 501    22.4\n",
       " 502    20.6\n",
       " 503    23.9\n",
       " 504    22.0\n",
       " 505    11.9\n",
       " Name: MEDV, Length: 506, dtype: float64,\n",
       " 'frame':         CRIM    ZN  INDUS CHAS    NOX     RM   AGE     DIS RAD    TAX  \\\n",
       " 0    0.00632  18.0   2.31    0  0.538  6.575  65.2  4.0900   1  296.0   \n",
       " 1    0.02731   0.0   7.07    0  0.469  6.421  78.9  4.9671   2  242.0   \n",
       " 2    0.02729   0.0   7.07    0  0.469  7.185  61.1  4.9671   2  242.0   \n",
       " 3    0.03237   0.0   2.18    0  0.458  6.998  45.8  6.0622   3  222.0   \n",
       " 4    0.06905   0.0   2.18    0  0.458  7.147  54.2  6.0622   3  222.0   \n",
       " ..       ...   ...    ...  ...    ...    ...   ...     ...  ..    ...   \n",
       " 501  0.06263   0.0  11.93    0  0.573  6.593  69.1  2.4786   1  273.0   \n",
       " 502  0.04527   0.0  11.93    0  0.573  6.120  76.7  2.2875   1  273.0   \n",
       " 503  0.06076   0.0  11.93    0  0.573  6.976  91.0  2.1675   1  273.0   \n",
       " 504  0.10959   0.0  11.93    0  0.573  6.794  89.3  2.3889   1  273.0   \n",
       " 505  0.04741   0.0  11.93    0  0.573  6.030  80.8  2.5050   1  273.0   \n",
       " \n",
       "      PTRATIO       B  LSTAT  MEDV  \n",
       " 0       15.3  396.90   4.98  24.0  \n",
       " 1       17.8  396.90   9.14  21.6  \n",
       " 2       17.8  392.83   4.03  34.7  \n",
       " 3       18.7  394.63   2.94  33.4  \n",
       " 4       18.7  396.90   5.33  36.2  \n",
       " ..       ...     ...    ...   ...  \n",
       " 501     21.0  391.99   9.67  22.4  \n",
       " 502     21.0  396.90   9.08  20.6  \n",
       " 503     21.0  396.90   5.64  23.9  \n",
       " 504     21.0  393.45   6.48  22.0  \n",
       " 505     21.0  396.90   7.88  11.9  \n",
       " \n",
       " [506 rows x 14 columns],\n",
       " 'categories': None,\n",
       " 'feature_names': ['CRIM',\n",
       "  'ZN',\n",
       "  'INDUS',\n",
       "  'CHAS',\n",
       "  'NOX',\n",
       "  'RM',\n",
       "  'AGE',\n",
       "  'DIS',\n",
       "  'RAD',\n",
       "  'TAX',\n",
       "  'PTRATIO',\n",
       "  'B',\n",
       "  'LSTAT'],\n",
       " 'target_names': ['MEDV'],\n",
       " 'DESCR': \"**Author**:   \\n**Source**: Unknown - Date unknown  \\n**Please cite**:   \\n\\nThe Boston house-price data of Harrison, D. and Rubinfeld, D.L. 'Hedonic\\nprices and the demand for clean air', J. Environ. Economics & Management,\\nvol.5, 81-102, 1978.   Used in Belsley, Kuh & Welsch, 'Regression diagnostics\\n...', Wiley, 1980.   N.B. Various transformations are used in the table on\\npages 244-261 of the latter.\\nVariables in order:\\nCRIM     per capita crime rate by town\\nZN       proportion of residential land zoned for lots over 25,000 sq.ft.\\nINDUS    proportion of non-retail business acres per town\\nCHAS     Charles River dummy variable (= 1 if tract bounds river; 0 otherwise)\\nNOX      nitric oxides concentration (parts per 10 million)\\nRM       average number of rooms per dwelling\\nAGE      proportion of owner-occupied units built prior to 1940\\nDIS      weighted distances to five Boston employment centres\\nRAD      index of accessibility to radial highways\\nTAX      full-value property-tax rate per $10,000\\nPTRATIO  pupil-teacher ratio by town\\nB        1000(Bk - 0.63)^2 where Bk is the proportion of blacks by town\\nLSTAT    % lower status of the population\\nMEDV     Median value of owner-occupied homes in $1000's\\n\\n\\nInformation about the dataset\\nCLASSTYPE: numeric\\nCLASSINDEX: last\\n\\nDownloaded from openml.org.\",\n",
       " 'details': {'id': '531',\n",
       "  'name': 'boston',\n",
       "  'version': '1',\n",
       "  'description_version': '1',\n",
       "  'format': 'ARFF',\n",
       "  'creator': ['D. and Rubinfeld', \"D.L. 'Hedonic\"],\n",
       "  'collection_date': '1978',\n",
       "  'upload_date': '2014-09-29T00:08:07',\n",
       "  'language': 'English',\n",
       "  'licence': 'Public',\n",
       "  'url': 'https://api.openml.org/data/v1/download/52643/boston.arff',\n",
       "  'parquet_url': 'https://openml1.win.tue.nl/datasets/0000/0531/dataset_531.pq',\n",
       "  'file_id': '52643',\n",
       "  'default_target_attribute': 'MEDV',\n",
       "  'tag': ['OpenML-Reg19', 'study_130'],\n",
       "  'visibility': 'public',\n",
       "  'minio_url': 'https://openml1.win.tue.nl/datasets/0000/0531/dataset_531.pq',\n",
       "  'status': 'active',\n",
       "  'processing_date': '2020-11-20 20:16:37',\n",
       "  'md5_checksum': 'cdd361fb886627eaa80c92f90d0610cc'},\n",
       " 'url': 'https://www.openml.org/d/531'}"
      ]
     },
     "execution_count": 736,
     "metadata": {},
     "output_type": "execute_result"
    }
   ],
   "source": [
    "from sklearn.datasets import fetch_openml\n",
    "\n",
    "#boston = fetch_openml(data_id=506)\n",
    "boston = fetch_openml(name='boston', version=1)\n",
    "boston"
   ]
  },
  {
   "cell_type": "code",
   "execution_count": 759,
   "metadata": {},
   "outputs": [
    {
     "data": {
      "text/plain": [
       "((506, 13), (506, 1))"
      ]
     },
     "execution_count": 759,
     "metadata": {},
     "output_type": "execute_result"
    }
   ],
   "source": [
    "regr_data = pd.DataFrame(boston.data).to_numpy()\n",
    "regr_target = pd.DataFrame(boston.target).to_numpy() # [:, None] # to make the targets consistent with our model interfaces\n",
    "RX_train, RX_test, Ry_train, Ry_test = train_test_split(regr_data, regr_target, test_size=0.2, random_state=RANDOM_STATE)\n",
    "\n",
    "regr_data.shape, regr_target.shape"
   ]
  },
  {
   "cell_type": "code",
   "execution_count": 760,
   "metadata": {},
   "outputs": [
    {
     "name": "stdout",
     "output_type": "stream",
     "text": [
      "19.552892156862743\n"
     ]
    }
   ],
   "source": [
    "regressor = DecisionTree(max_depth=10, criterion_name='mad_median')\n",
    "regressor.fit(RX_train, Ry_train)\n",
    "predictions_mad = regressor.predict(RX_test)\n",
    "mse_mad = mean_squared_error(Ry_test, predictions_mad)\n",
    "print(mse_mad)"
   ]
  },
  {
   "cell_type": "code",
   "execution_count": 761,
   "metadata": {},
   "outputs": [
    {
     "name": "stdout",
     "output_type": "stream",
     "text": [
      "10.622745098039218\n"
     ]
    }
   ],
   "source": [
    "regressor = DecisionTree(max_depth=10, criterion_name='variance')\n",
    "regressor.fit(RX_train, Ry_train)\n",
    "predictions_mad = regressor.predict(RX_test)\n",
    "mse_var = mean_squared_error(Ry_test, predictions_mad)\n",
    "print(mse_var)"
   ]
  },
  {
   "cell_type": "code",
   "execution_count": 772,
   "metadata": {},
   "outputs": [
    {
     "data": {
      "text/plain": [
       "30.871397058823533"
      ]
     },
     "execution_count": 772,
     "metadata": {},
     "output_type": "execute_result"
    }
   ],
   "source": [
    "from sklearn.tree import DecisionTreeRegressor\n",
    "\n",
    "regressor = DecisionTreeRegressor(max_depth=10, criterion='absolute_error')\n",
    "regressor.fit(RX_train, Ry_train)\n",
    "ypred = regressor.predict(RX_test)\n",
    "mean_squared_error(Ry_test, ypred)"
   ]
  },
  {
   "cell_type": "code",
   "execution_count": 774,
   "metadata": {},
   "outputs": [
    {
     "data": {
      "text/html": [
       "<style>#sk-container-id-8 {color: black;}#sk-container-id-8 pre{padding: 0;}#sk-container-id-8 div.sk-toggleable {background-color: white;}#sk-container-id-8 label.sk-toggleable__label {cursor: pointer;display: block;width: 100%;margin-bottom: 0;padding: 0.3em;box-sizing: border-box;text-align: center;}#sk-container-id-8 label.sk-toggleable__label-arrow:before {content: \"▸\";float: left;margin-right: 0.25em;color: #696969;}#sk-container-id-8 label.sk-toggleable__label-arrow:hover:before {color: black;}#sk-container-id-8 div.sk-estimator:hover label.sk-toggleable__label-arrow:before {color: black;}#sk-container-id-8 div.sk-toggleable__content {max-height: 0;max-width: 0;overflow: hidden;text-align: left;background-color: #f0f8ff;}#sk-container-id-8 div.sk-toggleable__content pre {margin: 0.2em;color: black;border-radius: 0.25em;background-color: #f0f8ff;}#sk-container-id-8 input.sk-toggleable__control:checked~div.sk-toggleable__content {max-height: 200px;max-width: 100%;overflow: auto;}#sk-container-id-8 input.sk-toggleable__control:checked~label.sk-toggleable__label-arrow:before {content: \"▾\";}#sk-container-id-8 div.sk-estimator input.sk-toggleable__control:checked~label.sk-toggleable__label {background-color: #d4ebff;}#sk-container-id-8 div.sk-label input.sk-toggleable__control:checked~label.sk-toggleable__label {background-color: #d4ebff;}#sk-container-id-8 input.sk-hidden--visually {border: 0;clip: rect(1px 1px 1px 1px);clip: rect(1px, 1px, 1px, 1px);height: 1px;margin: -1px;overflow: hidden;padding: 0;position: absolute;width: 1px;}#sk-container-id-8 div.sk-estimator {font-family: monospace;background-color: #f0f8ff;border: 1px dotted black;border-radius: 0.25em;box-sizing: border-box;margin-bottom: 0.5em;}#sk-container-id-8 div.sk-estimator:hover {background-color: #d4ebff;}#sk-container-id-8 div.sk-parallel-item::after {content: \"\";width: 100%;border-bottom: 1px solid gray;flex-grow: 1;}#sk-container-id-8 div.sk-label:hover label.sk-toggleable__label {background-color: #d4ebff;}#sk-container-id-8 div.sk-serial::before {content: \"\";position: absolute;border-left: 1px solid gray;box-sizing: border-box;top: 0;bottom: 0;left: 50%;z-index: 0;}#sk-container-id-8 div.sk-serial {display: flex;flex-direction: column;align-items: center;background-color: white;padding-right: 0.2em;padding-left: 0.2em;position: relative;}#sk-container-id-8 div.sk-item {position: relative;z-index: 1;}#sk-container-id-8 div.sk-parallel {display: flex;align-items: stretch;justify-content: center;background-color: white;position: relative;}#sk-container-id-8 div.sk-item::before, #sk-container-id-8 div.sk-parallel-item::before {content: \"\";position: absolute;border-left: 1px solid gray;box-sizing: border-box;top: 0;bottom: 0;left: 50%;z-index: -1;}#sk-container-id-8 div.sk-parallel-item {display: flex;flex-direction: column;z-index: 1;position: relative;background-color: white;}#sk-container-id-8 div.sk-parallel-item:first-child::after {align-self: flex-end;width: 50%;}#sk-container-id-8 div.sk-parallel-item:last-child::after {align-self: flex-start;width: 50%;}#sk-container-id-8 div.sk-parallel-item:only-child::after {width: 0;}#sk-container-id-8 div.sk-dashed-wrapped {border: 1px dashed gray;margin: 0 0.4em 0.5em 0.4em;box-sizing: border-box;padding-bottom: 0.4em;background-color: white;}#sk-container-id-8 div.sk-label label {font-family: monospace;font-weight: bold;display: inline-block;line-height: 1.2em;}#sk-container-id-8 div.sk-label-container {text-align: center;}#sk-container-id-8 div.sk-container {/* jupyter's `normalize.less` sets `[hidden] { display: none; }` but bootstrap.min.css set `[hidden] { display: none !important; }` so we also need the `!important` here to be able to override the default hidden behavior on the sphinx rendered scikit-learn.org. See: https://github.com/scikit-learn/scikit-learn/issues/21755 */display: inline-block !important;position: relative;}#sk-container-id-8 div.sk-text-repr-fallback {display: none;}</style><div id=\"sk-container-id-8\" class=\"sk-top-container\"><div class=\"sk-text-repr-fallback\"><pre>GridSearchCV(cv=5, estimator=DecisionTreeRegressor(), n_jobs=-2,\n",
       "             param_grid={&#x27;criterion&#x27;: [&#x27;squared_error&#x27;, &#x27;absolute_error&#x27;],\n",
       "                         &#x27;max_depth&#x27;: range(2, 9)},\n",
       "             scoring=&#x27;neg_mean_squared_error&#x27;)</pre><b>In a Jupyter environment, please rerun this cell to show the HTML representation or trust the notebook. <br />On GitHub, the HTML representation is unable to render, please try loading this page with nbviewer.org.</b></div><div class=\"sk-container\" hidden><div class=\"sk-item sk-dashed-wrapped\"><div class=\"sk-label-container\"><div class=\"sk-label sk-toggleable\"><input class=\"sk-toggleable__control sk-hidden--visually\" id=\"sk-estimator-id-22\" type=\"checkbox\" ><label for=\"sk-estimator-id-22\" class=\"sk-toggleable__label sk-toggleable__label-arrow\">GridSearchCV</label><div class=\"sk-toggleable__content\"><pre>GridSearchCV(cv=5, estimator=DecisionTreeRegressor(), n_jobs=-2,\n",
       "             param_grid={&#x27;criterion&#x27;: [&#x27;squared_error&#x27;, &#x27;absolute_error&#x27;],\n",
       "                         &#x27;max_depth&#x27;: range(2, 9)},\n",
       "             scoring=&#x27;neg_mean_squared_error&#x27;)</pre></div></div></div><div class=\"sk-parallel\"><div class=\"sk-parallel-item\"><div class=\"sk-item\"><div class=\"sk-label-container\"><div class=\"sk-label sk-toggleable\"><input class=\"sk-toggleable__control sk-hidden--visually\" id=\"sk-estimator-id-23\" type=\"checkbox\" ><label for=\"sk-estimator-id-23\" class=\"sk-toggleable__label sk-toggleable__label-arrow\">estimator: DecisionTreeRegressor</label><div class=\"sk-toggleable__content\"><pre>DecisionTreeRegressor()</pre></div></div></div><div class=\"sk-serial\"><div class=\"sk-item\"><div class=\"sk-estimator sk-toggleable\"><input class=\"sk-toggleable__control sk-hidden--visually\" id=\"sk-estimator-id-24\" type=\"checkbox\" ><label for=\"sk-estimator-id-24\" class=\"sk-toggleable__label sk-toggleable__label-arrow\">DecisionTreeRegressor</label><div class=\"sk-toggleable__content\"><pre>DecisionTreeRegressor()</pre></div></div></div></div></div></div></div></div></div></div>"
      ],
      "text/plain": [
       "GridSearchCV(cv=5, estimator=DecisionTreeRegressor(), n_jobs=-2,\n",
       "             param_grid={'criterion': ['squared_error', 'absolute_error'],\n",
       "                         'max_depth': range(2, 9)},\n",
       "             scoring='neg_mean_squared_error')"
      ]
     },
     "execution_count": 774,
     "metadata": {},
     "output_type": "execute_result"
    }
   ],
   "source": [
    "# for sklearn\n",
    "\n",
    "param_grid_R = {'max_depth': range(2,9), 'criterion': ['squared_error', 'absolute_error']}\n",
    "\n",
    "gs_R = GridSearchCV(DecisionTreeRegressor(), param_grid=param_grid_R, cv=5, scoring='neg_mean_squared_error', n_jobs=-2)\n",
    "gs_R.fit(RX_train, Ry_train)"
   ]
  },
  {
   "cell_type": "code",
   "execution_count": 776,
   "metadata": {},
   "outputs": [
    {
     "data": {
      "text/plain": [
       "{'criterion': 'squared_error', 'max_depth': 7}"
      ]
     },
     "execution_count": 776,
     "metadata": {},
     "output_type": "execute_result"
    }
   ],
   "source": [
    "gs_R.best_params_"
   ]
  },
  {
   "cell_type": "code",
   "execution_count": 762,
   "metadata": {},
   "outputs": [],
   "source": [
    "assert 9 < mse_mad < 20\n",
    "assert 8 < mse_var < 12"
   ]
  },
  {
   "cell_type": "code",
   "execution_count": 763,
   "metadata": {},
   "outputs": [],
   "source": [
    "param_grid_R = {'max_depth': range(2,9), 'criterion_name': ['variance', 'mad_median']}"
   ]
  },
  {
   "cell_type": "code",
   "execution_count": 764,
   "metadata": {},
   "outputs": [
    {
     "data": {
      "text/html": [
       "<style>#sk-container-id-7 {color: black;}#sk-container-id-7 pre{padding: 0;}#sk-container-id-7 div.sk-toggleable {background-color: white;}#sk-container-id-7 label.sk-toggleable__label {cursor: pointer;display: block;width: 100%;margin-bottom: 0;padding: 0.3em;box-sizing: border-box;text-align: center;}#sk-container-id-7 label.sk-toggleable__label-arrow:before {content: \"▸\";float: left;margin-right: 0.25em;color: #696969;}#sk-container-id-7 label.sk-toggleable__label-arrow:hover:before {color: black;}#sk-container-id-7 div.sk-estimator:hover label.sk-toggleable__label-arrow:before {color: black;}#sk-container-id-7 div.sk-toggleable__content {max-height: 0;max-width: 0;overflow: hidden;text-align: left;background-color: #f0f8ff;}#sk-container-id-7 div.sk-toggleable__content pre {margin: 0.2em;color: black;border-radius: 0.25em;background-color: #f0f8ff;}#sk-container-id-7 input.sk-toggleable__control:checked~div.sk-toggleable__content {max-height: 200px;max-width: 100%;overflow: auto;}#sk-container-id-7 input.sk-toggleable__control:checked~label.sk-toggleable__label-arrow:before {content: \"▾\";}#sk-container-id-7 div.sk-estimator input.sk-toggleable__control:checked~label.sk-toggleable__label {background-color: #d4ebff;}#sk-container-id-7 div.sk-label input.sk-toggleable__control:checked~label.sk-toggleable__label {background-color: #d4ebff;}#sk-container-id-7 input.sk-hidden--visually {border: 0;clip: rect(1px 1px 1px 1px);clip: rect(1px, 1px, 1px, 1px);height: 1px;margin: -1px;overflow: hidden;padding: 0;position: absolute;width: 1px;}#sk-container-id-7 div.sk-estimator {font-family: monospace;background-color: #f0f8ff;border: 1px dotted black;border-radius: 0.25em;box-sizing: border-box;margin-bottom: 0.5em;}#sk-container-id-7 div.sk-estimator:hover {background-color: #d4ebff;}#sk-container-id-7 div.sk-parallel-item::after {content: \"\";width: 100%;border-bottom: 1px solid gray;flex-grow: 1;}#sk-container-id-7 div.sk-label:hover label.sk-toggleable__label {background-color: #d4ebff;}#sk-container-id-7 div.sk-serial::before {content: \"\";position: absolute;border-left: 1px solid gray;box-sizing: border-box;top: 0;bottom: 0;left: 50%;z-index: 0;}#sk-container-id-7 div.sk-serial {display: flex;flex-direction: column;align-items: center;background-color: white;padding-right: 0.2em;padding-left: 0.2em;position: relative;}#sk-container-id-7 div.sk-item {position: relative;z-index: 1;}#sk-container-id-7 div.sk-parallel {display: flex;align-items: stretch;justify-content: center;background-color: white;position: relative;}#sk-container-id-7 div.sk-item::before, #sk-container-id-7 div.sk-parallel-item::before {content: \"\";position: absolute;border-left: 1px solid gray;box-sizing: border-box;top: 0;bottom: 0;left: 50%;z-index: -1;}#sk-container-id-7 div.sk-parallel-item {display: flex;flex-direction: column;z-index: 1;position: relative;background-color: white;}#sk-container-id-7 div.sk-parallel-item:first-child::after {align-self: flex-end;width: 50%;}#sk-container-id-7 div.sk-parallel-item:last-child::after {align-self: flex-start;width: 50%;}#sk-container-id-7 div.sk-parallel-item:only-child::after {width: 0;}#sk-container-id-7 div.sk-dashed-wrapped {border: 1px dashed gray;margin: 0 0.4em 0.5em 0.4em;box-sizing: border-box;padding-bottom: 0.4em;background-color: white;}#sk-container-id-7 div.sk-label label {font-family: monospace;font-weight: bold;display: inline-block;line-height: 1.2em;}#sk-container-id-7 div.sk-label-container {text-align: center;}#sk-container-id-7 div.sk-container {/* jupyter's `normalize.less` sets `[hidden] { display: none; }` but bootstrap.min.css set `[hidden] { display: none !important; }` so we also need the `!important` here to be able to override the default hidden behavior on the sphinx rendered scikit-learn.org. See: https://github.com/scikit-learn/scikit-learn/issues/21755 */display: inline-block !important;position: relative;}#sk-container-id-7 div.sk-text-repr-fallback {display: none;}</style><div id=\"sk-container-id-7\" class=\"sk-top-container\"><div class=\"sk-text-repr-fallback\"><pre>GridSearchCV(cv=5, estimator=DecisionTree(), n_jobs=-2,\n",
       "             param_grid={&#x27;criterion_name&#x27;: [&#x27;variance&#x27;, &#x27;mad_median&#x27;],\n",
       "                         &#x27;max_depth&#x27;: range(2, 9)},\n",
       "             scoring=&#x27;neg_mean_squared_error&#x27;)</pre><b>In a Jupyter environment, please rerun this cell to show the HTML representation or trust the notebook. <br />On GitHub, the HTML representation is unable to render, please try loading this page with nbviewer.org.</b></div><div class=\"sk-container\" hidden><div class=\"sk-item sk-dashed-wrapped\"><div class=\"sk-label-container\"><div class=\"sk-label sk-toggleable\"><input class=\"sk-toggleable__control sk-hidden--visually\" id=\"sk-estimator-id-19\" type=\"checkbox\" ><label for=\"sk-estimator-id-19\" class=\"sk-toggleable__label sk-toggleable__label-arrow\">GridSearchCV</label><div class=\"sk-toggleable__content\"><pre>GridSearchCV(cv=5, estimator=DecisionTree(), n_jobs=-2,\n",
       "             param_grid={&#x27;criterion_name&#x27;: [&#x27;variance&#x27;, &#x27;mad_median&#x27;],\n",
       "                         &#x27;max_depth&#x27;: range(2, 9)},\n",
       "             scoring=&#x27;neg_mean_squared_error&#x27;)</pre></div></div></div><div class=\"sk-parallel\"><div class=\"sk-parallel-item\"><div class=\"sk-item\"><div class=\"sk-label-container\"><div class=\"sk-label sk-toggleable\"><input class=\"sk-toggleable__control sk-hidden--visually\" id=\"sk-estimator-id-20\" type=\"checkbox\" ><label for=\"sk-estimator-id-20\" class=\"sk-toggleable__label sk-toggleable__label-arrow\">estimator: DecisionTree</label><div class=\"sk-toggleable__content\"><pre>DecisionTree()</pre></div></div></div><div class=\"sk-serial\"><div class=\"sk-item\"><div class=\"sk-estimator sk-toggleable\"><input class=\"sk-toggleable__control sk-hidden--visually\" id=\"sk-estimator-id-21\" type=\"checkbox\" ><label for=\"sk-estimator-id-21\" class=\"sk-toggleable__label sk-toggleable__label-arrow\">DecisionTree</label><div class=\"sk-toggleable__content\"><pre>DecisionTree()</pre></div></div></div></div></div></div></div></div></div></div>"
      ],
      "text/plain": [
       "GridSearchCV(cv=5, estimator=DecisionTree(), n_jobs=-2,\n",
       "             param_grid={'criterion_name': ['variance', 'mad_median'],\n",
       "                         'max_depth': range(2, 9)},\n",
       "             scoring='neg_mean_squared_error')"
      ]
     },
     "execution_count": 764,
     "metadata": {},
     "output_type": "execute_result"
    }
   ],
   "source": [
    "gs_R = GridSearchCV(DecisionTree(), param_grid=param_grid_R, cv=5, scoring='neg_mean_squared_error', n_jobs=-2)\n",
    "gs_R.fit(RX_train, Ry_train)"
   ]
  },
  {
   "cell_type": "code",
   "execution_count": 765,
   "metadata": {},
   "outputs": [
    {
     "data": {
      "text/plain": [
       "{'criterion_name': 'variance', 'max_depth': 6}"
      ]
     },
     "execution_count": 765,
     "metadata": {},
     "output_type": "execute_result"
    }
   ],
   "source": [
    "gs_R.best_params_"
   ]
  },
  {
   "cell_type": "code",
   "execution_count": 755,
   "metadata": {},
   "outputs": [
    {
     "ename": "AssertionError",
     "evalue": "",
     "output_type": "error",
     "traceback": [
      "\u001b[1;31m---------------------------------------------------------------------------\u001b[0m",
      "\u001b[1;31mAssertionError\u001b[0m                            Traceback (most recent call last)",
      "Cell \u001b[1;32mIn[755], line 1\u001b[0m\n\u001b[1;32m----> 1\u001b[0m \u001b[38;5;28;01massert\u001b[39;00m gs_R\u001b[38;5;241m.\u001b[39mbest_params_[\u001b[38;5;124m'\u001b[39m\u001b[38;5;124mcriterion_name\u001b[39m\u001b[38;5;124m'\u001b[39m] \u001b[38;5;241m==\u001b[39m \u001b[38;5;124m'\u001b[39m\u001b[38;5;124mmad_median\u001b[39m\u001b[38;5;124m'\u001b[39m\n\u001b[0;32m      2\u001b[0m \u001b[38;5;28;01massert\u001b[39;00m \u001b[38;5;241m3\u001b[39m \u001b[38;5;241m<\u001b[39m gs_R\u001b[38;5;241m.\u001b[39mbest_params_[\u001b[38;5;124m'\u001b[39m\u001b[38;5;124mmax_depth\u001b[39m\u001b[38;5;124m'\u001b[39m] \u001b[38;5;241m<\u001b[39m \u001b[38;5;241m7\u001b[39m\n",
      "\u001b[1;31mAssertionError\u001b[0m: "
     ]
    }
   ],
   "source": [
    "assert gs_R.best_params_['criterion_name'] == 'mad_median'\n",
    "assert 3 < gs_R.best_params_['max_depth'] < 7"
   ]
  },
  {
   "cell_type": "code",
   "execution_count": 777,
   "metadata": {},
   "outputs": [],
   "source": [
    "var_scores = gs_R.cv_results_['mean_test_score'][:7]\n",
    "mad_scores = gs_R.cv_results_['mean_test_score'][7:]"
   ]
  },
  {
   "cell_type": "code",
   "execution_count": 778,
   "metadata": {},
   "outputs": [
    {
     "data": {
      "image/png": "[encoded data removed]",
      "text/plain": [
       "<Figure size 1000x800 with 1 Axes>"
      ]
     },
     "metadata": {},
     "output_type": "display_data"
    }
   ],
   "source": [
    "plt.figure(figsize=(10, 8))\n",
    "plt.title(\"The dependence of neg_mse on the depth of the tree\")\n",
    "plt.plot(np.arange(2,9), var_scores, label='variance')\n",
    "plt.plot(np.arange(2,9), mad_scores, label='mad_median')\n",
    "plt.legend(fontsize=11, loc=1)\n",
    "plt.xlabel(\"max_depth\")\n",
    "plt.ylabel('neg_mse')\n",
    "plt.show()"
   ]
  },
  {
   "cell_type": "code",
   "execution_count": null,
   "metadata": {},
   "outputs": [],
   "source": []
  }
 ],
 "metadata": {
  "kernelspec": {
   "display_name": "Python 3 (ipykernel)",
   "language": "python",
   "name": "python3"
  },
  "language_info": {
   "codemirror_mode": {
    "name": "ipython",
    "version": 3
   },
   "file_extension": ".py",
   "mimetype": "text/x-python",
   "name": "python",
   "nbconvert_exporter": "python",
   "pygments_lexer": "ipython3",
   "version": "3.11.4"
  }
 },
 "nbformat": 4,
 "nbformat_minor": 4
}
